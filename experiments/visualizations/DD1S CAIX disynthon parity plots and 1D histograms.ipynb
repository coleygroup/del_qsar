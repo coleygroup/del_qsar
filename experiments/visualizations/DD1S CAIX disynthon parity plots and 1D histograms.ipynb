{
 "cells": [
  {
   "cell_type": "code",
   "execution_count": null,
   "metadata": {},
   "outputs": [],
   "source": [
    "%load_ext autoreload\n",
    "%autoreload 2"
   ]
  },
  {
   "cell_type": "code",
   "execution_count": null,
   "metadata": {},
   "outputs": [],
   "source": [
    "import os, sys\n",
    "import pandas as pd\n",
    "import numpy as np\n",
    "from tqdm import tqdm\n",
    "import torch\n",
    "import h5py\n",
    "from itertools import product"
   ]
  },
  {
   "cell_type": "code",
   "execution_count": null,
   "metadata": {},
   "outputs": [],
   "source": [
    "DELQSAR_ROOT = os.getcwd() + '/../../'\n",
    "sys.path += [DELQSAR_ROOT + '/../']\n",
    "\n",
    "from del_qsar import splitters, models\n",
    "from del_qsar.enrichments import R_ranges\n",
    "\n",
    "import matplotlib\n",
    "import matplotlib.pyplot as plt\n",
    "plt.style.use('seaborn-paper')\n",
    "import matplotlib.colors as colors\n",
    "\n",
    "matplotlib.rc('font', family='sans-serif')\n",
    "matplotlib.rc('font', serif='Arial')\n",
    "matplotlib.rc('text', usetex='false')"
   ]
  },
  {
   "cell_type": "code",
   "execution_count": null,
   "metadata": {},
   "outputs": [],
   "source": [
    "DD1S_FINGERPRINTS_FILENAME = 'x_DD1S_CAIX_2048_bits_all_fps.h5' # should be in the experiments folder\n",
    "\n",
    "CAIX_RANDOM_SPLIT_MODEL_PATH = os.path.join(DELQSAR_ROOT, 'experiments', 'models', 'DD1S_CAIX', \n",
    "                                          'FP-FFNN', 'random_seed_0.torch')"
   ]
  },
  {
   "cell_type": "code",
   "execution_count": null,
   "metadata": {},
   "outputs": [],
   "source": [
    "SEED = 0\n",
    "torch.manual_seed(SEED)\n",
    "\n",
    "DEVICE = None\n",
    "if torch.cuda.is_available():\n",
    "    DEVICE = 'cuda:0'"
   ]
  },
  {
   "cell_type": "code",
   "execution_count": null,
   "metadata": {},
   "outputs": [],
   "source": [
    "def get_cpd_indices(num_cyc1_BBs, num_cyc2_BBs, num_cyc3_BBs):\n",
    "    cpd_indices = []\n",
    "    \n",
    "    for j, k in tqdm(product(range(1, num_cyc2_BBs+1), range(1, num_cyc3_BBs+1))):\n",
    "        cpd_indices.append(np.squeeze(np.where(df_data['cycle2'].isin([j]) & df_data['cycle3'].isin([k]))))\n",
    "    for i, k in tqdm(product(range(1, num_cyc1_BBs+1), range(1, num_cyc3_BBs+1))):\n",
    "        cpd_indices.append(np.squeeze(np.where(df_data['cycle1'].isin([i]) & df_data['cycle3'].isin([k]))))\n",
    "    for i, j in tqdm(product(range(1, num_cyc1_BBs+1), range(1, num_cyc2_BBs+1))):\n",
    "        cpd_indices.append(np.squeeze(np.where(df_data['cycle1'].isin([i]) & df_data['cycle2'].isin([j]))))\n",
    "        \n",
    "    cpd_indices = np.array(cpd_indices)\n",
    "    \n",
    "    return cpd_indices"
   ]
  },
  {
   "cell_type": "code",
   "execution_count": null,
   "metadata": {},
   "outputs": [],
   "source": [
    "def get_counts_for_disynthons(num_cyc1_BBs, num_cyc2_BBs, num_cyc3_BBs, exp_col_name, beads_col_name):  \n",
    "    disynthon_exp_counts, disynthon_bead_counts = [], []\n",
    "\n",
    "    for j, k in tqdm(product(range(1, num_cyc2_BBs+1), range(1, num_cyc3_BBs+1))):\n",
    "        disynthon_table = df_data[df_data['cycle2'].isin([j]) & df_data['cycle3'].isin([k])]\n",
    "        exp_counts_sum = sum(disynthon_table[exp_col_name])\n",
    "        beads_counts_sum = sum(disynthon_table[beads_col_name])\n",
    "        disynthon_exp_counts.append(exp_counts_sum)\n",
    "        disynthon_bead_counts.append(beads_counts_sum)\n",
    "\n",
    "    for i, k in tqdm(product(range(1, num_cyc1_BBs+1), range(1, num_cyc3_BBs+1))):\n",
    "        disynthon_table = df_data[df_data['cycle1'].isin([i]) & df_data['cycle3'].isin([k])]\n",
    "        exp_counts_sum = sum(disynthon_table[exp_col_name])\n",
    "        beads_counts_sum = sum(disynthon_table[beads_col_name])\n",
    "        disynthon_exp_counts.append(exp_counts_sum)\n",
    "        disynthon_bead_counts.append(beads_counts_sum)\n",
    "\n",
    "    for i, j in tqdm(product(range(1, num_cyc1_BBs+1), range(1, num_cyc2_BBs+1))):\n",
    "        disynthon_table = df_data[df_data['cycle1'].isin([i]) & df_data['cycle2'].isin([j])]\n",
    "        exp_counts_sum = sum(disynthon_table[exp_col_name])\n",
    "        beads_counts_sum = sum(disynthon_table[beads_col_name])\n",
    "        disynthon_exp_counts.append(exp_counts_sum)\n",
    "        disynthon_bead_counts.append(beads_counts_sum)\n",
    "        \n",
    "    disynthon_exp_counts = np.array(disynthon_exp_counts)\n",
    "    disynthon_bead_counts = np.array(disynthon_bead_counts)\n",
    "        \n",
    "    return disynthon_exp_counts, disynthon_bead_counts"
   ]
  },
  {
   "cell_type": "code",
   "execution_count": null,
   "metadata": {},
   "outputs": [],
   "source": [
    "def get_avg_preds(model):\n",
    "    avg_preds = []\n",
    "    for i in range(len(cpd_indices)):\n",
    "        test_enrichments = model.predict_on_x(\n",
    "                x[cpd_indices[i], :], batch_size=BATCH_SIZE, device=DEVICE,\n",
    "            )\n",
    "        avg_preds.append(sum(test_enrichments) / len(test_enrichments))\n",
    "        \n",
    "    avg_preds = np.array(avg_preds)\n",
    "        \n",
    "    return avg_preds"
   ]
  },
  {
   "cell_type": "code",
   "execution_count": null,
   "metadata": {},
   "outputs": [],
   "source": [
    "def draw_predicted_enrichments_vs_true(model, out='', x_ub=None, legend_loc=None):\n",
    "    R, R_lb, R_ub = R_ranges(disynthon_bead_counts, bead_tot[0], \n",
    "                             disynthon_exp_counts, exp_tot[0])\n",
    "    \n",
    "    fig = plt.figure(figsize=(4, 3), dpi=300) \n",
    "\n",
    "    lower_error0 = R[~disynthon_has_sulfonamide] - R_lb[~disynthon_has_sulfonamide]\n",
    "    upper_error0 = R_ub[~disynthon_has_sulfonamide] - R[~disynthon_has_sulfonamide]\n",
    "    error0 = [lower_error0, upper_error0]\n",
    "    container = plt.errorbar(\n",
    "        x=R[~disynthon_has_sulfonamide], \n",
    "        y=avg_preds[~disynthon_has_sulfonamide],\n",
    "        xerr=error0,\n",
    "        label='non-benzenesulfonamides',\n",
    "        color='#1f77b4', # blue\n",
    "        marker='o',\n",
    "        markersize=3, \n",
    "        elinewidth=0.75,\n",
    "        ls='none',\n",
    "        ecolor='k',\n",
    "        capsize=1,\n",
    "        capthick=0.75, \n",
    "        zorder=2,\n",
    "    )\n",
    "    \n",
    "    lower_error1 = R[disynthon_has_sulfonamide] - R_lb[disynthon_has_sulfonamide]\n",
    "    upper_error1 = R_ub[disynthon_has_sulfonamide] - R[disynthon_has_sulfonamide]\n",
    "    error1 = [lower_error1, upper_error1]\n",
    "    container = plt.errorbar(\n",
    "        x=R[disynthon_has_sulfonamide], \n",
    "        y=avg_preds[disynthon_has_sulfonamide], \n",
    "        xerr=error1,\n",
    "        label='benzenesulfonamides',\n",
    "        color='#ff7f0e', # orange\n",
    "        marker='o',\n",
    "        markersize=3,\n",
    "        elinewidth=0.75, \n",
    "        ls='none',\n",
    "        ecolor='k',\n",
    "        capsize=1,\n",
    "        capthick=0.75, \n",
    "        zorder=3,\n",
    "    )\n",
    "    \n",
    "    lines = plt.plot(\n",
    "        np.linspace(min(avg_preds), max(avg_preds), 100),\n",
    "        np.linspace(min(avg_preds), max(avg_preds), 100),\n",
    "        color='#2ca02c', # green\n",
    "        label='parity',\n",
    "        linewidth=0.75, \n",
    "        zorder=4,\n",
    "    )\n",
    "    \n",
    "    if legend_loc:\n",
    "        plt.legend(fontsize=7, loc=legend_loc)\n",
    "    else:\n",
    "        plt.legend(fontsize=7)\n",
    "        \n",
    "    fig.canvas.draw() # required to get tick labels\n",
    "    ax = plt.gca() \n",
    "    ax.tick_params(labelsize=8)\n",
    "    if x_ub:\n",
    "        ax.set_xlim([0, x_ub])\n",
    "        \n",
    "    ax.grid(zorder=1)\n",
    "    ax.set_xlabel('calculated enrichment', fontsize=8)\n",
    "    ax.set_ylabel('predicted enrichment', fontsize=8)\n",
    "    plt.tight_layout()\n",
    "    plt.savefig(pathify(str(out)))\n",
    "    \n",
    "    plt.show()"
   ]
  },
  {
   "cell_type": "code",
   "execution_count": null,
   "metadata": {},
   "outputs": [],
   "source": [
    "def make_1D_histograms():\n",
    "    ## First plot: calculated enrichments\n",
    "    fig = plt.figure(figsize=(3, 1.5), dpi=300)\n",
    "    R, R_lb, R_ub = R_ranges(disynthon_bead_counts, bead_tot[0], \n",
    "                             disynthon_exp_counts, exp_tot[0])\n",
    "\n",
    "    y0 = R[~disynthon_has_sulfonamide]\n",
    "    y1 = R[disynthon_has_sulfonamide]\n",
    "    bins = np.arange(0, 10, 0.2)\n",
    "    _, bins, patches = plt.hist(\n",
    "        np.clip(y0, 0, bins[-1]), \n",
    "        bins=bins, \n",
    "        label='non-benzenesulfonamides',\n",
    "        density=True,\n",
    "        zorder=2,\n",
    "        alpha=0.7,\n",
    "    )\n",
    "    \n",
    "    _, bins, patches = plt.hist(\n",
    "        np.clip(y1, 0, bins[-1]), \n",
    "        bins=bins, \n",
    "        label='benzenesulfonamides',\n",
    "        density=True,\n",
    "        zorder=3,\n",
    "        alpha=0.6,\n",
    "    ) \n",
    "    plt.legend(fontsize=7)\n",
    "    fig.canvas.draw()\n",
    "    ax = plt.gca()\n",
    "    ax.tick_params(labelsize=7)\n",
    "    ax.grid(zorder=1)\n",
    "    ax.set_xlabel('calculated enrichment (maximum likelihood)', fontsize=8)\n",
    "    ax.set_ylabel('probability density', fontsize=8)\n",
    "    plt.tight_layout()\n",
    "    plt.savefig(pathify(f'disynthon_1D_histogram_DD1S_CAIX_FP-FFNN_random_seed_0_calculated_enrichments.png'))\n",
    "    plt.show()\n",
    "\n",
    "    \n",
    "    ## Second plot: predicted enrichments\n",
    "    fig = plt.figure(figsize=(3, 1.5), dpi=300)\n",
    "    \n",
    "    y0 = avg_preds[~disynthon_has_sulfonamide]\n",
    "    y1 = avg_preds[disynthon_has_sulfonamide]\n",
    "    bins = np.arange(0, 10, 0.075)\n",
    "    _, bins, patches = plt.hist(\n",
    "        np.clip(y0, 0, bins[-1]), \n",
    "        bins=bins, \n",
    "        label='non-benzenesulfonamides',\n",
    "        density=True,\n",
    "        zorder=2,\n",
    "        alpha=0.7,\n",
    "    )\n",
    "    _, bins, patches = plt.hist(\n",
    "        np.clip(y1, 0, bins[-1]), \n",
    "        bins=bins, \n",
    "        label='benzenesulfonamides',\n",
    "        density=True,\n",
    "        zorder=3,\n",
    "        alpha=0.6,\n",
    "    )\n",
    "    plt.legend(fontsize=7)\n",
    "    fig.canvas.draw()\n",
    "    ax = plt.gca()\n",
    "    ax.tick_params(labelsize=7)\n",
    "    ax.set_xlim([0.5, 4.5])\n",
    "    ax.grid(zorder=1)\n",
    "    ax.set_xlabel('predicted enrichment', fontsize=8)\n",
    "    ax.set_ylabel('probability density', fontsize=8)\n",
    "    plt.tight_layout()\n",
    "    plt.savefig(pathify(f'disynthon_1D_histogram_DD1S_CAIX_FP-FFNN_random_seed_0_predicted_enrichments.png'))\n",
    "    plt.show()"
   ]
  },
  {
   "cell_type": "code",
   "execution_count": null,
   "metadata": {},
   "outputs": [],
   "source": [
    "df_data = pd.read_csv(os.path.join(DELQSAR_ROOT, 'experiments', 'datasets', 'DD1S_CAIX_QSAR.csv'))"
   ]
  },
  {
   "cell_type": "code",
   "execution_count": null,
   "metadata": {},
   "outputs": [],
   "source": [
    "os.environ[\"HDF5_USE_FILE_LOCKING\"] = 'FALSE'\n",
    "hf = h5py.File(os.path.join(DELQSAR_ROOT, 'experiments', DD1S_FINGERPRINTS_FILENAME), 'r')\n",
    "x = np.array(hf['all_fps'])\n",
    "INPUT_SIZE = x.shape[1]\n",
    "hf.close()"
   ]
  },
  {
   "cell_type": "code",
   "execution_count": null,
   "metadata": {},
   "outputs": [],
   "source": [
    "if not os.path.isdir('CAIX_disynthon_plots'):\n",
    "    os.mkdir('CAIX_disynthon_plots')\n",
    "def pathify(fname):\n",
    "    return os.path.join('CAIX_disynthon_plots', fname)"
   ]
  },
  {
   "cell_type": "code",
   "execution_count": null,
   "metadata": {},
   "outputs": [],
   "source": [
    "exp_counts = np.array(df_data[['exp_tot']], dtype='int')\n",
    "bead_counts = np.array(df_data[['beads_tot']], dtype='int')\n",
    "exp_tot = np.sum(exp_counts, axis=0) # column sums\n",
    "bead_tot = np.sum(bead_counts, axis=0)"
   ]
  },
  {
   "cell_type": "code",
   "execution_count": null,
   "metadata": {},
   "outputs": [],
   "source": [
    "# CAIX random split model\n",
    "BATCH_SIZE = 1024\n",
    "LAYER_SIZES = [64, 64, 64]\n",
    "DROPOUT = 0.1\n",
    "model = models.MLP(INPUT_SIZE, [int(size) for size in LAYER_SIZES],\n",
    "                    dropout=DROPOUT, torch_seed=SEED)\n",
    "model.load_state_dict(torch.load(CAIX_RANDOM_SPLIT_MODEL_PATH))\n",
    "print(str(model))\n",
    "if DEVICE:\n",
    "    model = model.to(DEVICE)"
   ]
  },
  {
   "cell_type": "code",
   "execution_count": null,
   "metadata": {},
   "outputs": [],
   "source": [
    "cpd_indices = get_cpd_indices(8, 114, 119)\n",
    "np.save('DD1S_disynthon_cpd_indices.npy', cpd_indices)"
   ]
  },
  {
   "cell_type": "code",
   "execution_count": null,
   "metadata": {},
   "outputs": [],
   "source": [
    "# cpd_indices = np.load('DD1S_disynthon_cpd_indices.npy', allow_pickle=True)"
   ]
  },
  {
   "cell_type": "code",
   "execution_count": null,
   "metadata": {},
   "outputs": [],
   "source": [
    "disynthon_has_sulfonamide = [False for i in range(15430)]\n",
    "for disynthon_idx in range(15430):\n",
    "    cpds = cpd_indices[disynthon_idx]\n",
    "    for c in cpds:\n",
    "        if df_data.iloc[c]['cycle3'] in [14, 74]:\n",
    "            disynthon_has_sulfonamide[disynthon_idx] = True\n",
    "            \n",
    "print(sum(disynthon_has_sulfonamide))\n",
    "disynthon_has_sulfonamide = np.array(disynthon_has_sulfonamide)\n",
    "np.save('DD1S_disynthon_has_sulfonamide.npy', disynthon_has_sulfonamide)"
   ]
  },
  {
   "cell_type": "code",
   "execution_count": null,
   "metadata": {},
   "outputs": [],
   "source": [
    "# disynthon_has_sulfonamide = np.load('DD1S_disynthon_has_sulfonamide.npy')"
   ]
  },
  {
   "cell_type": "code",
   "execution_count": null,
   "metadata": {},
   "outputs": [],
   "source": [
    "disynthon_exp_counts, disynthon_bead_counts = get_counts_for_disynthons(8, 114, 119, 'exp_tot', 'beads_tot')\n",
    "np.save('DD1S_CAIX_disynthon_exp_counts.npy', disynthon_exp_counts)\n",
    "np.save('DD1S_CAIX_disynthon_bead_counts.npy', disynthon_bead_counts)"
   ]
  },
  {
   "cell_type": "code",
   "execution_count": null,
   "metadata": {},
   "outputs": [],
   "source": [
    "# disynthon_exp_counts = np.load('DD1S_CAIX_disynthon_exp_counts.npy')\n",
    "# disynthon_bead_counts = np.load('DD1S_CAIX_disynthon_bead_counts.npy')"
   ]
  },
  {
   "cell_type": "code",
   "execution_count": null,
   "metadata": {},
   "outputs": [],
   "source": [
    "avg_preds = get_avg_preds(model)\n",
    "np.save('DD1S_CAIX_disynthon_avg_preds.npy', avg_preds)"
   ]
  },
  {
   "cell_type": "code",
   "execution_count": null,
   "metadata": {},
   "outputs": [],
   "source": [
    "# avg_preds = np.load('DD1S_CAIX_disynthon_avg_preds.npy')"
   ]
  },
  {
   "cell_type": "code",
   "execution_count": null,
   "metadata": {},
   "outputs": [],
   "source": [
    "draw_predicted_enrichments_vs_true(model, out='DD1S_CAIX_disynthon_parity_plot_with_sulf_coloring', legend_loc='center right')"
   ]
  },
  {
   "cell_type": "code",
   "execution_count": null,
   "metadata": {},
   "outputs": [],
   "source": [
    "make_1D_histograms()"
   ]
  },
  {
   "cell_type": "code",
   "execution_count": null,
   "metadata": {},
   "outputs": [],
   "source": []
  }
 ],
 "metadata": {
  "kernelspec": {
   "display_name": "chemprop",
   "language": "python",
   "name": "chemprop"
  },
  "language_info": {
   "codemirror_mode": {
    "name": "ipython",
    "version": 3
   },
   "file_extension": ".py",
   "mimetype": "text/x-python",
   "name": "python",
   "nbconvert_exporter": "python",
   "pygments_lexer": "ipython3",
   "version": "3.6.10"
  },
  "latex_envs": {
   "LaTeX_envs_menu_present": true,
   "autoclose": false,
   "autocomplete": true,
   "bibliofile": "biblio.bib",
   "cite_by": "apalike",
   "current_citInitial": 1,
   "eqLabelWithNumbers": true,
   "eqNumInitial": 1,
   "hotkeys": {
    "equation": "Ctrl-E",
    "itemize": "Ctrl-I"
   },
   "labels_anchors": false,
   "latex_user_defs": false,
   "report_style_numbering": false,
   "user_envs_cfg": false
  },
  "toc": {
   "base_numbering": 1,
   "nav_menu": {},
   "number_sections": true,
   "sideBar": true,
   "skip_h1_title": false,
   "title_cell": "Table of Contents",
   "title_sidebar": "Contents",
   "toc_cell": false,
   "toc_position": {},
   "toc_section_display": true,
   "toc_window_display": false
  },
  "varInspector": {
   "cols": {
    "lenName": 16,
    "lenType": 16,
    "lenVar": 40
   },
   "kernels_config": {
    "python": {
     "delete_cmd_postfix": "",
     "delete_cmd_prefix": "del ",
     "library": "var_list.py",
     "varRefreshCmd": "print(var_dic_list())"
    },
    "r": {
     "delete_cmd_postfix": ") ",
     "delete_cmd_prefix": "rm(",
     "library": "var_list.r",
     "varRefreshCmd": "cat(var_dic_list()) "
    }
   },
   "types_to_exclude": [
    "module",
    "function",
    "builtin_function_or_method",
    "instance",
    "_Feature"
   ],
   "window_display": false
  }
 },
 "nbformat": 4,
 "nbformat_minor": 4
}
