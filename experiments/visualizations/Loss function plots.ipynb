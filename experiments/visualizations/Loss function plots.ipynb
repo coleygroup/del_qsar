{
 "cells": [
  {
   "cell_type": "code",
   "execution_count": null,
   "metadata": {},
   "outputs": [],
   "source": [
    "%load_ext autoreload\n",
    "%autoreload 2"
   ]
  },
  {
   "cell_type": "code",
   "execution_count": null,
   "metadata": {},
   "outputs": [],
   "source": [
    "import os, sys\n",
    "import numpy as np\n",
    "import torch\n",
    "import matplotlib\n",
    "import matplotlib.pyplot as plt\n",
    "\n",
    "matplotlib.rc('font', family='sans-serif') \n",
    "matplotlib.rc('font', serif='Arial') \n",
    "matplotlib.rc('text', usetex='false')"
   ]
  },
  {
   "cell_type": "code",
   "execution_count": null,
   "metadata": {},
   "outputs": [],
   "source": [
    "if not os.path.isdir('loss_fn_plots'):\n",
    "    os.mkdir('loss_fn_plots')\n",
    "def pathify(fname):\n",
    "    return os.path.join('loss_fn_plots', fname)"
   ]
  },
  {
   "cell_type": "code",
   "execution_count": null,
   "metadata": {},
   "outputs": [],
   "source": [
    "DELQSAR_ROOT = os.getcwd() + '/../../'\n",
    "sys.path += [DELQSAR_ROOT + '/../']\n",
    "\n",
    "from del_qsar import losses\n",
    "from del_qsar.enrichments import R_from_z"
   ]
  },
  {
   "cell_type": "code",
   "execution_count": null,
   "metadata": {},
   "outputs": [],
   "source": [
    "# MSE loss, high counts (150 / 50)\n",
    "def make_MSE_plot_low_uncertainty(labels=False):\n",
    "    fig = plt.figure(figsize=(2, 2), dpi=300)\n",
    "    loss_fn = torch.nn.MSELoss(reduction='none')\n",
    "    x = np.linspace(0, 10, 300)\n",
    "    k1 = np.full((300,), 150)\n",
    "    k2 = np.full((300,), 50)\n",
    "    target = np.full((300,), R_from_z(torch.Tensor(k2), 1e6, torch.Tensor(k1), 1e6, 0))\n",
    "    lines = plt.plot(\n",
    "        x,\n",
    "        loss_fn(torch.Tensor(x), torch.Tensor(target)),\n",
    "        zorder=2,\n",
    "    )\n",
    "    fig.canvas.draw()\n",
    "    ax = plt.gca()\n",
    "    if labels:\n",
    "        ax.tick_params(labelsize=7)\n",
    "    else:\n",
    "        ax.tick_params(labelsize=12)\n",
    "    ax.set_xticks([0, 2, 4, 6, 8, 10])\n",
    "    ax.set_yticks([0, 1, 2, 3, 4, 5])\n",
    "    ax.set_xlim([0, 10])\n",
    "    ax.set_ylim([0, 5])\n",
    "    if labels:\n",
    "        ax.set_xlabel('hypothesized enrichment R', fontsize=7)\n",
    "        ax.set_ylabel('MSE', fontsize=7)\n",
    "    ax.grid(zorder=1)\n",
    "    plt.tight_layout()\n",
    "    if labels:\n",
    "        plt.savefig(pathify('MSE_loss_plot_low_uncertainty_with_labels.png'))\n",
    "    else:\n",
    "        plt.savefig(pathify('MSE_loss_plot_low_uncertainty.png'))\n",
    "    plt.show()"
   ]
  },
  {
   "cell_type": "code",
   "execution_count": null,
   "metadata": {},
   "outputs": [],
   "source": [
    "make_MSE_plot_low_uncertainty(labels=True)"
   ]
  },
  {
   "cell_type": "code",
   "execution_count": null,
   "metadata": {},
   "outputs": [],
   "source": [
    "make_MSE_plot_low_uncertainty()"
   ]
  },
  {
   "cell_type": "code",
   "execution_count": null,
   "metadata": {},
   "outputs": [],
   "source": [
    "# MSE loss, low counts (3 / 1)\n",
    "def make_MSE_plot_high_uncertainty(labels=False):\n",
    "    fig = plt.figure(figsize=(2, 2), dpi=300)\n",
    "    loss_fn = torch.nn.MSELoss(reduction='none')\n",
    "    x = np.linspace(0, 10, 300)\n",
    "    k1 = np.full((300,), 3)\n",
    "    k2 = np.full((300,), 1)\n",
    "    target = np.full((300,), R_from_z(torch.Tensor(k2), 1e6, torch.Tensor(k1), 1e6, 0))\n",
    "    lines = plt.plot(\n",
    "        x,\n",
    "        loss_fn(torch.Tensor(x), torch.Tensor(target)),\n",
    "        zorder=2,\n",
    "    )\n",
    "    fig.canvas.draw()\n",
    "    ax = plt.gca()\n",
    "    if labels:\n",
    "        ax.tick_params(labelsize=7)\n",
    "    else:\n",
    "        ax.tick_params(labelsize=12)\n",
    "    ax.set_xticks([0, 2, 4, 6, 8, 10])\n",
    "    ax.set_yticks([0, 1, 2, 3, 4, 5])\n",
    "    ax.set_xlim([0, 10])\n",
    "    ax.set_ylim([0, 5])\n",
    "    if labels:\n",
    "        ax.set_xlabel('hypothesized enrichment R', fontsize=7)\n",
    "        ax.set_ylabel('MSE', fontsize=7)\n",
    "    ax.grid(zorder=1)\n",
    "    plt.tight_layout()\n",
    "    if labels:\n",
    "        plt.savefig(pathify('MSE_loss_plot_high_uncertainty_with_labels.png'))\n",
    "    else:\n",
    "        plt.savefig(pathify('MSE_loss_plot_high_uncertainty.png'))\n",
    "    plt.show()"
   ]
  },
  {
   "cell_type": "code",
   "execution_count": null,
   "metadata": {},
   "outputs": [],
   "source": [
    "make_MSE_plot_high_uncertainty(labels=True)"
   ]
  },
  {
   "cell_type": "code",
   "execution_count": null,
   "metadata": {},
   "outputs": [],
   "source": [
    "make_MSE_plot_high_uncertainty()"
   ]
  },
  {
   "cell_type": "code",
   "execution_count": null,
   "metadata": {},
   "outputs": [],
   "source": [
    "# NLL loss, high counts (150 / 50)\n",
    "def make_Poisson_plot_low_uncertainty(out, labels=False, tick_labelsize=None):\n",
    "    fig = plt.figure(figsize=(2, 2), dpi=300)\n",
    "    preds = np.linspace(0, 10, 300)\n",
    "    k1 = np.full((300,), 150)\n",
    "    k2 = np.full((300,), 50)\n",
    "    lines = plt.plot(\n",
    "        preds,\n",
    "        losses.loss_fn_nlogprob(torch.Tensor(preds), torch.Tensor(k1), torch.Tensor(k2), 1e-6, 1e-6),\n",
    "        zorder=2,\n",
    "    )\n",
    "    fig.canvas.draw()\n",
    "    ax = plt.gca()\n",
    "    if labels:\n",
    "        ax.tick_params(labelsize=7)\n",
    "    else:\n",
    "        ax.tick_params(labelsize=tick_labelsize)\n",
    "    ax.set_xticks([0, 2, 4, 6, 8, 10])\n",
    "    ax.set_yticks([0, 1, 2, 3, 4, 5])\n",
    "    ax.set_xlim([0, 10])\n",
    "    ax.set_ylim([0, 5])\n",
    "    if labels:\n",
    "        ax.set_xlabel('hypothesized enrichment R', fontsize=7)\n",
    "        ax.set_ylabel('NLL', fontsize=7)\n",
    "    ax.grid(zorder=1)\n",
    "    plt.tight_layout()\n",
    "    plt.savefig(pathify(out))\n",
    "    plt.show()"
   ]
  },
  {
   "cell_type": "code",
   "execution_count": null,
   "metadata": {},
   "outputs": [],
   "source": [
    "make_Poisson_plot_low_uncertainty('Poisson_enrichment_loss_plot_low_uncertainty_with_labels.png', labels=True)"
   ]
  },
  {
   "cell_type": "code",
   "execution_count": null,
   "metadata": {},
   "outputs": [],
   "source": [
    "make_Poisson_plot_low_uncertainty('Poisson_enrichment_loss_plot_low_uncertainty_labelsize_12.png', tick_labelsize=12)"
   ]
  },
  {
   "cell_type": "code",
   "execution_count": null,
   "metadata": {},
   "outputs": [],
   "source": [
    "make_Poisson_plot_low_uncertainty('Poisson_enrichment_loss_plot_low_uncertainty_labelsize_9.png', tick_labelsize=9)"
   ]
  },
  {
   "cell_type": "code",
   "execution_count": null,
   "metadata": {},
   "outputs": [],
   "source": [
    "# NLL loss, low counts (3 / 1)\n",
    "def make_Poisson_plot_high_uncertainty(out, labels=False, tick_labelsize=None):\n",
    "    fig = plt.figure(figsize=(2, 2), dpi=300)\n",
    "    preds = np.linspace(0, 10, 300)\n",
    "    k1 = np.full((300,), 3)\n",
    "    k2 = np.full((300,), 1)\n",
    "    lines = plt.plot(\n",
    "        preds,\n",
    "        losses.loss_fn_nlogprob(torch.Tensor(preds), torch.Tensor(k1), torch.Tensor(k2), 1e-6, 1e-6),\n",
    "        zorder=2,\n",
    "    )\n",
    "    fig.canvas.draw()\n",
    "    ax = plt.gca()\n",
    "    if labels:\n",
    "        ax.tick_params(labelsize=7)\n",
    "    else:\n",
    "        ax.tick_params(labelsize=tick_labelsize)\n",
    "    ax.set_xticks([0, 2, 4, 6, 8, 10])\n",
    "    ax.set_yticks([0, 1, 2, 3, 4, 5])\n",
    "    ax.set_xlim([0, 10])\n",
    "    ax.set_ylim([0, 5])\n",
    "    if labels:\n",
    "        ax.set_xlabel('hypothesized enrichment R', fontsize=7)\n",
    "        ax.set_ylabel('NLL', fontsize=7)\n",
    "    ax.grid(zorder=1)\n",
    "    plt.tight_layout()\n",
    "    if labels:\n",
    "        plt.savefig(pathify('Poisson_enrichment_loss_plot_high_uncertainty_with_labels.png'))\n",
    "    else:\n",
    "        plt.savefig(pathify('Poisson_enrichment_loss_plot_high_uncertainty.png'))\n",
    "    plt.savefig(pathify(out))\n",
    "    plt.show()"
   ]
  },
  {
   "cell_type": "code",
   "execution_count": null,
   "metadata": {},
   "outputs": [],
   "source": [
    "make_Poisson_plot_high_uncertainty('Poisson_enrichment_loss_plot_high_uncertainty_with_labels.png', labels=True)"
   ]
  },
  {
   "cell_type": "code",
   "execution_count": null,
   "metadata": {},
   "outputs": [],
   "source": [
    "make_Poisson_plot_high_uncertainty('Poisson_enrichment_loss_plot_high_uncertainty_labelsize_12.png', tick_labelsize=12)"
   ]
  },
  {
   "cell_type": "code",
   "execution_count": null,
   "metadata": {},
   "outputs": [],
   "source": [
    "make_Poisson_plot_high_uncertainty('Poisson_enrichment_loss_plot_high_uncertainty_labelsize_9.png', tick_labelsize=9)"
   ]
  },
  {
   "cell_type": "code",
   "execution_count": null,
   "metadata": {},
   "outputs": [],
   "source": [
    "# NLL loss, medium counts (15 / 5)\n",
    "def make_Poisson_plot_med_uncertainty(labels=False):\n",
    "    fig = plt.figure(figsize=(2, 2), dpi=300)\n",
    "    preds = np.linspace(0, 10, 300)\n",
    "    k1 = np.full((300,), 15)\n",
    "    k2 = np.full((300,), 5)\n",
    "    lines = plt.plot(\n",
    "        preds,\n",
    "        losses.loss_fn_nlogprob(torch.Tensor(preds), torch.Tensor(k1), torch.Tensor(k2), 1e-6, 1e-6),\n",
    "        zorder=2,\n",
    "    )\n",
    "    fig.canvas.draw()\n",
    "    ax = plt.gca()\n",
    "    if labels:\n",
    "        ax.tick_params(labelsize=7)\n",
    "    else:\n",
    "        ax.tick_params(labelsize=9)\n",
    "    ax.set_xticks([0, 2, 4, 6, 8, 10])\n",
    "    ax.set_yticks([0, 1, 2, 3, 4, 5])\n",
    "    ax.set_xlim([0, 10])\n",
    "    ax.set_ylim([0, 5])\n",
    "    if labels:\n",
    "        ax.set_xlabel('hypothesized enrichment R', fontsize=7)\n",
    "        ax.set_ylabel('NLL', fontsize=7)\n",
    "    ax.grid(zorder=1)\n",
    "    plt.tight_layout()\n",
    "    if labels:\n",
    "        plt.savefig(pathify('Poisson_enrichment_loss_plot_medium_uncertainty_with_labels.png'))\n",
    "    else:\n",
    "        plt.savefig(pathify('Poisson_enrichment_loss_plot_medium_uncertainty.png'))\n",
    "    plt.show()"
   ]
  },
  {
   "cell_type": "code",
   "execution_count": null,
   "metadata": {},
   "outputs": [],
   "source": [
    "make_Poisson_plot_med_uncertainty(labels=True)"
   ]
  },
  {
   "cell_type": "code",
   "execution_count": null,
   "metadata": {},
   "outputs": [],
   "source": [
    "make_Poisson_plot_med_uncertainty()"
   ]
  },
  {
   "cell_type": "code",
   "execution_count": null,
   "metadata": {},
   "outputs": [],
   "source": []
  }
 ],
 "metadata": {
  "kernelspec": {
   "display_name": "chemprop",
   "language": "python",
   "name": "chemprop"
  },
  "language_info": {
   "codemirror_mode": {
    "name": "ipython",
    "version": 3
   },
   "file_extension": ".py",
   "mimetype": "text/x-python",
   "name": "python",
   "nbconvert_exporter": "python",
   "pygments_lexer": "ipython3",
   "version": "3.6.10"
  },
  "latex_envs": {
   "LaTeX_envs_menu_present": true,
   "autoclose": false,
   "autocomplete": true,
   "bibliofile": "biblio.bib",
   "cite_by": "apalike",
   "current_citInitial": 1,
   "eqLabelWithNumbers": true,
   "eqNumInitial": 1,
   "hotkeys": {
    "equation": "Ctrl-E",
    "itemize": "Ctrl-I"
   },
   "labels_anchors": false,
   "latex_user_defs": false,
   "report_style_numbering": false,
   "user_envs_cfg": false
  },
  "toc": {
   "base_numbering": 1,
   "nav_menu": {},
   "number_sections": true,
   "sideBar": true,
   "skip_h1_title": false,
   "title_cell": "Table of Contents",
   "title_sidebar": "Contents",
   "toc_cell": false,
   "toc_position": {},
   "toc_section_display": true,
   "toc_window_display": false
  },
  "varInspector": {
   "cols": {
    "lenName": 16,
    "lenType": 16,
    "lenVar": 40
   },
   "kernels_config": {
    "python": {
     "delete_cmd_postfix": "",
     "delete_cmd_prefix": "del ",
     "library": "var_list.py",
     "varRefreshCmd": "print(var_dic_list())"
    },
    "r": {
     "delete_cmd_postfix": ") ",
     "delete_cmd_prefix": "rm(",
     "library": "var_list.r",
     "varRefreshCmd": "cat(var_dic_list()) "
    }
   },
   "types_to_exclude": [
    "module",
    "function",
    "builtin_function_or_method",
    "instance",
    "_Feature"
   ],
   "window_display": false
  }
 },
 "nbformat": 4,
 "nbformat_minor": 2
}
