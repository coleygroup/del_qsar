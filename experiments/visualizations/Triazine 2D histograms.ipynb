{
 "cells": [
  {
   "cell_type": "code",
   "execution_count": null,
   "metadata": {},
   "outputs": [],
   "source": [
    "%load_ext autoreload\n",
    "%autoreload 2"
   ]
  },
  {
   "cell_type": "code",
   "execution_count": null,
   "metadata": {},
   "outputs": [],
   "source": [
    "import os, sys\n",
    "import pandas as pd\n",
    "import numpy as np\n",
    "from tqdm import tqdm\n",
    "import torch\n",
    "import h5py\n",
    "import copy"
   ]
  },
  {
   "cell_type": "code",
   "execution_count": null,
   "metadata": {},
   "outputs": [],
   "source": [
    "DELQSAR_ROOT = os.getcwd() + '/../../'\n",
    "sys.path += [DELQSAR_ROOT + '/../']"
   ]
  },
  {
   "cell_type": "code",
   "execution_count": null,
   "metadata": {},
   "outputs": [],
   "source": [
    "FINGERPRINTS_FILENAME = 'x_triazine_2048_bits_all_fps.h5' # should be in the experiments folder\n",
    "\n",
    "sEH_RANDOM_SPLIT_MODEL_PATH = os.path.join(DELQSAR_ROOT, 'experiments', 'models', 'triazine_sEH', \n",
    "                                           'FP-FFNN', 'random_seed_0.torch')\n",
    "\n",
    "sEH_CYCLE123_SPLIT_MODEL_PATH = os.path.join(DELQSAR_ROOT, 'experiments', 'models', 'triazine_sEH', \n",
    "                                           'FP-FFNN', 'cycle123_seed_0.torch')\n",
    "\n",
    "SIRT2_RANDOM_SPLIT_MODEL_PATH = os.path.join(DELQSAR_ROOT, 'experiments', 'models', 'triazine_SIRT2', \n",
    "                                           'FP-FFNN', 'random_seed_0.torch')\n",
    "\n",
    "SIRT2_CYCLE123_SPLIT_MODEL_PATH = os.path.join(DELQSAR_ROOT, 'experiments', 'models', 'triazine_SIRT2', \n",
    "                                           'FP-FFNN', 'cycle123_seed_0.torch')"
   ]
  },
  {
   "cell_type": "code",
   "execution_count": null,
   "metadata": {},
   "outputs": [],
   "source": [
    "from del_qsar import models, featurizers, splitters\n",
    "from del_qsar.enrichments import R_from_z, R_ranges\n",
    "\n",
    "if not os.path.isdir('triazine_2D_histograms'):\n",
    "    os.mkdir('triazine_2D_histograms')\n",
    "    \n",
    "def pathify(fname):\n",
    "    return os.path.join('triazine_2D_histograms', fname)\n",
    "\n",
    "LOG_FILE = os.path.join(DELQSAR_ROOT, 'experiments', 'visualizations',\n",
    "                        'triazine_2D_histograms', 'triazine_2D_histograms.log')"
   ]
  },
  {
   "cell_type": "code",
   "execution_count": null,
   "metadata": {},
   "outputs": [],
   "source": [
    "import matplotlib\n",
    "import matplotlib.pyplot as plt\n",
    "plt.style.use('seaborn-paper')\n",
    "import matplotlib.colors as colors\n",
    "\n",
    "matplotlib.rc('font', family='sans-serif') \n",
    "matplotlib.rc('font', serif='Arial') \n",
    "matplotlib.rc('text', usetex='false')"
   ]
  },
  {
   "cell_type": "code",
   "execution_count": null,
   "metadata": {},
   "outputs": [],
   "source": [
    "if not os.path.isdir(os.path.join(DELQSAR_ROOT, 'experiments', 'visualizations',\n",
    "                                  'triazine_2D_histograms')):\n",
    "    os.mkdir(os.path.join(DELQSAR_ROOT, 'experiments', 'visualizations',\n",
    "                          'triazine_2D_histograms'))\n",
    "def pathify(fname):\n",
    "    return os.path.join(os.path.join(DELQSAR_ROOT, 'experiments', 'visualizations',\n",
    "                        'triazine_2D_histograms'), fname)"
   ]
  },
  {
   "cell_type": "code",
   "execution_count": null,
   "metadata": {},
   "outputs": [],
   "source": [
    "df_data = pd.read_csv(os.path.join(DELQSAR_ROOT, 'experiments', 'datasets', \n",
    "                                   'triazine_lib_sEH_SIRT2_QSAR.csv'))\n",
    "\n",
    "os.environ[\"HDF5_USE_FILE_LOCKING\"] = 'FALSE'\n",
    "hf = h5py.File(os.path.join(DELQSAR_ROOT, 'experiments', FINGERPRINTS_FILENAME), 'r')\n",
    "x = np.array(hf['all_fps'])\n",
    "INPUT_SIZE = x.shape[1]\n",
    "hf.close()"
   ]
  },
  {
   "cell_type": "code",
   "execution_count": null,
   "metadata": {},
   "outputs": [],
   "source": [
    "BATCH_SIZE = 1024\n",
    "SEED = 0\n",
    "torch.manual_seed(SEED)"
   ]
  },
  {
   "cell_type": "code",
   "execution_count": null,
   "metadata": {},
   "outputs": [],
   "source": [
    "splitter_rand = splitters.RandomSplitter()\n",
    "train_slice_rand, valid_slice_rand, test_slice_rand  = splitter_rand(x, df_data, seed=SEED)"
   ]
  },
  {
   "cell_type": "code",
   "execution_count": null,
   "metadata": {},
   "outputs": [],
   "source": [
    "LAYER_SIZES = [256, 128, 64]\n",
    "DROPOUT = 0.4\n",
    "model_sEH_rand = models.MLP(INPUT_SIZE, [int(size) for size in LAYER_SIZES],\n",
    "                    dropout=DROPOUT, torch_seed=SEED)\n",
    "model_sEH_rand.load_state_dict(torch.load(sEH_RANDOM_SPLIT_MODEL_PATH))\n",
    "print(str(model_sEH_rand))"
   ]
  },
  {
   "cell_type": "code",
   "execution_count": null,
   "metadata": {},
   "outputs": [],
   "source": [
    "LAYER_SIZES = [256, 128, 64]\n",
    "DROPOUT = 0.1\n",
    "model_SIRT2_rand = models.MLP(INPUT_SIZE, [int(size) for size in LAYER_SIZES],\n",
    "                    dropout=DROPOUT, torch_seed=SEED)\n",
    "model_SIRT2_rand.load_state_dict(torch.load(SIRT2_RANDOM_SPLIT_MODEL_PATH))\n",
    "print(str(model_SIRT2_rand))"
   ]
  },
  {
   "cell_type": "code",
   "execution_count": null,
   "metadata": {},
   "outputs": [],
   "source": [
    "splitter_c123 = splitters.ThreeCycleSplitter(['cycle1','cycle2','cycle3'], LOG_FILE)\n",
    "train_slice_c123, valid_slice_c123, test_slice_c123  = splitter_c123(x, df_data, seed=SEED)"
   ]
  },
  {
   "cell_type": "code",
   "execution_count": null,
   "metadata": {},
   "outputs": [],
   "source": [
    "LAYER_SIZES = [1024, 256, 64]\n",
    "DROPOUT = 0.45\n",
    "model_sEH_c123 = models.MLP(INPUT_SIZE, [int(size) for size in LAYER_SIZES],\n",
    "                    dropout=DROPOUT, torch_seed=SEED)\n",
    "model_sEH_c123.load_state_dict(torch.load(sEH_CYCLE123_SPLIT_MODEL_PATH))\n",
    "print(str(model_sEH_c123))"
   ]
  },
  {
   "cell_type": "code",
   "execution_count": null,
   "metadata": {},
   "outputs": [],
   "source": [
    "LAYER_SIZES = [1024, 256, 64]\n",
    "DROPOUT = 0.1\n",
    "model_SIRT2_c123 = models.MLP(INPUT_SIZE, [int(size) for size in LAYER_SIZES],\n",
    "                    dropout=DROPOUT, torch_seed=SEED)\n",
    "model_SIRT2_c123.load_state_dict(torch.load(SIRT2_CYCLE123_SPLIT_MODEL_PATH))\n",
    "print(str(model_SIRT2_c123))"
   ]
  },
  {
   "cell_type": "code",
   "execution_count": null,
   "metadata": {},
   "outputs": [],
   "source": [
    "DEVICE = None\n",
    "if torch.cuda.is_available():\n",
    "    DEVICE = 'cuda:0'\n",
    "    model_sEH_rand = model_sEH_rand.to('cuda:0')\n",
    "    model_sEH_c123 = model_sEH_c123.to('cuda:0')\n",
    "    model_SIRT2_rand = model_SIRT2_rand.to('cuda:0')\n",
    "    model_SIRT2_c123 = model_SIRT2_c123.to('cuda:0')"
   ]
  },
  {
   "cell_type": "markdown",
   "metadata": {},
   "source": [
    "# sEH FP-FFNN "
   ]
  },
  {
   "cell_type": "code",
   "execution_count": null,
   "metadata": {},
   "outputs": [],
   "source": [
    "exp_counts = np.array(df_data[['sEH [strep]_tot']], dtype='int')\n",
    "bead_counts = np.array(df_data[['beads-linker-only [strep]_tot']], dtype='int')\n",
    "exp_tot = np.sum(exp_counts, axis=0) # column sums\n",
    "bead_tot = np.sum(bead_counts, axis=0)"
   ]
  },
  {
   "cell_type": "code",
   "execution_count": null,
   "metadata": {
    "scrolled": false
   },
   "outputs": [],
   "source": [
    "def make_2D_histograms_sEH(eval_slice, model, split, zoomIn, pruneLowRawCounts=False):\n",
    "    _R, _R_lb, _R_ub = R_ranges(bead_counts[eval_slice, 0], bead_tot[0], exp_counts[eval_slice, 0], exp_tot[0])\n",
    "    _test_enrichments = model.predict_on_x(\n",
    "        x[eval_slice, :], batch_size=BATCH_SIZE, device=DEVICE,\n",
    "    )\n",
    "    R, R_lb, R_ub, test_enrichments = [], [], [], []\n",
    "    if pruneLowRawCounts:\n",
    "        for i in range(len(eval_slice)):\n",
    "            if (df_data.iloc[eval_slice[i]]['sEH [strep]_tot'] + df_data.iloc[eval_slice[i]]['beads-linker-only [strep]_tot']) >= 3:\n",
    "                R.append(_R[i])\n",
    "                R_lb.append(_R_lb[i])\n",
    "                R_ub.append(_R_ub[i])\n",
    "                test_enrichments.append(_test_enrichments[i])\n",
    "        print(min(test_enrichments), max(test_enrichments))\n",
    "    else:\n",
    "        R = _R\n",
    "        R_lb = _R_lb\n",
    "        R_ub = _R_ub\n",
    "        test_enrichments = _test_enrichments\n",
    "    y1 = test_enrichments\n",
    "    my_cmap = copy.copy(matplotlib.cm.get_cmap('viridis'))\n",
    "    my_cmap.set_bad(\"#CFCFCF\") # color zero frequency values as gray\n",
    "\n",
    "    # maximum likelihood\n",
    "    fig = plt.figure(figsize=(3.33, 2.82), dpi=300)\n",
    "    y0 = R\n",
    "    if zoomIn:\n",
    "        bins = [np.arange(0, 10.001, 0.15),np.arange(0, 14.001, 0.21)]\n",
    "    else:\n",
    "        bins = [np.arange(0, 1543, 23.145),np.arange(0, 523, 7.845)]\n",
    "    plt.hist2d(\n",
    "        np.clip(y0, 0, bins[0][-1]), \n",
    "        np.clip(y1, 0, bins[1][-1]), \n",
    "        bins=bins, \n",
    "        density=False,\n",
    "        norm=colors.LogNorm(),\n",
    "        cmap=my_cmap,\n",
    "    )\n",
    "    cb = plt.colorbar()\n",
    "    cb.ax.tick_params(labelsize=7, length=3, pad=0.5)\n",
    "    cb.ax.set_ylabel('frequency', rotation=270, fontsize=8, labelpad=8)\n",
    "    fig.canvas.draw()\n",
    "    ax = plt.gca()\n",
    "    ax.tick_params(labelsize=9)\n",
    "    ax.set_xlabel('calculated enrichment\\n(maximum likelihood)', fontsize=9)\n",
    "    ax.set_ylabel('predicted enrichment', fontsize=9)\n",
    "    plt.tight_layout()\n",
    "    if zoomIn and not pruneLowRawCounts:\n",
    "        plt.savefig(pathify(f'2D_histogram_maximum_likelihood_zoomed_in_sEH_FP-FFNN_{split}_seed_0.png'))\n",
    "    elif zoomIn and pruneLowRawCounts:\n",
    "        plt.savefig(pathify(f'2D_histogram_maximum_likelihood_zoomed_in_sEH_FP-FFNN_{split}_seed_0_low_counts_pruned.png'))\n",
    "    elif not zoomIn and not pruneLowRawCounts: \n",
    "        plt.savefig(pathify(f'2D_histogram_maximum_likelihood_full_sEH_FP-FFNN_{split}_seed_0.png'))\n",
    "    plt.show()\n",
    "\n",
    "\n",
    "    # lower bound\n",
    "    fig = plt.figure(figsize=(3.33, 2.82), dpi=300)\n",
    "    y0 = R_lb\n",
    "    if zoomIn:\n",
    "        bins = [np.arange(0, 4.001, 0.06),np.arange(0, 14.001, 0.21)]\n",
    "    else:\n",
    "        bins = [np.arange(0, 222, 1.665),np.arange(0, 523, 7.845)]\n",
    "    plt.hist2d(\n",
    "        np.clip(y0, 0, bins[0][-1]), \n",
    "        np.clip(y1, 0, bins[1][-1]), \n",
    "        bins=bins, \n",
    "        density=False,\n",
    "        norm=colors.LogNorm(),\n",
    "        cmap=my_cmap,\n",
    "    )\n",
    "    cb = plt.colorbar()\n",
    "    cb.ax.tick_params(labelsize=7, length=3, pad=0.5)\n",
    "    cb.ax.set_ylabel('frequency', rotation=270, fontsize=8, labelpad=8)\n",
    "    fig.canvas.draw()\n",
    "    ax = plt.gca()\n",
    "    ax.tick_params(labelsize=9)\n",
    "    ax.set_xlabel('calculated enrichment\\n(lower bound)', fontsize=9)\n",
    "    ax.set_ylabel('predicted enrichment', fontsize=9)\n",
    "    plt.tight_layout()\n",
    "    if zoomIn and not pruneLowRawCounts:\n",
    "        plt.savefig(pathify(f'2D_histogram_LB_zoomed_in_sEH_FP-FFNN_{split}_seed_0.png'))\n",
    "    elif zoomIn and pruneLowRawCounts:\n",
    "        plt.savefig(pathify(f'2D_histogram_LB_zoomed_in_sEH_FP-FFNN_{split}_seed_0_low_counts_pruned.png'))\n",
    "    elif not zoomIn and not pruneLowRawCounts:\n",
    "        plt.savefig(pathify(f'2D_histogram_LB_full_sEH_FP-FFNN_{split}_seed_0.png'))\n",
    "    plt.show()\n",
    "\n",
    "\n",
    "    # upper bound\n",
    "    fig = plt.figure(figsize=(3.33, 2.82), dpi=300)\n",
    "    y0 = R_ub\n",
    "    if zoomIn:\n",
    "        bins = [np.arange(0, 10.001, 0.15),np.arange(0, 14.001, 0.21)]\n",
    "    else:\n",
    "        bins = [np.arange(0, 33955, 509.325),np.arange(0, 523, 7.845)]\n",
    "    plt.hist2d(\n",
    "        np.clip(y0, 0, bins[0][-1]), \n",
    "        np.clip(y1, 0, bins[1][-1]), \n",
    "        bins=bins, \n",
    "        density=False,\n",
    "        norm=colors.LogNorm(),\n",
    "        cmap=my_cmap,\n",
    "    )\n",
    "    cb = plt.colorbar()\n",
    "    cb.ax.tick_params(labelsize=7, length=3, pad=0.5)\n",
    "    cb.ax.set_ylabel('frequency', rotation=270, fontsize=8, labelpad=8)\n",
    "    fig.canvas.draw()\n",
    "    ax = plt.gca()\n",
    "    ax.tick_params(labelsize=9)\n",
    "    ax.set_xlabel('calculated enrichment\\n(upper bound)', fontsize=9)\n",
    "    ax.set_ylabel('predicted enrichment', fontsize=9)\n",
    "    plt.tight_layout()\n",
    "    if zoomIn and not pruneLowRawCounts:\n",
    "        plt.savefig(pathify(f'2D_histogram_UB_zoomed_in_sEH_FP-FFNN_{split}_seed_0.png'))\n",
    "    elif zoomIn and pruneLowRawCounts:\n",
    "        plt.savefig(pathify(f'2D_histogram_UB_zoomed_in_sEH_FP-FFNN_{split}_seed_0_low_counts_pruned.png'))\n",
    "    elif not zoomIn and not pruneLowRawCounts:\n",
    "        plt.savefig(pathify(f'2D_histogram_UB_full_sEH_FP-FFNN_{split}_seed_0.png'))\n",
    "    plt.show()"
   ]
  },
  {
   "cell_type": "code",
   "execution_count": null,
   "metadata": {
    "scrolled": false
   },
   "outputs": [],
   "source": [
    "make_2D_histograms_sEH(test_slice_rand, model_sEH_rand, 'random', zoomIn=True, pruneLowRawCounts=True)"
   ]
  },
  {
   "cell_type": "code",
   "execution_count": null,
   "metadata": {
    "scrolled": false
   },
   "outputs": [],
   "source": [
    "make_2D_histograms_sEH(test_slice_c123, model_sEH_c123, 'cycle 1+2+3', zoomIn=True, pruneLowRawCounts=True)"
   ]
  },
  {
   "cell_type": "markdown",
   "metadata": {},
   "source": [
    "# SIRT2 FP-FFNN"
   ]
  },
  {
   "cell_type": "code",
   "execution_count": null,
   "metadata": {},
   "outputs": [],
   "source": [
    "exp_counts = np.array(df_data[['SIRT2 [strep]_tot']], dtype='int')\n",
    "bead_counts = np.array(df_data[['beads-linker-only [strep]_tot']], dtype='int')\n",
    "exp_tot = np.sum(exp_counts, axis=0) # column sums\n",
    "bead_tot = np.sum(bead_counts, axis=0)"
   ]
  },
  {
   "cell_type": "code",
   "execution_count": null,
   "metadata": {},
   "outputs": [],
   "source": [
    "SIRT2_random_indices = []\n",
    "SIRT2_c123_indices = []\n",
    "def make_2D_histograms_SIRT2(eval_slice, model, split, zoomIn, pruneLowRawCounts=False):\n",
    "    _R, _R_lb, _R_ub = R_ranges(bead_counts[eval_slice, 0], bead_tot[0], exp_counts[eval_slice, 0], exp_tot[0])\n",
    "    _test_enrichments = model.predict_on_x(\n",
    "        x[eval_slice, :], batch_size=BATCH_SIZE, device=DEVICE,\n",
    "    )\n",
    "    R, R_lb, R_ub, test_enrichments = [], [], [], []\n",
    "    if pruneLowRawCounts:\n",
    "        for i in range(len(eval_slice)):\n",
    "            if df_data.iloc[eval_slice[i]]['SIRT2 [strep]_tot'] + df_data.iloc[eval_slice[i]]['beads-linker-only [strep]_tot'] >= 3:\n",
    "                R.append(_R[i])\n",
    "                R_lb.append(_R_lb[i])\n",
    "                R_ub.append(_R_ub[i])\n",
    "                test_enrichments.append(_test_enrichments[i])\n",
    "        print(min(test_enrichments), max(test_enrichments))\n",
    "    else:\n",
    "        R = _R\n",
    "        R_lb = _R_lb\n",
    "        R_ub = _R_ub\n",
    "        test_enrichments = _test_enrichments\n",
    "    y1 = test_enrichments\n",
    "    my_cmap = copy.copy(matplotlib.cm.get_cmap('viridis'))\n",
    "    my_cmap.set_bad(\"#CFCFCF\") # color zero frequency values as gray\n",
    "\n",
    "    # maximum likelihood\n",
    "    fig = plt.figure(figsize=(3.33, 2.82), dpi=300)\n",
    "    y0 = R\n",
    "    if zoomIn:\n",
    "        bins = [np.arange(0, 10.001, 0.15),np.arange(0, 20, 0.3)]\n",
    "    else:\n",
    "        bins = [np.arange(0, 146, 4.38),np.arange(0, 20, 0.6)]\n",
    "    plt.hist2d(\n",
    "        np.clip(y0, 0, bins[0][-1]), \n",
    "        np.clip(y1, 0, bins[1][-1]), \n",
    "        bins=bins, \n",
    "        density=False,\n",
    "        norm=colors.LogNorm(),\n",
    "        cmap=my_cmap,\n",
    "    )\n",
    "    cb = plt.colorbar()\n",
    "    cb.ax.tick_params(labelsize=7, length=3, pad=0.5)\n",
    "    cb.ax.set_ylabel('frequency', rotation=270, fontsize=8, labelpad=8)\n",
    "    fig.canvas.draw()\n",
    "    ax = plt.gca()\n",
    "    ax.tick_params(labelsize=9)\n",
    "    ax.set_xlabel('calculated enrichment\\n(maximum likelihood)', fontsize=9)\n",
    "    ax.set_ylabel('predicted enrichment', fontsize=9)\n",
    "    ax.set_yticks([0, 5, 10, 15])\n",
    "    plt.tight_layout()\n",
    "    if zoomIn and not pruneLowRawCounts:\n",
    "        plt.savefig(pathify(f'2D_histogram_maximum_likelihood_zoomed_in_SIRT2_FP-FFNN_{split}_seed_0.png'))\n",
    "    elif zoomIn and pruneLowRawCounts:\n",
    "        plt.savefig(pathify(f'2D_histogram_maximum_likelihood_zoomed_in_SIRT2_FP-FFNN_{split}_seed_0_low_counts_pruned.png'))\n",
    "    elif not zoomIn and not pruneLowRawCounts:\n",
    "        plt.savefig(pathify(f'2D_histogram_maximum_likelihood_full_SIRT2_FP-FFNN_{split}_seed_0.png'))\n",
    "    plt.show()\n",
    "\n",
    "\n",
    "    # lower bound\n",
    "    fig = plt.figure(figsize=(3.33, 2.82), dpi=300)\n",
    "    y0 = R_lb\n",
    "    if zoomIn:\n",
    "        bins = [np.arange(0, 4.001, 0.06),np.arange(0, 20, 0.3)]\n",
    "    else:\n",
    "        bins = [np.arange(0, 20.04, 0.6012),np.arange(0, 20, 0.6)]\n",
    "    plt.hist2d(\n",
    "        np.clip(y0, 0, bins[0][-1]), \n",
    "        np.clip(y1, 0, bins[1][-1]), \n",
    "        bins=bins, \n",
    "        density=False,\n",
    "        norm=colors.LogNorm(),\n",
    "        cmap=my_cmap,\n",
    "    )\n",
    "    cb = plt.colorbar()\n",
    "    cb.ax.tick_params(labelsize=7, length=3, pad=0.5)\n",
    "    cb.ax.set_ylabel('frequency', rotation=270, fontsize=8, labelpad=8)\n",
    "    fig.canvas.draw()\n",
    "    ax = plt.gca()\n",
    "    ax.tick_params(labelsize=9)\n",
    "    ax.set_xlabel('calculated enrichment\\n(lower bound)', fontsize=9)\n",
    "    ax.set_ylabel('predicted enrichment', fontsize=9)\n",
    "    ax.set_yticks([0, 5, 10, 15])\n",
    "    plt.tight_layout()\n",
    "    if zoomIn and not pruneLowRawCounts:\n",
    "        plt.savefig(pathify(f'2D_histogram_LB_zoomed_in_SIRT2_FP-FFNN_{split}_seed_0.png'))\n",
    "    elif zoomIn and pruneLowRawCounts:\n",
    "        plt.savefig(pathify(f'2D_histogram_LB_zoomed_in_SIRT2_FP-FFNN_{split}_seed_0_low_counts_pruned.png'))\n",
    "    elif not zoomIn and not pruneLowRawCounts:\n",
    "        plt.savefig(pathify(f'2D_histogram_LB_full_SIRT2_FP-FFNN_{split}_seed_0.png'))\n",
    "    plt.show()\n",
    "\n",
    "\n",
    "    # upper bound\n",
    "    fig = plt.figure(figsize=(3.33, 2.82), dpi=300)\n",
    "    y0 = R_ub\n",
    "    if zoomIn:\n",
    "        bins = [np.arange(0, 10.001, 0.15),np.arange(0, 20, 0.3)]\n",
    "    else:\n",
    "        bins = [np.arange(0, 1841, 55.23),np.arange(0, 20, 0.6)]\n",
    "    plt.hist2d(\n",
    "        np.clip(y0, 0, bins[0][-1]), \n",
    "        np.clip(y1, 0, bins[1][-1]), \n",
    "        bins=bins, \n",
    "        density=False,\n",
    "        norm=colors.LogNorm(),\n",
    "        cmap=my_cmap,\n",
    "    )\n",
    "    cb = plt.colorbar()\n",
    "    cb.ax.tick_params(labelsize=7, length=3, pad=0.5)\n",
    "    cb.ax.set_ylabel('frequency', rotation=270, fontsize=8, labelpad=8)\n",
    "    fig.canvas.draw()\n",
    "    ax = plt.gca()\n",
    "    ax.tick_params(labelsize=9)\n",
    "    ax.set_xlabel('calculated enrichment\\n(upper bound)', fontsize=9)\n",
    "    ax.set_ylabel('predicted enrichment', fontsize=9)\n",
    "    ax.set_yticks([0, 5, 10, 15])\n",
    "    plt.tight_layout()\n",
    "    if zoomIn and not pruneLowRawCounts:\n",
    "        plt.savefig(pathify(f'2D_histogram_UB_zoomed_in_SIRT2_FP-FFNN_{split}_seed_0.png'))\n",
    "    elif zoomIn and pruneLowRawCounts:\n",
    "        plt.savefig(pathify(f'2D_histogram_UB_zoomed_in_SIRT2_FP-FFNN_{split}_seed_0_low_counts_pruned.png'))\n",
    "    elif not zoomIn and not pruneLowRawCounts:\n",
    "        plt.savefig(pathify(f'2D_histogram_UB_full_SIRT2_FP-FFNN_{split}_seed_0.png'))\n",
    "    plt.show()"
   ]
  },
  {
   "cell_type": "code",
   "execution_count": null,
   "metadata": {
    "scrolled": false
   },
   "outputs": [],
   "source": [
    "make_2D_histograms_SIRT2(test_slice_rand, model_SIRT2_rand, 'random', zoomIn=True, pruneLowRawCounts=True)"
   ]
  },
  {
   "cell_type": "code",
   "execution_count": null,
   "metadata": {
    "scrolled": false
   },
   "outputs": [],
   "source": [
    "make_2D_histograms_SIRT2(test_slice_c123, model_SIRT2_c123, 'cycle 1+2+3', zoomIn=True, pruneLowRawCounts=True)"
   ]
  },
  {
   "cell_type": "code",
   "execution_count": null,
   "metadata": {},
   "outputs": [],
   "source": []
  }
 ],
 "metadata": {
  "kernelspec": {
   "display_name": "chemprop",
   "language": "python",
   "name": "chemprop"
  },
  "language_info": {
   "codemirror_mode": {
    "name": "ipython",
    "version": 3
   },
   "file_extension": ".py",
   "mimetype": "text/x-python",
   "name": "python",
   "nbconvert_exporter": "python",
   "pygments_lexer": "ipython3",
   "version": "3.6.10"
  },
  "latex_envs": {
   "LaTeX_envs_menu_present": true,
   "autoclose": false,
   "autocomplete": true,
   "bibliofile": "biblio.bib",
   "cite_by": "apalike",
   "current_citInitial": 1,
   "eqLabelWithNumbers": true,
   "eqNumInitial": 1,
   "hotkeys": {
    "equation": "Ctrl-E",
    "itemize": "Ctrl-I"
   },
   "labels_anchors": false,
   "latex_user_defs": false,
   "report_style_numbering": false,
   "user_envs_cfg": false
  },
  "toc": {
   "base_numbering": 1,
   "nav_menu": {},
   "number_sections": true,
   "sideBar": true,
   "skip_h1_title": false,
   "title_cell": "Table of Contents",
   "title_sidebar": "Contents",
   "toc_cell": false,
   "toc_position": {},
   "toc_section_display": true,
   "toc_window_display": false
  },
  "varInspector": {
   "cols": {
    "lenName": 16,
    "lenType": 16,
    "lenVar": 40
   },
   "kernels_config": {
    "python": {
     "delete_cmd_postfix": "",
     "delete_cmd_prefix": "del ",
     "library": "var_list.py",
     "varRefreshCmd": "print(var_dic_list())"
    },
    "r": {
     "delete_cmd_postfix": ") ",
     "delete_cmd_prefix": "rm(",
     "library": "var_list.r",
     "varRefreshCmd": "cat(var_dic_list()) "
    }
   },
   "types_to_exclude": [
    "module",
    "function",
    "builtin_function_or_method",
    "instance",
    "_Feature"
   ],
   "window_display": false
  }
 },
 "nbformat": 4,
 "nbformat_minor": 2
}
