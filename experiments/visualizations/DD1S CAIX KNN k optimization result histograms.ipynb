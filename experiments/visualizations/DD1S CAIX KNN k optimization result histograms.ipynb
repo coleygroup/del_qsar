{
 "cells": [
  {
   "cell_type": "code",
   "execution_count": null,
   "metadata": {},
   "outputs": [],
   "source": [
    "%load_ext autoreload\n",
    "%autoreload 2"
   ]
  },
  {
   "cell_type": "code",
   "execution_count": null,
   "metadata": {},
   "outputs": [],
   "source": [
    "import os\n",
    "import pandas as pd\n",
    "import numpy as np\n",
    "import statistics\n",
    "from tqdm import tqdm"
   ]
  },
  {
   "cell_type": "code",
   "execution_count": null,
   "metadata": {},
   "outputs": [],
   "source": [
    "import matplotlib\n",
    "import matplotlib.pyplot as plt\n",
    "plt.style.use('seaborn-paper')\n",
    "\n",
    "matplotlib.rc('font', family='sans-serif')\n",
    "matplotlib.rc('font', serif='Arial')\n",
    "matplotlib.rc('text', usetex='false')"
   ]
  },
  {
   "cell_type": "code",
   "execution_count": null,
   "metadata": {},
   "outputs": [],
   "source": [
    "DELQSAR_ROOT = os.getcwd() + '/../../'"
   ]
  },
  {
   "cell_type": "code",
   "execution_count": null,
   "metadata": {},
   "outputs": [],
   "source": [
    "if not os.path.isdir('DD1S_CAIX_KNN_k_histograms'):\n",
    "    os.mkdir('DD1S_CAIX_KNN_k_histograms')\n",
    "def pathify(fname):\n",
    "    return os.path.join('DD1S_CAIX_KNN_k_histograms', fname)"
   ]
  },
  {
   "cell_type": "code",
   "execution_count": null,
   "metadata": {},
   "outputs": [],
   "source": [
    "def make_histogram_for_hyperparam(df_data, model_type, metric, metric_name, img_name):\n",
    "    hyperparam_values = df_data[df_data['model type'].isin(model_type) &\n",
    "                                df_data['metric'].isin(metric)]['k']\n",
    "    \n",
    "    fig = plt.figure(figsize=(2.33, 1.6), dpi=300)\n",
    "    vals = [1, 3, 5, 7, 9]\n",
    "    barWidth = 0.9\n",
    "        \n",
    "    counts = [list(hyperparam_values).count(val) for val in vals]\n",
    "    val_labels = [str(val) for val in vals]\n",
    "    plt.bar(val_labels, counts, width=barWidth, zorder=2)\n",
    "    \n",
    "    fig.canvas.draw()\n",
    "    ax = plt.gca()\n",
    "    ax.tick_params(labelsize=7)\n",
    "    \n",
    "    ax.grid(zorder=1)\n",
    "    ax.set_xlabel(f'best k\\n(by {metric_name})', fontsize=8)\n",
    "    ax.set_ylabel('frequency', fontsize=8)\n",
    "\n",
    "    plt.tight_layout()\n",
    "    plt.savefig(pathify(img_name))\n",
    "    plt.show()"
   ]
  },
  {
   "cell_type": "code",
   "execution_count": null,
   "metadata": {},
   "outputs": [],
   "source": [
    "df_data = pd.read_csv(os.path.join(DELQSAR_ROOT, 'experiments', 'DD1S_CAIX_KNN_k_optimization_results.csv'))\n",
    "df_data"
   ]
  },
  {
   "cell_type": "code",
   "execution_count": null,
   "metadata": {},
   "outputs": [],
   "source": [
    "make_histogram_for_hyperparam(df_data, ['OH-KNN'], ['NLL'], 'NLL loss', 'DD1S_CAIX_OH-KNN_NLL_k_histogram.png')"
   ]
  },
  {
   "cell_type": "code",
   "execution_count": null,
   "metadata": {},
   "outputs": [],
   "source": [
    "make_histogram_for_hyperparam(df_data, ['OH-KNN'], ['MSE'], 'MSE loss', 'DD1S_CAIX_OH-KNN_MSE_k_histogram.png')"
   ]
  },
  {
   "cell_type": "code",
   "execution_count": null,
   "metadata": {},
   "outputs": [],
   "source": [
    "make_histogram_for_hyperparam(df_data, ['OH-KNN'], ['rank corr coeff'], 'rank correlation coefficient', 'DD1S_CAIX_OH-KNN_rcc_k_histogram.png')"
   ]
  },
  {
   "cell_type": "code",
   "execution_count": null,
   "metadata": {},
   "outputs": [],
   "source": [
    "make_histogram_for_hyperparam(df_data, ['FP-KNN'], ['NLL'], 'NLL loss', 'DD1S_CAIX_FP-KNN_NLL_k_histogram.png')"
   ]
  },
  {
   "cell_type": "code",
   "execution_count": null,
   "metadata": {},
   "outputs": [],
   "source": [
    "make_histogram_for_hyperparam(df_data, ['FP-KNN'], ['MSE'], 'MSE loss', 'DD1S_CAIX_FP-KNN_MSE_k_histogram.png')"
   ]
  },
  {
   "cell_type": "code",
   "execution_count": null,
   "metadata": {},
   "outputs": [],
   "source": [
    "make_histogram_for_hyperparam(df_data, ['FP-KNN'], ['rank corr coeff'], 'rank correlation coefficient', 'DD1S_CAIX_FP-KNN_rcc_k_histogram.png')"
   ]
  },
  {
   "cell_type": "code",
   "execution_count": null,
   "metadata": {},
   "outputs": [],
   "source": []
  }
 ],
 "metadata": {
  "kernelspec": {
   "display_name": "chemprop",
   "language": "python",
   "name": "chemprop"
  },
  "language_info": {
   "codemirror_mode": {
    "name": "ipython",
    "version": 3
   },
   "file_extension": ".py",
   "mimetype": "text/x-python",
   "name": "python",
   "nbconvert_exporter": "python",
   "pygments_lexer": "ipython3",
   "version": "3.6.10"
  },
  "latex_envs": {
   "LaTeX_envs_menu_present": true,
   "autoclose": false,
   "autocomplete": true,
   "bibliofile": "biblio.bib",
   "cite_by": "apalike",
   "current_citInitial": 1,
   "eqLabelWithNumbers": true,
   "eqNumInitial": 1,
   "hotkeys": {
    "equation": "Ctrl-E",
    "itemize": "Ctrl-I"
   },
   "labels_anchors": false,
   "latex_user_defs": false,
   "report_style_numbering": false,
   "user_envs_cfg": false
  },
  "toc": {
   "base_numbering": 1,
   "nav_menu": {},
   "number_sections": true,
   "sideBar": true,
   "skip_h1_title": false,
   "title_cell": "Table of Contents",
   "title_sidebar": "Contents",
   "toc_cell": false,
   "toc_position": {},
   "toc_section_display": true,
   "toc_window_display": false
  },
  "varInspector": {
   "cols": {
    "lenName": 16,
    "lenType": 16,
    "lenVar": 40
   },
   "kernels_config": {
    "python": {
     "delete_cmd_postfix": "",
     "delete_cmd_prefix": "del ",
     "library": "var_list.py",
     "varRefreshCmd": "print(var_dic_list())"
    },
    "r": {
     "delete_cmd_postfix": ") ",
     "delete_cmd_prefix": "rm(",
     "library": "var_list.r",
     "varRefreshCmd": "cat(var_dic_list()) "
    }
   },
   "types_to_exclude": [
    "module",
    "function",
    "builtin_function_or_method",
    "instance",
    "_Feature"
   ],
   "window_display": false
  }
 },
 "nbformat": 4,
 "nbformat_minor": 2
}
