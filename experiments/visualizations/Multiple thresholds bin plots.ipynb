{
 "cells": [
  {
   "cell_type": "code",
   "execution_count": null,
   "metadata": {},
   "outputs": [],
   "source": [
    "%load_ext autoreload\n",
    "%autoreload 2"
   ]
  },
  {
   "cell_type": "code",
   "execution_count": null,
   "metadata": {},
   "outputs": [],
   "source": [
    "import os\n",
    "import pandas as pd\n",
    "import numpy as np\n",
    "import statistics\n",
    "from tqdm import tqdm\n",
    "\n",
    "import matplotlib\n",
    "import matplotlib.pyplot as plt\n",
    "plt.style.use('seaborn-paper')\n",
    "\n",
    "matplotlib.rc('font', family='sans-serif')\n",
    "matplotlib.rc('font', serif='Arial')\n",
    "matplotlib.rc('text', usetex='false')"
   ]
  },
  {
   "cell_type": "code",
   "execution_count": null,
   "metadata": {},
   "outputs": [],
   "source": [
    "DELQSAR_ROOT = os.getcwd() + '/../../'\n",
    "\n",
    "if not os.path.isdir('multiple_thresholds_bin_plots'):\n",
    "    os.mkdir('multiple_thresholds_bin_plots')\n",
    "def pathify(fname):\n",
    "    return os.path.join('multiple_thresholds_bin_plots', fname)"
   ]
  },
  {
   "cell_type": "code",
   "execution_count": null,
   "metadata": {},
   "outputs": [],
   "source": [
    "def get_avg_AUCs_stdevs(dataset, model_type, metric):\n",
    "    all_AUCs = [np.array(df_data[\n",
    "        df_data['dataset'].isin([str(dataset)]) & \n",
    "        df_data['model type'].isin([str(model_type)]) & \n",
    "        df_data['top percent'].isin([top_percent]) \n",
    "    ][str(metric)]) for top_percent in top_percents]\n",
    "    avg_AUCs = [statistics.mean(AUCs) for AUCs in all_AUCs] \n",
    "    stdevs = [statistics.stdev(AUCs) for AUCs in all_AUCs]\n",
    "    return avg_AUCs, stdevs"
   ]
  },
  {
   "cell_type": "code",
   "execution_count": null,
   "metadata": {},
   "outputs": [],
   "source": [
    "def make_plot_AUCs(img_name, dataset, metric, model_name, NLL_AUCs, NLL_stdevs, pt_AUCs, pt_stdevs, xsize, ysize,\n",
    "                   ylabel=True, xlabel=True, title=True):\n",
    "    fig = plt.figure(figsize=(xsize, ysize), dpi=300)\n",
    "    plt.errorbar(top_percents, random_guess_AUCs, yerr=random_guess_stdevs, ecolor='k', linewidth=1,\n",
    "                 color='#7f7f7f', elinewidth=0.5, capsize=1, capthick=0.5, label='random guess')\n",
    "    plt.errorbar(top_percents, pt_AUCs, yerr=pt_stdevs, ecolor='k', color='#ff7f0e', linewidth=1,\n",
    "                 elinewidth=0.5, capsize=1, capthick=0.5, label=f'{model_name} pt')\n",
    "    plt.errorbar(top_percents, NLL_AUCs, yerr=NLL_stdevs, ecolor='k', color='#1f77b4', linewidth=1,\n",
    "                 elinewidth=0.5, capsize=1, capthick=0.5, label=f'{model_name}')\n",
    "    \n",
    "    fig.canvas.draw()\n",
    "    ax = plt.gca()\n",
    "    ax.grid(zorder=1)\n",
    "    \n",
    "    if ylabel:\n",
    "        ax.set_ylabel(str(metric), fontsize=8)\n",
    "    ax.set_xscale('log')\n",
    "    if xlabel:\n",
    "        ax.tick_params(labelsize=8)\n",
    "        ax.set_xlabel('top percent', fontsize=8)\n",
    "    else:\n",
    "        ax.tick_params(axis='x', which='both', bottom=False, top=False, labelbottom=False)\n",
    "    if title:\n",
    "        ax.set_title(str(dataset), fontsize=8)\n",
    "    handles, labels = ax.get_legend_handles_labels()\n",
    "    order = [2,1,0]\n",
    "    if 'PR' in metric:\n",
    "        plt.legend([handles[idx] for idx in order],[labels[idx] for idx in order], fontsize=6, loc='upper left')\n",
    "    else:\n",
    "        plt.legend([handles[idx] for idx in order],[labels[idx] for idx in order], fontsize=6, loc='center left')\n",
    "    plt.tight_layout()\n",
    "    plt.savefig(pathify(img_name))\n",
    "    plt.show()"
   ]
  },
  {
   "cell_type": "code",
   "execution_count": null,
   "metadata": {},
   "outputs": [],
   "source": [
    "df_data = pd.read_csv(os.path.join(DELQSAR_ROOT, 'experiments', 'AUCs_multiple_thresholds.csv'))"
   ]
  },
  {
   "cell_type": "markdown",
   "metadata": {},
   "source": [
    "# PR AUC"
   ]
  },
  {
   "cell_type": "code",
   "execution_count": null,
   "metadata": {},
   "outputs": [],
   "source": [
    "# DD1S CAIX\n",
    "top_percents = df_data[df_data['dataset'].isin(['DD1S CAIX'])]['top percent'].unique()\n",
    "random_guess_AUCs, random_guess_stdevs = get_avg_AUCs_stdevs('DD1S CAIX', 'Random guess', 'PR AUC')\n",
    "OH_FFNN, OH_FFNN_stdevs = get_avg_AUCs_stdevs('DD1S CAIX', 'OH-FFNN', 'PR AUC')\n",
    "FP_FFNN, FP_FFNN_stdevs = get_avg_AUCs_stdevs('DD1S CAIX', 'FP-FFNN', 'PR AUC')\n",
    "D_MPNN, D_MPNN_stdevs = get_avg_AUCs_stdevs('DD1S CAIX', 'D-MPNN', 'PR AUC')\n",
    "OH_FFNN_pt, OH_FFNN_pt_stdevs = get_avg_AUCs_stdevs('DD1S CAIX', 'OH-FFNN pt', 'PR AUC')\n",
    "FP_FFNN_pt, FP_FFNN_pt_stdevs = get_avg_AUCs_stdevs('DD1S CAIX', 'FP-FFNN pt', 'PR AUC')\n",
    "D_MPNN_pt, D_MPNN_pt_stdevs = get_avg_AUCs_stdevs('DD1S CAIX', 'D-MPNN pt', 'PR AUC')"
   ]
  },
  {
   "cell_type": "code",
   "execution_count": null,
   "metadata": {},
   "outputs": [],
   "source": [
    "make_plot_AUCs('DD1S_CAIX_OH-FFNN_20_thresholds_PR_AUCs.png', 'DD1S CAIX', 'PR AUC', 'OH-FFNN', OH_FFNN, OH_FFNN_stdevs, OH_FFNN_pt, OH_FFNN_pt_stdevs, 2.33, 1.9, xlabel=False)"
   ]
  },
  {
   "cell_type": "code",
   "execution_count": null,
   "metadata": {},
   "outputs": [],
   "source": [
    "make_plot_AUCs('DD1S_CAIX_FP-FFNN_20_thresholds_PR_AUCs.png', 'DD1S CAIX', 'PR AUC', 'FP-FFNN', FP_FFNN, FP_FFNN_stdevs, FP_FFNN_pt, FP_FFNN_pt_stdevs, 2.33, 1.75, xlabel=False, title=False)"
   ]
  },
  {
   "cell_type": "code",
   "execution_count": null,
   "metadata": {},
   "outputs": [],
   "source": [
    "make_plot_AUCs('DD1S_CAIX_D-MPNN_20_thresholds_PR_AUCs.png', 'DD1S CAIX', 'PR AUC', 'D-MPNN', D_MPNN, D_MPNN_stdevs, D_MPNN_pt, D_MPNN_pt_stdevs, 2.33, 2.2, title=False)"
   ]
  },
  {
   "cell_type": "code",
   "execution_count": null,
   "metadata": {},
   "outputs": [],
   "source": [
    "# triazine sEH\n",
    "top_percents = df_data[df_data['dataset'].isin(['triazine sEH'])]['top percent'].unique()\n",
    "random_guess_AUCs, random_guess_stdevs = get_avg_AUCs_stdevs('triazine sEH', 'Random guess', 'PR AUC')\n",
    "OH_FFNN, OH_FFNN_stdevs = get_avg_AUCs_stdevs('triazine sEH', 'OH-FFNN', 'PR AUC')\n",
    "FP_FFNN, FP_FFNN_stdevs = get_avg_AUCs_stdevs('triazine sEH', 'FP-FFNN', 'PR AUC')\n",
    "D_MPNN, D_MPNN_stdevs = get_avg_AUCs_stdevs('triazine sEH', 'D-MPNN', 'PR AUC')\n",
    "OH_FFNN_pt, OH_FFNN_pt_stdevs = get_avg_AUCs_stdevs('triazine sEH', 'OH-FFNN pt', 'PR AUC')\n",
    "FP_FFNN_pt, FP_FFNN_pt_stdevs = get_avg_AUCs_stdevs('triazine sEH', 'FP-FFNN pt', 'PR AUC')\n",
    "D_MPNN_pt, D_MPNN_pt_stdevs = get_avg_AUCs_stdevs('triazine sEH', 'D-MPNN pt', 'PR AUC')"
   ]
  },
  {
   "cell_type": "code",
   "execution_count": null,
   "metadata": {},
   "outputs": [],
   "source": [
    "make_plot_AUCs('triazine_sEH_OH-FFNN_20_thresholds_PR_AUCs.png', 'triazine sEH', 'PR AUC', 'OH-FFNN', OH_FFNN, OH_FFNN_stdevs, OH_FFNN_pt, OH_FFNN_pt_stdevs, 2.2, 1.9, xlabel=False, ylabel=False)"
   ]
  },
  {
   "cell_type": "code",
   "execution_count": null,
   "metadata": {},
   "outputs": [],
   "source": [
    "make_plot_AUCs('triazine_sEH_FP-FFNN_20_thresholds_PR_AUCs.png', 'triazine sEH', 'PR AUC', 'FP-FFNN', FP_FFNN, FP_FFNN_stdevs, FP_FFNN_pt, FP_FFNN_pt_stdevs, 2.2, 1.75, xlabel=False, ylabel=False, title=False)"
   ]
  },
  {
   "cell_type": "code",
   "execution_count": null,
   "metadata": {},
   "outputs": [],
   "source": [
    "make_plot_AUCs('triazine_sEH_D-MPNN_20_thresholds_PR_AUCs.png', 'triazine sEH', 'PR AUC', 'D-MPNN', D_MPNN, D_MPNN_stdevs, D_MPNN_pt, D_MPNN_pt_stdevs, 2.23, 2.2, ylabel=False, title=False)"
   ]
  },
  {
   "cell_type": "code",
   "execution_count": null,
   "metadata": {},
   "outputs": [],
   "source": [
    "# triazine SIRT2\n",
    "top_percents = df_data[df_data['dataset'].isin(['triazine SIRT2'])]['top percent'].unique()\n",
    "random_guess_AUCs, random_guess_stdevs = get_avg_AUCs_stdevs('triazine SIRT2', 'Random guess', 'PR AUC')\n",
    "OH_FFNN, OH_FFNN_stdevs = get_avg_AUCs_stdevs('triazine SIRT2', 'OH-FFNN', 'PR AUC')\n",
    "FP_FFNN, FP_FFNN_stdevs = get_avg_AUCs_stdevs('triazine SIRT2', 'FP-FFNN', 'PR AUC')\n",
    "D_MPNN, D_MPNN_stdevs = get_avg_AUCs_stdevs('triazine SIRT2', 'D-MPNN', 'PR AUC')\n",
    "OH_FFNN_pt, OH_FFNN_pt_stdevs = get_avg_AUCs_stdevs('triazine SIRT2', 'OH-FFNN pt', 'PR AUC')\n",
    "FP_FFNN_pt, FP_FFNN_pt_stdevs = get_avg_AUCs_stdevs('triazine SIRT2', 'FP-FFNN pt', 'PR AUC')\n",
    "D_MPNN_pt, D_MPNN_pt_stdevs = get_avg_AUCs_stdevs('triazine SIRT2', 'D-MPNN pt', 'PR AUC')"
   ]
  },
  {
   "cell_type": "code",
   "execution_count": null,
   "metadata": {},
   "outputs": [],
   "source": [
    "make_plot_AUCs('triazine_SIRT2_OH-FFNN_20_thresholds_PR_AUCs.png', 'triazine SIRT2', 'PR AUC', 'OH-FFNN', OH_FFNN, OH_FFNN_stdevs, OH_FFNN_pt, OH_FFNN_pt_stdevs, 2.2, 1.9, xlabel=False, ylabel=False)"
   ]
  },
  {
   "cell_type": "code",
   "execution_count": null,
   "metadata": {},
   "outputs": [],
   "source": [
    "make_plot_AUCs('triazine_SIRT2_FP-FFNN_20_thresholds_PR_AUCs.png', 'triazine SIRT2', 'PR AUC', 'FP-FFNN', FP_FFNN, FP_FFNN_stdevs, FP_FFNN_pt, FP_FFNN_pt_stdevs, 2.2, 1.75, xlabel=False, ylabel=False, title=False)"
   ]
  },
  {
   "cell_type": "code",
   "execution_count": null,
   "metadata": {},
   "outputs": [],
   "source": [
    "make_plot_AUCs('triazine_SIRT2_D-MPNN_20_thresholds_PR_AUCs.png', 'triazine SIRT2', 'PR AUC', 'D-MPNN', D_MPNN, D_MPNN_stdevs, D_MPNN_pt, D_MPNN_pt_stdevs, 2.23, 2.2, ylabel=False, title=False)"
   ]
  },
  {
   "cell_type": "markdown",
   "metadata": {},
   "source": [
    "# ROC AUC"
   ]
  },
  {
   "cell_type": "code",
   "execution_count": null,
   "metadata": {},
   "outputs": [],
   "source": [
    "# DD1S CAIX\n",
    "top_percents = df_data[df_data['dataset'].isin(['DD1S CAIX'])]['top percent'].unique()\n",
    "random_guess_AUCs, random_guess_stdevs = get_avg_AUCs_stdevs('DD1S CAIX', 'Random guess', 'ROC AUC')\n",
    "OH_FFNN, OH_FFNN_stdevs = get_avg_AUCs_stdevs('DD1S CAIX', 'OH-FFNN', 'ROC AUC')\n",
    "FP_FFNN, FP_FFNN_stdevs = get_avg_AUCs_stdevs('DD1S CAIX', 'FP-FFNN', 'ROC AUC')\n",
    "D_MPNN, D_MPNN_stdevs = get_avg_AUCs_stdevs('DD1S CAIX', 'D-MPNN', 'ROC AUC')\n",
    "OH_FFNN_pt, OH_FFNN_pt_stdevs = get_avg_AUCs_stdevs('DD1S CAIX', 'OH-FFNN pt', 'ROC AUC')\n",
    "FP_FFNN_pt, FP_FFNN_pt_stdevs = get_avg_AUCs_stdevs('DD1S CAIX', 'FP-FFNN pt', 'ROC AUC')\n",
    "D_MPNN_pt, D_MPNN_pt_stdevs = get_avg_AUCs_stdevs('DD1S CAIX', 'D-MPNN pt', 'ROC AUC')"
   ]
  },
  {
   "cell_type": "code",
   "execution_count": null,
   "metadata": {},
   "outputs": [],
   "source": [
    "make_plot_AUCs('DD1S_CAIX_OH-FFNN_20_thresholds_ROC_AUCs.png', 'DD1S CAIX', 'ROC AUC', 'OH-FFNN', OH_FFNN, OH_FFNN_stdevs, OH_FFNN_pt, OH_FFNN_pt_stdevs, 2.33, 1.9, xlabel=False)"
   ]
  },
  {
   "cell_type": "code",
   "execution_count": null,
   "metadata": {},
   "outputs": [],
   "source": [
    "make_plot_AUCs('DD1S_CAIX_FP-FFNN_20_thresholds_ROC_AUCs.png', 'DD1S CAIX', 'ROC AUC', 'FP-FFNN', FP_FFNN, FP_FFNN_stdevs, FP_FFNN_pt, FP_FFNN_pt_stdevs, 2.33, 1.75, xlabel=False, title=False)"
   ]
  },
  {
   "cell_type": "code",
   "execution_count": null,
   "metadata": {},
   "outputs": [],
   "source": [
    "make_plot_AUCs('DD1S_CAIX_D-MPNN_20_thresholds_ROC_AUCs.png', 'DD1S CAIX', 'ROC AUC', 'D-MPNN', D_MPNN, D_MPNN_stdevs, D_MPNN_pt, D_MPNN_pt_stdevs, 2.33, 2.2, title=False)"
   ]
  },
  {
   "cell_type": "code",
   "execution_count": null,
   "metadata": {},
   "outputs": [],
   "source": [
    "# triazine sEH\n",
    "top_percents = df_data[df_data['dataset'].isin(['triazine sEH'])]['top percent'].unique()\n",
    "random_guess_AUCs, random_guess_stdevs = get_avg_AUCs_stdevs('triazine sEH', 'Random guess', 'ROC AUC')\n",
    "OH_FFNN, OH_FFNN_stdevs = get_avg_AUCs_stdevs('triazine sEH', 'OH-FFNN', 'ROC AUC')\n",
    "FP_FFNN, FP_FFNN_stdevs = get_avg_AUCs_stdevs('triazine sEH', 'FP-FFNN', 'ROC AUC')\n",
    "D_MPNN, D_MPNN_stdevs = get_avg_AUCs_stdevs('triazine sEH', 'D-MPNN', 'ROC AUC')\n",
    "OH_FFNN_pt, OH_FFNN_pt_stdevs = get_avg_AUCs_stdevs('triazine sEH', 'OH-FFNN pt', 'ROC AUC')\n",
    "FP_FFNN_pt, FP_FFNN_pt_stdevs = get_avg_AUCs_stdevs('triazine sEH', 'FP-FFNN pt', 'ROC AUC')\n",
    "D_MPNN_pt, D_MPNN_pt_stdevs = get_avg_AUCs_stdevs('triazine sEH', 'D-MPNN pt', 'ROC AUC')"
   ]
  },
  {
   "cell_type": "code",
   "execution_count": null,
   "metadata": {},
   "outputs": [],
   "source": [
    "make_plot_AUCs('triazine_sEH_OH-FFNN_20_thresholds_ROC_AUCs.png', 'triazine sEH', 'ROC AUC', 'OH-FFNN', OH_FFNN, OH_FFNN_stdevs, OH_FFNN_pt, OH_FFNN_pt_stdevs, 2.2, 1.9, xlabel=False, ylabel=False)"
   ]
  },
  {
   "cell_type": "code",
   "execution_count": null,
   "metadata": {},
   "outputs": [],
   "source": [
    "make_plot_AUCs('triazine_sEH_FP-FFNN_20_thresholds_ROC_AUCs.png', 'triazine sEH', 'ROC AUC', 'FP-FFNN', FP_FFNN, FP_FFNN_stdevs, FP_FFNN_pt, FP_FFNN_pt_stdevs, 2.2, 1.75, xlabel=False, ylabel=False, title=False)"
   ]
  },
  {
   "cell_type": "code",
   "execution_count": null,
   "metadata": {},
   "outputs": [],
   "source": [
    "make_plot_AUCs('triazine_sEH_D-MPNN_20_thresholds_ROC_AUCs.png', 'triazine sEH', 'ROC AUC', 'D-MPNN', D_MPNN, D_MPNN_stdevs, D_MPNN_pt, D_MPNN_pt_stdevs, 2.23, 2.2, ylabel=False, title=False)"
   ]
  },
  {
   "cell_type": "code",
   "execution_count": null,
   "metadata": {},
   "outputs": [],
   "source": [
    "# triazine SIRT2\n",
    "top_percents = df_data[df_data['dataset'].isin(['triazine SIRT2'])]['top percent'].unique()\n",
    "random_guess_AUCs, random_guess_stdevs = get_avg_AUCs_stdevs('triazine SIRT2', 'Random guess', 'ROC AUC')\n",
    "OH_FFNN, OH_FFNN_stdevs = get_avg_AUCs_stdevs('triazine SIRT2', 'OH-FFNN', 'ROC AUC')\n",
    "FP_FFNN, FP_FFNN_stdevs = get_avg_AUCs_stdevs('triazine SIRT2', 'FP-FFNN', 'ROC AUC')\n",
    "D_MPNN, D_MPNN_stdevs = get_avg_AUCs_stdevs('triazine SIRT2', 'D-MPNN', 'ROC AUC')\n",
    "OH_FFNN_pt, OH_FFNN_pt_stdevs = get_avg_AUCs_stdevs('triazine SIRT2', 'OH-FFNN pt', 'ROC AUC')\n",
    "FP_FFNN_pt, FP_FFNN_pt_stdevs = get_avg_AUCs_stdevs('triazine SIRT2', 'FP-FFNN pt', 'ROC AUC')\n",
    "D_MPNN_pt, D_MPNN_pt_stdevs = get_avg_AUCs_stdevs('triazine SIRT2', 'D-MPNN pt', 'ROC AUC')"
   ]
  },
  {
   "cell_type": "code",
   "execution_count": null,
   "metadata": {},
   "outputs": [],
   "source": [
    "make_plot_AUCs('triazine_SIRT2_OH-FFNN_20_thresholds_ROC_AUCs.png', 'triazine SIRT2', 'ROC AUC', 'OH-FFNN', OH_FFNN, OH_FFNN_stdevs, OH_FFNN_pt, OH_FFNN_pt_stdevs, 2.2, 1.9, xlabel=False, ylabel=False)"
   ]
  },
  {
   "cell_type": "code",
   "execution_count": null,
   "metadata": {},
   "outputs": [],
   "source": [
    "make_plot_AUCs('triazine_SIRT2_FP-FFNN_20_thresholds_ROC_AUCs.png', 'triazine SIRT2', 'ROC AUC', 'FP-FFNN', FP_FFNN, FP_FFNN_stdevs, FP_FFNN_pt, FP_FFNN_pt_stdevs, 2.2, 1.75, xlabel=False, ylabel=False, title=False)"
   ]
  },
  {
   "cell_type": "code",
   "execution_count": null,
   "metadata": {},
   "outputs": [],
   "source": [
    "make_plot_AUCs('triazine_SIRT2_D-MPNN_20_thresholds_ROC_AUCs.png', 'triazine SIRT2', 'ROC AUC', 'D-MPNN', D_MPNN, D_MPNN_stdevs, D_MPNN_pt, D_MPNN_pt_stdevs, 2.23, 2.2, ylabel=False, title=False)"
   ]
  },
  {
   "cell_type": "code",
   "execution_count": null,
   "metadata": {},
   "outputs": [],
   "source": []
  }
 ],
 "metadata": {
  "kernelspec": {
   "display_name": "chemprop",
   "language": "python",
   "name": "chemprop"
  },
  "language_info": {
   "codemirror_mode": {
    "name": "ipython",
    "version": 3
   },
   "file_extension": ".py",
   "mimetype": "text/x-python",
   "name": "python",
   "nbconvert_exporter": "python",
   "pygments_lexer": "ipython3",
   "version": "3.6.10"
  },
  "latex_envs": {
   "LaTeX_envs_menu_present": true,
   "autoclose": false,
   "autocomplete": true,
   "bibliofile": "biblio.bib",
   "cite_by": "apalike",
   "current_citInitial": 1,
   "eqLabelWithNumbers": true,
   "eqNumInitial": 1,
   "hotkeys": {
    "equation": "Ctrl-E",
    "itemize": "Ctrl-I"
   },
   "labels_anchors": false,
   "latex_user_defs": false,
   "report_style_numbering": false,
   "user_envs_cfg": false
  },
  "toc": {
   "base_numbering": 1,
   "nav_menu": {},
   "number_sections": true,
   "sideBar": true,
   "skip_h1_title": false,
   "title_cell": "Table of Contents",
   "title_sidebar": "Contents",
   "toc_cell": false,
   "toc_position": {},
   "toc_section_display": true,
   "toc_window_display": false
  },
  "varInspector": {
   "cols": {
    "lenName": 16,
    "lenType": 16,
    "lenVar": 40
   },
   "kernels_config": {
    "python": {
     "delete_cmd_postfix": "",
     "delete_cmd_prefix": "del ",
     "library": "var_list.py",
     "varRefreshCmd": "print(var_dic_list())"
    },
    "r": {
     "delete_cmd_postfix": ") ",
     "delete_cmd_prefix": "rm(",
     "library": "var_list.r",
     "varRefreshCmd": "cat(var_dic_list()) "
    }
   },
   "types_to_exclude": [
    "module",
    "function",
    "builtin_function_or_method",
    "instance",
    "_Feature"
   ],
   "window_display": false
  }
 },
 "nbformat": 4,
 "nbformat_minor": 2
}
