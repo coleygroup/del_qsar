{
 "cells": [
  {
   "cell_type": "code",
   "execution_count": null,
   "metadata": {},
   "outputs": [],
   "source": [
    "%load_ext autoreload\n",
    "%autoreload 2"
   ]
  },
  {
   "cell_type": "code",
   "execution_count": null,
   "metadata": {},
   "outputs": [],
   "source": [
    "import os, sys\n",
    "from tqdm import tqdm\n",
    "import numpy as np\n",
    "import pandas as pd"
   ]
  },
  {
   "cell_type": "code",
   "execution_count": null,
   "metadata": {},
   "outputs": [],
   "source": [
    "DELQSAR_ROOT = os.getcwd() + '/../../'\n",
    "sys.path += [DELQSAR_ROOT + '/../']\n",
    "\n",
    "if not os.path.isdir('DD1S_CAIX_cycle2_distrib_shift'):\n",
    "    os.mkdir('DD1S_CAIX_cycle2_distrib_shift')\n",
    "    \n",
    "def pathify(fname):\n",
    "    return os.path.join('DD1S_CAIX_cycle2_distrib_shift', fname)\n",
    "\n",
    "LOG_FILE = os.path.join(DELQSAR_ROOT, 'experiments', 'visualizations',\n",
    "                        'DD1S_CAIX_cycle2_distrib_shift', 'DD1S_CAIX_cycle2_distrib_shift.log')"
   ]
  },
  {
   "cell_type": "code",
   "execution_count": null,
   "metadata": {},
   "outputs": [],
   "source": [
    "from del_qsar import splitters\n",
    "from del_qsar.enrichments import R_ranges"
   ]
  },
  {
   "cell_type": "code",
   "execution_count": null,
   "metadata": {},
   "outputs": [],
   "source": [
    "import matplotlib\n",
    "import matplotlib.pyplot as plt\n",
    "plt.style.use('seaborn-paper')\n",
    "\n",
    "matplotlib.rc('font', family='sans-serif') \n",
    "matplotlib.rc('font', serif='Arial') \n",
    "matplotlib.rc('text', usetex='false') \n",
    "matplotlib.rcParams.update({'font.size': 9})"
   ]
  },
  {
   "cell_type": "code",
   "execution_count": null,
   "metadata": {},
   "outputs": [],
   "source": [
    "df_data = pd.read_csv(os.path.join(DELQSAR_ROOT, 'experiments', 'datasets', 'DD1S_CAIX_QSAR.csv'))\n",
    "\n",
    "exp_counts = np.array(df_data[['exp_tot']], dtype='int')\n",
    "bead_counts = np.array(df_data[['beads_tot']], dtype='int')\n",
    "exp_tot = np.sum(exp_counts, axis=0) # column sums\n",
    "bead_tot = np.sum(bead_counts, axis=0)"
   ]
  },
  {
   "cell_type": "code",
   "execution_count": null,
   "metadata": {
    "scrolled": true
   },
   "outputs": [],
   "source": [
    "splitter = splitters.OneCycleSplitter(['cycle2'], LOG_FILE)\n",
    "test_slices = [splitter(_, df_data, seed=i)[2] for i in tqdm(range(5))]"
   ]
  },
  {
   "cell_type": "code",
   "execution_count": null,
   "metadata": {},
   "outputs": [],
   "source": [
    "[len(ts) for ts in test_slices]"
   ]
  },
  {
   "cell_type": "code",
   "execution_count": null,
   "metadata": {},
   "outputs": [],
   "source": [
    "def make_plot_calc_enrichments(eval_slices, seeds, zoomIn):\n",
    "    fig = plt.figure(figsize=(3.5, 2), dpi=300)\n",
    "    for seed in seeds:\n",
    "        R, R_lb, R_ub = R_ranges(bead_counts[eval_slices[seed], 0], bead_tot[0], \n",
    "                                       exp_counts[eval_slices[seed], 0], exp_tot[0])\n",
    "        bins = np.arange(0, max(R_lb)+0.001, 0.06)\n",
    "        _, bins, patches = plt.hist(\n",
    "            np.clip(R_lb, 0, bins[-1]), \n",
    "            bins=bins, \n",
    "            density=True,\n",
    "            zorder=2,\n",
    "            alpha=0.4,\n",
    "            label=f'Seed {seed}', \n",
    "        )\n",
    "    \n",
    "    plt.legend(fontsize=7)\n",
    "    fig.canvas.draw() # required to get tick labels\n",
    "    ax = plt.gca()\n",
    "    ax.tick_params(labelsize=9)\n",
    "    ax.set_xlim([0, 2])\n",
    "    if zoomIn:\n",
    "        ax.set_ylim([0, 0.4])\n",
    "    \n",
    "    ax.grid(zorder=1)\n",
    "    ax.set_xlabel('Calculated enrichment (lower bound)', fontsize=9)\n",
    "    ax.set_ylabel('Probability density', fontsize=9)\n",
    "    plt.tight_layout()\n",
    "    if zoomIn:\n",
    "        plt.savefig(pathify(f'DD1S_CAIX_cycle2_calculated_enrichments_LB_seeds_{str(seeds)}_y-axis_zoomed in.png'))\n",
    "    else:\n",
    "        plt.savefig(pathify(f'DD1S_CAIX_cycle2_calculated_enrichments_LB_seeds_{str(seeds)}.png'))\n",
    "    plt.show()"
   ]
  },
  {
   "cell_type": "code",
   "execution_count": null,
   "metadata": {},
   "outputs": [],
   "source": [
    "make_plot_calc_enrichments(test_slices, [0,1,2,3,4], zoomIn=False)"
   ]
  },
  {
   "cell_type": "code",
   "execution_count": null,
   "metadata": {},
   "outputs": [],
   "source": [
    "make_plot_calc_enrichments(test_slices, [0,1,2,3,4], zoomIn=True)"
   ]
  },
  {
   "cell_type": "code",
   "execution_count": null,
   "metadata": {},
   "outputs": [],
   "source": [
    "make_plot_calc_enrichments(test_slices, [0,4], False)"
   ]
  },
  {
   "cell_type": "code",
   "execution_count": null,
   "metadata": {},
   "outputs": [],
   "source": [
    "make_plot_calc_enrichments(test_slices, [0,4], True)"
   ]
  },
  {
   "cell_type": "code",
   "execution_count": null,
   "metadata": {},
   "outputs": [],
   "source": [
    "make_plot_calc_enrichments(test_slices, [1,4], False)"
   ]
  },
  {
   "cell_type": "code",
   "execution_count": null,
   "metadata": {},
   "outputs": [],
   "source": [
    "make_plot_calc_enrichments(test_slices, [1,4], True)"
   ]
  },
  {
   "cell_type": "code",
   "execution_count": null,
   "metadata": {},
   "outputs": [],
   "source": [
    "make_plot_calc_enrichments(test_slices, [2,4], False)"
   ]
  },
  {
   "cell_type": "code",
   "execution_count": null,
   "metadata": {},
   "outputs": [],
   "source": [
    "make_plot_calc_enrichments(test_slices, [2,4], True)"
   ]
  },
  {
   "cell_type": "code",
   "execution_count": null,
   "metadata": {},
   "outputs": [],
   "source": [
    "make_plot_calc_enrichments(test_slices, [3,4], False)"
   ]
  },
  {
   "cell_type": "code",
   "execution_count": null,
   "metadata": {},
   "outputs": [],
   "source": [
    "make_plot_calc_enrichments(test_slices, [3,4], True)"
   ]
  },
  {
   "cell_type": "code",
   "execution_count": null,
   "metadata": {},
   "outputs": [],
   "source": []
  }
 ],
 "metadata": {
  "kernelspec": {
   "display_name": "chemprop",
   "language": "python",
   "name": "chemprop"
  },
  "language_info": {
   "codemirror_mode": {
    "name": "ipython",
    "version": 3
   },
   "file_extension": ".py",
   "mimetype": "text/x-python",
   "name": "python",
   "nbconvert_exporter": "python",
   "pygments_lexer": "ipython3",
   "version": "3.6.10"
  },
  "latex_envs": {
   "LaTeX_envs_menu_present": true,
   "autoclose": false,
   "autocomplete": true,
   "bibliofile": "biblio.bib",
   "cite_by": "apalike",
   "current_citInitial": 1,
   "eqLabelWithNumbers": true,
   "eqNumInitial": 1,
   "hotkeys": {
    "equation": "Ctrl-E",
    "itemize": "Ctrl-I"
   },
   "labels_anchors": false,
   "latex_user_defs": false,
   "report_style_numbering": false,
   "user_envs_cfg": false
  },
  "toc": {
   "base_numbering": 1,
   "nav_menu": {},
   "number_sections": true,
   "sideBar": true,
   "skip_h1_title": false,
   "title_cell": "Table of Contents",
   "title_sidebar": "Contents",
   "toc_cell": false,
   "toc_position": {},
   "toc_section_display": true,
   "toc_window_display": false
  },
  "varInspector": {
   "cols": {
    "lenName": 16,
    "lenType": 16,
    "lenVar": 40
   },
   "kernels_config": {
    "python": {
     "delete_cmd_postfix": "",
     "delete_cmd_prefix": "del ",
     "library": "var_list.py",
     "varRefreshCmd": "print(var_dic_list())"
    },
    "r": {
     "delete_cmd_postfix": ") ",
     "delete_cmd_prefix": "rm(",
     "library": "var_list.r",
     "varRefreshCmd": "cat(var_dic_list()) "
    }
   },
   "types_to_exclude": [
    "module",
    "function",
    "builtin_function_or_method",
    "instance",
    "_Feature"
   ],
   "window_display": false
  }
 },
 "nbformat": 4,
 "nbformat_minor": 2
}
