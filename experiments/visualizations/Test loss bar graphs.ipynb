{
 "cells": [
  {
   "cell_type": "code",
   "execution_count": null,
   "metadata": {},
   "outputs": [],
   "source": [
    "%load_ext autoreload\n",
    "%autoreload 2"
   ]
  },
  {
   "cell_type": "code",
   "execution_count": null,
   "metadata": {},
   "outputs": [],
   "source": [
    "import os\n",
    "import pandas as pd\n",
    "import numpy as np\n",
    "import statistics\n",
    "from tqdm import tqdm"
   ]
  },
  {
   "cell_type": "code",
   "execution_count": null,
   "metadata": {},
   "outputs": [],
   "source": [
    "import matplotlib\n",
    "import matplotlib.pyplot as plt\n",
    "plt.style.use('seaborn-paper')"
   ]
  },
  {
   "cell_type": "code",
   "execution_count": null,
   "metadata": {},
   "outputs": [],
   "source": [
    "DELQSAR_ROOT = os.getcwd() + '/../../'"
   ]
  },
  {
   "cell_type": "code",
   "execution_count": null,
   "metadata": {},
   "outputs": [],
   "source": [
    "def getAvgTestLossesStdevs(model_type, multiTask=False):\n",
    "    if not multiTask:\n",
    "        all_losses = np.array([\n",
    "            df_data[df_data['model type'].isin([str(model_type)])]['random'],\n",
    "            df_data[df_data['model type'].isin([str(model_type)])]['cycle1'],\n",
    "            df_data[df_data['model type'].isin([str(model_type)])]['cycle2'],\n",
    "            df_data[df_data['model type'].isin([str(model_type)])]['cycle3'],\n",
    "            df_data[df_data['model type'].isin([str(model_type)])]['cycle12'],\n",
    "            df_data[df_data['model type'].isin([str(model_type)])]['cycle13'],\n",
    "            df_data[df_data['model type'].isin([str(model_type)])]['cycle23'],\n",
    "            df_data[df_data['model type'].isin([str(model_type)])]['cycle123'],\n",
    "        ])\n",
    "    else:\n",
    "        all_losses = np.array([\n",
    "            df_data[df_data['model type'].isin([str(model_type)])]['random'],\n",
    "            df_data[df_data['model type'].isin([str(model_type)])]['cycle123'],\n",
    "        ])\n",
    "    avg_losses = [statistics.mean(losses) for losses in all_losses]\n",
    "    stdevs = [statistics.stdev(losses) for losses in all_losses]\n",
    "    return avg_losses, stdevs"
   ]
  },
  {
   "cell_type": "code",
   "execution_count": null,
   "metadata": {},
   "outputs": [],
   "source": [
    "def make_plot_test_losses(img_name, y_lb, y_ub, multiTask=False, xlabels=True,\n",
    "                          barWidth=0.25, eLineWidth=0.5, capSize=1, capThick=0.5):\n",
    "    barWidth, eLineWidth, capSize, capThick = barWidth, eLineWidth, capSize, capThick\n",
    "    if not multiTask:\n",
    "        if 'SIRT2' in img_name:\n",
    "            fig = plt.figure(figsize=(7, 2.2), dpi=300)\n",
    "        else:\n",
    "            fig = plt.figure(figsize=(7, 1.5), dpi=300)\n",
    "        \n",
    "        bars1 = OH_FFNN\n",
    "        err1 = OH_FFNN_stdevs\n",
    "        bars2 = FP_FFNN\n",
    "        err2 = FP_FFNN_stdevs\n",
    "        bars3 = D_MPNN\n",
    "        err3 = D_MPNN_stdevs\n",
    "        bars4 = OH_FFNN_pt\n",
    "        err4 = OH_FFNN_pt_stdevs\n",
    "        bars5 = FP_FFNN_pt\n",
    "        err5 = FP_FFNN_pt_stdevs\n",
    "        bars6 = D_MPNN_pt\n",
    "        err6 = D_MPNN_pt_stdevs\n",
    "\n",
    "        r1 = np.arange(2*len(bars1), step=2)\n",
    "        r2 = [x + barWidth for x in r1]\n",
    "        r3 = [x + barWidth for x in r2]\n",
    "        r4 = [x + barWidth for x in r3]\n",
    "        r5 = [x + barWidth for x in r4]\n",
    "        r6 = [x + barWidth for x in r5]\n",
    "\n",
    "        colors = [\"#4878D0\", \"#6ACC64\", \"#D65F5F\",\n",
    "                \"#956CB4\", \"#D5BB67\", \"#82C6E2\"]\n",
    "        plt.bar(r1, bars1, yerr=err1, error_kw = {'elinewidth': eLineWidth, 'capsize': capSize, 'capthick': capThick}, \n",
    "                color=colors[0], width=barWidth, label='OH-FFNN', zorder=2)\n",
    "        plt.bar(r2, bars2, yerr=err2, error_kw = {'elinewidth': eLineWidth, 'capsize': capSize, 'capthick': capThick}, \n",
    "                color=colors[1], width=barWidth, label='FP-FFNN', zorder=2)\n",
    "        plt.bar(r3, bars3, yerr=err3, error_kw = {'elinewidth': eLineWidth, 'capsize': capSize, 'capthick': capThick}, \n",
    "                color=colors[2], width=barWidth, label='D-MPNN', zorder=2)\n",
    "        plt.bar(r4, bars4, yerr=err4, error_kw = {'elinewidth': eLineWidth, 'capsize': capSize, 'capthick': capThick}, \n",
    "                color=colors[3], width=barWidth, label='OH-FFNN_pt', zorder=2)\n",
    "        plt.bar(r5, bars5, yerr=err5, error_kw = {'elinewidth': eLineWidth, 'capsize': capSize, 'capthick': capThick}, \n",
    "                color=colors[4], width=barWidth, label='FP-FFNN_pt', zorder=2)\n",
    "        plt.bar(r6, bars6, yerr=err6, error_kw = {'elinewidth': eLineWidth, 'capsize': capSize, 'capthick': capThick}, \n",
    "                color=colors[5], width=barWidth, label='D-MPNN_pt', zorder=2)\n",
    "\n",
    "        leg = plt.legend(loc='center left', bbox_to_anchor = (1,0.5), numpoints=1, fontsize=7)\n",
    "\n",
    "        fig.canvas.draw() # required to get tick labels\n",
    "        ax = plt.gca()\n",
    "        ax.grid(zorder=1)\n",
    "        ax.set_ylabel('Average test loss', fontsize=8)\n",
    "        ax.set_ylim([y_lb, y_ub]) \n",
    "        if 'CAIX' in img_name:\n",
    "            ax.set_yticks(np.arange(0.9, 1.25, step=0.1))\n",
    "        ax.set_xticks([r + 2.5*barWidth for r in np.arange(2*len(bars1), step=2)])\n",
    "        ax.tick_params(axis='x', length=0)\n",
    "        if xlabels:\n",
    "            ax.set_xticklabels(['Random', 'Cycle 1', 'Cycle 2', 'Cycle 3', 'Cycle 1+2', 'Cycle 1+3', \n",
    "                                'Cycle 2+3', 'Cycle 1+2+3'], rotation=60, ha='center')           \n",
    "        else:\n",
    "            ax.tick_params(labelsize=8, bottom=False, labelbottom=False)\n",
    "    else:\n",
    "        fig = plt.figure(figsize=(3.33, 2.5), dpi=300)\n",
    "        \n",
    "        bars1 = OH_FFNN_mt\n",
    "        err1 = OH_FFNN_mt_stdevs\n",
    "        bars2 = FP_FFNN_mt\n",
    "        err2 = FP_FFNN_mt_stdevs\n",
    "        bars3 = D_MPNN_mt\n",
    "        err3 = D_MPNN_mt_stdevs\n",
    "        bars4 = OH_FFNN_st\n",
    "        err4 = OH_FFNN_st_stdevs\n",
    "        bars5 = FP_FFNN_st\n",
    "        err5 = FP_FFNN_st_stdevs\n",
    "        bars6 = D_MPNN_st\n",
    "        err6 = D_MPNN_st_stdevs\n",
    "        \n",
    "        r1 = np.arange(2*len(bars1), step=2)\n",
    "        r2 = [x + barWidth for x in r1]\n",
    "        r3 = [x + barWidth for x in r2]\n",
    "        r4 = [x + barWidth for x in r3]\n",
    "        r5 = [x + barWidth for x in r4]\n",
    "        r6 = [x + barWidth for x in r5]\n",
    "\n",
    "        colors = [\"#4878D0\", \"#6ACC64\", \"#D65F5F\",\n",
    "                \"#956CB4\", \"#D5BB67\", \"#82C6E2\"]\n",
    "        plt.bar(r1, bars1, yerr=err1, error_kw = {'elinewidth': eLineWidth, 'capsize': capSize, 'capthick': capThick}, \n",
    "                color=colors[0], width=barWidth, label='OH-FFNN\\nmulti-task', zorder=2)\n",
    "        plt.bar(r2, bars2, yerr=err2, error_kw = {'elinewidth': eLineWidth, 'capsize': capSize, 'capthick': capThick}, \n",
    "                color=colors[1], width=barWidth, label='FP-FFNN\\nmulti-task', zorder=2)\n",
    "        plt.bar(r3, bars3, yerr=err3, error_kw = {'elinewidth': eLineWidth, 'capsize': capSize, 'capthick': capThick}, \n",
    "                color=colors[2], width=barWidth, label='D-MPNN\\nmulti-task', zorder=2)\n",
    "        plt.bar(r4, bars4, yerr=err4, error_kw = {'elinewidth': eLineWidth, 'capsize': capSize, 'capthick': capThick}, \n",
    "                color=colors[3], width=barWidth, label='OH-FFNN\\nsingle-task', zorder=2)\n",
    "        plt.bar(r5, bars5, yerr=err5, error_kw = {'elinewidth': eLineWidth, 'capsize': capSize, 'capthick': capThick}, \n",
    "                color=colors[4], width=barWidth, label='FP-FFNN\\nsingle-task', zorder=2)\n",
    "        plt.bar(r6, bars6, yerr=err6, error_kw = {'elinewidth': eLineWidth, 'capsize': capSize, 'capthick': capThick}, \n",
    "                color=colors[5], width=barWidth, label='D-MPNN\\nsingle-task', zorder=2)\n",
    "\n",
    "        leg = plt.legend(loc='center left', bbox_to_anchor = (1,0.5), numpoints=1, fontsize=6)\n",
    "\n",
    "        fig.canvas.draw() # required to get tick labels\n",
    "        ax = plt.gca()\n",
    "        ax.grid(zorder=1)\n",
    "        ax.set_ylabel('Average test loss', fontsize=8)\n",
    "        ax.set_ylim([y_lb, y_ub]) \n",
    "        ax.set_yticks(np.arange(y_lb, y_ub+0.01, step=0.05))\n",
    "        ax.tick_params(labelsize=8)\n",
    "        ax.set_xticks([r + 2.5*barWidth for r in np.arange(2*len(bars1), step=2)])\n",
    "        ax.set_xticklabels(['Random', 'Cycle\\n1+2+3'], ha='center')\n",
    "        ax.tick_params(axis='x', length=0)\n",
    "\n",
    "    plt.tight_layout()\n",
    "    plt.savefig(pathify(img_name), bbox_extra_artists=(leg,), bbox_inches='tight')\n",
    "    plt.show()"
   ]
  },
  {
   "cell_type": "markdown",
   "metadata": {},
   "source": [
    "# DD1S CAIX"
   ]
  },
  {
   "cell_type": "code",
   "execution_count": null,
   "metadata": {},
   "outputs": [],
   "source": [
    "if not os.path.isdir('DD1S_CAIX_test_loss_bar_graphs'):\n",
    "    os.mkdir('DD1S_CAIX_test_loss_bar_graphs')\n",
    "def pathify(fname):\n",
    "    return os.path.join('DD1S_CAIX_test_loss_bar_graphs', fname)"
   ]
  },
  {
   "cell_type": "markdown",
   "metadata": {},
   "source": [
    "## Test losses"
   ]
  },
  {
   "cell_type": "code",
   "execution_count": null,
   "metadata": {},
   "outputs": [],
   "source": [
    "df_data = pd.read_csv(os.path.join(DELQSAR_ROOT, 'experiments', 'DD1S_CAIX_test_losses.csv'))\n",
    "df_data"
   ]
  },
  {
   "cell_type": "code",
   "execution_count": null,
   "metadata": {},
   "outputs": [],
   "source": [
    "OH_FFNN, OH_FFNN_stdevs = getAvgTestLossesStdevs('OH-FFNN')\n",
    "FP_FFNN, FP_FFNN_stdevs = getAvgTestLossesStdevs('FP-FFNN')\n",
    "D_MPNN, D_MPNN_stdevs = getAvgTestLossesStdevs('D-MPNN')\n",
    "OH_FFNN_pt, OH_FFNN_pt_stdevs = getAvgTestLossesStdevs('OH-FFNN_pt')\n",
    "FP_FFNN_pt, FP_FFNN_pt_stdevs = getAvgTestLossesStdevs('FP-FFNN_pt')\n",
    "D_MPNN_pt, D_MPNN_pt_stdevs = getAvgTestLossesStdevs('D-MPNN_pt')"
   ]
  },
  {
   "cell_type": "code",
   "execution_count": null,
   "metadata": {
    "scrolled": true
   },
   "outputs": [],
   "source": [
    "OH_FFNN, OH_FFNN_pt, FP_FFNN, FP_FFNN_pt, D_MPNN, D_MPNN_pt"
   ]
  },
  {
   "cell_type": "code",
   "execution_count": null,
   "metadata": {
    "scrolled": true
   },
   "outputs": [],
   "source": [
    "OH_FFNN_stdevs, OH_FFNN_pt_stdevs, FP_FFNN_stdevs, FP_FFNN_pt_stdevs, D_MPNN_stdevs, D_MPNN_pt_stdevs"
   ]
  },
  {
   "cell_type": "code",
   "execution_count": null,
   "metadata": {},
   "outputs": [],
   "source": [
    "make_plot_test_losses('DD1S_CAIX_test_losses_bar_graph.png', 0.9, 1.25)"
   ]
  },
  {
   "cell_type": "code",
   "execution_count": null,
   "metadata": {},
   "outputs": [],
   "source": [
    "make_plot_test_losses('DD1S_CAIX_test_losses_bar_graph.png', 0.9, 1.25, xlabels=False)"
   ]
  },
  {
   "cell_type": "markdown",
   "metadata": {},
   "source": [
    "# Triazine sEH"
   ]
  },
  {
   "cell_type": "code",
   "execution_count": null,
   "metadata": {},
   "outputs": [],
   "source": [
    "if not os.path.isdir('triazine_sEH_test_loss_bar_graphs'):\n",
    "    os.mkdir('triazine_sEH_test_loss_bar_graphs')\n",
    "def pathify(fname):\n",
    "    return os.path.join('triazine_sEH_test_loss_bar_graphs', fname)"
   ]
  },
  {
   "cell_type": "markdown",
   "metadata": {},
   "source": [
    "## Test losses"
   ]
  },
  {
   "cell_type": "code",
   "execution_count": null,
   "metadata": {},
   "outputs": [],
   "source": [
    "df_data = pd.read_csv(os.path.join(DELQSAR_ROOT, 'experiments', 'triazine_sEH_test_losses.csv'))\n",
    "df_data"
   ]
  },
  {
   "cell_type": "code",
   "execution_count": null,
   "metadata": {},
   "outputs": [],
   "source": [
    "OH_FFNN, OH_FFNN_stdevs = getAvgTestLossesStdevs('OH-FFNN')\n",
    "FP_FFNN, FP_FFNN_stdevs = getAvgTestLossesStdevs('FP-FFNN')\n",
    "D_MPNN, D_MPNN_stdevs = getAvgTestLossesStdevs('D-MPNN')\n",
    "OH_FFNN_pt, OH_FFNN_pt_stdevs = getAvgTestLossesStdevs('OH-FFNN_pt')\n",
    "FP_FFNN_pt, FP_FFNN_pt_stdevs = getAvgTestLossesStdevs('FP-FFNN_pt')\n",
    "D_MPNN_pt, D_MPNN_pt_stdevs = getAvgTestLossesStdevs('D-MPNN_pt')"
   ]
  },
  {
   "cell_type": "code",
   "execution_count": null,
   "metadata": {},
   "outputs": [],
   "source": [
    "OH_FFNN, OH_FFNN_pt, FP_FFNN, FP_FFNN_pt, D_MPNN, D_MPNN_pt"
   ]
  },
  {
   "cell_type": "code",
   "execution_count": null,
   "metadata": {},
   "outputs": [],
   "source": [
    "OH_FFNN_stdevs, OH_FFNN_pt_stdevs, FP_FFNN_stdevs, FP_FFNN_pt_stdevs, D_MPNN_stdevs, D_MPNN_pt_stdevs"
   ]
  },
  {
   "cell_type": "code",
   "execution_count": null,
   "metadata": {},
   "outputs": [],
   "source": [
    "make_plot_test_losses('triazine_sEH_test_losses_bar_graph.png', 0.4, 1.0, xlabels=False)"
   ]
  },
  {
   "cell_type": "markdown",
   "metadata": {},
   "source": [
    "# Triazine SIRT2"
   ]
  },
  {
   "cell_type": "code",
   "execution_count": null,
   "metadata": {},
   "outputs": [],
   "source": [
    "if not os.path.isdir('triazine_SIRT2_test_loss_bar_graphs'):\n",
    "    os.mkdir('triazine_SIRT2_test_loss_bar_graphs')\n",
    "def pathify(fname):\n",
    "    return os.path.join('triazine_SIRT2_test_loss_bar_graphs', fname)"
   ]
  },
  {
   "cell_type": "markdown",
   "metadata": {},
   "source": [
    "## Test losses"
   ]
  },
  {
   "cell_type": "code",
   "execution_count": null,
   "metadata": {},
   "outputs": [],
   "source": [
    "df_data = pd.read_csv(os.path.join(DELQSAR_ROOT, 'experiments', 'triazine_SIRT2_test_losses.csv'))\n",
    "df_data"
   ]
  },
  {
   "cell_type": "code",
   "execution_count": null,
   "metadata": {},
   "outputs": [],
   "source": [
    "OH_FFNN, OH_FFNN_stdevs = getAvgTestLossesStdevs('OH-FFNN')\n",
    "FP_FFNN, FP_FFNN_stdevs = getAvgTestLossesStdevs('FP-FFNN')\n",
    "D_MPNN, D_MPNN_stdevs = getAvgTestLossesStdevs('D-MPNN')\n",
    "OH_FFNN_pt, OH_FFNN_pt_stdevs = getAvgTestLossesStdevs('OH-FFNN_pt')\n",
    "FP_FFNN_pt, FP_FFNN_pt_stdevs = getAvgTestLossesStdevs('FP-FFNN_pt')\n",
    "D_MPNN_pt, D_MPNN_pt_stdevs = getAvgTestLossesStdevs('D-MPNN_pt')"
   ]
  },
  {
   "cell_type": "code",
   "execution_count": null,
   "metadata": {},
   "outputs": [],
   "source": [
    "OH_FFNN, OH_FFNN_pt, FP_FFNN, FP_FFNN_pt, D_MPNN, D_MPNN_pt"
   ]
  },
  {
   "cell_type": "code",
   "execution_count": null,
   "metadata": {},
   "outputs": [],
   "source": [
    "OH_FFNN_stdevs, OH_FFNN_pt_stdevs, FP_FFNN_stdevs, FP_FFNN_pt_stdevs, D_MPNN_stdevs, D_MPNN_pt_stdevs"
   ]
  },
  {
   "cell_type": "code",
   "execution_count": null,
   "metadata": {
    "scrolled": false
   },
   "outputs": [],
   "source": [
    "make_plot_test_losses('triazine_SIRT2_test_losses_bar_graph.png', 0.4, 0.9)"
   ]
  },
  {
   "cell_type": "markdown",
   "metadata": {},
   "source": [
    "# Triazine sEH + SIRT2"
   ]
  },
  {
   "cell_type": "code",
   "execution_count": null,
   "metadata": {},
   "outputs": [],
   "source": [
    "if not os.path.isdir('triazine_multitask_sEH_SIRT2_test_loss_bar_graphs'):\n",
    "    os.mkdir('triazine_multitask_sEH_SIRT2_test_loss_bar_graphs')\n",
    "def pathify(fname):\n",
    "    return os.path.join('triazine_multitask_sEH_SIRT2_test_loss_bar_graphs', fname)"
   ]
  },
  {
   "cell_type": "markdown",
   "metadata": {},
   "source": [
    "## Test losses for sEH"
   ]
  },
  {
   "cell_type": "code",
   "execution_count": null,
   "metadata": {},
   "outputs": [],
   "source": [
    "df_data = pd.read_csv(os.path.join(DELQSAR_ROOT, 'experiments', 'triazine_multitask_sEH_test_losses.csv'))\n",
    "df_data"
   ]
  },
  {
   "cell_type": "code",
   "execution_count": null,
   "metadata": {},
   "outputs": [],
   "source": [
    "OH_FFNN_mt, OH_FFNN_mt_stdevs = getAvgTestLossesStdevs('OH-FFNN_multi-task', multiTask=True)\n",
    "FP_FFNN_mt, FP_FFNN_mt_stdevs = getAvgTestLossesStdevs('FP-FFNN_multi-task', multiTask=True)\n",
    "D_MPNN_mt, D_MPNN_mt_stdevs = getAvgTestLossesStdevs('D-MPNN_multi-task', multiTask=True)\n",
    "OH_FFNN_st, OH_FFNN_st_stdevs = getAvgTestLossesStdevs('OH-FFNN_single-task', multiTask=True)\n",
    "FP_FFNN_st, FP_FFNN_st_stdevs = getAvgTestLossesStdevs('FP-FFNN_single-task', multiTask=True)\n",
    "D_MPNN_st, D_MPNN_st_stdevs = getAvgTestLossesStdevs('D-MPNN_single-task', multiTask=True)"
   ]
  },
  {
   "cell_type": "code",
   "execution_count": null,
   "metadata": {},
   "outputs": [],
   "source": [
    "OH_FFNN_mt, OH_FFNN_st, FP_FFNN_mt, FP_FFNN_st, D_MPNN_mt, D_MPNN_st"
   ]
  },
  {
   "cell_type": "code",
   "execution_count": null,
   "metadata": {},
   "outputs": [],
   "source": [
    "OH_FFNN_mt_stdevs, OH_FFNN_st_stdevs, FP_FFNN_mt_stdevs, FP_FFNN_st_stdevs, D_MPNN_mt_stdevs, D_MPNN_st_stdevs"
   ]
  },
  {
   "cell_type": "code",
   "execution_count": null,
   "metadata": {},
   "outputs": [],
   "source": [
    "make_plot_test_losses('triazine_multitask_sEH_test_losses_bar_graph.png', 0.5, 0.7, multiTask=True)"
   ]
  },
  {
   "cell_type": "markdown",
   "metadata": {},
   "source": [
    "## Test losses for SIRT2"
   ]
  },
  {
   "cell_type": "code",
   "execution_count": null,
   "metadata": {},
   "outputs": [],
   "source": [
    "df_data = pd.read_csv(os.path.join(DELQSAR_ROOT, 'experiments', 'triazine_multitask_SIRT2_test_losses.csv'))\n",
    "df_data"
   ]
  },
  {
   "cell_type": "code",
   "execution_count": null,
   "metadata": {},
   "outputs": [],
   "source": [
    "OH_FFNN_mt, OH_FFNN_mt_stdevs = getAvgTestLossesStdevs('OH-FFNN_multi-task', multiTask=True)\n",
    "FP_FFNN_mt, FP_FFNN_mt_stdevs = getAvgTestLossesStdevs('FP-FFNN_multi-task', multiTask=True)\n",
    "D_MPNN_mt, D_MPNN_mt_stdevs = getAvgTestLossesStdevs('D-MPNN_multi-task', multiTask=True)\n",
    "OH_FFNN_st, OH_FFNN_st_stdevs = getAvgTestLossesStdevs('OH-FFNN_single-task', multiTask=True)\n",
    "FP_FFNN_st, FP_FFNN_st_stdevs = getAvgTestLossesStdevs('FP-FFNN_single-task', multiTask=True)\n",
    "D_MPNN_st, D_MPNN_st_stdevs = getAvgTestLossesStdevs('D-MPNN_single-task', multiTask=True)"
   ]
  },
  {
   "cell_type": "code",
   "execution_count": null,
   "metadata": {},
   "outputs": [],
   "source": [
    "OH_FFNN_mt, OH_FFNN_st, FP_FFNN_mt, FP_FFNN_st, D_MPNN_mt, D_MPNN_st"
   ]
  },
  {
   "cell_type": "code",
   "execution_count": null,
   "metadata": {},
   "outputs": [],
   "source": [
    "OH_FFNN_mt_stdevs, OH_FFNN_st_stdevs, FP_FFNN_mt_stdevs, FP_FFNN_st_stdevs, D_MPNN_mt_stdevs, D_MPNN_st_stdevs"
   ]
  },
  {
   "cell_type": "code",
   "execution_count": null,
   "metadata": {},
   "outputs": [],
   "source": [
    "make_plot_test_losses('triazine_multitask_SIRT2_test_losses_bar_graph.png', 0.45, 0.6, multiTask=True)"
   ]
  },
  {
   "cell_type": "code",
   "execution_count": null,
   "metadata": {},
   "outputs": [],
   "source": []
  }
 ],
 "metadata": {
  "kernelspec": {
   "display_name": "Python 3",
   "language": "python",
   "name": "python3"
  },
  "language_info": {
   "codemirror_mode": {
    "name": "ipython",
    "version": 3
   },
   "file_extension": ".py",
   "mimetype": "text/x-python",
   "name": "python",
   "nbconvert_exporter": "python",
   "pygments_lexer": "ipython3",
   "version": "3.6.9"
  },
  "latex_envs": {
   "LaTeX_envs_menu_present": true,
   "autoclose": false,
   "autocomplete": true,
   "bibliofile": "biblio.bib",
   "cite_by": "apalike",
   "current_citInitial": 1,
   "eqLabelWithNumbers": true,
   "eqNumInitial": 1,
   "hotkeys": {
    "equation": "Ctrl-E",
    "itemize": "Ctrl-I"
   },
   "labels_anchors": false,
   "latex_user_defs": false,
   "report_style_numbering": false,
   "user_envs_cfg": false
  },
  "toc": {
   "base_numbering": 1,
   "nav_menu": {},
   "number_sections": true,
   "sideBar": true,
   "skip_h1_title": false,
   "title_cell": "Table of Contents",
   "title_sidebar": "Contents",
   "toc_cell": false,
   "toc_position": {},
   "toc_section_display": true,
   "toc_window_display": false
  },
  "varInspector": {
   "cols": {
    "lenName": 16,
    "lenType": 16,
    "lenVar": 40
   },
   "kernels_config": {
    "python": {
     "delete_cmd_postfix": "",
     "delete_cmd_prefix": "del ",
     "library": "var_list.py",
     "varRefreshCmd": "print(var_dic_list())"
    },
    "r": {
     "delete_cmd_postfix": ") ",
     "delete_cmd_prefix": "rm(",
     "library": "var_list.r",
     "varRefreshCmd": "cat(var_dic_list()) "
    }
   },
   "types_to_exclude": [
    "module",
    "function",
    "builtin_function_or_method",
    "instance",
    "_Feature"
   ],
   "window_display": false
  }
 },
 "nbformat": 4,
 "nbformat_minor": 2
}
