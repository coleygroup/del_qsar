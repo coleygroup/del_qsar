{
 "cells": [
  {
   "cell_type": "code",
   "execution_count": null,
   "metadata": {
    "scrolled": true
   },
   "outputs": [],
   "source": [
    "%load_ext autoreload\n",
    "%autoreload 2"
   ]
  },
  {
   "cell_type": "code",
   "execution_count": null,
   "metadata": {
    "scrolled": true
   },
   "outputs": [],
   "source": [
    "import os\n",
    "import sys\n",
    "from tqdm import tqdm\n",
    "import numpy as np\n",
    "import torch\n",
    "import h5py\n",
    "import pandas as pd\n",
    "import rdkit.Chem as Chem\n",
    "from rdkit.Chem import Draw\n",
    "import io\n",
    "from PIL import Image\n",
    "import hickle as hkl"
   ]
  },
  {
   "cell_type": "code",
   "execution_count": null,
   "metadata": {
    "scrolled": true
   },
   "outputs": [],
   "source": [
    "DELQSAR_ROOT = os.getcwd() + '/../../'\n",
    "sys.path += [DELQSAR_ROOT + '/../']\n",
    "\n",
    "from del_qsar import models, featurizers\n",
    "\n",
    "if not os.path.isdir('single_substructure_analysis'):\n",
    "    os.mkdir('single_substructure_analysis')\n",
    "def pathify(fname):\n",
    "    return os.path.join('single_substructure_analysis', fname)\n",
    "\n",
    "def save_png(data, out_path):\n",
    "    bio = io.BytesIO(data)\n",
    "    img = Image.open(bio)\n",
    "    img.save(out_path, 'PNG')"
   ]
  },
  {
   "cell_type": "code",
   "execution_count": null,
   "metadata": {
    "scrolled": true
   },
   "outputs": [],
   "source": [
    "DD1S_FINGERPRINTS_FILENAME = 'x_DD1S_CAIX_2048_bits_all_fps.h5' # should be in experiments folder\n",
    "triazine_FINGERPRINTS_FILENAME = 'x_triazine_2048_bits_all_fps.h5' # should be in experiments folder\n",
    "DD1S_CAIX_RANDOM_SPLIT_FP_FFNN_SEED_0_MODEL_PATH = os.path.join(DELQSAR_ROOT, 'experiments',\n",
    "                                                  'models', 'DD1S_CAIX', 'FP-FFNN', 'random_seed_0.torch')\n",
    "DD1S_CAIX_RANDOM_SPLIT_FP_FFNN_SEED_1_MODEL_PATH = os.path.join(DELQSAR_ROOT, 'experiments',\n",
    "                                                  'models', 'DD1S_CAIX', 'FP-FFNN', 'random_seed_1.torch')\n",
    "DD1S_CAIX_RANDOM_SPLIT_FP_FFNN_SEED_2_MODEL_PATH = os.path.join(DELQSAR_ROOT, 'experiments',\n",
    "                                                  'models', 'DD1S_CAIX', 'FP-FFNN', 'random_seed_2.torch')\n",
    "triazine_sEH_RANDOM_SPLIT_FP_FFNN_SEED_0_MODEL_PATH = os.path.join(DELQSAR_ROOT, 'experiments',\n",
    "                                                  'models', 'triazine_sEH', 'FP-FFNN', 'random_seed_0.torch')\n",
    "triazine_SIRT2_RANDOM_SPLIT_FP_FFNN_SEED_0_MODEL_PATH = os.path.join(DELQSAR_ROOT, 'experiments',\n",
    "                                                  'models', 'triazine_SIRT2', 'FP-FFNN', 'random_seed_0.torch')"
   ]
  },
  {
   "cell_type": "code",
   "execution_count": null,
   "metadata": {
    "scrolled": true
   },
   "outputs": [],
   "source": [
    "import matplotlib\n",
    "import matplotlib.pyplot as plt\n",
    "\n",
    "matplotlib.rc('font', family='sans-serif') \n",
    "matplotlib.rc('font', serif='Arial') \n",
    "matplotlib.rc('text', usetex='false') \n",
    "matplotlib.rcParams.update({'font.size': 8})"
   ]
  },
  {
   "cell_type": "code",
   "execution_count": null,
   "metadata": {
    "scrolled": true
   },
   "outputs": [],
   "source": [
    "def charge(a):\n",
    "    \"\"\"Returns a SMARTS substring describing the atomic charge.\"\"\"\n",
    "    if a.GetFormalCharge() >= 0:\n",
    "        return f'+{a.GetFormalCharge()}'\n",
    "    return f'-{abs(a.GetFormalCharge())}'\n",
    "def getMorganFingerprintAtomSymbols(mol):\n",
    "    \"\"\"Generate custom atomSymbols based on the specificity of an atom\n",
    "    definition used by Morgan Fingerprints. Namely,\n",
    "        - atom ID\n",
    "        - degree\n",
    "        - number of Hs\n",
    "        - ring membership\n",
    "        - charge\n",
    "    These are based on getConnectivityInvariants from FingerprintUtil.cpp at\n",
    "    https://github.com/rdkit/rdkit/blob/75f03412ef151a4dc14dfee986e29c3690a4c071/Code/GraphMol/Fingerprints/FingerprintUtil.cpp#L254\n",
    "    \"\"\"\n",
    "    atomSymbols = []\n",
    "    for a in mol.GetAtoms():\n",
    "        atomSymbols.append(\n",
    "            f'[#{a.GetAtomicNum()};D{a.GetDegree()};H{a.GetTotalNumHs()};R{mol.GetRingInfo().NumAtomRings(a.GetIdx())};{charge(a)}]')\n",
    "    return atomSymbols"
   ]
  },
  {
   "cell_type": "code",
   "execution_count": null,
   "metadata": {
    "scrolled": true
   },
   "outputs": [],
   "source": [
    "def GetWeightsForBit(bit_id): \n",
    "    \"\"\"Returns 1) the differences in model predictions when the specified bit is masked for each fingerprint,\n",
    "    2) the average of these differences.\n",
    "    Returns -inf for the average if the specified bit is not set by any of the molecules.\n",
    "    \"\"\"\n",
    "    indices = np.squeeze(np.where(x[:,bit_id]==1))\n",
    "    x_hasbit = np.squeeze(x[indices, :])\n",
    "    x_hasbit_masked = x_hasbit.copy()\n",
    "    if x_hasbit.ndim == 1:\n",
    "        x_hasbit_masked[bit_id] = 0\n",
    "    else:\n",
    "        x_hasbit_masked[:, bit_id] = 0\n",
    "    basePreds = basePreds_all[indices]\n",
    "    newPreds = np.array(model.predict_on_x(np.array(x_hasbit_masked), device=DEVICE), dtype='float64')\n",
    "    weights = np.subtract(basePreds, newPreds)\n",
    "    if x_hasbit.shape[0] != 0:\n",
    "        avg_weight = np.sum(weights) / x_hasbit.shape[0] \n",
    "        return weights, avg_weight\n",
    "    else: \n",
    "        return weights, -np.inf"
   ]
  },
  {
   "cell_type": "code",
   "execution_count": null,
   "metadata": {
    "scrolled": true
   },
   "outputs": [],
   "source": [
    "def GetWeightsForSubstructure(weights, indices):\n",
    "    \"\"\"Returns 1) the molecule-level bit weights when the substructure of interest sets the bit,\n",
    "    2) the average of these weights. \n",
    "    \n",
    "    Parameters:\n",
    "        - weights: molecule-level bit weights for a model and specific bit \n",
    "        - indices: indices in ::weights:: for the molecules with the substructure\n",
    "    \"\"\"\n",
    "    weights_for_substructure = weights[indices]\n",
    "    if len(indices) != 0:\n",
    "        avg_weight = np.sum(weights_for_substructure) / len(indices)\n",
    "    else:\n",
    "        raise ValueError('No indices specified')\n",
    "    return weights_for_substructure, avg_weight"
   ]
  },
  {
   "cell_type": "code",
   "execution_count": null,
   "metadata": {
    "scrolled": true
   },
   "outputs": [],
   "source": [
    "def getFragmentForMolBit(smi, mol, mol_idx, atomSymbols, cpd_id, bit, info_all, submol_freq_distrib, \n",
    "                        smarts_to_smis, submol_to_cpd_indices, submol_to_bit, bits_to_draw):\n",
    "    \"\"\"Returns updated dictionaries and examples after searching for substructure(s) in the \n",
    "    specified molecule that set the specified bit.\n",
    "    \"\"\"\n",
    "    molAdded = False\n",
    "    examples = []\n",
    "    for j, example in enumerate(info_all[mol_idx][bit]):\n",
    "        atom = example[0]\n",
    "        radius = example[1]\n",
    "        env = Chem.FindAtomEnvironmentOfRadiusN(mol, radius, atom)\n",
    "        atoms = set()\n",
    "        for bidx in env:\n",
    "            atoms.add(mol.GetBondWithIdx(bidx).GetBeginAtomIdx())\n",
    "            atoms.add(mol.GetBondWithIdx(bidx).GetEndAtomIdx())\n",
    "        if atoms:\n",
    "            submol_smi = Chem.MolFragmentToSmiles(mol, atomsToUse=list(atoms), bondsToUse=env, \n",
    "                                            rootedAtAtom=atom, isomericSmiles=True, allBondsExplicit=True)\n",
    "            submol_sm = Chem.MolFragmentToSmiles(mol, atomsToUse=list(atoms), atomSymbols=atomSymbols, \n",
    "                                            bondsToUse=env, isomericSmiles=True, allBondsExplicit=True)\n",
    "            if submol_sm not in submol_freq_distrib[bit]:\n",
    "                print(f'cpd_id: {cpd_id}')\n",
    "                print(f'SMILES string: {smi}')\n",
    "                print(f'bit ID: {bit}')\n",
    "                print(f'(atom, radius): {(atom, radius)}')\n",
    "                print(f'molecular fragment (SMILES): {submol_smi}')\n",
    "                print(f'molecular fragment (SMARTS): {submol_sm}')\n",
    "                print()\n",
    "                submol_freq_distrib[bit][submol_sm] = 1 \n",
    "                if submol_sm not in smarts_to_smis:\n",
    "                    smarts_to_smis[submol_sm] = [submol_smi]\n",
    "                else:\n",
    "                    smarts_to_smis[submol_sm].append(submol_smi)   \n",
    "                if submol_sm not in submol_to_bit:\n",
    "                    submol_to_bit[submol_sm] = [bit]\n",
    "                else:\n",
    "                    submol_to_bit[submol_sm].append(bit)       \n",
    "                examples.append(j)\n",
    "                submol_to_cpd_indices[submol_sm] = [mol_idx]\n",
    "                if not molAdded:\n",
    "                    bits_to_draw.append((cpd_id, mol, bit, info_all[mol_idx]))\n",
    "                    molAdded = True\n",
    "            else:\n",
    "                submol_freq_distrib[bit][submol_sm] += 1\n",
    "                submol_to_cpd_indices[submol_sm].append(mol_idx)\n",
    "        else:\n",
    "            atom_smi = mol.GetAtomWithIdx(atom).GetSmarts()\n",
    "            atom_sm = Chem.MolFragmentToSmiles(mol, \n",
    "                        atomsToUse=atom,\n",
    "                        atomSymbols=atomSymbols,\n",
    "                        isomericSmiles=True, \n",
    "                        allBondsExplicit=True)\n",
    "            if atom_sm not in submol_freq_distrib[bit]:\n",
    "                print(f'cpd_id: {cpd_id}')\n",
    "                print(f'SMILES string: {smi}')\n",
    "                print(f'bit ID: {bit}')\n",
    "                print(f'(atom, radius): {(atom, radius)}')\n",
    "                print(f'atom: {atom_sm}')\n",
    "                print()\n",
    "                submol_freq_distrib[bit][atom_sm] = 1\n",
    "                if atom_sm not in smarts_to_smis:\n",
    "                    smarts_to_smis[atom_sm] = [atom_smi]\n",
    "                else:\n",
    "                    smarts_to_smis[atom_sm].append(atom_smi)\n",
    "                if atom_sm not in submol_to_bit:\n",
    "                    submol_to_bit[atom_sm] = [bit]\n",
    "                else:\n",
    "                    submol_to_bit[atom_sm].append(bit)\n",
    "                examples.append(j)\n",
    "                submol_to_cpd_indices[atom_sm] = [mol_idx]\n",
    "                if not molAdded:\n",
    "                    bits_to_draw.append((cpd_id, mol, bit, info_all[mol_idx]))\n",
    "                    molAdded = True\n",
    "            else:\n",
    "                submol_freq_distrib[bit][atom_sm] += 1\n",
    "                submol_to_cpd_indices[atom_sm].append(mol_idx)\n",
    "    return submol_freq_distrib, smarts_to_smis, submol_to_cpd_indices, submol_to_bit, bits_to_draw, examples"
   ]
  },
  {
   "cell_type": "code",
   "execution_count": null,
   "metadata": {
    "scrolled": true
   },
   "outputs": [],
   "source": [
    "DEVICE = None\n",
    "if torch.cuda.is_available():\n",
    "    DEVICE = 'cuda:0'"
   ]
  },
  {
   "cell_type": "markdown",
   "metadata": {},
   "source": [
    "# DD1S CAIX (random split, seed 0)"
   ]
  },
  {
   "cell_type": "markdown",
   "metadata": {},
   "source": [
    "## Load data"
   ]
  },
  {
   "cell_type": "code",
   "execution_count": null,
   "metadata": {
    "scrolled": true
   },
   "outputs": [],
   "source": [
    "os.environ[\"HDF5_USE_FILE_LOCKING\"] = 'FALSE'\n",
    "df_data = pd.read_csv(os.path.join(DELQSAR_ROOT, 'experiments', 'datasets', 'DD1S_CAIX_QSAR.csv'))\n",
    "hf = h5py.File(os.path.join(DELQSAR_ROOT, 'experiments', DD1S_FINGERPRINTS_FILENAME))\n",
    "x = np.array(hf['all_fps'])\n",
    "INPUT_SIZE = x.shape[1]   \n",
    "hf.close()"
   ]
  },
  {
   "cell_type": "markdown",
   "metadata": {},
   "source": [
    "## Load model"
   ]
  },
  {
   "cell_type": "code",
   "execution_count": null,
   "metadata": {
    "scrolled": true
   },
   "outputs": [],
   "source": [
    "model = models.MLP(INPUT_SIZE, [64, 64, 64],\n",
    "            dropout=0.1)\n",
    "model.load_state_dict(torch.load(DD1S_CAIX_RANDOM_SPLIT_FP_FFNN_SEED_0_MODEL_PATH))\n",
    "if DEVICE:\n",
    "    model = model.to(DEVICE)"
   ]
  },
  {
   "cell_type": "markdown",
   "metadata": {},
   "source": [
    "## Bit analysis"
   ]
  },
  {
   "cell_type": "markdown",
   "metadata": {},
   "source": [
    "### Calculate bit weights"
   ]
  },
  {
   "cell_type": "code",
   "execution_count": null,
   "metadata": {
    "scrolled": true
   },
   "outputs": [],
   "source": [
    "set_bit_ids = [bit_id for bit_id in tqdm(range(2048)) if any(x[:,bit_id]==1)]\n",
    "print(f'Number of bits set by at least one molecule in the data set: {len(set_bit_ids)}')"
   ]
  },
  {
   "cell_type": "code",
   "execution_count": null,
   "metadata": {
    "scrolled": true
   },
   "outputs": [],
   "source": [
    "# check if any bit is set by exactly one molecule\n",
    "# for bit_id in tqdm(range(2048)):\n",
    "#     indices = np.squeeze(np.where(x[:,bit_id]==1))\n",
    "#     if indices.shape == ():\n",
    "#         print(f'Bit {bit_id} is set by only one molecule')\n",
    "#         break"
   ]
  },
  {
   "cell_type": "code",
   "execution_count": null,
   "metadata": {
    "scrolled": true
   },
   "outputs": [],
   "source": [
    "basePreds_all = np.array(model.predict_on_x(x, device=DEVICE), dtype='float64')\n",
    "bit_to_weights = {bit_id: GetWeightsForBit(bit_id) for bit_id in tqdm(set_bit_ids)}\n",
    "hkl.dump(bit_to_weights, 'bit_to_weights_DD1S_CAIX_FP-FFNN_random_seed_0.hkl', mode='w')"
   ]
  },
  {
   "cell_type": "code",
   "execution_count": null,
   "metadata": {
    "scrolled": true
   },
   "outputs": [],
   "source": [
    "# bit_to_weights_hkl = hkl.load('bit_to_weights_DD1S_CAIX_FP-FFNN_random_seed_0.hkl')\n",
    "# bit_to_weights = {int(bit): weights for bit, weights in bit_to_weights_hkl.items()}"
   ]
  },
  {
   "cell_type": "markdown",
   "metadata": {},
   "source": [
    "### Plot distribution of average bit weights"
   ]
  },
  {
   "cell_type": "code",
   "execution_count": null,
   "metadata": {
    "scrolled": true
   },
   "outputs": [],
   "source": [
    "avg_bit_weights = [bit_to_weights[b][1] for b in bit_to_weights.keys()]\n",
    "print(f'Lowest average bit weight: {min(avg_bit_weights)}')\n",
    "print(f'Highest average bit weight: {max(avg_bit_weights)}')"
   ]
  },
  {
   "cell_type": "code",
   "execution_count": null,
   "metadata": {
    "scrolled": true
   },
   "outputs": [],
   "source": [
    "# histogram of average bit weights (only including bits set by at least one molecule)\n",
    "def make_hist_avg_bit_weights(zoomIn=False):\n",
    "    fig = plt.figure(figsize=(3.5, 1.6), dpi=300)\n",
    "    if zoomIn:\n",
    "        bins = np.arange(-0.08, 0.27, 0.003)\n",
    "    else:\n",
    "        bins = np.arange(-0.08, 0.27, 0.0062) \n",
    "    _, bins, patches = plt.hist(\n",
    "        np.clip(avg_bit_weights, -0.08, bins[-1]), \n",
    "        bins=bins,  \n",
    "        density=False,\n",
    "        zorder=2\n",
    "    )\n",
    "    fig.canvas.draw() # required to get tick labels\n",
    "    ax = plt.gca()\n",
    "    if zoomIn:\n",
    "        ax.set_ylim([0, 8])\n",
    "    ax.grid(zorder=1)\n",
    "    ax.set_xlabel('Average weight')\n",
    "    ax.set_ylabel('Number of bits')\n",
    "    plt.tight_layout()\n",
    "    if zoomIn:\n",
    "        plt.savefig(pathify(f'bit_weight_histogram_zoomed_in_DD1S_CAIX_FP-FFNN_random_seed_0.png'))\n",
    "    else:\n",
    "        plt.savefig(pathify(f'bit_weight_histogram_DD1S_CAIX_FP-FFNN_random_seed_0.png'))\n",
    "    plt.show()"
   ]
  },
  {
   "cell_type": "code",
   "execution_count": null,
   "metadata": {
    "scrolled": true
   },
   "outputs": [],
   "source": [
    "make_hist_avg_bit_weights()"
   ]
  },
  {
   "cell_type": "code",
   "execution_count": null,
   "metadata": {
    "scrolled": true
   },
   "outputs": [],
   "source": [
    "make_hist_avg_bit_weights(zoomIn=True)"
   ]
  },
  {
   "cell_type": "markdown",
   "metadata": {},
   "source": [
    "### Get bits of interest (based on average bit weight)"
   ]
  },
  {
   "cell_type": "code",
   "execution_count": null,
   "metadata": {
    "scrolled": true
   },
   "outputs": [],
   "source": [
    "bits_sorted_by_avg_weight = sorted(set_bit_ids, key = lambda b: bit_to_weights[b][1])\n",
    "top_bits = bits_sorted_by_avg_weight[-5:]\n",
    "top_bits.reverse()\n",
    "bottom_bits = bits_sorted_by_avg_weight[:3]\n",
    "bottom_bits.reverse()\n",
    "print(f'Top bits: {top_bits}')\n",
    "print(f'Bottom bits: {bottom_bits}')"
   ]
  },
  {
   "cell_type": "code",
   "execution_count": null,
   "metadata": {
    "scrolled": true
   },
   "outputs": [],
   "source": [
    "bits_of_interest = top_bits + bottom_bits\n",
    "for b in bits_of_interest:\n",
    "    print(f'Bit ID: {b}')\n",
    "    print(f'Average weight: {bit_to_weights[b][1]}')\n",
    "    print(f'Number of molecules with the bit: {len(np.squeeze(np.where(x[:,b]==1)))}')\n",
    "    print()"
   ]
  },
  {
   "cell_type": "code",
   "execution_count": null,
   "metadata": {
    "scrolled": true
   },
   "outputs": [],
   "source": [
    "bit_to_cpd_row_indices = {bit: list([idx for idx in np.squeeze(np.where(x[:,bit]==1))]) for bit in bits_of_interest}\n",
    "for item in bit_to_cpd_row_indices.items():\n",
    "    print(f'Bit ID: {item[0]}')\n",
    "    print(f'Number of molecules with the bit: {len(item[1])}')\n",
    "    print()"
   ]
  },
  {
   "cell_type": "markdown",
   "metadata": {},
   "source": [
    "### Plot distributions of molecule-level weights"
   ]
  },
  {
   "cell_type": "code",
   "execution_count": null,
   "metadata": {
    "scrolled": false
   },
   "outputs": [],
   "source": [
    "# histogram of molecule-level bit weights\n",
    "def make_hist_mol_level_bit_weights(bit_id, x_lb, x_ub, stepsize_noZoom, stepsize_zoom, zoomIn=False):\n",
    "    weights = bit_to_weights[bit_id][0]\n",
    "    fig = plt.figure(figsize=(3.5, 1.6), dpi=300)\n",
    "    if zoomIn:\n",
    "        bins = np.arange(x_lb, x_ub, stepsize_zoom)\n",
    "    else:\n",
    "        bins = np.arange(x_lb, x_ub, stepsize_noZoom) \n",
    "    _, bins, patches = plt.hist(\n",
    "        np.clip(weights, x_lb, bins[-1]), \n",
    "        bins=bins,  \n",
    "        density=False,\n",
    "        zorder=2\n",
    "    )\n",
    "    fig.canvas.draw() # required to get tick labels\n",
    "    ax = plt.gca()\n",
    "    if zoomIn:\n",
    "        ax.set_ylim([0, 8])\n",
    "    ax.grid(zorder=1)\n",
    "    ax.tick_params(labelsize=8)\n",
    "    ax.set_xlabel('Weight', fontsize=8)\n",
    "    ax.set_ylabel('Number of molecules', fontsize=8)\n",
    "    ax.set_title(f'Bit {bit_id}', fontsize=8)\n",
    "    plt.tight_layout()\n",
    "    if zoomIn:\n",
    "        plt.savefig(pathify(f'mol-level_bit_weight_histogram_bit_{bit_id}_zoomed_in_DD1S_CAIX_FP-FFNN_random_seed_0.png'))\n",
    "    else:\n",
    "        plt.savefig(pathify(f'mol-level_bit_weight_histogram_bit_{bit_id}_DD1S_CAIX_FP-FFNN_random_seed_0.png'))\n",
    "    plt.show()"
   ]
  },
  {
   "cell_type": "code",
   "execution_count": null,
   "metadata": {
    "scrolled": true
   },
   "outputs": [],
   "source": [
    "bit = 1489\n",
    "print(f'Bit {bit}')\n",
    "print(f'Lowest molecule-level bit weight: {min(bit_to_weights[bit][0])}')\n",
    "print(f'Highest molecule-level bit weight: {max(bit_to_weights[bit][0])}')\n",
    "\n",
    "make_hist_mol_level_bit_weights(bit, -0.02, 0.62, 0.01, None)"
   ]
  },
  {
   "cell_type": "code",
   "execution_count": null,
   "metadata": {
    "scrolled": true
   },
   "outputs": [],
   "source": [
    "bit = 833\n",
    "print('Bit {bit}')\n",
    "print(f'Lowest molecule-level bit weight: {min(bit_to_weights[bit][0])}')\n",
    "print(f'Highest molecule-level bit weight: {max(bit_to_weights[bit][0])}')\n",
    "\n",
    "make_hist_mol_level_bit_weights(bit, 0, 0.65, 0.01, None)"
   ]
  },
  {
   "cell_type": "code",
   "execution_count": null,
   "metadata": {
    "scrolled": true
   },
   "outputs": [],
   "source": [
    "bit = 1785\n",
    "print(f'Bit {bit}')\n",
    "print(f'Lowest molecule-level bit weight: {min(bit_to_weights[bit][0])}')\n",
    "print(f'Highest molecule-level bit weight: {max(bit_to_weights[bit][0])}')\n",
    "\n",
    "make_hist_mol_level_bit_weights(bit, -0.01, 0.62, 0.01, None)"
   ]
  },
  {
   "cell_type": "code",
   "execution_count": null,
   "metadata": {
    "scrolled": true
   },
   "outputs": [],
   "source": [
    "bit = 997\n",
    "print(f'Bit {bit}')\n",
    "print(f'Lowest molecule-level bit weight: {min(bit_to_weights[bit][0])}')\n",
    "print(f'Highest molecule-level bit weight: {max(bit_to_weights[bit][0])}')\n",
    "\n",
    "make_hist_mol_level_bit_weights(bit, -0.01, 0.63, 0.01, None)"
   ]
  },
  {
   "cell_type": "code",
   "execution_count": null,
   "metadata": {
    "scrolled": true
   },
   "outputs": [],
   "source": [
    "bit = 1197\n",
    "print(f'Bit {bit}')\n",
    "print(f'Lowest molecule-level bit weight: {min(bit_to_weights[bit][0])}')\n",
    "print(f'Highest molecule-level bit weight: {max(bit_to_weights[bit][0])}')\n",
    "\n",
    "make_hist_mol_level_bit_weights(bit, -0.01, 0.59, 0.01, None)"
   ]
  },
  {
   "cell_type": "code",
   "execution_count": null,
   "metadata": {
    "scrolled": true
   },
   "outputs": [],
   "source": [
    "bit = 1148\n",
    "print(f'Bit {bit}')\n",
    "print(f'Lowest molecule-level bit weight: {min(bit_to_weights[bit][0])}')\n",
    "print(f'Highest molecule-level bit weight: {max(bit_to_weights[bit][0])}')\n",
    "\n",
    "make_hist_mol_level_bit_weights(bit, -0.12, -0.01, 0.00265, None)"
   ]
  },
  {
   "cell_type": "code",
   "execution_count": null,
   "metadata": {
    "scrolled": true
   },
   "outputs": [],
   "source": [
    "bit = 365\n",
    "print(f'Bit {bit}')\n",
    "print(f'Lowest molecule-level bit weight: {min(bit_to_weights[bit][0])}')\n",
    "print(f'Highest molecule-level bit weight: {max(bit_to_weights[bit][0])}')\n",
    "\n",
    "make_hist_mol_level_bit_weights(bit, -0.20, -0.01, 0.0035, None)"
   ]
  },
  {
   "cell_type": "code",
   "execution_count": null,
   "metadata": {
    "scrolled": true
   },
   "outputs": [],
   "source": [
    "bit = 1165\n",
    "print(f'Bit {bit}')\n",
    "print(f'Lowest molecule-level bit weight: {min(bit_to_weights[bit][0])}')\n",
    "print(f'Highest molecule-level bit weight: {max(bit_to_weights[bit][0])}')\n",
    "\n",
    "make_hist_mol_level_bit_weights(bit, -0.20, 0, 0.004, None)"
   ]
  },
  {
   "cell_type": "markdown",
   "metadata": {},
   "source": [
    "### Get and visualize substructures"
   ]
  },
  {
   "cell_type": "code",
   "execution_count": null,
   "metadata": {
    "scrolled": true
   },
   "outputs": [],
   "source": [
    "bits_to_draw = []\n",
    "submol_freq_distrib = {bit: {} for bit in bits_of_interest} # store frequency distribution of substructures that \n",
    "                                                            # set each bit\n",
    "smarts_to_smis = {}\n",
    "submol_to_cpd_indices = {} # mapping to indices in df_data_hasbit\n",
    "submol_to_bit = {}\n",
    "examples_all = {bit: {} for bit in bits_of_interest} # check if there's more than one distinct bit-setting \n",
    "                                                     # substructure in the same molecule\n",
    "\n",
    "for bit in tqdm(bits_of_interest):\n",
    "    df_data_hasbit = df_data.iloc[bit_to_cpd_row_indices[bit]]\n",
    "    smis = df_data_hasbit['smiles']\n",
    "    featurizer = featurizers.FingerprintFeaturizer()\n",
    "    _, info_all = featurizer.prepare_x(df_data_hasbit, bitInfo=True)\n",
    "    for i, smi in enumerate(smis):\n",
    "        mol = Chem.MolFromSmiles(smi)\n",
    "        atomSymbols = getMorganFingerprintAtomSymbols(mol)\n",
    "        cpd_id = int(df_data[df_data['smiles']==smi]['cpd_id'].to_numpy()[0])\n",
    "        if bit not in info_all[i]:\n",
    "            continue\n",
    "        fragment_logs = getFragmentForMolBit(smi, mol, i, atomSymbols, cpd_id, bit, info_all, submol_freq_distrib, \n",
    "                        smarts_to_smis, submol_to_cpd_indices, submol_to_bit, bits_to_draw)\n",
    "        submol_freq_distrib = fragment_logs[0]\n",
    "        smarts_to_smis = fragment_logs[1]\n",
    "        submol_to_cpd_indices = fragment_logs[2]\n",
    "        submol_to_bit = fragment_logs[3]\n",
    "        bits_to_draw = fragment_logs[4]\n",
    "        examples = fragment_logs[5]\n",
    "        if examples:\n",
    "            examples_all[bit][i] = examples"
   ]
  },
  {
   "cell_type": "code",
   "execution_count": null,
   "metadata": {
    "scrolled": true
   },
   "outputs": [],
   "source": [
    "hkl.dump(submol_freq_distrib, 'submol_freq_distrib_DD1S_CAIX_FP-FFNN_random_seed_0.hkl', mode='w')\n",
    "hkl.dump(smarts_to_smis, 'smarts_to_smis_DD1S_CAIX_FP-FFNN_random_seed_0.hkl', mode='w')\n",
    "hkl.dump(submol_to_cpd_indices, 'submol_to_cpd_indices_DD1S_CAIX_FP-FFNN_random_seed_0.hkl', mode='w')\n",
    "hkl.dump(submol_to_bit, 'submol_to_bit_DD1S_CAIX_FP-FFNN_random_seed_0.hkl', mode='w')\n",
    "hkl.dump(bits_to_draw, 'bits_to_draw_DD1S_CAIX_FP-FFNN_random_seed_0.hkl', mode='w')\n",
    "hkl.dump(examples_all, 'examples_all_DD1S_CAIX_FP-FFNN_random_seed_0.hkl', mode='w')"
   ]
  },
  {
   "cell_type": "code",
   "execution_count": null,
   "metadata": {
    "scrolled": true
   },
   "outputs": [],
   "source": [
    "# submol_freq_distrib_hkl = hkl.load('submol_freq_distrib_DD1S_CAIX_FP-FFNN_random_seed_0.hkl')\n",
    "# submol_freq_distrib = {int(bit): d for bit, d in submol_freq_distrib_hkl.items()}\n",
    "# smarts_to_smis = hkl.load('smarts_to_smis_DD1S_CAIX_FP-FFNN_random_seed_0.hkl')\n",
    "# submol_to_cpd_indices = hkl.load('submol_to_cpd_indices_DD1S_CAIX_FP-FFNN_random_seed_0.hkl')\n",
    "# submol_to_bit = hkl.load('submol_to_bit_DD1S_CAIX_FP-FFNN_random_seed_0.hkl')\n",
    "# examples_all_hkl = hkl.load('examples_all_DD1S_CAIX_FP-FFNN_random_seed_0.hkl')\n",
    "# examples_all = {int(bit): {int(mol_idx): [int(ex_num) for ex_num in ex_nums] for mol_idx, ex_nums in exs.items()} for bit, exs in examples_all_hkl.items()}\n",
    "# bits_to_draw_hkl = hkl.load('bits_to_draw_DD1S_CAIX_FP-FFNN_random_seed_0.hkl')\n",
    "# bits_to_draw = [(int(item[0]), Chem.MolFromSmiles(df_data.iloc[int(item[0])-1]['smiles']), int(item[2]), \n",
    "#         {int(bit): tuple([(int(an[0]), int(an[1])) for an in ans]) for bit, ans in item[3].items()}) for item in bits_to_draw_hkl]"
   ]
  },
  {
   "cell_type": "code",
   "execution_count": null,
   "metadata": {
    "scrolled": true
   },
   "outputs": [],
   "source": [
    "examples_all"
   ]
  },
  {
   "cell_type": "code",
   "execution_count": null,
   "metadata": {
    "scrolled": true
   },
   "outputs": [],
   "source": [
    "for item in smarts_to_smis.items():\n",
    "    print(f'SMARTS: {item[0]}')\n",
    "    print(f'SMILES: {np.squeeze(item[1])}')\n",
    "    print()\n",
    "print()\n",
    "print(f'Number of distinct SMARTS: {len(set(smarts_to_smis.keys()))}')\n",
    "print(f'Number of distinct SMILES: {len(set([j for i in smarts_to_smis.values() for j in i]))}')"
   ]
  },
  {
   "cell_type": "code",
   "execution_count": null,
   "metadata": {
    "scrolled": true
   },
   "outputs": [],
   "source": [
    "for bit in submol_freq_distrib:\n",
    "    print(f'Bit ID: {bit}')\n",
    "    for submol in submol_freq_distrib[bit]:\n",
    "        print(f'Substructure (SMARTS): {submol}')\n",
    "        print(f'Frequency: {submol_freq_distrib[bit][submol]}')\n",
    "    print()"
   ]
  },
  {
   "cell_type": "code",
   "execution_count": null,
   "metadata": {
    "scrolled": true
   },
   "outputs": [],
   "source": [
    "_bits_to_draw = [bit[1:] for bit in bits_to_draw]"
   ]
  },
  {
   "cell_type": "code",
   "execution_count": null,
   "metadata": {
    "scrolled": true
   },
   "outputs": [],
   "source": [
    "# visualize each substructure\n",
    "d = Draw.DrawMorganBits(_bits_to_draw, molsPerRow=4, aromaticColor=None, ringColor=None, \n",
    "                        legends=[f'cpd_id {bit[0]}, bit: {bit[2]}' for bit in bits_to_draw], subImgSize=(600, 600))\n",
    "d.save(pathify(f'bits_visualization_DD1S_CAIX_FP-FFNN_random_seed_0.png'))\n",
    "d"
   ]
  },
  {
   "cell_type": "markdown",
   "metadata": {},
   "source": [
    "## Substructure analysis"
   ]
  },
  {
   "cell_type": "markdown",
   "metadata": {},
   "source": [
    "### Number substructures"
   ]
  },
  {
   "cell_type": "code",
   "execution_count": null,
   "metadata": {
    "scrolled": true
   },
   "outputs": [],
   "source": [
    "# numbering correponds to ordering of bars from left to right on plot of substructure weights (see below)\n",
    "ctr = 1\n",
    "submol_to_id = {}\n",
    "for bit in bits_of_interest:\n",
    "    submols = sorted(submol_freq_distrib[bit].keys(), key = lambda x: submol_freq_distrib[bit][x], reverse=True)\n",
    "    for s in submols:\n",
    "        submol_to_id[s] = ctr\n",
    "        ctr += 1"
   ]
  },
  {
   "cell_type": "code",
   "execution_count": null,
   "metadata": {
    "scrolled": false
   },
   "outputs": [],
   "source": [
    "for item in submol_to_id.items():\n",
    "    print(item[1])\n",
    "    print(item[0])\n",
    "    print(np.squeeze(smarts_to_smis[item[0]]))\n",
    "    print()"
   ]
  },
  {
   "cell_type": "markdown",
   "metadata": {},
   "source": [
    "### Calculate substructure weights"
   ]
  },
  {
   "cell_type": "code",
   "execution_count": null,
   "metadata": {
    "scrolled": true
   },
   "outputs": [],
   "source": [
    "substruct_to_weight = {}\n",
    "for submol in submol_to_id:\n",
    "    if submol in submol_to_bit:\n",
    "        bit = int(np.squeeze(submol_to_bit[submol]))\n",
    "        substruct_to_weight[submol] = GetWeightsForSubstructure(bit_to_weights[bit][0], list(set(submol_to_cpd_indices[submol])))[1]"
   ]
  },
  {
   "cell_type": "code",
   "execution_count": null,
   "metadata": {
    "scrolled": true
   },
   "outputs": [],
   "source": [
    "for item in sorted(substruct_to_weight.items(), key=lambda x: submol_to_id[x[0]]):\n",
    "    print(f'Substructure (SMARTS): {item[0]}')\n",
    "    print()\n",
    "    print(f'Weight: {item[1]}')\n",
    "    print()\n",
    "    print()"
   ]
  },
  {
   "cell_type": "markdown",
   "metadata": {},
   "source": [
    "### Plot substructure weights"
   ]
  },
  {
   "cell_type": "code",
   "execution_count": null,
   "metadata": {
    "scrolled": true
   },
   "outputs": [],
   "source": [
    "substructs = sorted(substruct_to_weight.keys(), key=lambda s: submol_to_id[s])\n",
    "weights = [substruct_to_weight[s] for s in substructs]\n",
    "bars = []\n",
    "for bit in bits_of_interest:\n",
    "    _bars = []\n",
    "    substruct_smarts_for_bit = submol_freq_distrib[bit].keys()\n",
    "    for s in substructs:\n",
    "        if s in substruct_smarts_for_bit:\n",
    "            _bars.append(substruct_to_weight[s])\n",
    "    bars.append(_bars)\n",
    "\n",
    "barWidth = 1.5\n",
    "offset = 1.7\n",
    "space = 4\n",
    "pos = len(bars[0])*barWidth / 2"
   ]
  },
  {
   "cell_type": "code",
   "execution_count": null,
   "metadata": {
    "scrolled": true
   },
   "outputs": [],
   "source": [
    "r1 = [pos - 0.5*barWidth - 0.5*(offset-barWidth), pos + 0.5*barWidth + 0.5*(offset-barWidth)]\n",
    "pos += space + 1.5*barWidth + (offset-barWidth)\n",
    "r2 = [pos]\n",
    "pos += space + 1.5*barWidth + (offset-barWidth)\n",
    "r3 = [pos - barWidth - (offset-barWidth), pos, pos + barWidth + (offset-barWidth)]\n",
    "pos += space + 1.5*barWidth + (offset-barWidth)\n",
    "r4 = [pos - barWidth - (offset-barWidth), pos, pos + barWidth + (offset-barWidth)]\n",
    "pos += space + 1.5*barWidth + (offset-barWidth)\n",
    "r5 = [pos - barWidth - (offset-barWidth), pos, pos + barWidth + (offset-barWidth)]\n",
    "pos += space + 1.5*barWidth + (offset-barWidth)\n",
    "r6 = [pos]\n",
    "pos += space + 1.5*barWidth + (offset-barWidth)\n",
    "r7 = [pos]\n",
    "pos += space + 1.5*barWidth + (offset-barWidth)\n",
    "r8 = [pos]\n",
    "rs = [r1, r2, r3, r4, r5, r6, r7, r8]"
   ]
  },
  {
   "cell_type": "code",
   "execution_count": null,
   "metadata": {
    "scrolled": false
   },
   "outputs": [],
   "source": [
    "fig = plt.figure(figsize=(7, 4), dpi=300)\n",
    "\n",
    "rects = []\n",
    "for bit in range(len(bars)):\n",
    "    for i in range(len(rs[bit])):\n",
    "        rects.append(plt.bar(rs[bit][i], bars[bit][i], color='#1f77b4', width=barWidth, zorder=2)[0])\n",
    "        \n",
    "for rect in rects[:-3]:\n",
    "    height = rect.get_height()\n",
    "    plt.annotate('{:.3f}'.format(height),\n",
    "                xy=(rect.get_x() + rect.get_width() / 2, height),\n",
    "                xytext=(0, 3),  \n",
    "                textcoords=\"offset points\",\n",
    "                ha='center', va='bottom',\n",
    "                fontsize=4.5)\n",
    "for rect in rects[-3:]:\n",
    "    height = rect.get_height()\n",
    "    plt.annotate('{:.3f}'.format(height),\n",
    "                xy=(rect.get_x() + rect.get_width() / 2, height),\n",
    "                xytext=(0, -8),  \n",
    "                textcoords=\"offset points\",\n",
    "                ha='center', va='bottom',\n",
    "                fontsize=4.5)\n",
    "        \n",
    "fig.canvas.draw()\n",
    "ax = plt.gca()\n",
    "ax.grid(zorder=1)\n",
    "ax.set_xlabel('Bit ID', fontsize=9)\n",
    "ax.set_ylabel('Substructure weight', fontsize=9)\n",
    "ax.tick_params(labelsize=9)\n",
    "ax.set_xticks([((len(bars[0])*barWidth / 2) + i*(space + 1.5*barWidth + (offset-barWidth))) for i in range(len(bars))])\n",
    "ax.set_xticklabels([str(bit_id) for bit_id in bits_of_interest], ha='center')\n",
    "ax.tick_params(axis='x', length=0)\n",
    "plt.tight_layout()\n",
    "plt.savefig(pathify(f'substructure_weights_DD1S_CAIX_FP-FFNN_random_seed_0.png'))\n",
    "plt.show()"
   ]
  },
  {
   "cell_type": "markdown",
   "metadata": {},
   "source": [
    "# Triazine sEH (random split, seed 0)"
   ]
  },
  {
   "cell_type": "markdown",
   "metadata": {},
   "source": [
    "## Load data"
   ]
  },
  {
   "cell_type": "code",
   "execution_count": null,
   "metadata": {
    "scrolled": true
   },
   "outputs": [],
   "source": [
    "os.environ[\"HDF5_USE_FILE_LOCKING\"] = 'FALSE'\n",
    "df_data = pd.read_csv(os.path.join(DELQSAR_ROOT, 'experiments', 'datasets', 'triazine_lib_sEH_SIRT2_QSAR.csv'))\n",
    "hf = h5py.File(os.path.join(DELQSAR_ROOT, 'experiments', triazine_FINGERPRINTS_FILENAME))\n",
    "x = np.array(hf['all_fps'])\n",
    "INPUT_SIZE = x.shape[1] \n",
    "hf.close()"
   ]
  },
  {
   "cell_type": "markdown",
   "metadata": {},
   "source": [
    "## Load model"
   ]
  },
  {
   "cell_type": "code",
   "execution_count": null,
   "metadata": {
    "scrolled": true
   },
   "outputs": [],
   "source": [
    "model = models.MLP(INPUT_SIZE, [256, 128, 64],\n",
    "            dropout=0.4)\n",
    "model.load_state_dict(torch.load(triazine_sEH_RANDOM_SPLIT_FP_FFNN_SEED_0_MODEL_PATH))\n",
    "if DEVICE:\n",
    "    model = model.to(DEVICE)"
   ]
  },
  {
   "cell_type": "markdown",
   "metadata": {},
   "source": [
    "## Bit analysis"
   ]
  },
  {
   "cell_type": "markdown",
   "metadata": {},
   "source": [
    "### Calculate bit weights"
   ]
  },
  {
   "cell_type": "code",
   "execution_count": null,
   "metadata": {
    "scrolled": true
   },
   "outputs": [],
   "source": [
    "set_bit_ids = [bit_id for bit_id in tqdm(range(2048)) if any(x[:,bit_id]==1)]\n",
    "print(f'Number of bits set by at least one molecule in the data set: {len(set_bit_ids)}')"
   ]
  },
  {
   "cell_type": "code",
   "execution_count": null,
   "metadata": {
    "scrolled": true
   },
   "outputs": [],
   "source": [
    "hf = h5py.File('triazine_set_bit_ids', 'w')\n",
    "hf.create_dataset('set_bit_ids', data=np.array(set_bit_ids))\n",
    "hf.close()"
   ]
  },
  {
   "cell_type": "code",
   "execution_count": null,
   "metadata": {
    "scrolled": true
   },
   "outputs": [],
   "source": [
    "# hf = h5py.File('triazine_set_bit_ids', 'r')\n",
    "# set_bit_ids = np.array(hf['set_bit_ids'])\n",
    "# hf.close()\n",
    "# print(f'Number of bits set by at least one molecule in the data set: {len(set_bit_ids)}')"
   ]
  },
  {
   "cell_type": "code",
   "execution_count": null,
   "metadata": {
    "scrolled": true
   },
   "outputs": [],
   "source": [
    "# check if any bit is set by exactly one molecule\n",
    "# for bit_id in tqdm(range(2048)):\n",
    "#     indices = np.squeeze(np.where(x[:,bit_id]==1))\n",
    "#     if indices.shape == ():\n",
    "#         print(f'Bit {bit_id} is set by only one molecule')\n",
    "#         break"
   ]
  },
  {
   "cell_type": "code",
   "execution_count": null,
   "metadata": {
    "scrolled": true
   },
   "outputs": [],
   "source": [
    "basePreds_all = np.array(model.predict_on_x(x, device=DEVICE), dtype='float64')\n",
    "bit_to_weights = {bit_id: GetWeightsForBit(bit_id) for bit_id in tqdm(set_bit_ids)}\n",
    "hkl.dump(bit_to_weights, 'bit_to_weights_triazine_sEH_FP-FFNN_random_seed_0.hkl', mode='w')"
   ]
  },
  {
   "cell_type": "code",
   "execution_count": null,
   "metadata": {
    "scrolled": true
   },
   "outputs": [],
   "source": [
    "# bit_to_weights_hkl = hkl.load('bit_to_weights_triazine_sEH_FP-FFNN_random_seed_0.hkl')\n",
    "# bit_to_weights = {int(bit): weights for bit, weights in bit_to_weights_hkl.items()}"
   ]
  },
  {
   "cell_type": "markdown",
   "metadata": {},
   "source": [
    "### Plot distribution of average bit weights"
   ]
  },
  {
   "cell_type": "code",
   "execution_count": null,
   "metadata": {
    "scrolled": true
   },
   "outputs": [],
   "source": [
    "avg_bit_weights = [bit_to_weights[b][1] for b in set_bit_ids]\n",
    "print(f'Lowest average bit weight: {min(avg_bit_weights)}')\n",
    "print(f'Highest average bit weight: {max(avg_bit_weights)}')"
   ]
  },
  {
   "cell_type": "code",
   "execution_count": null,
   "metadata": {
    "scrolled": true
   },
   "outputs": [],
   "source": [
    "# histogram of average bit weights (only including bits set by at least one molecule)\n",
    "def make_hist_avg_bit_weights(zoomIn=False):\n",
    "    fig = plt.figure(figsize=(3.5, 1.6), dpi=300)\n",
    "    bins = np.arange(-0.23, 3.53, 0.03)\n",
    "    _, bins, patches = plt.hist(\n",
    "        np.clip(avg_bit_weights, -0.23, bins[-1]), \n",
    "        bins=bins,  \n",
    "        density=False,\n",
    "        zorder=2\n",
    "    )\n",
    "    fig.canvas.draw() # required to get tick labels\n",
    "    ax = plt.gca()\n",
    "    if zoomIn:\n",
    "        ax.set_ylim([0, 8])\n",
    "    ax.grid(zorder=1)\n",
    "    ax.set_xlabel('Average weight')\n",
    "    ax.set_ylabel('Number of bits')\n",
    "    plt.tight_layout()\n",
    "    if zoomIn:\n",
    "        plt.savefig(pathify(f'bit_weight_histogram_zoomed_in_triazine_sEH_FP-FFNN_random_seed_0.png'))\n",
    "    else:\n",
    "        plt.savefig(pathify(f'bit_weight_histogram_triazine_sEH_FP-FFNN_random_seed_0.png'))\n",
    "    plt.show()"
   ]
  },
  {
   "cell_type": "code",
   "execution_count": null,
   "metadata": {
    "scrolled": false
   },
   "outputs": [],
   "source": [
    "make_hist_avg_bit_weights()"
   ]
  },
  {
   "cell_type": "code",
   "execution_count": null,
   "metadata": {
    "scrolled": false
   },
   "outputs": [],
   "source": [
    "make_hist_avg_bit_weights(zoomIn=True)"
   ]
  },
  {
   "cell_type": "markdown",
   "metadata": {},
   "source": [
    "### Get bits of interest (based on average bit weight)"
   ]
  },
  {
   "cell_type": "code",
   "execution_count": null,
   "metadata": {
    "scrolled": true
   },
   "outputs": [],
   "source": [
    "bits_sorted_by_avg_weight = sorted(set_bit_ids, key = lambda b: bit_to_weights[b][1])\n",
    "top_bits = bits_sorted_by_avg_weight[-5:]\n",
    "top_bits.reverse()\n",
    "bottom_bits = bits_sorted_by_avg_weight[:3]\n",
    "bottom_bits.reverse()\n",
    "print(f'Top bits: {top_bits}')\n",
    "print(f'Bottom bits: {bottom_bits}')"
   ]
  },
  {
   "cell_type": "code",
   "execution_count": null,
   "metadata": {
    "scrolled": true
   },
   "outputs": [],
   "source": [
    "bits_of_interest = top_bits + bottom_bits\n",
    "for b in bits_of_interest:\n",
    "    print(f'Bit ID: {b}')\n",
    "    print(f'Average weight: {bit_to_weights[b][1]}')\n",
    "    print(f'Number of molecules with the bit: {len(np.squeeze(np.where(x[:,b]==1)))}')\n",
    "    print()"
   ]
  },
  {
   "cell_type": "code",
   "execution_count": null,
   "metadata": {
    "scrolled": true
   },
   "outputs": [],
   "source": [
    "bit_to_cpd_row_indices = {bit: list([idx for idx in np.squeeze(np.where(x[:,bit]==1))]) for bit in bits_of_interest}\n",
    "for item in bit_to_cpd_row_indices.items():\n",
    "    print(f'Bit ID: {item[0]}')\n",
    "    print(f'Number of molecules with the bit: {len(item[1])}')\n",
    "    print()"
   ]
  },
  {
   "cell_type": "markdown",
   "metadata": {},
   "source": [
    "### Plot distributions of molecule-level bit weights"
   ]
  },
  {
   "cell_type": "code",
   "execution_count": null,
   "metadata": {
    "scrolled": true
   },
   "outputs": [],
   "source": [
    "# histogram of molecule-level bit weights\n",
    "def make_hist_mol_level_bit_weights(bit_id, x_lb, x_ub, stepsize_noZoom, stepsize_zoom, zoomIn=False,\n",
    "                                    zoomIn_y_ub=None, xticks=None):\n",
    "    weights = bit_to_weights[bit_id][0]\n",
    "    fig = plt.figure(figsize=(1.85, 1.6), dpi=300)\n",
    "    if zoomIn:\n",
    "        bins = np.arange(x_lb, x_ub, stepsize_zoom)\n",
    "    else:\n",
    "        bins = np.arange(x_lb, x_ub, stepsize_noZoom) \n",
    "    _, bins, patches = plt.hist(\n",
    "        np.clip(weights, x_lb, bins[-1]), \n",
    "        bins=bins,  \n",
    "        density=False,\n",
    "        zorder=2\n",
    "    )\n",
    "    fig.canvas.draw() # required to get tick labels\n",
    "    ax = plt.gca()\n",
    "    if zoomIn:\n",
    "        ax.set_ylim([0, zoomIn_y_ub])\n",
    "    ax.grid(zorder=1)\n",
    "    ax.tick_params(labelsize=8)\n",
    "    if xticks:\n",
    "        plt.xticks(xticks)\n",
    "    ax.set_xlabel('Weight', fontsize=8)\n",
    "    ax.set_ylabel('Number of molecules', fontsize=8)\n",
    "    ax.set_title(f'Bit {bit_id}', fontsize=8)\n",
    "    plt.tight_layout()\n",
    "    if zoomIn:\n",
    "        plt.savefig(pathify(f'mol-level_bit_weight_histogram_bit_{bit_id}_zoomed_in_triazine_sEH_FP-FFNN_random_seed_0.png'))\n",
    "    else:\n",
    "        plt.savefig(pathify(f'mol-level_bit_weight_histogram_bit_{bit_id}_triazine_sEH_FP-FFNN_random_seed_0.png'))\n",
    "    plt.show()"
   ]
  },
  {
   "cell_type": "code",
   "execution_count": null,
   "metadata": {
    "scrolled": false
   },
   "outputs": [],
   "source": [
    "bit = 720\n",
    "print(f'Bit {bit}')\n",
    "print(f'Lowest molecule-level bit weight: {min(bit_to_weights[bit][0])}')\n",
    "print(f'Highest molecule-level bit weight: {max(bit_to_weights[bit][0])}')\n",
    "\n",
    "make_hist_mol_level_bit_weights(bit, -18.04, 65.91, 2.1, None)"
   ]
  },
  {
   "cell_type": "code",
   "execution_count": null,
   "metadata": {
    "scrolled": false
   },
   "outputs": [],
   "source": [
    "bit = 720\n",
    "print(f'Bit {bit}')\n",
    "print(f'Lowest molecule-level bit weight: {min(bit_to_weights[bit][0])}')\n",
    "print(f'Highest molecule-level bit weight: {max(bit_to_weights[bit][0])}')\n",
    "\n",
    "make_hist_mol_level_bit_weights(bit, -18.04, 65.91, None, 2, zoomIn=True, zoomIn_y_ub=200)"
   ]
  },
  {
   "cell_type": "code",
   "execution_count": null,
   "metadata": {
    "scrolled": false
   },
   "outputs": [],
   "source": [
    "bit = 60\n",
    "print(f'Bit {bit}')\n",
    "print(f'Lowest molecule-level bit weight: {min(bit_to_weights[bit][0])}')\n",
    "print(f'Highest molecule-level bit weight: {max(bit_to_weights[bit][0])}')\n",
    "\n",
    "make_hist_mol_level_bit_weights(bit, -17.44, 46.71, 1.75, None)"
   ]
  },
  {
   "cell_type": "code",
   "execution_count": null,
   "metadata": {
    "scrolled": false
   },
   "outputs": [],
   "source": [
    "bit = 60\n",
    "print(f'Bit {bit}')\n",
    "print(f'Lowest molecule-level bit weight: {min(bit_to_weights[bit][0])}')\n",
    "print(f'Highest molecule-level bit weight: {max(bit_to_weights[bit][0])}')\n",
    "\n",
    "make_hist_mol_level_bit_weights(bit, -17.44, 46.71, None, 2, zoomIn=True, zoomIn_y_ub=220)"
   ]
  },
  {
   "cell_type": "code",
   "execution_count": null,
   "metadata": {
    "scrolled": false
   },
   "outputs": [],
   "source": [
    "bit = 793\n",
    "print(f'Bit {bit}')\n",
    "print(f'Lowest molecule-level bit weight: {min(bit_to_weights[bit][0])}')\n",
    "print(f'Highest molecule-level bit weight: {max(bit_to_weights[bit][0])}')\n",
    "\n",
    "make_hist_mol_level_bit_weights(bit, -0.16, 79.83, 2, None)"
   ]
  },
  {
   "cell_type": "code",
   "execution_count": null,
   "metadata": {
    "scrolled": false
   },
   "outputs": [],
   "source": [
    "bit = 793\n",
    "print(f'Bit {bit}')\n",
    "print(f'Lowest molecule-level bit weight: {min(bit_to_weights[bit][0])}')\n",
    "print(f'Highest molecule-level bit weight: {max(bit_to_weights[bit][0])}')\n",
    "\n",
    "make_hist_mol_level_bit_weights(bit, -0.16, 79.83, None, 2, zoomIn=True, zoomIn_y_ub=200)"
   ]
  },
  {
   "cell_type": "code",
   "execution_count": null,
   "metadata": {
    "scrolled": false
   },
   "outputs": [],
   "source": [
    "bit = 1767\n",
    "print(f'Bit {bit}')\n",
    "print(f'Lowest molecule-level bit weight: {min(bit_to_weights[bit][0])}')\n",
    "print(f'Highest molecule-level bit weight: {max(bit_to_weights[bit][0])}')\n",
    "\n",
    "make_hist_mol_level_bit_weights(bit, -18.26, 51.71, 2.1, None)"
   ]
  },
  {
   "cell_type": "code",
   "execution_count": null,
   "metadata": {
    "scrolled": false
   },
   "outputs": [],
   "source": [
    "bit = 1767\n",
    "print(f'Bit {bit}')\n",
    "print(f'Lowest molecule-level bit weight: {min(bit_to_weights[bit][0])}')\n",
    "print(f'Highest molecule-level bit weight: {max(bit_to_weights[bit][0])}')\n",
    "\n",
    "make_hist_mol_level_bit_weights(bit, -18.26, 51.71, None, 2, zoomIn=True, zoomIn_y_ub=220)"
   ]
  },
  {
   "cell_type": "code",
   "execution_count": null,
   "metadata": {
    "scrolled": false
   },
   "outputs": [],
   "source": [
    "bit = 237\n",
    "print(f'Bit {bit}')\n",
    "print(f'Lowest molecule-level bit weight: {min(bit_to_weights[bit][0])}')\n",
    "print(f'Highest molecule-level bit weight: {max(bit_to_weights[bit][0])}')\n",
    "\n",
    "make_hist_mol_level_bit_weights(bit, -21.09, 42.49, 1.87, None)"
   ]
  },
  {
   "cell_type": "code",
   "execution_count": null,
   "metadata": {
    "scrolled": true
   },
   "outputs": [],
   "source": [
    "bit = 237\n",
    "print(f'Bit {bit}')\n",
    "print(f'Lowest molecule-level bit weight: {min(bit_to_weights[bit][0])}')\n",
    "print(f'Highest molecule-level bit weight: {max(bit_to_weights[bit][0])}')\n",
    "\n",
    "make_hist_mol_level_bit_weights(bit, -21.09, 42.49, None, 2, zoomIn=True, zoomIn_y_ub=250)"
   ]
  },
  {
   "cell_type": "code",
   "execution_count": null,
   "metadata": {
    "scrolled": false
   },
   "outputs": [],
   "source": [
    "bit = 411\n",
    "print(f'Bit {bit}')\n",
    "print(f'Lowest molecule-level bit weight: {min(bit_to_weights[bit][0])}')\n",
    "print(f'Highest molecule-level bit weight: {max(bit_to_weights[bit][0])}')\n",
    "\n",
    "make_hist_mol_level_bit_weights(bit, -51.74, 11.70, 1.9, None)"
   ]
  },
  {
   "cell_type": "code",
   "execution_count": null,
   "metadata": {
    "scrolled": false
   },
   "outputs": [],
   "source": [
    "bit = 411\n",
    "print(f'Bit {bit}')\n",
    "print(f'Lowest molecule-level bit weight: {min(bit_to_weights[bit][0])}')\n",
    "print(f'Highest molecule-level bit weight: {max(bit_to_weights[bit][0])}')\n",
    "\n",
    "make_hist_mol_level_bit_weights(bit, -51.74, 11.70, None, 2, zoomIn=True, zoomIn_y_ub=100)"
   ]
  },
  {
   "cell_type": "code",
   "execution_count": null,
   "metadata": {
    "scrolled": false
   },
   "outputs": [],
   "source": [
    "bit = 2024\n",
    "print(f'Bit {bit}')\n",
    "print(f'Lowest molecule-level bit weight: {min(bit_to_weights[bit][0])}')\n",
    "print(f'Highest molecule-level bit weight: {max(bit_to_weights[bit][0])}')\n",
    "\n",
    "make_hist_mol_level_bit_weights(bit, -52.01, 11.27, 2, None)"
   ]
  },
  {
   "cell_type": "code",
   "execution_count": null,
   "metadata": {
    "scrolled": false
   },
   "outputs": [],
   "source": [
    "bit = 2024\n",
    "print(f'Bit {bit}')\n",
    "print(f'Lowest molecule-level bit weight: {min(bit_to_weights[bit][0])}')\n",
    "print(f'Highest molecule-level bit weight: {max(bit_to_weights[bit][0])}')\n",
    "\n",
    "make_hist_mol_level_bit_weights(bit, -52.01, 11.27, None, 2, zoomIn=True, zoomIn_y_ub=100)"
   ]
  },
  {
   "cell_type": "code",
   "execution_count": null,
   "metadata": {
    "scrolled": false
   },
   "outputs": [],
   "source": [
    "bit = 864\n",
    "print(f'Bit {bit}')\n",
    "print(f'Lowest molecule-level bit weight: {min(bit_to_weights[bit][0])}')\n",
    "print(f'Highest molecule-level bit weight: {max(bit_to_weights[bit][0])}')\n",
    "\n",
    "make_hist_mol_level_bit_weights(bit, -105.44, 0.57, 3.2, None)"
   ]
  },
  {
   "cell_type": "code",
   "execution_count": null,
   "metadata": {
    "scrolled": false
   },
   "outputs": [],
   "source": [
    "bit = 864\n",
    "print(f'Bit {bit}')\n",
    "print(f'Lowest molecule-level bit weight: {min(bit_to_weights[bit][0])}')\n",
    "print(f'Highest molecule-level bit weight: {max(bit_to_weights[bit][0])}')\n",
    "\n",
    "make_hist_mol_level_bit_weights(bit, -105.44, 0.57, None, 3.1, zoomIn=True, zoomIn_y_ub=30)"
   ]
  },
  {
   "cell_type": "markdown",
   "metadata": {},
   "source": [
    "### Get and visualize substructures"
   ]
  },
  {
   "cell_type": "code",
   "execution_count": null,
   "metadata": {
    "scrolled": true
   },
   "outputs": [],
   "source": [
    "bits_to_draw = []\n",
    "submol_freq_distrib = {bit: {} for bit in bits_of_interest} # store frequency distribution of substructures that \n",
    "                                                            # set each bit\n",
    "smarts_to_smis = {}\n",
    "submol_to_cpd_indices = {} # mapping to indices in df_data_hasbit\n",
    "submol_to_bit = {}\n",
    "examples_all = {bit: {} for bit in bits_of_interest} # check if there's more than one distinct bit-setting \n",
    "                                                     # substructure in the same molecule\n",
    "\n",
    "for bit in tqdm(bits_of_interest):\n",
    "    df_data_hasbit = df_data.iloc[bit_to_cpd_row_indices[bit]]\n",
    "    smis = df_data_hasbit['smiles']\n",
    "    featurizer = featurizers.FingerprintFeaturizer()\n",
    "    _, info_all = featurizer.prepare_x(df_data_hasbit, bitInfo=True)\n",
    "    for i, smi in enumerate(smis):\n",
    "        mol = Chem.MolFromSmiles(smi)\n",
    "        atomSymbols = getMorganFingerprintAtomSymbols(mol)\n",
    "        cpd_id = int(df_data[df_data['smiles']==smi]['cpd_id'].to_numpy()[0])\n",
    "        if bit not in info_all[i]:\n",
    "            continue\n",
    "        fragment_logs = getFragmentForMolBit(smi, mol, i, atomSymbols, cpd_id, bit, info_all, submol_freq_distrib, \n",
    "                        smarts_to_smis, submol_to_cpd_indices, submol_to_bit, bits_to_draw)\n",
    "        submol_freq_distrib = fragment_logs[0]\n",
    "        smarts_to_smis = fragment_logs[1]\n",
    "        submol_to_cpd_indices = fragment_logs[2]\n",
    "        submol_to_bit = fragment_logs[3]\n",
    "        bits_to_draw = fragment_logs[4]\n",
    "        examples = fragment_logs[5]\n",
    "        if examples:\n",
    "            examples_all[bit][i] = examples"
   ]
  },
  {
   "cell_type": "code",
   "execution_count": null,
   "metadata": {
    "scrolled": true
   },
   "outputs": [],
   "source": [
    "hkl.dump(submol_freq_distrib, 'submol_freq_distrib_triazine_sEH_FP-FFNN_random_seed_0.hkl', mode='w')\n",
    "hkl.dump(smarts_to_smis, 'smarts_to_smis_triazine_sEH_FP-FFNN_random_seed_0.hkl', mode='w')\n",
    "hkl.dump(submol_to_cpd_indices, 'submol_to_cpd_indices_triazine_sEH_FP-FFNN_random_seed_0.hkl', mode='w')\n",
    "hkl.dump(submol_to_bit, 'submol_to_bit_triazine_sEH_FP-FFNN_random_seed_0.hkl', mode='w')\n",
    "hkl.dump(bits_to_draw, 'bits_to_draw_triazine_sEH_FP-FFNN_random_seed_0.hkl', mode='w')\n",
    "hkl.dump(examples_all, 'examples_all_triazine_sEH_FP-FFNN_random_seed_0.hkl', mode='w')"
   ]
  },
  {
   "cell_type": "code",
   "execution_count": null,
   "metadata": {
    "scrolled": true
   },
   "outputs": [],
   "source": [
    "# submol_freq_distrib_hkl = hkl.load('submol_freq_distrib_triazine_sEH_FP-FFNN_random_seed_0.hkl')\n",
    "# submol_freq_distrib = {int(bit): d for bit, d in submol_freq_distrib_hkl.items()}\n",
    "# smarts_to_smis = hkl.load('smarts_to_smis_triazine_sEH_FP-FFNN_random_seed_0.hkl')\n",
    "# submol_to_cpd_indices = hkl.load('submol_to_cpd_indices_triazine_sEH_FP-FFNN_random_seed_0.hkl')\n",
    "# submol_to_bit = hkl.load('submol_to_bit_triazine_sEH_FP-FFNN_random_seed_0.hkl')\n",
    "# examples_all_hkl = hkl.load('examples_all_triazine_sEH_FP-FFNN_random_seed_0.hkl')\n",
    "# examples_all = {int(bit): {int(mol_idx): [int(ex_num) for ex_num in ex_nums] for mol_idx, ex_nums in exs.items()} for bit, exs in examples_all_hkl.items()}\n",
    "# bits_to_draw_hkl = hkl.load('bits_to_draw_triazine_sEH_FP-FFNN_random_seed_0.hkl')\n",
    "# bits_to_draw = [(int(item[0]), Chem.MolFromSmiles(df_data.iloc[int(item[0])-1]['smiles']), int(item[2]), \n",
    "#         {int(bit): tuple([(int(an[0]), int(an[1])) for an in ans]) for bit, ans in item[3].items()}) for item in bits_to_draw_hkl]"
   ]
  },
  {
   "cell_type": "code",
   "execution_count": null,
   "metadata": {
    "scrolled": true
   },
   "outputs": [],
   "source": [
    "examples_all"
   ]
  },
  {
   "cell_type": "code",
   "execution_count": null,
   "metadata": {
    "scrolled": true
   },
   "outputs": [],
   "source": [
    "for item in smarts_to_smis.items():\n",
    "    print(f'SMARTS: {item[0]}')\n",
    "    print(f'SMILES: {np.squeeze(item[1])}')\n",
    "    print()\n",
    "print()\n",
    "print(f'Number of distinct SMARTS: {len(set(smarts_to_smis.keys()))}')\n",
    "print(f'Number of distinct SMILES: {len(set([j for i in smarts_to_smis.values() for j in i]))}')"
   ]
  },
  {
   "cell_type": "code",
   "execution_count": null,
   "metadata": {
    "scrolled": true
   },
   "outputs": [],
   "source": [
    "for bit in submol_freq_distrib:\n",
    "    print(f'Bit ID: {bit}')\n",
    "    for submol in submol_freq_distrib[bit]:\n",
    "        print(f'Substructure (SMARTS): {submol}')\n",
    "        print(f'Frequency: {submol_freq_distrib[bit][submol]}')\n",
    "    print()"
   ]
  },
  {
   "cell_type": "code",
   "execution_count": null,
   "metadata": {
    "scrolled": true
   },
   "outputs": [],
   "source": [
    "_bits_to_draw = [bit[1:] for bit in bits_to_draw]"
   ]
  },
  {
   "cell_type": "code",
   "execution_count": null,
   "metadata": {
    "scrolled": true
   },
   "outputs": [],
   "source": [
    "d = Draw.DrawMorganBits(_bits_to_draw, molsPerRow=4, aromaticColor=None, ringColor=None, \n",
    "                        legends=[f'cpd_id {bit[0]}, bit: {bit[2]}' for bit in bits_to_draw], subImgSize=(600, 600))\n",
    "d.save(pathify(f'bits_visualization_triazine_sEH_FP-FFNN_random_seed_0.png'))\n",
    "d"
   ]
  },
  {
   "cell_type": "markdown",
   "metadata": {},
   "source": [
    "## Substructure analysis"
   ]
  },
  {
   "cell_type": "markdown",
   "metadata": {},
   "source": [
    "### Number substructures"
   ]
  },
  {
   "cell_type": "code",
   "execution_count": null,
   "metadata": {
    "scrolled": true
   },
   "outputs": [],
   "source": [
    "# numbering correponds to ordering of bars from left to right on plot of substructure weights (see below)\n",
    "ctr = 1\n",
    "submol_to_id = {}\n",
    "for bit in bits_of_interest:\n",
    "    submols = sorted(submol_freq_distrib[bit].keys(), key = lambda x: submol_freq_distrib[bit][x], reverse=True)\n",
    "    for s in submols:\n",
    "        submol_to_id[s] = ctr\n",
    "        ctr += 1"
   ]
  },
  {
   "cell_type": "code",
   "execution_count": null,
   "metadata": {
    "scrolled": false
   },
   "outputs": [],
   "source": [
    "for item in submol_to_id.items():\n",
    "    print(item[1])\n",
    "    print(item[0])\n",
    "    print(np.squeeze(smarts_to_smis[item[0]]))\n",
    "    print()"
   ]
  },
  {
   "cell_type": "markdown",
   "metadata": {},
   "source": [
    "### Calculate substructure weights"
   ]
  },
  {
   "cell_type": "code",
   "execution_count": null,
   "metadata": {
    "scrolled": true
   },
   "outputs": [],
   "source": [
    "substruct_to_weight = {}\n",
    "for submol in submol_to_cpd_indices:\n",
    "    bit = int(np.squeeze(submol_to_bit[submol]))\n",
    "    substruct_to_weight[submol] = GetWeightsForSubstructure(bit_to_weights[bit][0], list(set(submol_to_cpd_indices[submol])))[1]"
   ]
  },
  {
   "cell_type": "code",
   "execution_count": null,
   "metadata": {
    "scrolled": false
   },
   "outputs": [],
   "source": [
    "for item in sorted(substruct_to_weight.items(), key=lambda x: submol_to_id[x[0]]):\n",
    "    print(f'Substructure (SMARTS): {item[0]}')\n",
    "    print()\n",
    "    print(f'Weight: {item[1]}')\n",
    "    print()\n",
    "    print()"
   ]
  },
  {
   "cell_type": "markdown",
   "metadata": {},
   "source": [
    "### Plot substructure weights"
   ]
  },
  {
   "cell_type": "code",
   "execution_count": null,
   "metadata": {
    "scrolled": true
   },
   "outputs": [],
   "source": [
    "substructs = sorted(substruct_to_weight.keys(), key=lambda s: submol_to_id[s])\n",
    "weights = [substruct_to_weight[s] for s in substructs]\n",
    "bars = []\n",
    "for bit in bits_of_interest:\n",
    "    _bars = []\n",
    "    substruct_smarts_for_bit = submol_freq_distrib[bit].keys()\n",
    "    for s in substructs:\n",
    "        if s in substruct_smarts_for_bit:\n",
    "            _bars.append(substruct_to_weight[s])\n",
    "    bars.append(_bars)\n",
    "    \n",
    "barWidth = 1.5\n",
    "offset = 1.7\n",
    "space = 4\n",
    "pos = len(bars[0])*barWidth / 2"
   ]
  },
  {
   "cell_type": "code",
   "execution_count": null,
   "metadata": {
    "scrolled": true
   },
   "outputs": [],
   "source": [
    "r1 = [pos]\n",
    "pos += space + 1.5*barWidth + (offset-barWidth)\n",
    "r2 = [pos - 0.5*barWidth - 0.5*(offset-barWidth), pos + 0.5*barWidth + 0.5*(offset-barWidth)]\n",
    "pos += space + 1.5*barWidth + (offset-barWidth)\n",
    "r3 = [pos - 0.5*barWidth - 0.5*(offset-barWidth), pos + 0.5*barWidth + 0.5*(offset-barWidth)]\n",
    "pos += space + 1.5*barWidth + (offset-barWidth)\n",
    "r4 = [pos - 0.5*barWidth - 0.5*(offset-barWidth), pos + 0.5*barWidth + 0.5*(offset-barWidth)]\n",
    "pos += space + 1.5*barWidth + (offset-barWidth)\n",
    "r5 = [pos - barWidth - (offset-barWidth), pos, pos + barWidth + (offset-barWidth)]\n",
    "pos += space + 1.5*barWidth + (offset-barWidth)\n",
    "r6 = [pos]\n",
    "pos += space + 1.5*barWidth + (offset-barWidth)\n",
    "r7 = [pos]\n",
    "pos += space + 1.5*barWidth + (offset-barWidth)\n",
    "r8 = [pos]\n",
    "rs = [r1, r2, r3, r4, r5, r6, r7, r8]"
   ]
  },
  {
   "cell_type": "code",
   "execution_count": null,
   "metadata": {
    "scrolled": false
   },
   "outputs": [],
   "source": [
    "fig = plt.figure(figsize=(7, 4), dpi=300)\n",
    "\n",
    "rects = []\n",
    "for bit in range(len(bars)):\n",
    "    for i in range(len(rs[bit])):\n",
    "        rects.append(plt.bar(rs[bit][i], bars[bit][i], color='#1f77b4', width=barWidth, zorder=2)[0])\n",
    "    \n",
    "for rect in rects[:-4]:\n",
    "    height = rect.get_height()\n",
    "    plt.annotate('{:.3f}'.format(height),\n",
    "                xy=(rect.get_x() + rect.get_width() / 2, height),\n",
    "                xytext=(0, 3),  \n",
    "                textcoords=\"offset points\",\n",
    "                ha='center', va='bottom',\n",
    "                fontsize=4.5)\n",
    "rect = rects[-4]\n",
    "height = rect.get_height()\n",
    "plt.annotate(-8e-5,\n",
    "                xy=(rect.get_x() + rect.get_width() / 2, height),\n",
    "                xytext=(0, -8),  \n",
    "                textcoords=\"offset points\",\n",
    "                ha='center', va='bottom',\n",
    "                fontsize=4.5)\n",
    "for rect in rects[-3:]:\n",
    "    height = rect.get_height()\n",
    "    plt.annotate('{:.3f}'.format(height),\n",
    "                xy=(rect.get_x() + rect.get_width() / 2, height),\n",
    "                xytext=(0, -8),  \n",
    "                textcoords=\"offset points\",\n",
    "                ha='center', va='bottom',\n",
    "                fontsize=4.5)\n",
    "\n",
    "fig.canvas.draw()\n",
    "ax = plt.gca()\n",
    "ax.grid(zorder=1)\n",
    "ax.set_xlabel('Bit ID', fontsize=9)\n",
    "ax.set_ylabel('Substructure weight', fontsize=9)\n",
    "ax.tick_params(labelsize=9)\n",
    "ax.set_xticks([((len(bars[0])*barWidth / 2) + i*(space + 1.5*barWidth + (offset-barWidth))) for i in range(len(bars))])\n",
    "ax.set_xticklabels([str(bit_id) for bit_id in bits_of_interest], ha='center')\n",
    "ax.tick_params(axis='x', length=0)\n",
    "plt.tight_layout()\n",
    "plt.savefig(pathify(f'substructure_weights_triazine_sEH_FP-FFNN_random_seed_0.png'))\n",
    "plt.show()"
   ]
  },
  {
   "cell_type": "markdown",
   "metadata": {},
   "source": [
    "# Triazine SIRT2 (random split, seed 0)"
   ]
  },
  {
   "cell_type": "markdown",
   "metadata": {},
   "source": [
    "## Load data"
   ]
  },
  {
   "cell_type": "code",
   "execution_count": null,
   "metadata": {
    "scrolled": true
   },
   "outputs": [],
   "source": [
    "os.environ[\"HDF5_USE_FILE_LOCKING\"] = 'FALSE'\n",
    "df_data = pd.read_csv(os.path.join(DELQSAR_ROOT, 'experiments', 'datasets', 'triazine_lib_sEH_SIRT2_QSAR.csv'))\n",
    "hf = h5py.File(os.path.join(DELQSAR_ROOT, 'experiments', triazine_FINGERPRINTS_FILENAME))\n",
    "x = np.array(hf['all_fps'])\n",
    "INPUT_SIZE = x.shape[1] \n",
    "hf.close()"
   ]
  },
  {
   "cell_type": "markdown",
   "metadata": {},
   "source": [
    "## Load model"
   ]
  },
  {
   "cell_type": "code",
   "execution_count": null,
   "metadata": {
    "scrolled": true
   },
   "outputs": [],
   "source": [
    "model = models.MLP(INPUT_SIZE, [256, 128, 64],\n",
    "            dropout=0.1)\n",
    "model.load_state_dict(torch.load(triazine_SIRT2_RANDOM_SPLIT_FP_FFNN_SEED_0_MODEL_PATH))\n",
    "if DEVICE:\n",
    "    model = model.to(DEVICE)"
   ]
  },
  {
   "cell_type": "markdown",
   "metadata": {},
   "source": [
    "## Bit analysis"
   ]
  },
  {
   "cell_type": "markdown",
   "metadata": {},
   "source": [
    "### Calculate bit weights"
   ]
  },
  {
   "cell_type": "code",
   "execution_count": null,
   "metadata": {
    "scrolled": true
   },
   "outputs": [],
   "source": [
    "set_bit_ids = [bit_id for bit_id in tqdm(range(2048)) if any(x[:,bit_id]==1)]\n",
    "print(f'Number of bits set by at least one molecule in the data set: {len(set_bit_ids)}')"
   ]
  },
  {
   "cell_type": "code",
   "execution_count": null,
   "metadata": {
    "scrolled": true
   },
   "outputs": [],
   "source": [
    "hf = h5py.File('triazine_set_bit_ids', 'w')\n",
    "hf.create_dataset('set_bit_ids', data=np.array(set_bit_ids))\n",
    "hf.close()"
   ]
  },
  {
   "cell_type": "code",
   "execution_count": null,
   "metadata": {
    "scrolled": true
   },
   "outputs": [],
   "source": [
    "# hf = h5py.File('triazine_set_bit_ids', 'r')\n",
    "# set_bit_ids = np.array(hf['set_bit_ids'])\n",
    "# hf.close()\n",
    "# print(f'Number of bits set by at least one molecule in the data set: {len(set_bit_ids)}')"
   ]
  },
  {
   "cell_type": "code",
   "execution_count": null,
   "metadata": {
    "scrolled": true
   },
   "outputs": [],
   "source": [
    "# check if any bit is set by exactly one molecule\n",
    "# for bit_id in tqdm(range(2048)):\n",
    "#     indices = np.squeeze(np.where(x[:,bit_id]==1))\n",
    "#     if indices.shape == ():\n",
    "#         print(f'Bit {bit_id} is set by only one molecule')\n",
    "#         break"
   ]
  },
  {
   "cell_type": "code",
   "execution_count": null,
   "metadata": {
    "scrolled": true
   },
   "outputs": [],
   "source": [
    "basePreds_all = np.array(model.predict_on_x(x, device=DEVICE), dtype='float64')\n",
    "bit_to_weights = {bit_id: GetWeightsForBit(bit_id) for bit_id in tqdm(set_bit_ids)}\n",
    "hkl.dump(bit_to_weights, 'bit_to_weights_triazine_SIRT2_FP-FFNN_random_seed_0.hkl', mode='w')"
   ]
  },
  {
   "cell_type": "code",
   "execution_count": null,
   "metadata": {
    "scrolled": true
   },
   "outputs": [],
   "source": [
    "# bit_to_weights_hkl = hkl.load('bit_to_weights_triazine_SIRT2_FP-FFNN_random_seed_0.hkl')\n",
    "# bit_to_weights = {int(bit): weights for bit, weights in bit_to_weights_hkl.items()}"
   ]
  },
  {
   "cell_type": "markdown",
   "metadata": {},
   "source": [
    "### Plot distribution of average bit weights"
   ]
  },
  {
   "cell_type": "code",
   "execution_count": null,
   "metadata": {
    "scrolled": true
   },
   "outputs": [],
   "source": [
    "avg_bit_weights = [bit_to_weights[b][1] for b in bit_to_weights.keys()]\n",
    "print(f'Lowest average bit weight: {min(avg_bit_weights)}')\n",
    "print(f'Highest average bit weight: {max(avg_bit_weights)}')"
   ]
  },
  {
   "cell_type": "code",
   "execution_count": null,
   "metadata": {
    "scrolled": true
   },
   "outputs": [],
   "source": [
    "# histogram of average bit weights (only including bits set by at least one molecule)\n",
    "def make_hist_avg_bit_weights(zoomIn=False):\n",
    "    fig = plt.figure(figsize=(3.5, 1.6), dpi=300)\n",
    "    if zoomIn: \n",
    "        bins = np.arange(-0.04, 1.44, 0.012) \n",
    "    else:\n",
    "        bins = np.arange(-0.04, 1.44, 0.014) \n",
    "    _, bins, patches = plt.hist(\n",
    "        np.clip(avg_bit_weights, -0.04, bins[-1]), \n",
    "        bins=bins,  \n",
    "        density=False,\n",
    "        zorder=2\n",
    "    )\n",
    "    fig.canvas.draw() # required to get tick labels\n",
    "    ax = plt.gca()\n",
    "    if zoomIn:\n",
    "        ax.set_ylim([0, 8])\n",
    "    ax.grid(zorder=1)\n",
    "    ax.set_xlabel('Average weight')\n",
    "    ax.set_ylabel('Number of bits')\n",
    "    plt.tight_layout()\n",
    "    if zoomIn:\n",
    "        plt.savefig(pathify(f'bit_weight_histogram_zoomed_in_triazine_SIRT2_FP-FFNN_random_seed_0.png'))\n",
    "    else:\n",
    "        plt.savefig(pathify(f'bit_weight_histogram_triazine_SIRT2_FP-FFNN_random_seed_0.png'))\n",
    "    plt.show()"
   ]
  },
  {
   "cell_type": "code",
   "execution_count": null,
   "metadata": {
    "scrolled": true
   },
   "outputs": [],
   "source": [
    "make_hist_avg_bit_weights()"
   ]
  },
  {
   "cell_type": "code",
   "execution_count": null,
   "metadata": {
    "scrolled": true
   },
   "outputs": [],
   "source": [
    "make_hist_avg_bit_weights(zoomIn=True)"
   ]
  },
  {
   "cell_type": "markdown",
   "metadata": {},
   "source": [
    "### Get bits of interest (based on average bit weight)"
   ]
  },
  {
   "cell_type": "code",
   "execution_count": null,
   "metadata": {
    "scrolled": true
   },
   "outputs": [],
   "source": [
    "bits_sorted_by_avg_weight = sorted(bit_to_weights.keys(), key = lambda b: bit_to_weights[b][1])\n",
    "top_bits = bits_sorted_by_avg_weight[-5:]\n",
    "top_bits.reverse()\n",
    "bottom_bits = bits_sorted_by_avg_weight[:3]\n",
    "bottom_bits.reverse()\n",
    "print(f'Top bits: {top_bits}')\n",
    "print(f'Bottom bits: {bottom_bits}')"
   ]
  },
  {
   "cell_type": "code",
   "execution_count": null,
   "metadata": {
    "scrolled": true
   },
   "outputs": [],
   "source": [
    "bits_of_interest = top_bits + bottom_bits\n",
    "for b in bits_of_interest:\n",
    "    print(f'Bit ID: {b}')\n",
    "    print(f'Average weight: {bit_to_weights[b][1]}')\n",
    "    print(f'Number of molecules with the bit: {len(np.squeeze(np.where(x[:,b]==1)))}')\n",
    "    print()"
   ]
  },
  {
   "cell_type": "code",
   "execution_count": null,
   "metadata": {
    "scrolled": true
   },
   "outputs": [],
   "source": [
    "bit_to_cpd_row_indices = {bit: list([idx for idx in np.squeeze(np.where(x[:,bit]==1))]) for bit in bits_of_interest}\n",
    "for item in bit_to_cpd_row_indices.items():\n",
    "    print(f'Bit ID: {item[0]}')\n",
    "    print(f'Number of molecules with the bit: {len(item[1])}')\n",
    "    print()"
   ]
  },
  {
   "cell_type": "markdown",
   "metadata": {},
   "source": [
    "### Plot distributions of molecule-level bit weights"
   ]
  },
  {
   "cell_type": "code",
   "execution_count": null,
   "metadata": {
    "scrolled": true
   },
   "outputs": [],
   "source": [
    "# histogram of molecule-level bit weights\n",
    "def make_hist_mol_level_bit_weights(bit_id, x_lb, x_ub, stepsize_noZoom, stepsize_zoom, full=False, \n",
    "                                    zoomIn=False, zoomIn_y_ub=None):\n",
    "    weights = bit_to_weights[bit_id][0]\n",
    "    if full:\n",
    "        fig = plt.figure(figsize=(3.5, 1.6), dpi=300)\n",
    "    else:\n",
    "        fig = plt.figure(figsize=(1.85, 1.6), dpi=300)\n",
    "    if zoomIn:\n",
    "        bins = np.arange(x_lb, x_ub, stepsize_zoom)\n",
    "    else:\n",
    "        bins = np.arange(x_lb, x_ub, stepsize_noZoom) \n",
    "    _, bins, patches = plt.hist(\n",
    "        np.clip(weights, x_lb, bins[-1]), \n",
    "        bins=bins,  \n",
    "        density=False,\n",
    "        zorder=2\n",
    "    )\n",
    "    fig.canvas.draw() # required to get tick labels\n",
    "    ax = plt.gca()\n",
    "    if zoomIn:\n",
    "        ax.set_ylim([0, zoomIn_y_ub])\n",
    "    ax.grid(zorder=1)\n",
    "    ax.tick_params(labelsize=8)\n",
    "    ax.set_xlabel('Weight', fontsize=8)\n",
    "    ax.set_ylabel('Number of molecules', fontsize=8)\n",
    "    ax.set_title(f'Bit {bit_id}', fontsize=8)\n",
    "    plt.tight_layout()\n",
    "    if zoomIn:\n",
    "        plt.savefig(pathify(f'mol-level_bit_weight_histogram_bit_{bit_id}_zoomed_in_triazine_SIRT2_FP-FFNN_random_seed_0.png'))\n",
    "    else:\n",
    "        plt.savefig(pathify(f'mol-level_bit_weight_histogram_bit_{bit_id}_triazine_SIRT2_FP-FFNN_random_seed_0.png'))\n",
    "    plt.show()"
   ]
  },
  {
   "cell_type": "code",
   "execution_count": null,
   "metadata": {
    "scrolled": true
   },
   "outputs": [],
   "source": [
    "bit = 348\n",
    "print(f'Bit {bit}')\n",
    "print(f'Lowest molecule-level bit weight: {min(bit_to_weights[bit][0])}')\n",
    "print(f'Highest molecule-level bit weight: {max(bit_to_weights[bit][0])}')\n",
    "\n",
    "make_hist_mol_level_bit_weights(bit, -0.15, 2.34, 0.03, None, full=True)"
   ]
  },
  {
   "cell_type": "code",
   "execution_count": null,
   "metadata": {
    "scrolled": true
   },
   "outputs": [],
   "source": [
    "bit = 330\n",
    "print(f'Bit {bit}')\n",
    "print(f'Lowest molecule-level bit weight: {min(bit_to_weights[bit][0])}')\n",
    "print(f'Highest molecule-level bit weight: {max(bit_to_weights[bit][0])}')\n",
    "\n",
    "make_hist_mol_level_bit_weights(bit, -0.11, 2.27, 0.08, None)"
   ]
  },
  {
   "cell_type": "code",
   "execution_count": null,
   "metadata": {
    "scrolled": true
   },
   "outputs": [],
   "source": [
    "bit = 330\n",
    "print(f'Bit {bit}')\n",
    "print(f'Lowest molecule-level bit weight: {min(bit_to_weights[bit][0])}')\n",
    "print(f'Highest molecule-level bit weight: {max(bit_to_weights[bit][0])}')\n",
    "\n",
    "make_hist_mol_level_bit_weights(bit, -0.11, 2.27, None, 0.08, zoomIn=True, zoomIn_y_ub=5000)"
   ]
  },
  {
   "cell_type": "code",
   "execution_count": null,
   "metadata": {
    "scrolled": true
   },
   "outputs": [],
   "source": [
    "bit = 1643\n",
    "print(f'Bit {bit}')\n",
    "print(f'Lowest molecule-level bit weight: {min(bit_to_weights[bit][0])}')\n",
    "print(f'Highest molecule-level bit weight: {max(bit_to_weights[bit][0])}')\n",
    "\n",
    "make_hist_mol_level_bit_weights(bit, -0.07, 1.97, 0.07, None)"
   ]
  },
  {
   "cell_type": "code",
   "execution_count": null,
   "metadata": {
    "scrolled": true
   },
   "outputs": [],
   "source": [
    "bit = 1643\n",
    "print(f'Bit {bit}')\n",
    "print(f'Lowest molecule-level bit weight: {min(bit_to_weights[bit][0])}')\n",
    "print(f'Highest molecule-level bit weight: {max(bit_to_weights[bit][0])}')\n",
    "\n",
    "make_hist_mol_level_bit_weights(bit, -0.07, 1.97, None, 0.07, zoomIn=True, zoomIn_y_ub=5000)"
   ]
  },
  {
   "cell_type": "code",
   "execution_count": null,
   "metadata": {
    "scrolled": true
   },
   "outputs": [],
   "source": [
    "bit = 991\n",
    "print(f'Bit {bit}')\n",
    "print(f'Lowest molecule-level bit weight: {min(bit_to_weights[bit][0])}')\n",
    "print(f'Highest molecule-level bit weight: {max(bit_to_weights[bit][0])}')\n",
    "\n",
    "make_hist_mol_level_bit_weights(bit, -0.09, 1.09, 0.017, None, full=True)"
   ]
  },
  {
   "cell_type": "code",
   "execution_count": null,
   "metadata": {
    "scrolled": true
   },
   "outputs": [],
   "source": [
    "bit = 1272\n",
    "print(f'Bit {bit}')\n",
    "print(f'Lowest molecule-level bit weight: {min(bit_to_weights[bit][0])}')\n",
    "print(f'Highest molecule-level bit weight: {max(bit_to_weights[bit][0])}')\n",
    "\n",
    "make_hist_mol_level_bit_weights(bit, -0.13, 2.31, 0.09, None)"
   ]
  },
  {
   "cell_type": "code",
   "execution_count": null,
   "metadata": {
    "scrolled": true
   },
   "outputs": [],
   "source": [
    "bit = 1272\n",
    "print(f'Bit {bit}')\n",
    "print(f'Lowest molecule-level bit weight: {min(bit_to_weights[bit][0])}')\n",
    "print(f'Highest molecule-level bit weight: {max(bit_to_weights[bit][0])}')\n",
    "\n",
    "make_hist_mol_level_bit_weights(bit, -0.13, 2.31, None, 0.09, zoomIn=True, zoomIn_y_ub=5500)"
   ]
  },
  {
   "cell_type": "code",
   "execution_count": null,
   "metadata": {
    "scrolled": true
   },
   "outputs": [],
   "source": [
    "bit = 1334\n",
    "print(f'Bit {bit}')\n",
    "print(f'Lowest molecule-level bit weight: {min(bit_to_weights[bit][0])}')\n",
    "print(f'Highest molecule-level bit weight: {max(bit_to_weights[bit][0])}')\n",
    "\n",
    "make_hist_mol_level_bit_weights(bit, -0.64, 0.07, 0.027, None)"
   ]
  },
  {
   "cell_type": "code",
   "execution_count": null,
   "metadata": {
    "scrolled": true
   },
   "outputs": [],
   "source": [
    "bit = 1334\n",
    "print(f'Bit {bit}')\n",
    "print(f'Lowest molecule-level bit weight: {min(bit_to_weights[bit][0])}')\n",
    "print(f'Highest molecule-level bit weight: {max(bit_to_weights[bit][0])}')\n",
    "\n",
    "make_hist_mol_level_bit_weights(bit, -0.3, 0.07, None, 0.014, zoomIn=True, zoomIn_y_ub=4500)"
   ]
  },
  {
   "cell_type": "code",
   "execution_count": null,
   "metadata": {
    "scrolled": true
   },
   "outputs": [],
   "source": [
    "bit = 873\n",
    "print(f'Bit {bit}')\n",
    "print(f'Lowest molecule-level bit weight: {min(bit_to_weights[bit][0])}')\n",
    "print(f'Highest molecule-level bit weight: {max(bit_to_weights[bit][0])}')\n",
    "\n",
    "make_hist_mol_level_bit_weights(bit, -0.78, 0.02, 0.019, None)"
   ]
  },
  {
   "cell_type": "code",
   "execution_count": null,
   "metadata": {
    "scrolled": true
   },
   "outputs": [],
   "source": [
    "bit = 873\n",
    "print(f'Bit {bit}')\n",
    "print(f'Lowest molecule-level bit weight: {min(bit_to_weights[bit][0])}')\n",
    "print(f'Highest molecule-level bit weight: {max(bit_to_weights[bit][0])}')\n",
    "\n",
    "make_hist_mol_level_bit_weights(bit, -0.2, 0.02, None, 0.007, zoomIn=True, zoomIn_y_ub=10000)"
   ]
  },
  {
   "cell_type": "code",
   "execution_count": null,
   "metadata": {
    "scrolled": true
   },
   "outputs": [],
   "source": [
    "bit = 430\n",
    "print(f'Bit {bit}')\n",
    "print(f'Lowest molecule-level bit weight: {min(bit_to_weights[bit][0])}')\n",
    "print(f'Highest molecule-level bit weight: {max(bit_to_weights[bit][0])}')\n",
    "\n",
    "make_hist_mol_level_bit_weights(bit, -0.63, 0.07, 0.025, None)"
   ]
  },
  {
   "cell_type": "code",
   "execution_count": null,
   "metadata": {
    "scrolled": true
   },
   "outputs": [],
   "source": [
    "bit = 430\n",
    "print(f'Bit {bit}')\n",
    "print(f'Lowest molecule-level bit weight: {min(bit_to_weights[bit][0])}')\n",
    "print(f'Highest molecule-level bit weight: {max(bit_to_weights[bit][0])}')\n",
    "\n",
    "make_hist_mol_level_bit_weights(bit, -0.3, 0.07, None, 0.0145, zoomIn=True, zoomIn_y_ub=3500)"
   ]
  },
  {
   "cell_type": "markdown",
   "metadata": {},
   "source": [
    "### Get and visualize substructures"
   ]
  },
  {
   "cell_type": "code",
   "execution_count": null,
   "metadata": {
    "scrolled": false
   },
   "outputs": [],
   "source": [
    "bits_to_draw = []\n",
    "submol_freq_distrib = {bit: {} for bit in bits_of_interest} # store frequency distribution of substructures that \n",
    "                                                            # set each bit\n",
    "smarts_to_smis = {}\n",
    "submol_to_cpd_indices = {} # mapping to indices in df_data_hasbit\n",
    "submol_to_bit = {}\n",
    "examples_all = {bit: {} for bit in bits_of_interest} # check if there's more than one distinct bit-setting \n",
    "                                                     # substructure in the same molecule\n",
    "\n",
    "for bit in tqdm(bits_of_interest):\n",
    "    df_data_hasbit = df_data.iloc[bit_to_cpd_row_indices[bit]]\n",
    "    smis = df_data_hasbit['smiles']\n",
    "    featurizer = featurizers.FingerprintFeaturizer()\n",
    "    _, info_all = featurizer.prepare_x(df_data_hasbit, bitInfo=True)\n",
    "    for i, smi in enumerate(smis):\n",
    "        mol = Chem.MolFromSmiles(smi)\n",
    "        atomSymbols = getMorganFingerprintAtomSymbols(mol)\n",
    "        cpd_id = int(df_data[df_data['smiles']==smi]['cpd_id'].to_numpy()[0])\n",
    "        if bit not in info_all[i]:\n",
    "            continue\n",
    "        fragment_logs = getFragmentForMolBit(smi, mol, i, atomSymbols, cpd_id, bit, info_all, submol_freq_distrib, \n",
    "                        smarts_to_smis, submol_to_cpd_indices, submol_to_bit, bits_to_draw)\n",
    "        submol_freq_distrib = fragment_logs[0]\n",
    "        smarts_to_smis = fragment_logs[1]\n",
    "        submol_to_cpd_indices = fragment_logs[2]\n",
    "        submol_to_bit = fragment_logs[3]\n",
    "        bits_to_draw = fragment_logs[4]\n",
    "        examples = fragment_logs[5]\n",
    "        if examples:\n",
    "            examples_all[bit][i] = examples"
   ]
  },
  {
   "cell_type": "code",
   "execution_count": null,
   "metadata": {
    "scrolled": true
   },
   "outputs": [],
   "source": [
    "hkl.dump(submol_freq_distrib, 'submol_freq_distrib_triazine_SIRT2_FP-FFNN_random_seed_0.hkl', mode='w')\n",
    "hkl.dump(smarts_to_smis, 'smarts_to_smis_triazine_SIRT2_FP-FFNN_random_seed_0.hkl', mode='w')\n",
    "hkl.dump(submol_to_cpd_indices, 'submol_to_cpd_indices_triazine_SIRT2_FP-FFNN_random_seed_0.hkl', mode='w')\n",
    "hkl.dump(submol_to_bit, 'submol_to_bit_triazine_SIRT2_FP-FFNN_random_seed_0.hkl', mode='w')\n",
    "hkl.dump(bits_to_draw, 'bits_to_draw_triazine_SIRT2_FP-FFNN_random_seed_0.hkl', mode='w')\n",
    "hkl.dump(examples_all, 'examples_all_triazine_SIRT2_FP-FFNN_random_seed_0.hkl', mode='w')"
   ]
  },
  {
   "cell_type": "code",
   "execution_count": null,
   "metadata": {
    "scrolled": true
   },
   "outputs": [],
   "source": [
    "# submol_freq_distrib_hkl = hkl.load('submol_freq_distrib_triazine_SIRT2_FP-FFNN_random_seed_0.hkl')\n",
    "# submol_freq_distrib = {int(bit): d for bit, d in submol_freq_distrib_hkl.items()}\n",
    "# smarts_to_smis = hkl.load('smarts_to_smis_triazine_SIRT2_FP-FFNN_random_seed_0.hkl')\n",
    "# submol_to_cpd_indices = hkl.load('submol_to_cpd_indices_triazine_SIRT2_FP-FFNN_random_seed_0.hkl')\n",
    "# submol_to_bit = hkl.load('submol_to_bit_triazine_SIRT2_FP-FFNN_random_seed_0.hkl')\n",
    "# examples_all_hkl = hkl.load('examples_all_triazine_SIRT2_FP-FFNN_random_seed_0.hkl')\n",
    "# examples_all = {int(bit): {int(mol_idx): [int(ex_num) for ex_num in ex_nums] for mol_idx, ex_nums in exs.items()} for bit, exs in examples_all_hkl.items()}\n",
    "# bits_to_draw_hkl = hkl.load('bits_to_draw_triazine_SIRT2_FP-FFNN_random_seed_0.hkl')\n",
    "# bits_to_draw = [(int(item[0]), Chem.MolFromSmiles(df_data.iloc[int(item[0])-1]['smiles']), int(item[2]), \n",
    "#         {int(bit): tuple([(int(an[0]), int(an[1])) for an in ans]) for bit, ans in item[3].items()}) for item in bits_to_draw_hkl]"
   ]
  },
  {
   "cell_type": "code",
   "execution_count": null,
   "metadata": {
    "scrolled": true
   },
   "outputs": [],
   "source": [
    "examples_all"
   ]
  },
  {
   "cell_type": "code",
   "execution_count": null,
   "metadata": {
    "scrolled": true
   },
   "outputs": [],
   "source": [
    "for item in smarts_to_smis.items():\n",
    "    print(f'SMARTS: {item[0]}')\n",
    "    print(f'SMILES: {np.squeeze(item[1])}')\n",
    "    print()\n",
    "print()\n",
    "print(f'Number of distinct SMARTS: {len(set(smarts_to_smis.keys()))}')\n",
    "print(f'Number of distinct SMILES: {len(set([j for i in smarts_to_smis.values() for j in i]))}')"
   ]
  },
  {
   "cell_type": "code",
   "execution_count": null,
   "metadata": {
    "scrolled": true
   },
   "outputs": [],
   "source": [
    "for bit in submol_freq_distrib:\n",
    "    print(f'Bit ID: {bit}')\n",
    "    for submol in submol_freq_distrib[bit]:\n",
    "        print(f'Substructure (SMARTS): {submol}')\n",
    "        print(f'Frequency: {submol_freq_distrib[bit][submol]}')\n",
    "    print()"
   ]
  },
  {
   "cell_type": "code",
   "execution_count": null,
   "metadata": {
    "scrolled": true
   },
   "outputs": [],
   "source": [
    "# visualize central atom for unkekulizable substructure (cpd_id 74, atom 20, radius 2)\n",
    "mol = Chem.MolFromSmiles(df_data.iloc[73]['smiles'])\n",
    "d = Draw.MolDraw2DCairo(600, 600)\n",
    "Draw.PrepareAndDrawMolecule(d, mol, highlightAtoms=[20])\n",
    "d.FinishDrawing()\n",
    "save_png(d.GetDrawingText(), pathify('cpd_id 74_atom 20.png'))"
   ]
  },
  {
   "cell_type": "code",
   "execution_count": null,
   "metadata": {
    "scrolled": true
   },
   "outputs": [],
   "source": [
    "ctrs = {bit: 0 for bit in bits_of_interest}\n",
    "for b in bits_to_draw:\n",
    "    if b[0] == 74:\n",
    "        continue # Unkekulizable; skip\n",
    "    mol_examples = list(examples_all[b[2]].values())[ctrs[b[2]]]\n",
    "    ctrs[b[2]] += 1\n",
    "    for ex_num in mol_examples:\n",
    "        d = Draw.DrawMorganBit(b[1], b[2], b[3], whichExample=ex_num, aromaticColor=None, ringColor=None)\n",
    "        d.save(pathify(f'triazine_SIRT2_FP-FFNN_random_seed_0_cpd_id_{b[0]}_bit_{b[2]}_example_{ex_num}.png'), 'PNG')"
   ]
  },
  {
   "cell_type": "markdown",
   "metadata": {},
   "source": [
    "## Substructure analysis"
   ]
  },
  {
   "cell_type": "markdown",
   "metadata": {},
   "source": [
    "### Number substructures"
   ]
  },
  {
   "cell_type": "code",
   "execution_count": null,
   "metadata": {
    "scrolled": true
   },
   "outputs": [],
   "source": [
    "# numbering correponds to ordering of bars from left to right on plot of substructure weights (see below)\n",
    "ctr = 1\n",
    "submol_to_id = {}\n",
    "for bit in bits_of_interest:\n",
    "    submols = sorted(submol_freq_distrib[bit].keys(), key = lambda x: submol_freq_distrib[bit][x], reverse=True)\n",
    "    for s in submols:\n",
    "        submol_to_id[s] = ctr\n",
    "        ctr += 1"
   ]
  },
  {
   "cell_type": "code",
   "execution_count": null,
   "metadata": {
    "scrolled": false
   },
   "outputs": [],
   "source": [
    "for item in submol_to_id.items():\n",
    "    print(item[1])\n",
    "    print(item[0])\n",
    "    print(np.squeeze(smarts_to_smis[item[0]]))\n",
    "    print()"
   ]
  },
  {
   "cell_type": "markdown",
   "metadata": {},
   "source": [
    "### Calculate substructure weights"
   ]
  },
  {
   "cell_type": "code",
   "execution_count": null,
   "metadata": {
    "scrolled": true
   },
   "outputs": [],
   "source": [
    "substruct_to_weight = {}\n",
    "for submol in submol_to_cpd_indices:\n",
    "    bit = int(np.squeeze(submol_to_bit[submol]))\n",
    "    substruct_to_weight[submol] = GetWeightsForSubstructure(bit_to_weights[bit][0], list(set(submol_to_cpd_indices[submol])))[1]"
   ]
  },
  {
   "cell_type": "code",
   "execution_count": null,
   "metadata": {
    "scrolled": true
   },
   "outputs": [],
   "source": [
    "for item in substruct_to_weight.items():\n",
    "    print(f'Substructure (SMARTS): {item[0]}')\n",
    "    print()\n",
    "    print(f'Weight: {item[1]}')\n",
    "    print()\n",
    "    print()"
   ]
  },
  {
   "cell_type": "markdown",
   "metadata": {},
   "source": [
    "### Plot substructure weights"
   ]
  },
  {
   "cell_type": "code",
   "execution_count": null,
   "metadata": {
    "scrolled": true
   },
   "outputs": [],
   "source": [
    "substructs = sorted(substruct_to_weight.keys(), key=lambda s: submol_to_id[s])\n",
    "weights = [substruct_to_weight[s] for s in substructs]\n",
    "bars = []\n",
    "for bit in bits_of_interest:\n",
    "    _bars = []\n",
    "    substruct_smarts_for_bit = submol_freq_distrib[bit].keys()\n",
    "    for s in substructs:\n",
    "        if s in substruct_smarts_for_bit:\n",
    "            _bars.append(substruct_to_weight[s])\n",
    "    bars.append(_bars)\n",
    "\n",
    "barWidth = 2\n",
    "offset = 2.2\n",
    "space = 4.5\n",
    "\n",
    "pos = len(bars[0])*barWidth / 2"
   ]
  },
  {
   "cell_type": "code",
   "execution_count": null,
   "metadata": {
    "scrolled": true
   },
   "outputs": [],
   "source": [
    "r1 = [pos]\n",
    "pos += space + 2*barWidth + (offset-barWidth)\n",
    "r2 = [pos - barWidth - (offset-barWidth), pos, pos + barWidth + (offset-barWidth)]\n",
    "pos += space + 2*barWidth + (offset-barWidth)\n",
    "r3 = [pos - barWidth - (offset-barWidth), pos, pos + barWidth + (offset-barWidth)]\n",
    "pos += space + 2*barWidth + (offset-barWidth)\n",
    "r4 = [pos - 0.5*barWidth - 0.5*(offset-barWidth), pos + 0.5*barWidth + 0.5*(offset-barWidth)]\n",
    "pos += space + 2*barWidth + (offset-barWidth)\n",
    "r5 = [pos - 1.5*barWidth - 1.5*(offset-barWidth), pos - 0.5*barWidth - 0.5*(offset-barWidth),\n",
    "            pos + 0.5*barWidth + 0.5*(offset-barWidth), pos + 1.5*barWidth + 1.5*(offset-barWidth)]\n",
    "pos += space + 2*barWidth + (offset-barWidth)\n",
    "r6 = [pos]\n",
    "pos += space + 2*barWidth + (offset-barWidth)\n",
    "r7 = [pos]\n",
    "pos += space + 2*barWidth + (offset-barWidth)\n",
    "r8 = [pos]\n",
    "rs = [r1, r2, r3, r4, r5, r6, r7, r8]"
   ]
  },
  {
   "cell_type": "code",
   "execution_count": null,
   "metadata": {
    "scrolled": false
   },
   "outputs": [],
   "source": [
    "fig = plt.figure(figsize=(7, 4), dpi=300)\n",
    "\n",
    "rects = []\n",
    "for bit in range(len(bars)):\n",
    "    for i in range(len(rs[bit])):\n",
    "        rects.append(plt.bar(rs[bit][i], bars[bit][i], color='#1f77b4', width=barWidth, zorder=2)[0])\n",
    "\n",
    "for i in range(13):\n",
    "    rect = rects[i]\n",
    "    height = rect.get_height()\n",
    "    plt.annotate('{:.3f}'.format(height),\n",
    "                xy=(rect.get_x() + rect.get_width() / 2, height),\n",
    "                xytext=(0, 3),  \n",
    "                textcoords=\"offset points\",\n",
    "                ha='center', va='bottom',\n",
    "                fontsize=4.5)\n",
    "for i in [13, 14, 15]:\n",
    "    rect = rects[i]\n",
    "    height = rect.get_height()\n",
    "    plt.annotate('{:.3f}'.format(height),\n",
    "                xy=(rect.get_x() + rect.get_width() / 2, height),\n",
    "                xytext=(0, -8),  \n",
    "                textcoords=\"offset points\",\n",
    "                ha='center', va='bottom',\n",
    "                fontsize=4.5)\n",
    "\n",
    "fig.canvas.draw()\n",
    "ax = plt.gca()\n",
    "ax.grid(zorder=1)\n",
    "ax.set_xlabel('Bit ID', fontsize=9)\n",
    "ax.set_ylabel('Substructure weight', fontsize=9)\n",
    "ax.tick_params(labelsize=9)\n",
    "ax.set_xticks([((len(bars[0])*barWidth / 2) + i*(space + 2*barWidth + (offset-barWidth))) for i in range(len(bars))])\n",
    "ax.set_xticklabels([str(bit_id) for bit_id in bits_of_interest], ha='center')\n",
    "ax.tick_params(axis='x', length=0)\n",
    "plt.tight_layout()\n",
    "plt.savefig(pathify(f'substructure_weights_triazine_SIRT2_FP-FFNN_random_seed_0.png'))\n",
    "plt.show()"
   ]
  },
  {
   "cell_type": "markdown",
   "metadata": {},
   "source": [
    "# DD1S CAIX (random split, seed 1)"
   ]
  },
  {
   "cell_type": "markdown",
   "metadata": {},
   "source": [
    "## Load data"
   ]
  },
  {
   "cell_type": "code",
   "execution_count": null,
   "metadata": {
    "scrolled": true
   },
   "outputs": [],
   "source": [
    "os.environ[\"HDF5_USE_FILE_LOCKING\"] = 'FALSE'\n",
    "df_data = pd.read_csv(os.path.join(DELQSAR_ROOT, 'experiments', 'datasets', 'DD1S_CAIX_QSAR.csv'))\n",
    "hf = h5py.File(os.path.join(DELQSAR_ROOT, 'experiments', DD1S_FINGERPRINTS_FILENAME))\n",
    "x = np.array(hf['all_fps'])\n",
    "INPUT_SIZE = x.shape[1]   \n",
    "hf.close()"
   ]
  },
  {
   "cell_type": "markdown",
   "metadata": {},
   "source": [
    "## Load model"
   ]
  },
  {
   "cell_type": "code",
   "execution_count": null,
   "metadata": {
    "scrolled": true
   },
   "outputs": [],
   "source": [
    "model = models.MLP(INPUT_SIZE, [128, 64, 32],\n",
    "            dropout=0.4)\n",
    "model.load_state_dict(torch.load(DD1S_CAIX_RANDOM_SPLIT_FP_FFNN_SEED_1_MODEL_PATH))\n",
    "if DEVICE:\n",
    "    model = model.to(DEVICE)"
   ]
  },
  {
   "cell_type": "markdown",
   "metadata": {},
   "source": [
    "## Bit analysis"
   ]
  },
  {
   "cell_type": "markdown",
   "metadata": {},
   "source": [
    "### Calculate bit weights"
   ]
  },
  {
   "cell_type": "code",
   "execution_count": null,
   "metadata": {
    "scrolled": true
   },
   "outputs": [],
   "source": [
    "set_bit_ids = [bit_id for bit_id in tqdm(range(2048)) if any(x[:,bit_id]==1)]\n",
    "print(f'Number of bits set by at least one molecule in the data set: {len(set_bit_ids)}')"
   ]
  },
  {
   "cell_type": "code",
   "execution_count": null,
   "metadata": {
    "scrolled": true
   },
   "outputs": [],
   "source": [
    "# check if any bit is set by exactly one molecule\n",
    "# for bit_id in tqdm(range(2048)):\n",
    "#     indices = np.squeeze(np.where(x[:,bit_id]==1))\n",
    "#     if indices.shape == ():\n",
    "#         print(f'Bit {bit_id} is set by only one molecule')\n",
    "#         break"
   ]
  },
  {
   "cell_type": "code",
   "execution_count": null,
   "metadata": {
    "scrolled": true
   },
   "outputs": [],
   "source": [
    "basePreds_all = np.array(model.predict_on_x(x, device=DEVICE), dtype='float64')\n",
    "bit_to_weights = {bit_id: GetWeightsForBit(bit_id) for bit_id in tqdm(set_bit_ids)}\n",
    "hkl.dump(bit_to_weights, 'bit_to_weights_DD1S_CAIX_FP-FFNN_random_seed_1.hkl', mode='w')"
   ]
  },
  {
   "cell_type": "code",
   "execution_count": null,
   "metadata": {
    "scrolled": true
   },
   "outputs": [],
   "source": [
    "# bit_to_weights_hkl = hkl.load('bit_to_weights_DD1S_CAIX_FP-FFNN_random_seed_1.hkl')\n",
    "# bit_to_weights = {int(bit): weights for bit, weights in bit_to_weights_hkl.items()}"
   ]
  },
  {
   "cell_type": "markdown",
   "metadata": {},
   "source": [
    "### Plot distribution of average bit weights"
   ]
  },
  {
   "cell_type": "code",
   "execution_count": null,
   "metadata": {
    "scrolled": true
   },
   "outputs": [],
   "source": [
    "avg_bit_weights = [bit_to_weights[b][1] for b in bit_to_weights.keys()]\n",
    "print(f'Lowest average bit weight: {min(avg_bit_weights)}')\n",
    "print(f'Highest average bit weight: {max(avg_bit_weights)}')"
   ]
  },
  {
   "cell_type": "code",
   "execution_count": null,
   "metadata": {
    "scrolled": true
   },
   "outputs": [],
   "source": [
    "# histogram of average bit weights (only including bits set by at least one molecule)\n",
    "def make_hist_avg_bit_weights(zoomIn=False):\n",
    "    fig = plt.figure(figsize=(3.5, 1.6), dpi=300)\n",
    "    if zoomIn:\n",
    "        bins = np.arange(-0.07, 0.21, 0.003)\n",
    "    else:\n",
    "        bins = np.arange(-0.07, 0.21, 0.005) \n",
    "    _, bins, patches = plt.hist(\n",
    "        np.clip(avg_bit_weights, -0.07, bins[-1]), \n",
    "        bins=bins,  \n",
    "        density=False,\n",
    "        zorder=2\n",
    "    )\n",
    "    fig.canvas.draw() # required to get tick labels\n",
    "    ax = plt.gca()\n",
    "    if zoomIn:\n",
    "        ax.set_ylim([0, 8])\n",
    "    ax.grid(zorder=1)\n",
    "    ax.set_xlabel('Average weight')\n",
    "    ax.set_ylabel('Number of bits')\n",
    "    plt.tight_layout()\n",
    "    if zoomIn:\n",
    "        plt.savefig(pathify(f'bit_weight_histogram_zoomed_in_DD1S_CAIX_FP-FFNN_random_seed_1.png'))\n",
    "    else:\n",
    "        plt.savefig(pathify(f'bit_weight_histogram_DD1S_CAIX_FP-FFNN_random_seed_1.png'))\n",
    "    plt.show()"
   ]
  },
  {
   "cell_type": "code",
   "execution_count": null,
   "metadata": {
    "scrolled": true
   },
   "outputs": [],
   "source": [
    "make_hist_avg_bit_weights()"
   ]
  },
  {
   "cell_type": "code",
   "execution_count": null,
   "metadata": {
    "scrolled": true
   },
   "outputs": [],
   "source": [
    "make_hist_avg_bit_weights(zoomIn=True)"
   ]
  },
  {
   "cell_type": "markdown",
   "metadata": {},
   "source": [
    "### Plot distributions of molecule-level bit weights"
   ]
  },
  {
   "cell_type": "code",
   "execution_count": null,
   "metadata": {
    "scrolled": true
   },
   "outputs": [],
   "source": [
    "# histogram of molecule-level bit weights\n",
    "def make_hist_mol_level_bit_weights(bit_id, x_lb, x_ub, stepsize_noZoom, stepsize_zoom, zoomIn=False, xticks=None):\n",
    "    weights = bit_to_weights[bit_id][0]\n",
    "    fig = plt.figure(figsize=(3.5, 1.6), dpi=300)\n",
    "    if zoomIn:\n",
    "        bins = np.arange(x_lb, x_ub, stepsize_zoom)\n",
    "    else:\n",
    "        bins = np.arange(x_lb, x_ub, stepsize_noZoom) \n",
    "    _, bins, patches = plt.hist(\n",
    "        np.clip(weights, x_lb, bins[-1]), \n",
    "        bins=bins,  \n",
    "        density=False,\n",
    "        zorder=2\n",
    "    )\n",
    "    fig.canvas.draw() # required to get tick labels\n",
    "    ax = plt.gca()\n",
    "    if zoomIn:\n",
    "        ax.set_ylim([0, 8])\n",
    "    ax.grid(zorder=1)\n",
    "    ax.tick_params(labelsize=8)\n",
    "    if xticks:\n",
    "        plt.xticks(xticks)\n",
    "    ax.set_xlabel('Weight', fontsize=8)\n",
    "    ax.set_ylabel('Number of molecules', fontsize=8)\n",
    "    ax.set_title(f'Bit {bit_id}', fontsize=8)\n",
    "    plt.tight_layout()\n",
    "    if zoomIn:\n",
    "        plt.savefig(pathify(f'mol-level_bit_weight_histogram_bit_{bit_id}_zoomed_in_DD1S_CAIX_FP-FFNN_random_seed_1.png'))\n",
    "    else:\n",
    "        plt.savefig(pathify(f'mol-level_bit_weight_histogram_bit_{bit_id}_DD1S_CAIX_FP-FFNN_random_seed_1.png'))\n",
    "    plt.show()"
   ]
  },
  {
   "cell_type": "code",
   "execution_count": null,
   "metadata": {
    "scrolled": true
   },
   "outputs": [],
   "source": [
    "bit = 1489\n",
    "print(f'Bit {bit}')\n",
    "print(f'Lowest molecule-level bit weight: {min(bit_to_weights[bit][0])}')\n",
    "print(f'Highest molecule-level bit weight: {max(bit_to_weights[bit][0])}')\n",
    "\n",
    "make_hist_mol_level_bit_weights(bit, 0.02, 0.26, 0.004, None)"
   ]
  },
  {
   "cell_type": "code",
   "execution_count": null,
   "metadata": {
    "scrolled": true
   },
   "outputs": [],
   "source": [
    "bit = 833\n",
    "print(f'Bit {bit}')\n",
    "print(f'Lowest molecule-level bit weight: {min(bit_to_weights[bit][0])}')\n",
    "print(f'Highest molecule-level bit weight: {max(bit_to_weights[bit][0])}')\n",
    "\n",
    "make_hist_mol_level_bit_weights(bit, 0.02, 0.27, 0.004, None)"
   ]
  },
  {
   "cell_type": "code",
   "execution_count": null,
   "metadata": {
    "scrolled": true
   },
   "outputs": [],
   "source": [
    "bit = 1785\n",
    "print(f'Bit {bit}')\n",
    "print(f'Lowest molecule-level bit weight: {min(bit_to_weights[bit][0])}')\n",
    "print(f'Highest molecule-level bit weight: {max(bit_to_weights[bit][0])}')\n",
    "\n",
    "make_hist_mol_level_bit_weights(bit, 0, 0.27, 0.004, None)"
   ]
  },
  {
   "cell_type": "code",
   "execution_count": null,
   "metadata": {
    "scrolled": true
   },
   "outputs": [],
   "source": [
    "bit = 997\n",
    "print(f'Bit {bit}')\n",
    "print(f'Lowest molecule-level bit weight: {min(bit_to_weights[bit][0])}')\n",
    "print(f'Highest molecule-level bit weight: {max(bit_to_weights[bit][0])}')\n",
    "\n",
    "make_hist_mol_level_bit_weights(bit, 0.01, 0.27, 0.004, None)"
   ]
  },
  {
   "cell_type": "code",
   "execution_count": null,
   "metadata": {
    "scrolled": true
   },
   "outputs": [],
   "source": [
    "bit = 1197\n",
    "print(f'Bit {bit}')\n",
    "print(f'Lowest molecule-level bit weight: {min(bit_to_weights[bit][0])}')\n",
    "print(f'Highest molecule-level bit weight: {max(bit_to_weights[bit][0])}')\n",
    "\n",
    "make_hist_mol_level_bit_weights(bit, 0, 0.25, 0.004, None)"
   ]
  },
  {
   "cell_type": "code",
   "execution_count": null,
   "metadata": {
    "scrolled": true
   },
   "outputs": [],
   "source": [
    "bit = 1736\n",
    "print(f'Bit {bit}')\n",
    "print(f'Lowest molecule-level bit weight: {min(bit_to_weights[bit][0])}')\n",
    "print(f'Highest molecule-level bit weight: {max(bit_to_weights[bit][0])}')\n",
    "\n",
    "make_hist_mol_level_bit_weights(bit, -0.19, -0.01, 0.003, None, xticks=[-0.175, -0.125, -0.075, -0.025])"
   ]
  },
  {
   "cell_type": "code",
   "execution_count": null,
   "metadata": {
    "scrolled": true
   },
   "outputs": [],
   "source": [
    "bit = 258\n",
    "print(f'Bit {bit}')\n",
    "print(f'Lowest molecule-level bit weight: {min(bit_to_weights[bit][0])}')\n",
    "print(f'Highest molecule-level bit weight: {max(bit_to_weights[bit][0])}')\n",
    "\n",
    "make_hist_mol_level_bit_weights(bit, -0.1, -0.02, 0.0018, None)"
   ]
  },
  {
   "cell_type": "code",
   "execution_count": null,
   "metadata": {
    "scrolled": true
   },
   "outputs": [],
   "source": [
    "bit = 1165\n",
    "print(f'Bit {bit}')\n",
    "print(f'Lowest molecule-level bit weight: {min(bit_to_weights[bit][0])}')\n",
    "print(f'Highest molecule-level bit weight: {max(bit_to_weights[bit][0])}')\n",
    "\n",
    "make_hist_mol_level_bit_weights(bit, -0.13, -0.02, 0.0025, None)"
   ]
  },
  {
   "cell_type": "markdown",
   "metadata": {},
   "source": [
    "### Get bits of interest (based on average bit weight)"
   ]
  },
  {
   "cell_type": "code",
   "execution_count": null,
   "metadata": {
    "scrolled": true
   },
   "outputs": [],
   "source": [
    "bits_sorted_by_avg_weight = sorted(set_bit_ids, key = lambda b: bit_to_weights[b][1])\n",
    "top_bits = bits_sorted_by_avg_weight[-5:]\n",
    "top_bits.reverse()\n",
    "bottom_bits = bits_sorted_by_avg_weight[:3]\n",
    "bottom_bits.reverse()\n",
    "print(f'Top bits: {top_bits}')\n",
    "print(f'Bottom bits: {bottom_bits}')"
   ]
  },
  {
   "cell_type": "code",
   "execution_count": null,
   "metadata": {
    "scrolled": true
   },
   "outputs": [],
   "source": [
    "bits_of_interest = top_bits + bottom_bits\n",
    "for b in bits_of_interest:\n",
    "    print(f'Bit ID: {b}')\n",
    "    print(f'Average weight: {bit_to_weights[b][1]}')\n",
    "    print(f'Number of molecules with the bit: {len(np.squeeze(np.where(x[:,b]==1)))}')\n",
    "    print()"
   ]
  },
  {
   "cell_type": "code",
   "execution_count": null,
   "metadata": {
    "scrolled": true
   },
   "outputs": [],
   "source": [
    "bit_to_cpd_row_indices = {bit: list([idx for idx in np.squeeze(np.where(x[:,bit]==1))]) for bit in bits_of_interest}\n",
    "for item in bit_to_cpd_row_indices.items():\n",
    "    print(f'Bit ID: {item[0]}')\n",
    "    print(f'Number of molecules with the bit: {len(item[1])}')\n",
    "    print()"
   ]
  },
  {
   "cell_type": "markdown",
   "metadata": {},
   "source": [
    "### Get and visualize substructures"
   ]
  },
  {
   "cell_type": "code",
   "execution_count": null,
   "metadata": {
    "scrolled": true
   },
   "outputs": [],
   "source": [
    "bits_to_draw = []\n",
    "submol_freq_distrib = {bit: {} for bit in bits_of_interest} # store frequency distribution of substructures that \n",
    "                                                            # set each bit\n",
    "smarts_to_smis = {}\n",
    "submol_to_cpd_indices = {} # mapping to indices in df_data_hasbit\n",
    "submol_to_bit = {}\n",
    "examples_all = {bit: {} for bit in bits_of_interest} # check if there's more than one distinct bit-setting \n",
    "                                                     # substructure in the same molecule\n",
    "\n",
    "for bit in tqdm(bits_of_interest):\n",
    "    df_data_hasbit = df_data.iloc[bit_to_cpd_row_indices[bit]]\n",
    "    smis = df_data_hasbit['smiles']\n",
    "    featurizer = featurizers.FingerprintFeaturizer()\n",
    "    _, info_all = featurizer.prepare_x(df_data_hasbit, bitInfo=True)\n",
    "    for i, smi in enumerate(smis):\n",
    "        mol = Chem.MolFromSmiles(smi)\n",
    "        atomSymbols = getMorganFingerprintAtomSymbols(mol)\n",
    "        cpd_id = int(df_data[df_data['smiles']==smi]['cpd_id'].to_numpy()[0])\n",
    "        if bit not in info_all[i]:\n",
    "            continue\n",
    "        fragment_logs = getFragmentForMolBit(smi, mol, i, atomSymbols, cpd_id, bit, info_all, submol_freq_distrib, \n",
    "                        smarts_to_smis, submol_to_cpd_indices, submol_to_bit, bits_to_draw)\n",
    "        submol_freq_distrib = fragment_logs[0]\n",
    "        smarts_to_smis = fragment_logs[1]\n",
    "        submol_to_cpd_indices = fragment_logs[2]\n",
    "        submol_to_bit = fragment_logs[3]\n",
    "        bits_to_draw = fragment_logs[4]\n",
    "        examples = fragment_logs[5]\n",
    "        if examples:\n",
    "            examples_all[bit][i] = examples"
   ]
  },
  {
   "cell_type": "code",
   "execution_count": null,
   "metadata": {
    "scrolled": true
   },
   "outputs": [],
   "source": [
    "hkl.dump(submol_freq_distrib, 'submol_freq_distrib_DD1S_CAIX_FP-FFNN_random_seed_1.hkl', mode='w')\n",
    "hkl.dump(smarts_to_smis, 'smarts_to_smis_DD1S_CAIX_FP-FFNN_random_seed_1.hkl', mode='w')\n",
    "hkl.dump(submol_to_cpd_indices, 'submol_to_cpd_indices_DD1S_CAIX_FP-FFNN_random_seed_1.hkl', mode='w')\n",
    "hkl.dump(submol_to_bit, 'submol_to_bit_DD1S_CAIX_FP-FFNN_random_seed_1.hkl', mode='w')\n",
    "hkl.dump(bits_to_draw, 'bits_to_draw_DD1S_CAIX_FP-FFNN_random_seed_1.hkl', mode='w')\n",
    "hkl.dump(examples_all, 'examples_all_DD1S_CAIX_FP-FFNN_random_seed_1.hkl', mode='w')"
   ]
  },
  {
   "cell_type": "code",
   "execution_count": null,
   "metadata": {
    "scrolled": true
   },
   "outputs": [],
   "source": [
    "# submol_freq_distrib_hkl = hkl.load('submol_freq_distrib_DD1S_CAIX_FP-FFNN_random_seed_1.hkl')\n",
    "# submol_freq_distrib = {int(bit): d for bit, d in submol_freq_distrib_hkl.items()}\n",
    "# smarts_to_smis = hkl.load('smarts_to_smis_DD1S_CAIX_FP-FFNN_random_seed_1.hkl')\n",
    "# submol_to_cpd_indices = hkl.load('submol_to_cpd_indices_DD1S_CAIX_FP-FFNN_random_seed_1.hkl')\n",
    "# submol_to_bit = hkl.load('submol_to_bit_DD1S_CAIX_FP-FFNN_random_seed_1.hkl')\n",
    "# examples_all_hkl = hkl.load('examples_all_DD1S_CAIX_FP-FFNN_random_seed_1.hkl')\n",
    "# examples_all = {int(bit): {int(mol_idx): [int(ex_num) for ex_num in ex_nums] for mol_idx, ex_nums in exs.items()} for bit, exs in examples_all_hkl.items()}\n",
    "# bits_to_draw_hkl = hkl.load('bits_to_draw_DD1S_CAIX_FP-FFNN_random_seed_1.hkl')\n",
    "# bits_to_draw = [(int(item[0]), Chem.MolFromSmiles(df_data.iloc[int(item[0])-1]['smiles']), int(item[2]), \n",
    "#         {int(bit): tuple([(int(an[0]), int(an[1])) for an in ans]) for bit, ans in item[3].items()}) for item in bits_to_draw_hkl]"
   ]
  },
  {
   "cell_type": "code",
   "execution_count": null,
   "metadata": {
    "scrolled": true
   },
   "outputs": [],
   "source": [
    "examples_all"
   ]
  },
  {
   "cell_type": "code",
   "execution_count": null,
   "metadata": {
    "scrolled": true
   },
   "outputs": [],
   "source": [
    "for item in smarts_to_smis.items():\n",
    "    print(f'SMARTS: {item[0]}')\n",
    "    print(f'SMILES: {np.squeeze(item[1])}')\n",
    "    print()\n",
    "print()\n",
    "print(f'Number of distinct SMARTS: {len(set(smarts_to_smis.keys()))}')\n",
    "print(f'Number of distinct SMILES: {len(set([j for i in smarts_to_smis.values() for j in i]))}')"
   ]
  },
  {
   "cell_type": "code",
   "execution_count": null,
   "metadata": {
    "scrolled": true
   },
   "outputs": [],
   "source": [
    "for bit in submol_freq_distrib:\n",
    "    print(f'Bit ID: {bit}')\n",
    "    for submol in submol_freq_distrib[bit]:\n",
    "        print(f'Substructure (SMARTS): {submol}')\n",
    "        print(f'Frequency: {submol_freq_distrib[bit][submol]}')\n",
    "    print()"
   ]
  },
  {
   "cell_type": "code",
   "execution_count": null,
   "metadata": {
    "scrolled": true
   },
   "outputs": [],
   "source": [
    "_bits_to_draw = [bit[1:] for bit in bits_to_draw]"
   ]
  },
  {
   "cell_type": "code",
   "execution_count": null,
   "metadata": {
    "scrolled": true
   },
   "outputs": [],
   "source": [
    "# visualize each substructure\n",
    "d = Draw.DrawMorganBits(_bits_to_draw, molsPerRow=4, aromaticColor=None, ringColor=None, \n",
    "                        legends=[f'cpd_id {bit[0]}, bit: {bit[2]}' for bit in bits_to_draw], subImgSize=(600, 600))\n",
    "d.save(pathify(f'bits_visualization_DD1S_CAIX_FP-FFNN_random_seed_1.png'))\n",
    "d"
   ]
  },
  {
   "cell_type": "markdown",
   "metadata": {},
   "source": [
    "## Substructure analysis"
   ]
  },
  {
   "cell_type": "markdown",
   "metadata": {},
   "source": [
    "### Number substructures"
   ]
  },
  {
   "cell_type": "code",
   "execution_count": null,
   "metadata": {
    "scrolled": true
   },
   "outputs": [],
   "source": [
    "# numbering correponds to ordering of bars from left to right on plot of substructure weights (see below)\n",
    "ctr = 1\n",
    "submol_to_id = {}\n",
    "for bit in bits_of_interest:\n",
    "    submols = sorted(submol_freq_distrib[bit].keys(), key = lambda x: submol_freq_distrib[bit][x], reverse=True)\n",
    "    for s in submols:\n",
    "        submol_to_id[s] = ctr\n",
    "        ctr += 1"
   ]
  },
  {
   "cell_type": "code",
   "execution_count": null,
   "metadata": {
    "scrolled": false
   },
   "outputs": [],
   "source": [
    "for item in submol_to_id.items():\n",
    "    print(item[1])\n",
    "    print(item[0])\n",
    "    print(np.squeeze(smarts_to_smis[item[0]]))\n",
    "    print()"
   ]
  },
  {
   "cell_type": "markdown",
   "metadata": {},
   "source": [
    "### Calculate substructure weights"
   ]
  },
  {
   "cell_type": "code",
   "execution_count": null,
   "metadata": {
    "scrolled": true
   },
   "outputs": [],
   "source": [
    "substruct_to_weight = {}\n",
    "for submol in submol_to_cpd_indices:\n",
    "    bit = int(np.squeeze(submol_to_bit[submol]))\n",
    "    substruct_to_weight[submol] = GetWeightsForSubstructure(bit_to_weights[bit][0], list(set(submol_to_cpd_indices[submol])))[1]"
   ]
  },
  {
   "cell_type": "code",
   "execution_count": null,
   "metadata": {
    "scrolled": true
   },
   "outputs": [],
   "source": [
    "for item in substruct_to_weight.items():\n",
    "    print(f'Substructure (SMARTS): {item[0]}')\n",
    "    print()\n",
    "    print(f'Weight: {item[1]}')\n",
    "    print()\n",
    "    print()"
   ]
  },
  {
   "cell_type": "markdown",
   "metadata": {},
   "source": [
    "### Plot substructure weights"
   ]
  },
  {
   "cell_type": "code",
   "execution_count": null,
   "metadata": {
    "scrolled": true
   },
   "outputs": [],
   "source": [
    "substructs = sorted(substruct_to_weight.keys(), key=lambda s: submol_to_id[s])\n",
    "weights = [substruct_to_weight[s] for s in substructs]\n",
    "bars = []\n",
    "for bit in bits_of_interest:\n",
    "    _bars = []\n",
    "    substruct_smarts_for_bit = submol_freq_distrib[bit].keys()\n",
    "    for s in substructs:\n",
    "        if s in substruct_smarts_for_bit:\n",
    "            _bars.append(substruct_to_weight[s])\n",
    "    bars.append(_bars)\n",
    "\n",
    "barWidth = 1.5\n",
    "offset = 1.7\n",
    "space = 4\n",
    "pos = len(bars[0])*barWidth / 2"
   ]
  },
  {
   "cell_type": "code",
   "execution_count": null,
   "metadata": {
    "scrolled": true
   },
   "outputs": [],
   "source": [
    "r1 = [pos - 0.5*barWidth - 0.5*(offset-barWidth), pos + 0.5*barWidth + 0.5*(offset-barWidth)]\n",
    "pos += space + 1.5*barWidth + (offset-barWidth)\n",
    "r2 = [pos]\n",
    "pos += space + 1.5*barWidth + (offset-barWidth)\n",
    "r3 = [pos - barWidth - (offset-barWidth), pos, pos + barWidth + (offset-barWidth)]\n",
    "pos += space + 1.5*barWidth + (offset-barWidth)\n",
    "r4 = [pos - barWidth - (offset-barWidth), pos, pos + barWidth + (offset-barWidth)]\n",
    "pos += space + 1.5*barWidth + (offset-barWidth)\n",
    "r5 = [pos - barWidth - (offset-barWidth), pos, pos + barWidth + (offset-barWidth)]\n",
    "pos += space + 1.5*barWidth + (offset-barWidth)\n",
    "r6 = [pos]\n",
    "pos += space + 1.5*barWidth + (offset-barWidth)\n",
    "r7 = [pos]\n",
    "pos += space + 1.5*barWidth + (offset-barWidth)\n",
    "r8 = [pos]\n",
    "rs = [r1, r2, r3, r4, r5, r6, r7, r8]"
   ]
  },
  {
   "cell_type": "code",
   "execution_count": null,
   "metadata": {
    "scrolled": true
   },
   "outputs": [],
   "source": [
    "fig = plt.figure(figsize=(7, 4), dpi=300)\n",
    "\n",
    "rects = []\n",
    "for bit in range(len(bars)):\n",
    "    for i in range(len(rs[bit])):\n",
    "        rects.append(plt.bar(rs[bit][i], bars[bit][i], color='#1f77b4', width=barWidth, zorder=2)[0])\n",
    "        \n",
    "for rect in rects[:-3]:\n",
    "    height = rect.get_height()\n",
    "    plt.annotate('{:.3f}'.format(height),\n",
    "                xy=(rect.get_x() + rect.get_width() / 2, height),\n",
    "                xytext=(0, 3),  \n",
    "                textcoords=\"offset points\",\n",
    "                ha='center', va='bottom',\n",
    "                fontsize=4.5)\n",
    "for rect in rects[-3:]:\n",
    "    height = rect.get_height()\n",
    "    plt.annotate('{:.3f}'.format(height),\n",
    "                xy=(rect.get_x() + rect.get_width() / 2, height),\n",
    "                xytext=(0, -8),  \n",
    "                textcoords=\"offset points\",\n",
    "                ha='center', va='bottom',\n",
    "                fontsize=4.5)\n",
    "        \n",
    "fig.canvas.draw()\n",
    "ax = plt.gca()\n",
    "ax.grid(zorder=1)\n",
    "ax.set_xlabel('Bit ID', fontsize=9)\n",
    "ax.set_ylabel('Substructure weight', fontsize=9)\n",
    "ax.tick_params(labelsize=9)\n",
    "ax.set_xticks([((len(bars[0])*barWidth / 2) + i*(space + 1.5*barWidth + (offset-barWidth))) for i in range(len(bars))])\n",
    "ax.set_xticklabels([str(bit_id) for bit_id in bits_of_interest], ha='center')\n",
    "ax.tick_params(axis='x', length=0)\n",
    "plt.tight_layout()\n",
    "plt.savefig(pathify(f'substructure_weights_DD1S_CAIX_FP-FFNN_random_seed_1.png'))\n",
    "plt.show()"
   ]
  },
  {
   "cell_type": "markdown",
   "metadata": {},
   "source": [
    "# DD1S CAIX (random split, seed 2)"
   ]
  },
  {
   "cell_type": "markdown",
   "metadata": {},
   "source": [
    "## Load data"
   ]
  },
  {
   "cell_type": "code",
   "execution_count": null,
   "metadata": {
    "scrolled": true
   },
   "outputs": [],
   "source": [
    "os.environ[\"HDF5_USE_FILE_LOCKING\"] = 'FALSE'\n",
    "df_data = pd.read_csv(os.path.join(DELQSAR_ROOT, 'experiments', 'datasets', 'DD1S_CAIX_QSAR.csv'))\n",
    "hf = h5py.File(os.path.join(DELQSAR_ROOT, 'experiments', DD1S_FINGERPRINTS_FILENAME))\n",
    "x = np.array(hf['all_fps'])\n",
    "INPUT_SIZE = x.shape[1]   \n",
    "hf.close()"
   ]
  },
  {
   "cell_type": "markdown",
   "metadata": {},
   "source": [
    "## Load model"
   ]
  },
  {
   "cell_type": "code",
   "execution_count": null,
   "metadata": {
    "scrolled": true
   },
   "outputs": [],
   "source": [
    "model = models.MLP(INPUT_SIZE, [128, 128, 128],\n",
    "            dropout=0.05)\n",
    "model.load_state_dict(torch.load(DD1S_CAIX_RANDOM_SPLIT_FP_FFNN_SEED_2_MODEL_PATH))\n",
    "if DEVICE:\n",
    "    model = model.to(DEVICE)"
   ]
  },
  {
   "cell_type": "markdown",
   "metadata": {},
   "source": [
    "## Bit analysis"
   ]
  },
  {
   "cell_type": "markdown",
   "metadata": {},
   "source": [
    "### Calculate bit weights"
   ]
  },
  {
   "cell_type": "code",
   "execution_count": null,
   "metadata": {
    "scrolled": true
   },
   "outputs": [],
   "source": [
    "set_bit_ids = [bit_id for bit_id in tqdm(range(2048)) if any(x[:,bit_id]==1)]\n",
    "print(f'Number of bits set by at least one molecule in the data set: {len(set_bit_ids)}')"
   ]
  },
  {
   "cell_type": "code",
   "execution_count": null,
   "metadata": {
    "scrolled": true
   },
   "outputs": [],
   "source": [
    "# check if any bit is set by exactly one molecule\n",
    "# for bit_id in tqdm(range(2048)):\n",
    "#     indices = np.squeeze(np.where(x[:,bit_id]==1))\n",
    "#     if indices.shape == ():\n",
    "#         print(f'Bit {bit_id} is set by only one molecule')\n",
    "#         break"
   ]
  },
  {
   "cell_type": "code",
   "execution_count": null,
   "metadata": {
    "scrolled": true
   },
   "outputs": [],
   "source": [
    "basePreds_all = np.array(model.predict_on_x(x, device=DEVICE), dtype='float64')\n",
    "bit_to_weights = {bit_id: GetWeightsForBit(bit_id) for bit_id in tqdm(set_bit_ids)}\n",
    "hkl.dump(bit_to_weights, 'bit_to_weights_DD1S_CAIX_FP-FFNN_random_seed_2.hkl', mode='w')"
   ]
  },
  {
   "cell_type": "code",
   "execution_count": null,
   "metadata": {
    "scrolled": true
   },
   "outputs": [],
   "source": [
    "# bit_to_weights_hkl = hkl.load('bit_to_weights_DD1S_CAIX_FP-FFNN_random_seed_2.hkl')\n",
    "# bit_to_weights = {int(bit): weights for bit, weights in bit_to_weights_hkl.items()}"
   ]
  },
  {
   "cell_type": "markdown",
   "metadata": {},
   "source": [
    "### Plot distribution of average bit weights"
   ]
  },
  {
   "cell_type": "code",
   "execution_count": null,
   "metadata": {
    "scrolled": true
   },
   "outputs": [],
   "source": [
    "avg_bit_weights = [bit_to_weights[b][1] for b in bit_to_weights.keys()]\n",
    "print(f'Lowest average bit weight: {min(avg_bit_weights)}')\n",
    "print(f'Highest average bit weight: {max(avg_bit_weights)}')"
   ]
  },
  {
   "cell_type": "code",
   "execution_count": null,
   "metadata": {
    "scrolled": true
   },
   "outputs": [],
   "source": [
    "# histogram of average bit weights (only including bits set by at least one molecule)\n",
    "def make_hist_avg_bit_weights(zoomIn=False):\n",
    "    fig = plt.figure(figsize=(3.5, 1.6), dpi=300)\n",
    "    if zoomIn:\n",
    "        bins = np.arange(-0.06, 0.32, 0.003)\n",
    "    else:\n",
    "        bins = np.arange(-0.06, 0.32, 0.0057) # set range based on range of average bit weights\n",
    "    _, bins, patches = plt.hist(\n",
    "        np.clip(avg_bit_weights, -0.06, bins[-1]), \n",
    "        bins=bins,  \n",
    "        density=False,\n",
    "        zorder=2\n",
    "    )\n",
    "    fig.canvas.draw() # required to get tick labels\n",
    "    ax = plt.gca()\n",
    "    if zoomIn:\n",
    "        ax.set_ylim([0, 8])\n",
    "    ax.grid(zorder=1)\n",
    "    ax.set_xlabel('Average weight')\n",
    "    ax.set_ylabel('Number of bits')\n",
    "    plt.tight_layout()\n",
    "    if zoomIn:\n",
    "        plt.savefig(pathify(f'bit_weight_histogram_zoomed_in_DD1S_CAIX_FP-FFNN_random_seed_2.png'))\n",
    "    else:\n",
    "        plt.savefig(pathify(f'bit_weight_histogram_DD1S_CAIX_FP-FFNN_random_seed_2.png'))\n",
    "    plt.show()"
   ]
  },
  {
   "cell_type": "code",
   "execution_count": null,
   "metadata": {
    "scrolled": false
   },
   "outputs": [],
   "source": [
    "make_hist_avg_bit_weights()"
   ]
  },
  {
   "cell_type": "code",
   "execution_count": null,
   "metadata": {
    "scrolled": false
   },
   "outputs": [],
   "source": [
    "make_hist_avg_bit_weights(zoomIn=True)"
   ]
  },
  {
   "cell_type": "markdown",
   "metadata": {},
   "source": [
    "### Get bits of interest (based on average bit weight)"
   ]
  },
  {
   "cell_type": "code",
   "execution_count": null,
   "metadata": {
    "scrolled": true
   },
   "outputs": [],
   "source": [
    "bits_sorted_by_avg_weight = sorted(set_bit_ids, key = lambda b: bit_to_weights[b][1])\n",
    "top_bits = bits_sorted_by_avg_weight[-5:]\n",
    "top_bits.reverse()\n",
    "bottom_bits = bits_sorted_by_avg_weight[:3]\n",
    "bottom_bits.reverse()\n",
    "print(f'Top bits: {top_bits}')\n",
    "print(f'Bottom bits: {bottom_bits}')"
   ]
  },
  {
   "cell_type": "code",
   "execution_count": null,
   "metadata": {
    "scrolled": true
   },
   "outputs": [],
   "source": [
    "bits_of_interest = top_bits + bottom_bits\n",
    "for b in bits_of_interest:\n",
    "    print(f'Bit ID: {b}')\n",
    "    print(f'Average weight: {bit_to_weights[b][1]}')\n",
    "    print(f'Number of molecules with the bit: {len(np.squeeze(np.where(x[:,b]==1)))}')\n",
    "    print()"
   ]
  },
  {
   "cell_type": "code",
   "execution_count": null,
   "metadata": {
    "scrolled": true
   },
   "outputs": [],
   "source": [
    "bit_to_cpd_row_indices = {bit: list([idx for idx in np.squeeze(np.where(x[:,bit]==1))]) for bit in bits_of_interest}\n",
    "for item in bit_to_cpd_row_indices.items():\n",
    "    print(f'Bit ID: {item[0]}')\n",
    "    print(f'Number of molecules with the bit: {len(item[1])}')\n",
    "    print()"
   ]
  },
  {
   "cell_type": "markdown",
   "metadata": {},
   "source": [
    "### Plot distributions of molecule-level bit weights"
   ]
  },
  {
   "cell_type": "code",
   "execution_count": null,
   "metadata": {
    "scrolled": true
   },
   "outputs": [],
   "source": [
    "# histogram of molecule-level bit weights\n",
    "def make_hist_mol_level_bit_weights(bit_id, x_lb, x_ub, stepsize_noZoom, stepsize_zoom, zoomIn=False, xticks=None):\n",
    "    weights = bit_to_weights[bit_id][0]\n",
    "    fig = plt.figure(figsize=(3.5, 1.6), dpi=300)\n",
    "    if zoomIn:\n",
    "        bins = np.arange(x_lb, x_ub, stepsize_zoom)\n",
    "    else:\n",
    "        bins = np.arange(x_lb, x_ub, stepsize_noZoom) \n",
    "    _, bins, patches = plt.hist(\n",
    "        np.clip(weights, x_lb, bins[-1]), \n",
    "        bins=bins,  \n",
    "        density=False,\n",
    "        zorder=2\n",
    "    )\n",
    "    fig.canvas.draw() # required to get tick labels\n",
    "    ax = plt.gca()\n",
    "    if zoomIn:\n",
    "        ax.set_ylim([0, 8])\n",
    "    ax.grid(zorder=1)\n",
    "    ax.tick_params(labelsize=8)\n",
    "    if xticks:\n",
    "        plt.xticks(xticks)\n",
    "    ax.set_xlabel('Weight', fontsize=8)\n",
    "    ax.set_ylabel('Number of molecules', fontsize=8)\n",
    "    ax.set_title(f'Bit {bit_id}', fontsize=8)\n",
    "    plt.tight_layout()\n",
    "    if zoomIn:\n",
    "        plt.savefig(pathify(f'mol-level_bit_weight_histogram_bit_{bit_id}_zoomed_in_DD1S_CAIX_FP-FFNN_random_seed_2.png'))\n",
    "    else:\n",
    "        plt.savefig(pathify(f'mol-level_bit_weight_histogram_bit_{bit_id}_DD1S_CAIX_FP-FFNN_random_seed_2.png'))\n",
    "    plt.show()"
   ]
  },
  {
   "cell_type": "code",
   "execution_count": null,
   "metadata": {
    "scrolled": false
   },
   "outputs": [],
   "source": [
    "bit = 1489\n",
    "print(f'Bit {bit}')\n",
    "print(f'Lowest molecule-level bit weight: {min(bit_to_weights[bit][0])}')\n",
    "print(f'Highest molecule-level bit weight: {max(bit_to_weights[bit][0])}')\n",
    "\n",
    "make_hist_mol_level_bit_weights(bit, 0.01, 0.84, 0.012, None)"
   ]
  },
  {
   "cell_type": "code",
   "execution_count": null,
   "metadata": {
    "scrolled": false
   },
   "outputs": [],
   "source": [
    "bit = 833\n",
    "print(f'Bit {bit}')\n",
    "print(f'Lowest molecule-level bit weight: {min(bit_to_weights[bit][0])}')\n",
    "print(f'Highest molecule-level bit weight: {max(bit_to_weights[bit][0])}')\n",
    "\n",
    "make_hist_mol_level_bit_weights(bit, 0.02, 0.87, 0.012, None)"
   ]
  },
  {
   "cell_type": "code",
   "execution_count": null,
   "metadata": {
    "scrolled": false
   },
   "outputs": [],
   "source": [
    "bit = 1785\n",
    "print(f'Bit {bit}')\n",
    "print(f'Lowest molecule-level bit weight: {min(bit_to_weights[bit][0])}')\n",
    "print(f'Highest molecule-level bit weight: {max(bit_to_weights[bit][0])}')\n",
    "\n",
    "make_hist_mol_level_bit_weights(bit, 0, 0.82, 0.011, None)"
   ]
  },
  {
   "cell_type": "code",
   "execution_count": null,
   "metadata": {
    "scrolled": false
   },
   "outputs": [],
   "source": [
    "bit = 997\n",
    "print(f'Bit {bit}')\n",
    "print(f'Lowest molecule-level bit weight: {min(bit_to_weights[bit][0])}')\n",
    "print(f'Highest molecule-level bit weight: {max(bit_to_weights[bit][0])}')\n",
    "\n",
    "make_hist_mol_level_bit_weights(bit, 0.01, 0.87, 0.012, None)"
   ]
  },
  {
   "cell_type": "code",
   "execution_count": null,
   "metadata": {
    "scrolled": false
   },
   "outputs": [],
   "source": [
    "bit = 1197\n",
    "print(f'Bit {bit}')\n",
    "print(f'Lowest molecule-level bit weight: {min(bit_to_weights[bit][0])}')\n",
    "print(f'Highest molecule-level bit weight: {max(bit_to_weights[bit][0])}')\n",
    "\n",
    "make_hist_mol_level_bit_weights(bit, 0, 0.79, 0.012, None)"
   ]
  },
  {
   "cell_type": "code",
   "execution_count": null,
   "metadata": {
    "scrolled": false
   },
   "outputs": [],
   "source": [
    "bit = 258\n",
    "print(f'Bit {bit}')\n",
    "print(f'Lowest molecule-level bit weight: {min(bit_to_weights[bit][0])}')\n",
    "print(f'Highest molecule-level bit weight: {max(bit_to_weights[bit][0])}')\n",
    "\n",
    "make_hist_mol_level_bit_weights(bit, -0.26, -0.01, 0.004, None)"
   ]
  },
  {
   "cell_type": "code",
   "execution_count": null,
   "metadata": {
    "scrolled": false
   },
   "outputs": [],
   "source": [
    "bit = 1844\n",
    "print(f'Bit {bit}')\n",
    "print(f'Lowest molecule-level bit weight: {min(bit_to_weights[bit][0])}')\n",
    "print(f'Highest molecule-level bit weight: {max(bit_to_weights[bit][0])}')\n",
    "\n",
    "make_hist_mol_level_bit_weights(bit, -0.17, -0.01, 0.00305, None, xticks=[-0.175,-0.125,-0.075,-0.025])"
   ]
  },
  {
   "cell_type": "code",
   "execution_count": null,
   "metadata": {
    "scrolled": false
   },
   "outputs": [],
   "source": [
    "bit = 1165\n",
    "print(f'Bit {bit}')\n",
    "print(f'Lowest molecule-level bit weight: {min(bit_to_weights[bit][0])}')\n",
    "print(f'Highest molecule-level bit weight: {max(bit_to_weights[bit][0])}')\n",
    "\n",
    "make_hist_mol_level_bit_weights(bit, -0.17, -0.01, 0.00331, None, xticks=[-0.175,-0.125,-0.075,-0.025])"
   ]
  },
  {
   "cell_type": "markdown",
   "metadata": {},
   "source": [
    "### Get and visualize substructures"
   ]
  },
  {
   "cell_type": "code",
   "execution_count": null,
   "metadata": {
    "scrolled": true
   },
   "outputs": [],
   "source": [
    "bits_to_draw = []\n",
    "submol_freq_distrib = {bit: {} for bit in bits_of_interest} # store frequency distribution of substructures that \n",
    "                                                            # set each bit\n",
    "smarts_to_smis = {}\n",
    "submol_to_cpd_indices = {} # mapping to indices in df_data_hasbit\n",
    "submol_to_bit = {}\n",
    "examples_all = {bit: {} for bit in bits_of_interest} # check if there's more than one distinct bit-setting \n",
    "                                                     # substructure in the same molecule\n",
    "\n",
    "for bit in tqdm(bits_of_interest):\n",
    "    df_data_hasbit = df_data.iloc[bit_to_cpd_row_indices[bit]]\n",
    "    smis = df_data_hasbit['smiles']\n",
    "    featurizer = featurizers.FingerprintFeaturizer()\n",
    "    _, info_all = featurizer.prepare_x(df_data_hasbit, bitInfo=True)\n",
    "    for i, smi in enumerate(smis):\n",
    "        mol = Chem.MolFromSmiles(smi)\n",
    "        atomSymbols = getMorganFingerprintAtomSymbols(mol)\n",
    "        cpd_id = int(df_data[df_data['smiles']==smi]['cpd_id'].to_numpy()[0])\n",
    "        if bit not in info_all[i]:\n",
    "            continue\n",
    "        fragment_logs = getFragmentForMolBit(smi, mol, i, atomSymbols, cpd_id, bit, info_all, submol_freq_distrib, \n",
    "                        smarts_to_smis, submol_to_cpd_indices, submol_to_bit, bits_to_draw)\n",
    "        submol_freq_distrib = fragment_logs[0]\n",
    "        smarts_to_smis = fragment_logs[1]\n",
    "        submol_to_cpd_indices = fragment_logs[2]\n",
    "        submol_to_bit = fragment_logs[3]\n",
    "        bits_to_draw = fragment_logs[4]\n",
    "        examples = fragment_logs[5]\n",
    "        if examples:\n",
    "            examples_all[bit][i] = examples"
   ]
  },
  {
   "cell_type": "code",
   "execution_count": null,
   "metadata": {
    "scrolled": true
   },
   "outputs": [],
   "source": [
    "hkl.dump(submol_freq_distrib, 'submol_freq_distrib_DD1S_CAIX_FP-FFNN_random_seed_2.hkl', mode='w')\n",
    "hkl.dump(smarts_to_smis, 'smarts_to_smis_DD1S_CAIX_FP-FFNN_random_seed_2.hkl', mode='w')\n",
    "hkl.dump(submol_to_cpd_indices, 'submol_to_cpd_indices_DD1S_CAIX_FP-FFNN_random_seed_2.hkl', mode='w')\n",
    "hkl.dump(submol_to_bit, 'submol_to_bit_DD1S_CAIX_FP-FFNN_random_seed_2.hkl', mode='w')\n",
    "hkl.dump(bits_to_draw, 'bits_to_draw_DD1S_CAIX_FP-FFNN_random_seed_2.hkl', mode='w')\n",
    "hkl.dump(examples_all, 'examples_all_DD1S_CAIX_FP-FFNN_random_seed_2.hkl', mode='w')"
   ]
  },
  {
   "cell_type": "code",
   "execution_count": null,
   "metadata": {
    "scrolled": true
   },
   "outputs": [],
   "source": [
    "# submol_freq_distrib_hkl = hkl.load('submol_freq_distrib_DD1S_CAIX_FP-FFNN_random_seed_2.hkl')\n",
    "# submol_freq_distrib = {int(bit): d for bit, d in submol_freq_distrib_hkl.items()}\n",
    "# smarts_to_smis = hkl.load('smarts_to_smis_DD1S_CAIX_FP-FFNN_random_seed_2.hkl')\n",
    "# submol_to_cpd_indices = hkl.load('submol_to_cpd_indices_DD1S_CAIX_FP-FFNN_random_seed_2.hkl')\n",
    "# submol_to_bit = hkl.load('submol_to_bit_DD1S_CAIX_FP-FFNN_random_seed_2.hkl')\n",
    "# examples_all_hkl = hkl.load('examples_all_DD1S_CAIX_FP-FFNN_random_seed_2.hkl')\n",
    "# examples_all = {int(bit): {int(mol_idx): [int(ex_num) for ex_num in ex_nums] for mol_idx, ex_nums in exs.items()} for bit, exs in examples_all_hkl.items()}\n",
    "# bits_to_draw_hkl = hkl.load('bits_to_draw_DD1S_CAIX_FP-FFNN_random_seed_2.hkl')\n",
    "# bits_to_draw = [(int(item[0]), Chem.MolFromSmiles(df_data.iloc[int(item[0])-1]['smiles']), int(item[2]), \n",
    "#         {int(bit): tuple([(int(an[0]), int(an[1])) for an in ans]) for bit, ans in item[3].items()}) for item in bits_to_draw_hkl]"
   ]
  },
  {
   "cell_type": "code",
   "execution_count": null,
   "metadata": {
    "scrolled": true
   },
   "outputs": [],
   "source": [
    "examples_all"
   ]
  },
  {
   "cell_type": "code",
   "execution_count": null,
   "metadata": {
    "scrolled": true
   },
   "outputs": [],
   "source": [
    "for item in smarts_to_smis.items():\n",
    "    print(f'SMARTS: {item[0]}')\n",
    "    print(f'SMILES: {np.squeeze(item[1])}')\n",
    "    print()\n",
    "print()\n",
    "print(f'Number of distinct SMARTS: {len(set(smarts_to_smis.keys()))}')\n",
    "print(f'Number of distinct SMILES: {len(set([j for i in smarts_to_smis.values() for j in i]))}')"
   ]
  },
  {
   "cell_type": "code",
   "execution_count": null,
   "metadata": {
    "scrolled": true
   },
   "outputs": [],
   "source": [
    "for bit in submol_freq_distrib:\n",
    "    print(f'Bit ID: {bit}')\n",
    "    for submol in submol_freq_distrib[bit]:\n",
    "        print(f'Substructure (SMARTS): {submol}')\n",
    "        print(f'Frequency: {submol_freq_distrib[bit][submol]}')\n",
    "    print()"
   ]
  },
  {
   "cell_type": "code",
   "execution_count": null,
   "metadata": {
    "scrolled": true
   },
   "outputs": [],
   "source": [
    "_bits_to_draw = [bit[1:] for bit in bits_to_draw]"
   ]
  },
  {
   "cell_type": "code",
   "execution_count": null,
   "metadata": {
    "scrolled": true
   },
   "outputs": [],
   "source": [
    "# visualize each substructure\n",
    "d = Draw.DrawMorganBits(_bits_to_draw, molsPerRow=4, aromaticColor=None, ringColor=None, \n",
    "                        legends=[f'cpd_id {bit[0]}, bit: {bit[2]}' for bit in bits_to_draw], subImgSize=(600, 600))\n",
    "d.save(pathify(f'bits_visualization_DD1S_CAIX_FP-FFNN_random_seed_2.png'))\n",
    "d"
   ]
  },
  {
   "cell_type": "markdown",
   "metadata": {},
   "source": [
    "## Substructure analysis"
   ]
  },
  {
   "cell_type": "markdown",
   "metadata": {},
   "source": [
    "### Number substructures"
   ]
  },
  {
   "cell_type": "code",
   "execution_count": null,
   "metadata": {
    "scrolled": true
   },
   "outputs": [],
   "source": [
    "# numbering correponds to ordering of bars from left to right on plot of substructure weights (see below)\n",
    "ctr = 1\n",
    "submol_to_id = {}\n",
    "for bit in bits_of_interest:\n",
    "    submols = sorted(submol_freq_distrib[bit].keys(), key = lambda x: submol_freq_distrib[bit][x], reverse=True)\n",
    "    for s in submols:\n",
    "        submol_to_id[s] = ctr\n",
    "        ctr += 1"
   ]
  },
  {
   "cell_type": "code",
   "execution_count": null,
   "metadata": {
    "scrolled": false
   },
   "outputs": [],
   "source": [
    "for item in submol_to_id.items():\n",
    "    print(item[1])\n",
    "    print(item[0])\n",
    "    print(np.squeeze(smarts_to_smis[item[0]]))\n",
    "    print()"
   ]
  },
  {
   "cell_type": "markdown",
   "metadata": {},
   "source": [
    "### Calculate substructure weights"
   ]
  },
  {
   "cell_type": "code",
   "execution_count": null,
   "metadata": {
    "scrolled": true
   },
   "outputs": [],
   "source": [
    "substruct_to_weight = {}\n",
    "for submol in submol_to_cpd_indices:\n",
    "    bit = int(np.squeeze(submol_to_bit[submol]))\n",
    "    substruct_to_weight[submol] = GetWeightsForSubstructure(bit_to_weights[bit][0], list(set(submol_to_cpd_indices[submol])))[1]"
   ]
  },
  {
   "cell_type": "code",
   "execution_count": null,
   "metadata": {
    "scrolled": true
   },
   "outputs": [],
   "source": [
    "for item in substruct_to_weight.items():\n",
    "    print(f'Substructure (SMARTS): {item[0]}')\n",
    "    print()\n",
    "    print(f'Weight: {item[1]}')\n",
    "    print()\n",
    "    print()"
   ]
  },
  {
   "cell_type": "markdown",
   "metadata": {},
   "source": [
    "### Plot substructure weights"
   ]
  },
  {
   "cell_type": "code",
   "execution_count": null,
   "metadata": {
    "scrolled": true
   },
   "outputs": [],
   "source": [
    "substructs = sorted(substruct_to_weight.keys(), key=lambda s: submol_to_id[s])\n",
    "weights = [substruct_to_weight[s] for s in substructs]\n",
    "bars = []\n",
    "for bit in bits_of_interest:\n",
    "    _bars = []\n",
    "    substruct_smarts_for_bit = submol_freq_distrib[bit].keys()\n",
    "    for s in substructs:\n",
    "        if s in substruct_smarts_for_bit:\n",
    "            _bars.append(substruct_to_weight[s])\n",
    "    bars.append(_bars)\n",
    "\n",
    "barWidth = 1.5\n",
    "offset = 1.7\n",
    "space = 4\n",
    "pos = len(bars[0])*barWidth / 2"
   ]
  },
  {
   "cell_type": "code",
   "execution_count": null,
   "metadata": {
    "scrolled": true
   },
   "outputs": [],
   "source": [
    "r1 = [pos - 0.5*barWidth - 0.5*(offset-barWidth), pos + 0.5*barWidth + 0.5*(offset-barWidth)]\n",
    "pos += space + 1.5*barWidth + (offset-barWidth)\n",
    "r2 = [pos]\n",
    "pos += space + 1.5*barWidth + (offset-barWidth)\n",
    "r3 = [pos - barWidth - (offset-barWidth), pos, pos + barWidth + (offset-barWidth)]\n",
    "pos += space + 1.5*barWidth + (offset-barWidth)\n",
    "r4 = [pos - barWidth - (offset-barWidth), pos, pos + barWidth + (offset-barWidth)]\n",
    "pos += space + 1.5*barWidth + (offset-barWidth)\n",
    "r5 = [pos - barWidth - (offset-barWidth), pos, pos + barWidth + (offset-barWidth)]\n",
    "pos += space + 1.5*barWidth + (offset-barWidth)\n",
    "r6 = [pos]\n",
    "pos += space + 1.5*barWidth + (offset-barWidth)\n",
    "r7 = [pos]\n",
    "pos += space + 1.5*barWidth + (offset-barWidth)\n",
    "r8 = [pos]\n",
    "rs = [r1, r2, r3, r4, r5, r6, r7, r8]"
   ]
  },
  {
   "cell_type": "code",
   "execution_count": null,
   "metadata": {
    "scrolled": false
   },
   "outputs": [],
   "source": [
    "fig = plt.figure(figsize=(7, 4), dpi=300)\n",
    "\n",
    "rects = []\n",
    "for bit in range(len(bars)):\n",
    "    for i in range(len(rs[bit])):\n",
    "        rects.append(plt.bar(rs[bit][i], bars[bit][i], color='#1f77b4', width=barWidth, zorder=2)[0])\n",
    "        \n",
    "for rect in rects[:-3]:\n",
    "    height = rect.get_height()\n",
    "    plt.annotate('{:.3f}'.format(height),\n",
    "                xy=(rect.get_x() + rect.get_width() / 2, height),\n",
    "                xytext=(0, 3),  \n",
    "                textcoords=\"offset points\",\n",
    "                ha='center', va='bottom',\n",
    "                fontsize=4.5)\n",
    "for rect in rects[-3:]:\n",
    "    height = rect.get_height()\n",
    "    plt.annotate('{:.3f}'.format(height),\n",
    "                xy=(rect.get_x() + rect.get_width() / 2, height),\n",
    "                xytext=(0, -8),  \n",
    "                textcoords=\"offset points\",\n",
    "                ha='center', va='bottom',\n",
    "                fontsize=4.5)\n",
    "        \n",
    "fig.canvas.draw()\n",
    "ax = plt.gca()\n",
    "ax.grid(zorder=1)\n",
    "ax.set_xlabel('Bit ID', fontsize=9)\n",
    "ax.set_ylabel('Substructure weight', fontsize=9)\n",
    "ax.tick_params(labelsize=9)\n",
    "ax.set_xticks([((len(bars[0])*barWidth / 2) + i*(space + 1.5*barWidth + (offset-barWidth))) for i in range(len(bars))])\n",
    "ax.set_xticklabels([str(bit_id) for bit_id in bits_of_interest], ha='center')\n",
    "ax.tick_params(axis='x', length=0)\n",
    "plt.tight_layout()\n",
    "plt.savefig(pathify(f'substructure_weights_DD1S_CAIX_FP-FFNN_random_seed_2.png'))\n",
    "plt.show()"
   ]
  },
  {
   "cell_type": "code",
   "execution_count": null,
   "metadata": {},
   "outputs": [],
   "source": []
  }
 ],
 "metadata": {
  "kernelspec": {
   "display_name": "chemprop",
   "language": "python",
   "name": "chemprop"
  },
  "language_info": {
   "codemirror_mode": {
    "name": "ipython",
    "version": 3
   },
   "file_extension": ".py",
   "mimetype": "text/x-python",
   "name": "python",
   "nbconvert_exporter": "python",
   "pygments_lexer": "ipython3",
   "version": "3.6.10"
  },
  "latex_envs": {
   "LaTeX_envs_menu_present": true,
   "autoclose": false,
   "autocomplete": true,
   "bibliofile": "biblio.bib",
   "cite_by": "apalike",
   "current_citInitial": 1,
   "eqLabelWithNumbers": true,
   "eqNumInitial": 1,
   "hotkeys": {
    "equation": "Ctrl-E",
    "itemize": "Ctrl-I"
   },
   "labels_anchors": false,
   "latex_user_defs": false,
   "report_style_numbering": false,
   "user_envs_cfg": false
  },
  "toc": {
   "base_numbering": 1,
   "nav_menu": {},
   "number_sections": true,
   "sideBar": true,
   "skip_h1_title": false,
   "title_cell": "Table of Contents",
   "title_sidebar": "Contents",
   "toc_cell": false,
   "toc_position": {},
   "toc_section_display": true,
   "toc_window_display": false
  },
  "varInspector": {
   "cols": {
    "lenName": 16,
    "lenType": 16,
    "lenVar": 40
   },
   "kernels_config": {
    "python": {
     "delete_cmd_postfix": "",
     "delete_cmd_prefix": "del ",
     "library": "var_list.py",
     "varRefreshCmd": "print(var_dic_list())"
    },
    "r": {
     "delete_cmd_postfix": ") ",
     "delete_cmd_prefix": "rm(",
     "library": "var_list.r",
     "varRefreshCmd": "cat(var_dic_list()) "
    }
   },
   "types_to_exclude": [
    "module",
    "function",
    "builtin_function_or_method",
    "instance",
    "_Feature"
   ],
   "window_display": false
  }
 },
 "nbformat": 4,
 "nbformat_minor": 2
}
