{
 "cells": [
  {
   "cell_type": "code",
   "execution_count": null,
   "metadata": {},
   "outputs": [],
   "source": [
    "%load_ext autoreload\n",
    "%autoreload 2"
   ]
  },
  {
   "cell_type": "code",
   "execution_count": null,
   "metadata": {},
   "outputs": [],
   "source": [
    "import os\n",
    "import pandas as pd\n",
    "import numpy as np\n",
    "import statistics\n",
    "from tqdm import tqdm"
   ]
  },
  {
   "cell_type": "code",
   "execution_count": null,
   "metadata": {},
   "outputs": [],
   "source": [
    "import matplotlib\n",
    "import matplotlib.pyplot as plt\n",
    "plt.style.use('seaborn-paper')\n",
    "import seaborn as sns\n",
    "\n",
    "matplotlib.rc('font', family='sans-serif')\n",
    "matplotlib.rc('font', serif='Arial')\n",
    "matplotlib.rc('text', usetex='false')"
   ]
  },
  {
   "cell_type": "code",
   "execution_count": null,
   "metadata": {},
   "outputs": [],
   "source": [
    "DELQSAR_ROOT = os.getcwd() + '/../../'"
   ]
  },
  {
   "cell_type": "code",
   "execution_count": null,
   "metadata": {},
   "outputs": [],
   "source": [
    "def getAvgTestPerfsStdevs(model_type, multiTask=False):\n",
    "    if not multiTask:\n",
    "        all_perfs = np.array([\n",
    "            df_data[df_data['model type'].isin([str(model_type)]) & \n",
    "                    df_data['split'].isin(['random'])]['test performance'],\n",
    "            df_data[df_data['model type'].isin([str(model_type)]) & \n",
    "                    df_data['split'].isin(['cycle1'])]['test performance'],\n",
    "            df_data[df_data['model type'].isin([str(model_type)]) &\n",
    "                    df_data['split'].isin(['cycle2'])]['test performance'],\n",
    "            df_data[df_data['model type'].isin([str(model_type)]) &\n",
    "                    df_data['split'].isin(['cycle3'])]['test performance'],\n",
    "            df_data[df_data['model type'].isin([str(model_type)]) &\n",
    "                    df_data['split'].isin(['cycle12'])]['test performance'],\n",
    "            df_data[df_data['model type'].isin([str(model_type)]) &\n",
    "                    df_data['split'].isin(['cycle13'])]['test performance'],\n",
    "            df_data[df_data['model type'].isin([str(model_type)]) &\n",
    "                    df_data['split'].isin(['cycle23'])]['test performance'],\n",
    "            df_data[df_data['model type'].isin([str(model_type)]) &\n",
    "                    df_data['split'].isin(['cycle123'])]['test performance'],\n",
    "        ])\n",
    "    else:\n",
    "        all_perfs = np.array([\n",
    "            df_data[df_data['model type'].isin([str(model_type)]) &\n",
    "                    df_data['split'].isin(['random'])]['test performance'],\n",
    "            df_data[df_data['model type'].isin([str(model_type)]) &\n",
    "                    df_data['split'].isin(['cycle123'])]['test performance'],\n",
    "        ])\n",
    "    avg_perfs = [statistics.mean(perfs) for perfs in all_perfs]\n",
    "    stdevs = [statistics.stdev(perfs) if len(perfs) > 1 else -1 for perfs in all_perfs]\n",
    "    return avg_perfs, stdevs"
   ]
  },
  {
   "cell_type": "code",
   "execution_count": null,
   "metadata": {},
   "outputs": [],
   "source": [
    "def getAvgTestPerfsStdevs_for_KNNs(model_type, multiTask=False):\n",
    "    if not multiTask:\n",
    "        all_perfs = np.array([\n",
    "            float(df_data[df_data['model type'].isin([str(model_type)]) & \n",
    "                    df_data['split'].isin(['random'])]['test performance']),\n",
    "            float(df_data[df_data['model type'].isin([str(model_type)]) & \n",
    "                    df_data['split'].isin(['cycle1'])]['test performance']),\n",
    "            float(df_data[df_data['model type'].isin([str(model_type)]) &\n",
    "                    df_data['split'].isin(['cycle2'])]['test performance']),\n",
    "            float(df_data[df_data['model type'].isin([str(model_type)]) &\n",
    "                    df_data['split'].isin(['cycle3'])]['test performance']),\n",
    "            float(df_data[df_data['model type'].isin([str(model_type)]) &\n",
    "                    df_data['split'].isin(['cycle12'])]['test performance']),\n",
    "            float(df_data[df_data['model type'].isin([str(model_type)]) &\n",
    "                    df_data['split'].isin(['cycle13'])]['test performance']),\n",
    "            float(df_data[df_data['model type'].isin([str(model_type)]) &\n",
    "                    df_data['split'].isin(['cycle23'])]['test performance']),\n",
    "            float(df_data[df_data['model type'].isin([str(model_type)]) &\n",
    "                    df_data['split'].isin(['cycle123'])]['test performance']),\n",
    "        ])\n",
    "    else:\n",
    "        all_perfs = np.array([\n",
    "            df_data[df_data['model type'].isin([str(model_type)]) &\n",
    "                    df_data['split'].isin(['random'])]['test performance'],\n",
    "            df_data[df_data['model type'].isin([str(model_type)]) &\n",
    "                    df_data['split'].isin(['cycle123'])]['test performance'],\n",
    "        ])\n",
    "    if type(all_perfs[0]) == list:\n",
    "        avg_perfs = [statistics.mean(perfs) for perfs in all_perfs]\n",
    "        stdevs = [statistics.stdev(perfs) for perfs in all_perfs]\n",
    "    else:\n",
    "        avg_perfs = [perf for perf in all_perfs]\n",
    "        stdevs = [-1 for i in all_perfs]\n",
    "    return avg_perfs, stdevs"
   ]
  },
  {
   "cell_type": "code",
   "execution_count": null,
   "metadata": {},
   "outputs": [],
   "source": [
    "def make_bar_plot_test_losses(img_name, y_lb, y_ub, multiTask=False, xlabels=True,\n",
    "                              barWidth=0.17, eLineWidth=0.5, capSize=0.7, capThick=0.5,\n",
    "                              test_loss_label=None):\n",
    "    barWidth, eLineWidth, capSize, capThick = barWidth, eLineWidth, capSize, capThick\n",
    "    if not multiTask:\n",
    "        if 'SIRT2' in img_name:\n",
    "            fig = plt.figure(figsize=(7, 2.07), dpi=300)\n",
    "        else:\n",
    "            fig = plt.figure(figsize=(7, 1.5), dpi=300)\n",
    "        \n",
    "        bars1 = OH_FFNN\n",
    "        err1 = OH_FFNN_stdevs\n",
    "        bars2 = FP_FFNN\n",
    "        err2 = FP_FFNN_stdevs\n",
    "        bars3 = D_MPNN\n",
    "        err3 = D_MPNN_stdevs\n",
    "        bars4 = OH_FFNN_pt\n",
    "        err4 = OH_FFNN_pt_stdevs\n",
    "        bars5 = FP_FFNN_pt\n",
    "        err5 = FP_FFNN_pt_stdevs\n",
    "        bars6 = D_MPNN_pt\n",
    "        err6 = D_MPNN_pt_stdevs\n",
    "        bars7 = OH_KNN\n",
    "        err7 = OH_KNN_stdevs\n",
    "        bars8 = FP_KNN\n",
    "        err8 = FP_KNN_stdevs\n",
    "        bars9 = predict_ones_random\n",
    "        err9 = predict_ones_random_stdevs\n",
    "        bars10 = shuffle_preds_random\n",
    "        err10 = shuffle_preds_random_stdevs\n",
    "\n",
    "        r1 = np.arange(2*len(bars1), step=2)\n",
    "        r2 = [x + barWidth for x in r1]\n",
    "        r3 = [x + barWidth for x in r2]\n",
    "        r4 = [x + barWidth for x in r3]\n",
    "        r5 = [x + barWidth for x in r4]\n",
    "        r6 = [x + barWidth for x in r5]\n",
    "        r7 = [x + barWidth for x in r6]\n",
    "        r8 = [x + barWidth for x in r7]\n",
    "        r9 = [x + barWidth for x in r8]\n",
    "        r10 = [x + barWidth for x in r9]\n",
    "\n",
    "        colors = [\"#4878D0\", \"#6ACC64\", \"#D65F5F\",\n",
    "                  \"#956CB4\", \"#D5BB67\", \"#82C6E2\",\n",
    "                  \"#EE854A\", \"#DC7EC0\", \"#8C613C\", \"#797979\"]\n",
    "        plt.bar(r1, bars1, yerr=err1, error_kw = {'elinewidth': eLineWidth, 'capsize': capSize, 'capthick': capThick}, \n",
    "                color=colors[0], width=barWidth, label='OH-FFNN', zorder=2)\n",
    "        plt.bar(r2, bars2, yerr=err2, error_kw = {'elinewidth': eLineWidth, 'capsize': capSize, 'capthick': capThick}, \n",
    "                color=colors[1], width=barWidth, label='FP-FFNN', zorder=2)\n",
    "        plt.bar(r3, bars3, yerr=err3, error_kw = {'elinewidth': eLineWidth, 'capsize': capSize, 'capthick': capThick}, \n",
    "                color=colors[2], width=barWidth, label='D-MPNN', zorder=2)\n",
    "        plt.bar(r4, bars4, yerr=err4, error_kw = {'elinewidth': eLineWidth, 'capsize': capSize, 'capthick': capThick}, \n",
    "                color=colors[3], width=barWidth, label='OH-FFNN pt', zorder=2)\n",
    "        plt.bar(r5, bars5, yerr=err5, error_kw = {'elinewidth': eLineWidth, 'capsize': capSize, 'capthick': capThick}, \n",
    "                color=colors[4], width=barWidth, label='FP-FFNN pt', zorder=2)\n",
    "        plt.bar(r6, bars6, yerr=err6, error_kw = {'elinewidth': eLineWidth, 'capsize': capSize, 'capthick': capThick}, \n",
    "                color=colors[5], width=barWidth, label='D-MPNN pt', zorder=2)\n",
    "        if err7[0] >= 0:\n",
    "            plt.bar(r7, bars7, yerr=err7, error_kw = {'elinewidth': eLineWidth, 'capsize': capSize, 'capthick': capThick}, \n",
    "                    color=colors[6], width=barWidth, label='OH-KNN', zorder=2)\n",
    "        else:\n",
    "            plt.bar(r7, bars7, color=colors[6], width=barWidth, label='OH-KNN', zorder=2)\n",
    "        if err8[0] >= 0:\n",
    "            plt.bar(r8, bars8, yerr=err8, error_kw = {'elinewidth': eLineWidth, 'capsize': capSize, 'capthick': capThick}, \n",
    "                color=colors[7], width=barWidth, label='FP-KNN', zorder=2)\n",
    "        else:\n",
    "            plt.bar(r8, bars8, color=colors[7], width=barWidth, label='FP-KNN', zorder=2)\n",
    "        plt.bar(r9, bars9, yerr=err9, error_kw = {'elinewidth': eLineWidth, 'capsize': capSize, 'capthick': capThick}, \n",
    "                color=colors[8], width=barWidth, label='random (predict all ones)', zorder=2)\n",
    "        plt.bar(r10, bars10, yerr=err10, error_kw = {'elinewidth': eLineWidth, 'capsize': capSize, 'capthick': capThick}, \n",
    "                color=colors[9], width=barWidth, label='random (shuffle predictions)', zorder=2)\n",
    "\n",
    "        leg = plt.legend(loc='center left', bbox_to_anchor = (1, 0.5), numpoints=1, fontsize=6)\n",
    "\n",
    "        fig.canvas.draw()\n",
    "        ax = plt.gca()\n",
    "        ax.grid(zorder=1)\n",
    "        ax.set_ylabel(f'average {test_loss_label} test loss', fontsize=8)\n",
    "        ax.set_ylim([y_lb, y_ub]) \n",
    "        ax.set_xticks([r + 2.5*barWidth for r in np.arange(2*len(bars1), step=2)])\n",
    "        ax.tick_params(axis='x', length=0)\n",
    "        if xlabels:\n",
    "            ax.set_xticklabels(['random', 'cycle-1', 'cycle-2', 'cycle-3', 'cycle-1+2', 'cycle-1+3', \n",
    "                                'cycle-2+3', 'cycle-1+2+3'], rotation=60, ha='center')           \n",
    "        else:\n",
    "            ax.tick_params(labelsize=8, bottom=False, labelbottom=False)\n",
    "    else:\n",
    "        fig = plt.figure(figsize=(3.33, 2.5), dpi=300)\n",
    "        \n",
    "        bars1 = OH_FFNN_mt\n",
    "        err1 = OH_FFNN_mt_stdevs\n",
    "        bars2 = FP_FFNN_mt\n",
    "        err2 = FP_FFNN_mt_stdevs\n",
    "        bars3 = D_MPNN_mt\n",
    "        err3 = D_MPNN_mt_stdevs\n",
    "        bars4 = OH_FFNN_st\n",
    "        err4 = OH_FFNN_st_stdevs\n",
    "        bars5 = FP_FFNN_st\n",
    "        err5 = FP_FFNN_st_stdevs\n",
    "        bars6 = D_MPNN_st\n",
    "        err6 = D_MPNN_st_stdevs\n",
    "        \n",
    "        r1 = np.arange(2*len(bars1), step=2)\n",
    "        r2 = [x + barWidth for x in r1]\n",
    "        r3 = [x + barWidth for x in r2]\n",
    "        r4 = [x + barWidth for x in r3]\n",
    "        r5 = [x + barWidth for x in r4]\n",
    "        r6 = [x + barWidth for x in r5]\n",
    "\n",
    "        colors = [\"#4878D0\", \"#6ACC64\", \"#D65F5F\",\n",
    "                \"#956CB4\", \"#D5BB67\", \"#82C6E2\"]\n",
    "        plt.bar(r1, bars1, yerr=err1, error_kw = {'elinewidth': eLineWidth, 'capsize': capSize, 'capthick': capThick}, \n",
    "                color=colors[0], width=barWidth, label='OH-FFNN\\nmulti-task', zorder=2)\n",
    "        plt.bar(r2, bars2, yerr=err2, error_kw = {'elinewidth': eLineWidth, 'capsize': capSize, 'capthick': capThick}, \n",
    "                color=colors[1], width=barWidth, label='FP-FFNN\\nmulti-task', zorder=2)\n",
    "        plt.bar(r3, bars3, yerr=err3, error_kw = {'elinewidth': eLineWidth, 'capsize': capSize, 'capthick': capThick}, \n",
    "                color=colors[2], width=barWidth, label='D-MPNN\\nmulti-task', zorder=2)\n",
    "        plt.bar(r4, bars4, yerr=err4, error_kw = {'elinewidth': eLineWidth, 'capsize': capSize, 'capthick': capThick}, \n",
    "                color=colors[3], width=barWidth, label='OH-FFNN\\nsingle-task', zorder=2)\n",
    "        plt.bar(r5, bars5, yerr=err5, error_kw = {'elinewidth': eLineWidth, 'capsize': capSize, 'capthick': capThick}, \n",
    "                color=colors[4], width=barWidth, label='FP-FFNN\\nsingle-task', zorder=2)\n",
    "        plt.bar(r6, bars6, yerr=err6, error_kw = {'elinewidth': eLineWidth, 'capsize': capSize, 'capthick': capThick}, \n",
    "                color=colors[5], width=barWidth, label='D-MPNN\\nsingle-task', zorder=2)\n",
    "\n",
    "        leg = plt.legend(loc='center left', bbox_to_anchor = (1, 0.5), numpoints=1, fontsize=6)\n",
    "\n",
    "        fig.canvas.draw()\n",
    "        ax = plt.gca()\n",
    "        ax.grid(zorder=1)\n",
    "        ax.set_ylabel('average test loss', fontsize=8)\n",
    "        ax.set_ylim([y_lb, y_ub]) \n",
    "        ax.set_yticks(np.arange(y_lb, y_ub+0.01, step=0.05))\n",
    "        ax.tick_params(labelsize=8)\n",
    "        ax.set_xticks([r + 2.5*barWidth for r in np.arange(2*len(bars1), step=2)])\n",
    "        ax.set_xticklabels(['random', 'cycle-1+2+3'], ha='center')\n",
    "        ax.tick_params(axis='x', length=0)\n",
    "\n",
    "    plt.tight_layout()\n",
    "    plt.savefig(pathify(img_name), bbox_extra_artists=(leg,), bbox_inches='tight')\n",
    "    plt.show()"
   ]
  },
  {
   "cell_type": "code",
   "execution_count": null,
   "metadata": {},
   "outputs": [],
   "source": [
    "def make_bar_plot_test_rank_corr_coeffs(img_name, y_lb, y_ub, multiTask=False, xlabels=True,\n",
    "                          barWidth=0.17, eLineWidth=0.5, capSize=0.7, capThick=0.5):\n",
    "    barWidth, eLineWidth, capSize, capThick = barWidth, eLineWidth, capSize, capThick\n",
    "    if 'SIRT2' in img_name:\n",
    "        fig = plt.figure(figsize=(7, 2.07), dpi=300)\n",
    "    else:\n",
    "        fig = plt.figure(figsize=(7, 1.5), dpi=300)\n",
    "\n",
    "    bars1 = OH_FFNN\n",
    "    err1 = OH_FFNN_stdevs\n",
    "    bars2 = FP_FFNN\n",
    "    err2 = FP_FFNN_stdevs\n",
    "    bars3 = D_MPNN\n",
    "    err3 = D_MPNN_stdevs\n",
    "    bars4 = OH_FFNN_pt\n",
    "    err4 = OH_FFNN_pt_stdevs\n",
    "    bars5 = FP_FFNN_pt\n",
    "    err5 = FP_FFNN_pt_stdevs\n",
    "    bars6 = D_MPNN_pt\n",
    "    err6 = D_MPNN_pt_stdevs\n",
    "    bars7 = OH_KNN\n",
    "    err7 = OH_KNN_stdevs\n",
    "    bars8 = FP_KNN\n",
    "    err8 = FP_KNN_stdevs\n",
    "    bars9 = shuffle_preds_random\n",
    "    err9 = shuffle_preds_random_stdevs\n",
    "\n",
    "    r1 = np.arange(2*len(bars1), step=2)\n",
    "    r2 = [x + barWidth for x in r1]\n",
    "    r3 = [x + barWidth for x in r2]\n",
    "    r4 = [x + barWidth for x in r3]\n",
    "    r5 = [x + barWidth for x in r4]\n",
    "    r6 = [x + barWidth for x in r5]\n",
    "    r7 = [x + barWidth for x in r6]\n",
    "    r8 = [x + barWidth for x in r7]\n",
    "    r9 = [x + barWidth for x in r8]\n",
    "\n",
    "    colors = [\"#4878D0\", \"#6ACC64\", \"#D65F5F\",\n",
    "              \"#956CB4\", \"#D5BB67\", \"#82C6E2\",\n",
    "              \"#EE854A\", \"#DC7EC0\", \"#8C613C\", \"#797979\"]\n",
    "    plt.bar(r1, bars1, yerr=err1, error_kw = {'elinewidth': eLineWidth, 'capsize': capSize, 'capthick': capThick}, \n",
    "            color=colors[0], width=barWidth, label='OH-FFNN', zorder=2)\n",
    "    plt.bar(r2, bars2, yerr=err2, error_kw = {'elinewidth': eLineWidth, 'capsize': capSize, 'capthick': capThick}, \n",
    "            color=colors[1], width=barWidth, label='FP-FFNN', zorder=2)\n",
    "    plt.bar(r3, bars3, yerr=err3, error_kw = {'elinewidth': eLineWidth, 'capsize': capSize, 'capthick': capThick}, \n",
    "            color=colors[2], width=barWidth, label='D-MPNN', zorder=2)\n",
    "    plt.bar(r4, bars4, yerr=err4, error_kw = {'elinewidth': eLineWidth, 'capsize': capSize, 'capthick': capThick}, \n",
    "            color=colors[3], width=barWidth, label='OH-FFNN pt', zorder=2)\n",
    "    plt.bar(r5, bars5, yerr=err5, error_kw = {'elinewidth': eLineWidth, 'capsize': capSize, 'capthick': capThick}, \n",
    "            color=colors[4], width=barWidth, label='FP-FFNN pt', zorder=2)\n",
    "    plt.bar(r6, bars6, yerr=err6, error_kw = {'elinewidth': eLineWidth, 'capsize': capSize, 'capthick': capThick}, \n",
    "            color=colors[5], width=barWidth, label='D-MPNN pt', zorder=2)\n",
    "    if err7[0] >= 0:\n",
    "        plt.bar(r7, bars7, yerr=err7, error_kw = {'elinewidth': eLineWidth, 'capsize': capSize, 'capthick': capThick}, \n",
    "                color=colors[6], width=barWidth, label='OH-KNN', zorder=2)\n",
    "    else:\n",
    "        plt.bar(r7, bars7, color=colors[6], width=barWidth, label='OH-KNN', zorder=2)\n",
    "    if err8[0] >= 0:\n",
    "        plt.bar(r8, bars8, yerr=err8, error_kw = {'elinewidth': eLineWidth, 'capsize': capSize, 'capthick': capThick}, \n",
    "            color=colors[7], width=barWidth, label='FP-KNN', zorder=2)\n",
    "    else:\n",
    "        plt.bar(r8, bars8, color=colors[7], width=barWidth, label='FP-KNN', zorder=2)\n",
    "    plt.bar(r9, bars9, yerr=err9, error_kw = {'elinewidth': eLineWidth, 'capsize': capSize, 'capthick': capThick}, \n",
    "            color=colors[9], width=barWidth, label='random (shuffle predictions)', zorder=2)\n",
    "\n",
    "    leg = plt.legend(loc='center left', bbox_to_anchor = (1,0.5), numpoints=1, fontsize=6)\n",
    "\n",
    "    fig.canvas.draw()\n",
    "    ax = plt.gca()\n",
    "    ax.grid(zorder=1)\n",
    "    ax.set_ylabel('average rank\\ncorrelation coefficient', fontsize=8)\n",
    "    ax.set_ylim([y_lb, y_ub]) \n",
    "    ax.set_xticks([r + 2.5*barWidth for r in np.arange(2*len(bars1), step=2)])\n",
    "    ax.tick_params(axis='x', length=0)\n",
    "    if xlabels:\n",
    "        ax.set_xticklabels(['random', 'cycle-1', 'cycle-2', 'cycle-3', 'cycle-1+2', 'cycle-1+3', \n",
    "                            'cycle-2+3', 'cycle-1+2+3'], rotation=60, ha='center')           \n",
    "    else:\n",
    "        ax.tick_params(labelsize=8, bottom=False, labelbottom=False)\n",
    "    \n",
    "    plt.tight_layout()\n",
    "    plt.savefig(pathify(img_name), bbox_extra_artists=(leg,), bbox_inches='tight')\n",
    "    plt.show()"
   ]
  },
  {
   "cell_type": "code",
   "execution_count": null,
   "metadata": {},
   "outputs": [],
   "source": [
    "def make_scatter_plot_test_losses(data, img_name, y_lb, y_ub, xlabels=True, test_loss_label=None):\n",
    "    if 'SIRT2' in img_name:\n",
    "        fig = plt.figure(figsize=(7, 2.07), dpi=300)\n",
    "    else:\n",
    "        fig = plt.figure(figsize=(7, 1.5), dpi=300)\n",
    "    ax = sns.stripplot(x='split', y='test performance', hue='model type', \n",
    "                       hue_order=['OH-FFNN', 'FP-FFNN', 'D-MPNN', 'OH-FFNN_pt', 'FP-FFNN_pt', 'D-MPNN_pt',\n",
    "                                 'OH-KNN', 'FP-KNN', 'predict_all_ones_random', 'shuffle_preds_random'],\n",
    "                       data=data, dodge=True, zorder=2, size=3, \n",
    "                       palette=[\"#4878D0\", \"#6ACC64\", \"#D65F5F\",\n",
    "                                \"#956CB4\", \"#D5BB67\", \"#82C6E2\",\n",
    "                                \"#EE854A\", \"#DC7EC0\", \"#8C613C\", \"#797979\"])\n",
    "    leg = plt.legend(loc='center left', bbox_to_anchor = (1, 0.5), numpoints=1, fontsize=6,\n",
    "                    labels=['OH-FFNN', 'FP-FFNN', 'D-MPNN', 'OH-FFNN pt', 'FP-FFNN pt', 'D-MPNN pt',\n",
    "                           'OH-KNN', 'FP-KNN', 'random (predict all ones)', 'random (shuffle predictions)'])\n",
    "    fig.canvas.draw()\n",
    "    ax = plt.gca()\n",
    "    ax.grid(zorder=1)\n",
    "    ax.set_ylabel(f'{test_loss_label} test loss', fontsize=8)\n",
    "    ax.set_ylim([y_lb, y_ub])\n",
    "    ax.set_xlabel(None)\n",
    "    if xlabels:\n",
    "        ax.set_xticklabels(['random', 'cycle-1', 'cycle-2', 'cycle-3', 'cycle-1+2', 'cycle-1+3', \n",
    "                            'cycle-2+3', 'cycle-1+2+3'], rotation=60, ha='center')           \n",
    "    else:\n",
    "        ax.tick_params(labelsize=8, bottom=False, labelbottom=False)\n",
    "    plt.tight_layout()\n",
    "    plt.savefig(pathify(img_name), bbox_extra_artists=(leg,), bbox_inches='tight')\n",
    "    plt.show()"
   ]
  },
  {
   "cell_type": "code",
   "execution_count": null,
   "metadata": {},
   "outputs": [],
   "source": [
    "def make_scatter_plot_test_rank_corr_coeffs(data, img_name, y_lb, y_ub, xlabels=True):\n",
    "    if 'SIRT2' in img_name:\n",
    "        fig = plt.figure(figsize=(7, 2.07), dpi=300)\n",
    "    else:\n",
    "        fig = plt.figure(figsize=(7, 1.5), dpi=300)\n",
    "    ax = sns.stripplot(x='split', y='test performance', hue='model type', \n",
    "                       hue_order=['OH-FFNN', 'FP-FFNN', 'D-MPNN', 'OH-FFNN_pt', 'FP-FFNN_pt', 'D-MPNN_pt',\n",
    "                                 'OH-KNN', 'FP-KNN', 'shuffle_preds_random'],\n",
    "                       data=data, dodge=True, zorder=2, size=3, \n",
    "                       palette=[\"#4878D0\", \"#6ACC64\", \"#D65F5F\",\n",
    "                                \"#956CB4\", \"#D5BB67\", \"#82C6E2\",\n",
    "                                \"#EE854A\", \"#DC7EC0\", \"#797979\"])\n",
    "    leg = plt.legend(loc='center left', bbox_to_anchor = (1,0.5), numpoints=1, fontsize=6,\n",
    "                    labels=['OH-FFNN', 'FP-FFNN', 'D-MPNN', 'OH-FFNN pt', 'FP-FFNN pt', 'D-MPNN pt',\n",
    "                           'OH-KNN', 'FP-KNN', 'random (shuffle predictions)'])\n",
    "    fig.canvas.draw()\n",
    "    ax = plt.gca()\n",
    "    ax.grid(zorder=1)\n",
    "    ax.set_ylabel('rank correlation\\ncoefficient', fontsize=8)\n",
    "    ax.set_ylim([y_lb, y_ub])\n",
    "    ax.set_xlabel(None)\n",
    "    if xlabels:\n",
    "        ax.set_xticklabels(['random', 'cycle-1', 'cycle-2', 'cycle-3', 'cycle-1+2', 'cycle-1+3', \n",
    "                            'cycle-2+3', 'cycle-1+2+3'], rotation=60, ha='center')           \n",
    "    else:\n",
    "        ax.tick_params(labelsize=8, bottom=False, labelbottom=False)\n",
    "    plt.tight_layout()\n",
    "    plt.savefig(pathify(img_name), bbox_extra_artists=(leg,), bbox_inches='tight')\n",
    "    plt.show()"
   ]
  },
  {
   "cell_type": "markdown",
   "metadata": {},
   "source": [
    "# DD1S CAIX"
   ]
  },
  {
   "cell_type": "code",
   "execution_count": null,
   "metadata": {},
   "outputs": [],
   "source": [
    "if not os.path.isdir('DD1S_CAIX_test_loss_plots'):\n",
    "    os.mkdir('DD1S_CAIX_test_loss_plots')\n",
    "def pathify(fname):\n",
    "    return os.path.join('DD1S_CAIX_test_loss_plots', fname)"
   ]
  },
  {
   "cell_type": "markdown",
   "metadata": {},
   "source": [
    "## NLL test losses"
   ]
  },
  {
   "cell_type": "code",
   "execution_count": null,
   "metadata": {
    "scrolled": true
   },
   "outputs": [],
   "source": [
    "df_data = pd.read_csv(os.path.join(DELQSAR_ROOT, 'experiments', 'DD1S_CAIX_NLL_test_losses.csv'))\n",
    "df_data"
   ]
  },
  {
   "cell_type": "code",
   "execution_count": null,
   "metadata": {},
   "outputs": [],
   "source": [
    "OH_FFNN, OH_FFNN_stdevs = getAvgTestPerfsStdevs('OH-FFNN')\n",
    "FP_FFNN, FP_FFNN_stdevs = getAvgTestPerfsStdevs('FP-FFNN')\n",
    "D_MPNN, D_MPNN_stdevs = getAvgTestPerfsStdevs('D-MPNN')\n",
    "OH_FFNN_pt, OH_FFNN_pt_stdevs = getAvgTestPerfsStdevs('OH-FFNN_pt')\n",
    "FP_FFNN_pt, FP_FFNN_pt_stdevs = getAvgTestPerfsStdevs('FP-FFNN_pt')\n",
    "D_MPNN_pt, D_MPNN_pt_stdevs = getAvgTestPerfsStdevs('D-MPNN_pt')\n",
    "OH_KNN, OH_KNN_stdevs = getAvgTestPerfsStdevs('OH-KNN')\n",
    "FP_KNN, FP_KNN_stdevs = getAvgTestPerfsStdevs('FP-KNN')\n",
    "predict_ones_random, predict_ones_random_stdevs = getAvgTestPerfsStdevs('predict_all_ones_random')\n",
    "shuffle_preds_random, shuffle_preds_random_stdevs = getAvgTestPerfsStdevs('shuffle_preds_random')"
   ]
  },
  {
   "cell_type": "code",
   "execution_count": null,
   "metadata": {
    "scrolled": true
   },
   "outputs": [],
   "source": [
    "OH_FFNN, OH_FFNN_pt, FP_FFNN, FP_FFNN_pt, D_MPNN, D_MPNN_pt, OH_KNN, FP_KNN, predict_ones_random, shuffle_preds_random"
   ]
  },
  {
   "cell_type": "code",
   "execution_count": null,
   "metadata": {
    "scrolled": true
   },
   "outputs": [],
   "source": [
    "OH_FFNN_stdevs, OH_FFNN_pt_stdevs, FP_FFNN_stdevs, FP_FFNN_pt_stdevs, D_MPNN_stdevs, D_MPNN_pt_stdevs, OH_KNN_stdevs, FP_KNN_stdevs, predict_ones_random_stdevs, shuffle_preds_random_stdevs"
   ]
  },
  {
   "cell_type": "code",
   "execution_count": null,
   "metadata": {},
   "outputs": [],
   "source": [
    "make_bar_plot_test_losses('DD1S_CAIX_NLL_test_losses_bar_graph.png', 0.9, 1.4, xlabels=False, test_loss_label='NLL')"
   ]
  },
  {
   "cell_type": "code",
   "execution_count": null,
   "metadata": {},
   "outputs": [],
   "source": [
    "make_scatter_plot_test_losses(df_data, 'DD1S_CAIX_NLL_test_losses_scatter_plot.png', 0.935, 1.42, xlabels=False, test_loss_label='NLL')"
   ]
  },
  {
   "cell_type": "markdown",
   "metadata": {},
   "source": [
    "## MSE test losses"
   ]
  },
  {
   "cell_type": "code",
   "execution_count": null,
   "metadata": {
    "scrolled": true
   },
   "outputs": [],
   "source": [
    "df_data = pd.read_csv(os.path.join(DELQSAR_ROOT, 'experiments', 'DD1S_CAIX_MSE_test_losses.csv'))\n",
    "df_data"
   ]
  },
  {
   "cell_type": "code",
   "execution_count": null,
   "metadata": {},
   "outputs": [],
   "source": [
    "OH_FFNN, OH_FFNN_stdevs = getAvgTestPerfsStdevs('OH-FFNN')\n",
    "FP_FFNN, FP_FFNN_stdevs = getAvgTestPerfsStdevs('FP-FFNN')\n",
    "D_MPNN, D_MPNN_stdevs = getAvgTestPerfsStdevs('D-MPNN')\n",
    "OH_FFNN_pt, OH_FFNN_pt_stdevs = getAvgTestPerfsStdevs('OH-FFNN_pt')\n",
    "FP_FFNN_pt, FP_FFNN_pt_stdevs = getAvgTestPerfsStdevs('FP-FFNN_pt')\n",
    "D_MPNN_pt, D_MPNN_pt_stdevs = getAvgTestPerfsStdevs('D-MPNN_pt')\n",
    "OH_KNN, OH_KNN_stdevs = getAvgTestPerfsStdevs('OH-KNN')\n",
    "FP_KNN, FP_KNN_stdevs = getAvgTestPerfsStdevs('FP-KNN')\n",
    "predict_ones_random, predict_ones_random_stdevs = getAvgTestPerfsStdevs('predict_all_ones_random')\n",
    "shuffle_preds_random, shuffle_preds_random_stdevs = getAvgTestPerfsStdevs('shuffle_preds_random')"
   ]
  },
  {
   "cell_type": "code",
   "execution_count": null,
   "metadata": {
    "scrolled": true
   },
   "outputs": [],
   "source": [
    "OH_FFNN, OH_FFNN_pt, FP_FFNN, FP_FFNN_pt, D_MPNN, D_MPNN_pt, OH_KNN, FP_KNN, predict_ones_random, shuffle_preds_random"
   ]
  },
  {
   "cell_type": "code",
   "execution_count": null,
   "metadata": {
    "scrolled": true
   },
   "outputs": [],
   "source": [
    "OH_FFNN_stdevs, OH_FFNN_pt_stdevs, FP_FFNN_stdevs, FP_FFNN_pt_stdevs, D_MPNN_stdevs, D_MPNN_pt_stdevs, OH_KNN_stdevs, FP_KNN_stdevs, predict_ones_random_stdevs, shuffle_preds_random_stdevs"
   ]
  },
  {
   "cell_type": "code",
   "execution_count": null,
   "metadata": {},
   "outputs": [],
   "source": [
    "make_bar_plot_test_losses('DD1S_CAIX_MSE_test_losses_bar_graph.png', 0.95, 2.5, xlabels=False, test_loss_label='MSE')"
   ]
  },
  {
   "cell_type": "code",
   "execution_count": null,
   "metadata": {},
   "outputs": [],
   "source": [
    "make_scatter_plot_test_losses(df_data, 'DD1S_CAIX_MSE_test_losses_scatter_plot.png', 0.76, 2.7, xlabels=False, test_loss_label='MSE')"
   ]
  },
  {
   "cell_type": "markdown",
   "metadata": {},
   "source": [
    "## test rank correlation coefficients"
   ]
  },
  {
   "cell_type": "code",
   "execution_count": null,
   "metadata": {
    "scrolled": true
   },
   "outputs": [],
   "source": [
    "df_data = pd.read_csv(os.path.join(DELQSAR_ROOT, 'experiments', 'DD1S_CAIX_rank_corr_coeffs.csv'))\n",
    "df_data"
   ]
  },
  {
   "cell_type": "code",
   "execution_count": null,
   "metadata": {},
   "outputs": [],
   "source": [
    "OH_FFNN, OH_FFNN_stdevs = getAvgTestPerfsStdevs('OH-FFNN')\n",
    "FP_FFNN, FP_FFNN_stdevs = getAvgTestPerfsStdevs('FP-FFNN')\n",
    "D_MPNN, D_MPNN_stdevs = getAvgTestPerfsStdevs('D-MPNN')\n",
    "OH_FFNN_pt, OH_FFNN_pt_stdevs = getAvgTestPerfsStdevs('OH-FFNN_pt')\n",
    "FP_FFNN_pt, FP_FFNN_pt_stdevs = getAvgTestPerfsStdevs('FP-FFNN_pt')\n",
    "D_MPNN_pt, D_MPNN_pt_stdevs = getAvgTestPerfsStdevs('D-MPNN_pt')\n",
    "OH_KNN, OH_KNN_stdevs = getAvgTestPerfsStdevs('OH-KNN')\n",
    "FP_KNN, FP_KNN_stdevs = getAvgTestPerfsStdevs('FP-KNN')\n",
    "shuffle_preds_random, shuffle_preds_random_stdevs = getAvgTestPerfsStdevs('shuffle_preds_random')"
   ]
  },
  {
   "cell_type": "code",
   "execution_count": null,
   "metadata": {
    "scrolled": true
   },
   "outputs": [],
   "source": [
    "OH_FFNN, OH_FFNN_pt, FP_FFNN, FP_FFNN_pt, D_MPNN, D_MPNN_pt, OH_KNN, FP_KNN, shuffle_preds_random"
   ]
  },
  {
   "cell_type": "code",
   "execution_count": null,
   "metadata": {
    "scrolled": true
   },
   "outputs": [],
   "source": [
    "OH_FFNN_stdevs, OH_FFNN_pt_stdevs, FP_FFNN_stdevs, FP_FFNN_pt_stdevs, D_MPNN_stdevs, D_MPNN_pt_stdevs, OH_KNN_stdevs, FP_KNN_stdevs, predict_ones_random_stdevs, shuffle_preds_random_stdevs"
   ]
  },
  {
   "cell_type": "code",
   "execution_count": null,
   "metadata": {},
   "outputs": [],
   "source": [
    "make_bar_plot_test_rank_corr_coeffs('DD1S_CAIX_rank_corr_coeffs_bar_graph.png', -0.02, 0.2, xlabels=False)"
   ]
  },
  {
   "cell_type": "code",
   "execution_count": null,
   "metadata": {},
   "outputs": [],
   "source": [
    "make_scatter_plot_test_rank_corr_coeffs(df_data, 'DD1S_CAIX_rank_corr_coeffs_scatter_plot.png', -0.02, 0.2, xlabels=False)"
   ]
  },
  {
   "cell_type": "markdown",
   "metadata": {},
   "source": [
    "# Triazine sEH"
   ]
  },
  {
   "cell_type": "code",
   "execution_count": null,
   "metadata": {},
   "outputs": [],
   "source": [
    "if not os.path.isdir('triazine_sEH_test_loss_plots'):\n",
    "    os.mkdir('triazine_sEH_test_loss_plots')\n",
    "def pathify(fname):\n",
    "    return os.path.join('triazine_sEH_test_loss_plots', fname)"
   ]
  },
  {
   "cell_type": "markdown",
   "metadata": {},
   "source": [
    "## NLL test losses"
   ]
  },
  {
   "cell_type": "code",
   "execution_count": null,
   "metadata": {},
   "outputs": [],
   "source": [
    "df_data = pd.read_csv(os.path.join(DELQSAR_ROOT, 'experiments', 'triazine_sEH_NLL_test_losses.csv'))\n",
    "df_data"
   ]
  },
  {
   "cell_type": "code",
   "execution_count": null,
   "metadata": {},
   "outputs": [],
   "source": [
    "OH_FFNN, OH_FFNN_stdevs = getAvgTestPerfsStdevs('OH-FFNN')\n",
    "FP_FFNN, FP_FFNN_stdevs = getAvgTestPerfsStdevs('FP-FFNN')\n",
    "D_MPNN, D_MPNN_stdevs = getAvgTestPerfsStdevs('D-MPNN')\n",
    "OH_FFNN_pt, OH_FFNN_pt_stdevs = getAvgTestPerfsStdevs('OH-FFNN_pt')\n",
    "FP_FFNN_pt, FP_FFNN_pt_stdevs = getAvgTestPerfsStdevs('FP-FFNN_pt')\n",
    "D_MPNN_pt, D_MPNN_pt_stdevs = getAvgTestPerfsStdevs('D-MPNN_pt')\n",
    "OH_KNN, OH_KNN_stdevs = getAvgTestPerfsStdevs_for_KNNs('OH-KNN')\n",
    "FP_KNN, FP_KNN_stdevs = getAvgTestPerfsStdevs_for_KNNs('FP-KNN')\n",
    "predict_ones_random, predict_ones_random_stdevs = getAvgTestPerfsStdevs('predict_all_ones_random')\n",
    "shuffle_preds_random, shuffle_preds_random_stdevs = getAvgTestPerfsStdevs('shuffle_preds_random')"
   ]
  },
  {
   "cell_type": "code",
   "execution_count": null,
   "metadata": {
    "scrolled": true
   },
   "outputs": [],
   "source": [
    "OH_FFNN, OH_FFNN_pt, FP_FFNN, FP_FFNN_pt, D_MPNN, D_MPNN_pt, OH_KNN, FP_KNN, predict_ones_random, shuffle_preds_random"
   ]
  },
  {
   "cell_type": "code",
   "execution_count": null,
   "metadata": {
    "scrolled": true
   },
   "outputs": [],
   "source": [
    "OH_FFNN_stdevs, OH_FFNN_pt_stdevs, FP_FFNN_stdevs, FP_FFNN_pt_stdevs, D_MPNN_stdevs, D_MPNN_pt_stdevs, predict_ones_random_stdevs, shuffle_preds_random_stdevs"
   ]
  },
  {
   "cell_type": "code",
   "execution_count": null,
   "metadata": {},
   "outputs": [],
   "source": [
    "make_bar_plot_test_losses('triazine_sEH_NLL_test_losses_bar_graph.png', 0.47, 1.0, xlabels=False, test_loss_label='NLL')"
   ]
  },
  {
   "cell_type": "code",
   "execution_count": null,
   "metadata": {},
   "outputs": [],
   "source": [
    "make_scatter_plot_test_losses(df_data, 'triazine_sEH_NLL_test_losses_scatter_plot.png', 0.5, 1.05, xlabels=False, test_loss_label='NLL')"
   ]
  },
  {
   "cell_type": "markdown",
   "metadata": {},
   "source": [
    "## MSE test losses"
   ]
  },
  {
   "cell_type": "code",
   "execution_count": null,
   "metadata": {
    "scrolled": true
   },
   "outputs": [],
   "source": [
    "df_data = pd.read_csv(os.path.join(DELQSAR_ROOT, 'experiments', 'triazine_sEH_MSE_test_losses.csv'))\n",
    "df_data"
   ]
  },
  {
   "cell_type": "code",
   "execution_count": null,
   "metadata": {},
   "outputs": [],
   "source": [
    "OH_FFNN, OH_FFNN_stdevs = getAvgTestPerfsStdevs('OH-FFNN')\n",
    "FP_FFNN, FP_FFNN_stdevs = getAvgTestPerfsStdevs('FP-FFNN')\n",
    "D_MPNN, D_MPNN_stdevs = getAvgTestPerfsStdevs('D-MPNN')\n",
    "OH_FFNN_pt, OH_FFNN_pt_stdevs = getAvgTestPerfsStdevs('OH-FFNN_pt')\n",
    "FP_FFNN_pt, FP_FFNN_pt_stdevs = getAvgTestPerfsStdevs('FP-FFNN_pt')\n",
    "D_MPNN_pt, D_MPNN_pt_stdevs = getAvgTestPerfsStdevs('D-MPNN_pt')\n",
    "OH_KNN, OH_KNN_stdevs = getAvgTestPerfsStdevs_for_KNNs('OH-KNN')\n",
    "FP_KNN, FP_KNN_stdevs = getAvgTestPerfsStdevs_for_KNNs('FP-KNN')\n",
    "predict_ones_random, predict_ones_random_stdevs = getAvgTestPerfsStdevs('predict_all_ones_random')\n",
    "shuffle_preds_random, shuffle_preds_random_stdevs = getAvgTestPerfsStdevs('shuffle_preds_random')"
   ]
  },
  {
   "cell_type": "code",
   "execution_count": null,
   "metadata": {
    "scrolled": true
   },
   "outputs": [],
   "source": [
    "OH_FFNN, OH_FFNN_pt, FP_FFNN, FP_FFNN_pt, D_MPNN, D_MPNN_pt, OH_KNN, FP_KNN, predict_ones_random, shuffle_preds_random"
   ]
  },
  {
   "cell_type": "code",
   "execution_count": null,
   "metadata": {
    "scrolled": true
   },
   "outputs": [],
   "source": [
    "OH_FFNN_stdevs, OH_FFNN_pt_stdevs, FP_FFNN_stdevs, FP_FFNN_pt_stdevs, D_MPNN_stdevs, D_MPNN_pt_stdevs, predict_ones_random_stdevs, shuffle_preds_random_stdevs"
   ]
  },
  {
   "cell_type": "code",
   "execution_count": null,
   "metadata": {},
   "outputs": [],
   "source": [
    "make_bar_plot_test_losses('triazine_sEH_MSE_test_losses_bar_graph.png', -25, 290, xlabels=False, test_loss_label='MSE')"
   ]
  },
  {
   "cell_type": "code",
   "execution_count": null,
   "metadata": {},
   "outputs": [],
   "source": [
    "make_scatter_plot_test_losses(df_data, 'triazine_sEH_MSE_test_losses_scatter_plot.png', -3, 400, xlabels=False, test_loss_label='MSE')"
   ]
  },
  {
   "cell_type": "markdown",
   "metadata": {},
   "source": [
    "## test rank correlation coefficients"
   ]
  },
  {
   "cell_type": "code",
   "execution_count": null,
   "metadata": {
    "scrolled": true
   },
   "outputs": [],
   "source": [
    "df_data = pd.read_csv(os.path.join(DELQSAR_ROOT, 'experiments', 'triazine_sEH_rank_corr_coeffs.csv'))\n",
    "df_data"
   ]
  },
  {
   "cell_type": "code",
   "execution_count": null,
   "metadata": {},
   "outputs": [],
   "source": [
    "OH_FFNN, OH_FFNN_stdevs = getAvgTestPerfsStdevs('OH-FFNN')\n",
    "FP_FFNN, FP_FFNN_stdevs = getAvgTestPerfsStdevs('FP-FFNN')\n",
    "D_MPNN, D_MPNN_stdevs = getAvgTestPerfsStdevs('D-MPNN')\n",
    "OH_FFNN_pt, OH_FFNN_pt_stdevs = getAvgTestPerfsStdevs('OH-FFNN_pt')\n",
    "FP_FFNN_pt, FP_FFNN_pt_stdevs = getAvgTestPerfsStdevs('FP-FFNN_pt')\n",
    "D_MPNN_pt, D_MPNN_pt_stdevs = getAvgTestPerfsStdevs('D-MPNN_pt')\n",
    "OH_KNN, OH_KNN_stdevs = getAvgTestPerfsStdevs_for_KNNs('OH-KNN')\n",
    "FP_KNN, FP_KNN_stdevs = getAvgTestPerfsStdevs_for_KNNs('FP-KNN')\n",
    "shuffle_preds_random, shuffle_preds_random_stdevs = getAvgTestPerfsStdevs('shuffle_preds_random')"
   ]
  },
  {
   "cell_type": "code",
   "execution_count": null,
   "metadata": {
    "scrolled": true
   },
   "outputs": [],
   "source": [
    "OH_FFNN, OH_FFNN_pt, FP_FFNN, FP_FFNN_pt, D_MPNN, D_MPNN_pt, OH_KNN, FP_KNN, shuffle_preds_random"
   ]
  },
  {
   "cell_type": "code",
   "execution_count": null,
   "metadata": {
    "scrolled": true
   },
   "outputs": [],
   "source": [
    "OH_FFNN_stdevs, OH_FFNN_pt_stdevs, FP_FFNN_stdevs, FP_FFNN_pt_stdevs, D_MPNN_stdevs, D_MPNN_pt_stdevs, shuffle_preds_random_stdevs"
   ]
  },
  {
   "cell_type": "code",
   "execution_count": null,
   "metadata": {},
   "outputs": [],
   "source": [
    "make_bar_plot_test_rank_corr_coeffs('triazine_sEH_rank_corr_coeffs_bar_graph.png', -0.01, 0.18, xlabels=False)"
   ]
  },
  {
   "cell_type": "code",
   "execution_count": null,
   "metadata": {},
   "outputs": [],
   "source": [
    "make_scatter_plot_test_rank_corr_coeffs(df_data, 'triazine_sEH_rank_corr_coeffs_scatter_plot.png', -7e-3, 1.8e-1, xlabels=False)"
   ]
  },
  {
   "cell_type": "markdown",
   "metadata": {},
   "source": [
    "# Triazine SIRT2"
   ]
  },
  {
   "cell_type": "code",
   "execution_count": null,
   "metadata": {},
   "outputs": [],
   "source": [
    "if not os.path.isdir('triazine_SIRT2_test_loss_plots'):\n",
    "    os.mkdir('triazine_SIRT2_test_loss_plots')\n",
    "def pathify(fname):\n",
    "    return os.path.join('triazine_SIRT2_test_loss_plots', fname)"
   ]
  },
  {
   "cell_type": "markdown",
   "metadata": {},
   "source": [
    "## NLL test losses"
   ]
  },
  {
   "cell_type": "code",
   "execution_count": null,
   "metadata": {
    "scrolled": true
   },
   "outputs": [],
   "source": [
    "df_data = pd.read_csv(os.path.join(DELQSAR_ROOT, 'experiments', 'triazine_SIRT2_NLL_test_losses.csv'))\n",
    "df_data"
   ]
  },
  {
   "cell_type": "code",
   "execution_count": null,
   "metadata": {},
   "outputs": [],
   "source": [
    "OH_FFNN, OH_FFNN_stdevs = getAvgTestPerfsStdevs('OH-FFNN')\n",
    "FP_FFNN, FP_FFNN_stdevs = getAvgTestPerfsStdevs('FP-FFNN')\n",
    "D_MPNN, D_MPNN_stdevs = getAvgTestPerfsStdevs('D-MPNN')\n",
    "OH_FFNN_pt, OH_FFNN_pt_stdevs = getAvgTestPerfsStdevs('OH-FFNN_pt')\n",
    "FP_FFNN_pt, FP_FFNN_pt_stdevs = getAvgTestPerfsStdevs('FP-FFNN_pt')\n",
    "D_MPNN_pt, D_MPNN_pt_stdevs = getAvgTestPerfsStdevs('D-MPNN_pt')\n",
    "OH_KNN, OH_KNN_stdevs = getAvgTestPerfsStdevs_for_KNNs('OH-KNN')\n",
    "FP_KNN, FP_KNN_stdevs = getAvgTestPerfsStdevs_for_KNNs('FP-KNN')\n",
    "predict_ones_random, predict_ones_random_stdevs = getAvgTestPerfsStdevs('predict_all_ones_random')\n",
    "shuffle_preds_random, shuffle_preds_random_stdevs = getAvgTestPerfsStdevs('shuffle_preds_random')"
   ]
  },
  {
   "cell_type": "code",
   "execution_count": null,
   "metadata": {
    "scrolled": true
   },
   "outputs": [],
   "source": [
    "OH_FFNN, OH_FFNN_pt, FP_FFNN, FP_FFNN_pt, D_MPNN, D_MPNN_pt, OH_KNN, FP_KNN, predict_ones_random, shuffle_preds_random"
   ]
  },
  {
   "cell_type": "code",
   "execution_count": null,
   "metadata": {
    "scrolled": true
   },
   "outputs": [],
   "source": [
    "OH_FFNN_stdevs, OH_FFNN_pt_stdevs, FP_FFNN_stdevs, FP_FFNN_pt_stdevs, D_MPNN_stdevs, D_MPNN_pt_stdevs, predict_ones_random_stdevs, shuffle_preds_random_stdevs"
   ]
  },
  {
   "cell_type": "code",
   "execution_count": null,
   "metadata": {
    "scrolled": false
   },
   "outputs": [],
   "source": [
    "make_bar_plot_test_losses('triazine_SIRT2_NLL_test_losses_bar_graph.png', 0.4, 0.9, test_loss_label='NLL')"
   ]
  },
  {
   "cell_type": "code",
   "execution_count": null,
   "metadata": {},
   "outputs": [],
   "source": [
    "make_scatter_plot_test_losses(df_data, 'triazine_SIRT2_NLL_test_losses_scatter_plot.png', 0.445, 0.925, xlabels=True, test_loss_label='NLL')"
   ]
  },
  {
   "cell_type": "markdown",
   "metadata": {},
   "source": [
    "## MSE test losses"
   ]
  },
  {
   "cell_type": "code",
   "execution_count": null,
   "metadata": {
    "scrolled": true
   },
   "outputs": [],
   "source": [
    "df_data = pd.read_csv(os.path.join(DELQSAR_ROOT, 'experiments', 'triazine_SIRT2_MSE_test_losses.csv'))\n",
    "df_data"
   ]
  },
  {
   "cell_type": "code",
   "execution_count": null,
   "metadata": {},
   "outputs": [],
   "source": [
    "OH_FFNN, OH_FFNN_stdevs = getAvgTestPerfsStdevs('OH-FFNN')\n",
    "FP_FFNN, FP_FFNN_stdevs = getAvgTestPerfsStdevs('FP-FFNN')\n",
    "D_MPNN, D_MPNN_stdevs = getAvgTestPerfsStdevs('D-MPNN')\n",
    "OH_FFNN_pt, OH_FFNN_pt_stdevs = getAvgTestPerfsStdevs('OH-FFNN_pt')\n",
    "FP_FFNN_pt, FP_FFNN_pt_stdevs = getAvgTestPerfsStdevs('FP-FFNN_pt')\n",
    "D_MPNN_pt, D_MPNN_pt_stdevs = getAvgTestPerfsStdevs('D-MPNN_pt')\n",
    "OH_KNN, OH_KNN_stdevs = getAvgTestPerfsStdevs_for_KNNs('OH-KNN')\n",
    "FP_KNN, FP_KNN_stdevs = getAvgTestPerfsStdevs_for_KNNs('FP-KNN')\n",
    "predict_ones_random, predict_ones_random_stdevs = getAvgTestPerfsStdevs('predict_all_ones_random')\n",
    "shuffle_preds_random, shuffle_preds_random_stdevs = getAvgTestPerfsStdevs('shuffle_preds_random')"
   ]
  },
  {
   "cell_type": "code",
   "execution_count": null,
   "metadata": {
    "scrolled": true
   },
   "outputs": [],
   "source": [
    "OH_FFNN, OH_FFNN_pt, FP_FFNN, FP_FFNN_pt, D_MPNN, D_MPNN_pt, OH_KNN, FP_KNN, predict_ones_random, shuffle_preds_random"
   ]
  },
  {
   "cell_type": "code",
   "execution_count": null,
   "metadata": {
    "scrolled": true
   },
   "outputs": [],
   "source": [
    "OH_FFNN_stdevs, OH_FFNN_pt_stdevs, FP_FFNN_stdevs, FP_FFNN_pt_stdevs, D_MPNN_stdevs, D_MPNN_pt_stdevs, predict_ones_random_stdevs, shuffle_preds_random_stdevs"
   ]
  },
  {
   "cell_type": "code",
   "execution_count": null,
   "metadata": {},
   "outputs": [],
   "source": [
    "make_bar_plot_test_losses('triazine_SIRT2_MSE_test_losses_bar_graph.png', 5, 100, test_loss_label='MSE')"
   ]
  },
  {
   "cell_type": "code",
   "execution_count": null,
   "metadata": {},
   "outputs": [],
   "source": [
    "make_scatter_plot_test_losses(df_data, 'triazine_SIRT2_MSE_test_losses_scatter_plot.png', 4, 100, xlabels=True, test_loss_label='MSE')"
   ]
  },
  {
   "cell_type": "markdown",
   "metadata": {},
   "source": [
    "## test rank correlation coefficients"
   ]
  },
  {
   "cell_type": "code",
   "execution_count": null,
   "metadata": {
    "scrolled": true
   },
   "outputs": [],
   "source": [
    "df_data = pd.read_csv(os.path.join(DELQSAR_ROOT, 'experiments', 'triazine_SIRT2_rank_corr_coeffs.csv'))\n",
    "df_data"
   ]
  },
  {
   "cell_type": "code",
   "execution_count": null,
   "metadata": {},
   "outputs": [],
   "source": [
    "OH_FFNN, OH_FFNN_stdevs = getAvgTestPerfsStdevs('OH-FFNN')\n",
    "FP_FFNN, FP_FFNN_stdevs = getAvgTestPerfsStdevs('FP-FFNN')\n",
    "D_MPNN, D_MPNN_stdevs = getAvgTestPerfsStdevs('D-MPNN')\n",
    "OH_FFNN_pt, OH_FFNN_pt_stdevs = getAvgTestPerfsStdevs('OH-FFNN_pt')\n",
    "FP_FFNN_pt, FP_FFNN_pt_stdevs = getAvgTestPerfsStdevs('FP-FFNN_pt')\n",
    "D_MPNN_pt, D_MPNN_pt_stdevs = getAvgTestPerfsStdevs('D-MPNN_pt')\n",
    "OH_KNN, OH_KNN_stdevs = getAvgTestPerfsStdevs_for_KNNs('OH-KNN')\n",
    "FP_KNN, FP_KNN_stdevs = getAvgTestPerfsStdevs_for_KNNs('FP-KNN')\n",
    "shuffle_preds_random, shuffle_preds_random_stdevs = getAvgTestPerfsStdevs('shuffle_preds_random')"
   ]
  },
  {
   "cell_type": "code",
   "execution_count": null,
   "metadata": {
    "scrolled": true
   },
   "outputs": [],
   "source": [
    "OH_FFNN, OH_FFNN_pt, FP_FFNN, FP_FFNN_pt, D_MPNN, D_MPNN_pt, OH_KNN, FP_KNN, shuffle_preds_random"
   ]
  },
  {
   "cell_type": "code",
   "execution_count": null,
   "metadata": {
    "scrolled": true
   },
   "outputs": [],
   "source": [
    "OH_FFNN_stdevs, OH_FFNN_pt_stdevs, FP_FFNN_stdevs, FP_FFNN_pt_stdevs, D_MPNN_stdevs, D_MPNN_pt_stdevs, shuffle_preds_random_stdevs"
   ]
  },
  {
   "cell_type": "code",
   "execution_count": null,
   "metadata": {},
   "outputs": [],
   "source": [
    "make_bar_plot_test_rank_corr_coeffs('triazine_SIRT2_rank_corr_coeffs_bar_graph.png', -0.055, 0.235, xlabels=True)"
   ]
  },
  {
   "cell_type": "code",
   "execution_count": null,
   "metadata": {},
   "outputs": [],
   "source": [
    "make_scatter_plot_test_rank_corr_coeffs(df_data, 'triazine_SIRT2_rank_corr_coeffs_scatter_plot.png', -0.06, 0.236, xlabels=True)"
   ]
  },
  {
   "cell_type": "markdown",
   "metadata": {},
   "source": [
    "# Triazine sEH + SIRT2"
   ]
  },
  {
   "cell_type": "code",
   "execution_count": null,
   "metadata": {},
   "outputs": [],
   "source": [
    "if not os.path.isdir('triazine_multitask_sEH_SIRT2_test_loss_plots'):\n",
    "    os.mkdir('triazine_multitask_sEH_SIRT2_test_loss_plots')\n",
    "def pathify(fname):\n",
    "    return os.path.join('triazine_multitask_sEH_SIRT2_test_loss_plots', fname)"
   ]
  },
  {
   "cell_type": "markdown",
   "metadata": {},
   "source": [
    "## Test losses for sEH"
   ]
  },
  {
   "cell_type": "code",
   "execution_count": null,
   "metadata": {},
   "outputs": [],
   "source": [
    "df_data = pd.read_csv(os.path.join(DELQSAR_ROOT, 'experiments', 'triazine_multitask_sEH_test_losses.csv'))\n",
    "df_data"
   ]
  },
  {
   "cell_type": "code",
   "execution_count": null,
   "metadata": {},
   "outputs": [],
   "source": [
    "OH_FFNN_mt, OH_FFNN_mt_stdevs = getAvgTestPerfsStdevs('OH-FFNN_multi-task', multiTask=True)\n",
    "FP_FFNN_mt, FP_FFNN_mt_stdevs = getAvgTestPerfsStdevs('FP-FFNN_multi-task', multiTask=True)\n",
    "D_MPNN_mt, D_MPNN_mt_stdevs = getAvgTestPerfsStdevs('D-MPNN_multi-task', multiTask=True)\n",
    "OH_FFNN_st, OH_FFNN_st_stdevs = getAvgTestPerfsStdevs('OH-FFNN_single-task', multiTask=True)\n",
    "FP_FFNN_st, FP_FFNN_st_stdevs = getAvgTestPerfsStdevs('FP-FFNN_single-task', multiTask=True)\n",
    "D_MPNN_st, D_MPNN_st_stdevs = getAvgTestPerfsStdevs('D-MPNN_single-task', multiTask=True)"
   ]
  },
  {
   "cell_type": "code",
   "execution_count": null,
   "metadata": {},
   "outputs": [],
   "source": [
    "OH_FFNN_mt, OH_FFNN_st, FP_FFNN_mt, FP_FFNN_st, D_MPNN_mt, D_MPNN_st"
   ]
  },
  {
   "cell_type": "code",
   "execution_count": null,
   "metadata": {},
   "outputs": [],
   "source": [
    "OH_FFNN_mt_stdevs, OH_FFNN_st_stdevs, FP_FFNN_mt_stdevs, FP_FFNN_st_stdevs, D_MPNN_mt_stdevs, D_MPNN_st_stdevs"
   ]
  },
  {
   "cell_type": "code",
   "execution_count": null,
   "metadata": {},
   "outputs": [],
   "source": [
    "make_bar_plot_test_losses('triazine_multitask_sEH_test_losses_bar_graph.png', 0.5, 0.7, multiTask=True)"
   ]
  },
  {
   "cell_type": "markdown",
   "metadata": {},
   "source": [
    "## Test losses for SIRT2"
   ]
  },
  {
   "cell_type": "code",
   "execution_count": null,
   "metadata": {},
   "outputs": [],
   "source": [
    "df_data = pd.read_csv(os.path.join(DELQSAR_ROOT, 'experiments', 'triazine_multitask_SIRT2_test_losses.csv'))\n",
    "df_data"
   ]
  },
  {
   "cell_type": "code",
   "execution_count": null,
   "metadata": {},
   "outputs": [],
   "source": [
    "OH_FFNN_mt, OH_FFNN_mt_stdevs = getAvgTestPerfsStdevs('OH-FFNN_multi-task', multiTask=True)\n",
    "FP_FFNN_mt, FP_FFNN_mt_stdevs = getAvgTestPerfsStdevs('FP-FFNN_multi-task', multiTask=True)\n",
    "D_MPNN_mt, D_MPNN_mt_stdevs = getAvgTestPerfsStdevs('D-MPNN_multi-task', multiTask=True)\n",
    "OH_FFNN_st, OH_FFNN_st_stdevs = getAvgTestPerfsStdevs('OH-FFNN_single-task', multiTask=True)\n",
    "FP_FFNN_st, FP_FFNN_st_stdevs = getAvgTestPerfsStdevs('FP-FFNN_single-task', multiTask=True)\n",
    "D_MPNN_st, D_MPNN_st_stdevs = getAvgTestPerfsStdevs('D-MPNN_single-task', multiTask=True)"
   ]
  },
  {
   "cell_type": "code",
   "execution_count": null,
   "metadata": {},
   "outputs": [],
   "source": [
    "OH_FFNN_mt, OH_FFNN_st, FP_FFNN_mt, FP_FFNN_st, D_MPNN_mt, D_MPNN_st"
   ]
  },
  {
   "cell_type": "code",
   "execution_count": null,
   "metadata": {},
   "outputs": [],
   "source": [
    "OH_FFNN_mt_stdevs, OH_FFNN_st_stdevs, FP_FFNN_mt_stdevs, FP_FFNN_st_stdevs, D_MPNN_mt_stdevs, D_MPNN_st_stdevs"
   ]
  },
  {
   "cell_type": "code",
   "execution_count": null,
   "metadata": {},
   "outputs": [],
   "source": [
    "make_bar_plot_test_losses('triazine_multitask_SIRT2_test_losses_bar_graph.png', 0.45, 0.6, multiTask=True)"
   ]
  },
  {
   "cell_type": "code",
   "execution_count": null,
   "metadata": {},
   "outputs": [],
   "source": []
  }
 ],
 "metadata": {
  "kernelspec": {
   "display_name": "Python 3",
   "language": "python",
   "name": "python3"
  },
  "language_info": {
   "codemirror_mode": {
    "name": "ipython",
    "version": 3
   },
   "file_extension": ".py",
   "mimetype": "text/x-python",
   "name": "python",
   "nbconvert_exporter": "python",
   "pygments_lexer": "ipython3",
   "version": "3.8.5"
  },
  "latex_envs": {
   "LaTeX_envs_menu_present": true,
   "autoclose": false,
   "autocomplete": true,
   "bibliofile": "biblio.bib",
   "cite_by": "apalike",
   "current_citInitial": 1,
   "eqLabelWithNumbers": true,
   "eqNumInitial": 1,
   "hotkeys": {
    "equation": "Ctrl-E",
    "itemize": "Ctrl-I"
   },
   "labels_anchors": false,
   "latex_user_defs": false,
   "report_style_numbering": false,
   "user_envs_cfg": false
  },
  "toc": {
   "base_numbering": 1,
   "nav_menu": {},
   "number_sections": true,
   "sideBar": true,
   "skip_h1_title": false,
   "title_cell": "Table of Contents",
   "title_sidebar": "Contents",
   "toc_cell": false,
   "toc_position": {},
   "toc_section_display": true,
   "toc_window_display": false
  },
  "varInspector": {
   "cols": {
    "lenName": 16,
    "lenType": 16,
    "lenVar": 40
   },
   "kernels_config": {
    "python": {
     "delete_cmd_postfix": "",
     "delete_cmd_prefix": "del ",
     "library": "var_list.py",
     "varRefreshCmd": "print(var_dic_list())"
    },
    "r": {
     "delete_cmd_postfix": ") ",
     "delete_cmd_prefix": "rm(",
     "library": "var_list.r",
     "varRefreshCmd": "cat(var_dic_list()) "
    }
   },
   "types_to_exclude": [
    "module",
    "function",
    "builtin_function_or_method",
    "instance",
    "_Feature"
   ],
   "window_display": false
  }
 },
 "nbformat": 4,
 "nbformat_minor": 2
}
