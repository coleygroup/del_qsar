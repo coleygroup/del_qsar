{
 "cells": [
  {
   "cell_type": "code",
   "execution_count": null,
   "metadata": {},
   "outputs": [],
   "source": [
    "%load_ext autoreload\n",
    "%autoreload 2"
   ]
  },
  {
   "cell_type": "code",
   "execution_count": null,
   "metadata": {},
   "outputs": [],
   "source": [
    "import os, sys\n",
    "import numpy as np\n",
    "\n",
    "import matplotlib\n",
    "import matplotlib.pyplot as plt\n",
    "plt.style.use('seaborn-paper')\n",
    "matplotlib.rc('font', family='sans-serif')\n",
    "matplotlib.rc('font', serif='Arial')\n",
    "matplotlib.rc('text', usetex='false')\n",
    "import matplotlib.colors as colors\n",
    "import copy"
   ]
  },
  {
   "cell_type": "code",
   "execution_count": null,
   "metadata": {},
   "outputs": [],
   "source": [
    "if not os.path.isdir('UMAP_plots'):\n",
    "    os.mkdir('UMAP_plots')\n",
    "def pathify(fname):\n",
    "    return os.path.join('UMAP_plots', fname)"
   ]
  },
  {
   "cell_type": "code",
   "execution_count": null,
   "metadata": {},
   "outputs": [],
   "source": [
    "DOS_DEL_1_embedding = np.load('DOS_DEL_1_4096_bits_umap.npy')\n",
    "triazine_embedding = np.load('triazine_4096_bits_umap.npy')\n",
    "pubchem_embedding = np.load('pubchem_4096_bits_umap.npy')"
   ]
  },
  {
   "cell_type": "code",
   "execution_count": null,
   "metadata": {},
   "outputs": [],
   "source": [
    "def make_UMAP_density_plot(data, data_label, img_name):\n",
    "    fig = plt.figure(figsize=(2.33, 1.8), dpi=300)\n",
    "    bins = [np.arange(-10, 30, 0.3), np.arange(-15, 25, 0.3)]\n",
    "    my_cmap = copy.copy(matplotlib.cm.get_cmap('viridis'))\n",
    "    my_cmap.set_bad(\"white\") # color zero frequency values as white\n",
    "    \n",
    "    print(f'min x: {min(data.T[0])}')\n",
    "    print(f'max x: {max(data.T[0])}')\n",
    "    print(f'min y: {min(data.T[1])}')\n",
    "    print(f'max y: {max(data.T[1])}')\n",
    "    plt.hist2d(data.T[0], data.T[1], bins=bins, norm=colors.LogNorm(), cmap=my_cmap)\n",
    "    \n",
    "    cb = plt.colorbar()\n",
    "    cb.ax.tick_params(labelsize=7, length=3, pad=0.5)\n",
    "    cb.ax.set_ylabel('frequency', rotation=270, fontsize=8, labelpad=8)\n",
    "    fig.canvas.draw()\n",
    "    ax = plt.gca()\n",
    "    plt.grid()\n",
    "    ax.tick_params(labelsize=9)\n",
    "    ax.set_title(data_label, fontsize=9)\n",
    "    ax.set_xticks([-10, 0, 10, 20, 30])\n",
    "    plt.tight_layout()\n",
    "    \n",
    "    plt.savefig(pathify(img_name))\n",
    "    plt.show()"
   ]
  },
  {
   "cell_type": "code",
   "execution_count": null,
   "metadata": {},
   "outputs": [],
   "source": [
    "make_UMAP_density_plot(pubchem_embedding, 'PubChem', 'pubchem_4096_bits_UMAP_density_plot')"
   ]
  },
  {
   "cell_type": "code",
   "execution_count": null,
   "metadata": {},
   "outputs": [],
   "source": [
    "make_UMAP_density_plot(DOS_DEL_1_embedding, 'DOS-DEL-1', 'DOS_DEL_1_4096_bits_UMAP_density_plot')"
   ]
  },
  {
   "cell_type": "code",
   "execution_count": null,
   "metadata": {},
   "outputs": [],
   "source": [
    "make_UMAP_density_plot(triazine_embedding, 'triazine library', 'triazine_4096_bits_UMAP_density_plot')"
   ]
  },
  {
   "cell_type": "code",
   "execution_count": null,
   "metadata": {},
   "outputs": [],
   "source": []
  }
 ],
 "metadata": {
  "kernelspec": {
   "display_name": "chemprop",
   "language": "python",
   "name": "chemprop"
  },
  "language_info": {
   "codemirror_mode": {
    "name": "ipython",
    "version": 3
   },
   "file_extension": ".py",
   "mimetype": "text/x-python",
   "name": "python",
   "nbconvert_exporter": "python",
   "pygments_lexer": "ipython3",
   "version": "3.6.10"
  },
  "latex_envs": {
   "LaTeX_envs_menu_present": true,
   "autoclose": false,
   "autocomplete": true,
   "bibliofile": "biblio.bib",
   "cite_by": "apalike",
   "current_citInitial": 1,
   "eqLabelWithNumbers": true,
   "eqNumInitial": 1,
   "hotkeys": {
    "equation": "Ctrl-E",
    "itemize": "Ctrl-I"
   },
   "labels_anchors": false,
   "latex_user_defs": false,
   "report_style_numbering": false,
   "user_envs_cfg": false
  },
  "toc": {
   "base_numbering": 1,
   "nav_menu": {},
   "number_sections": true,
   "sideBar": true,
   "skip_h1_title": false,
   "title_cell": "Table of Contents",
   "title_sidebar": "Contents",
   "toc_cell": false,
   "toc_position": {},
   "toc_section_display": true,
   "toc_window_display": false
  },
  "varInspector": {
   "cols": {
    "lenName": 16,
    "lenType": 16,
    "lenVar": 40
   },
   "kernels_config": {
    "python": {
     "delete_cmd_postfix": "",
     "delete_cmd_prefix": "del ",
     "library": "var_list.py",
     "varRefreshCmd": "print(var_dic_list())"
    },
    "r": {
     "delete_cmd_postfix": ") ",
     "delete_cmd_prefix": "rm(",
     "library": "var_list.r",
     "varRefreshCmd": "cat(var_dic_list()) "
    }
   },
   "types_to_exclude": [
    "module",
    "function",
    "builtin_function_or_method",
    "instance",
    "_Feature"
   ],
   "window_display": false
  }
 },
 "nbformat": 4,
 "nbformat_minor": 2
}
