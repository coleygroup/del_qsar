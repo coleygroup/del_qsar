{
 "cells": [
  {
   "cell_type": "code",
   "execution_count": null,
   "metadata": {},
   "outputs": [],
   "source": [
    "%load_ext autoreload\n",
    "%autoreload 2"
   ]
  },
  {
   "cell_type": "code",
   "execution_count": null,
   "metadata": {},
   "outputs": [],
   "source": [
    "import os\n",
    "import pandas as pd\n",
    "import numpy as np\n",
    "import statistics\n",
    "from tqdm import tqdm"
   ]
  },
  {
   "cell_type": "code",
   "execution_count": null,
   "metadata": {},
   "outputs": [],
   "source": [
    "DELQSAR_ROOT = os.getcwd() + '/../../'\n",
    "\n",
    "if not os.path.isdir('fixed_threshold_bin_plots'):\n",
    "    os.mkdir('fixed_threshold_bin_plots')\n",
    "    \n",
    "def pathify(fname):\n",
    "    return os.path.join('fixed_threshold_bin_plots', fname)"
   ]
  },
  {
   "cell_type": "code",
   "execution_count": null,
   "metadata": {},
   "outputs": [],
   "source": [
    "import matplotlib\n",
    "import matplotlib.pyplot as plt\n",
    "plt.style.use('seaborn-paper')\n",
    "\n",
    "matplotlib.rc('font', family='sans-serif')\n",
    "matplotlib.rc('font', serif='Arial')\n",
    "matplotlib.rc('text', usetex='false')"
   ]
  },
  {
   "cell_type": "code",
   "execution_count": null,
   "metadata": {},
   "outputs": [],
   "source": [
    "def get_avg_AUCs_stdevs(dataset, model_type, metric):\n",
    "    all_aucs = np.array([\n",
    "        df_data[df_data['model type'].isin([str(model_type)])\n",
    "               & df_data['dataset'].isin([str(dataset)])][str(metric)],\n",
    "    ])\n",
    "\n",
    "    avg_aucs = [statistics.mean(aucs) for aucs in all_aucs]\n",
    "    stdevs = [statistics.stdev(aucs) for aucs in all_aucs]\n",
    "    return avg_aucs, stdevs"
   ]
  },
  {
   "cell_type": "code",
   "execution_count": null,
   "metadata": {},
   "outputs": [],
   "source": [
    "def make_plot_AUC(img_name, dataset, y_lb, y_ub, metric, title=True, legend=False, ylabel=False,\n",
    "                          barWidth=0.25, eLineWidth=0.5, capSize=1, capThick=0.5):\n",
    "    barWidth, eLineWidth, capSize, capThick = barWidth, eLineWidth, capSize, capThick\n",
    "    if legend:\n",
    "        fig = plt.figure(figsize=(7, 2.33), dpi=300)\n",
    "    elif ylabel:\n",
    "        fig = plt.figure(figsize=(2.33, 1.9), dpi=300)\n",
    "    elif 'sEH' in dataset or 'ROC' in metric:\n",
    "        fig = plt.figure(figsize=(2.1, 1.9), dpi=300)\n",
    "    else:\n",
    "        fig = plt.figure(figsize=(2.15, 1.9), dpi=300)\n",
    "\n",
    "    bars1 = OH_FFNN_bin\n",
    "    err1 = OH_FFNN_bin_stdevs\n",
    "    bars2 = FP_FFNN_bin\n",
    "    err2 = FP_FFNN_bin_stdevs\n",
    "    bars3 = D_MPNN_bin\n",
    "    err3 = D_MPNN_bin_stdevs\n",
    "    \n",
    "    bars4 = OH_FFNN\n",
    "    err4 = OH_FFNN_stdevs\n",
    "    bars5 = FP_FFNN\n",
    "    err5 = FP_FFNN_stdevs\n",
    "    bars6 = D_MPNN\n",
    "    err6 = D_MPNN_stdevs\n",
    "    \n",
    "    bars7 = OH_FFNN_pt\n",
    "    err7 = OH_FFNN_pt_stdevs\n",
    "    bars8 = FP_FFNN_pt\n",
    "    err8 = FP_FFNN_pt_stdevs\n",
    "    bars9 = D_MPNN_pt\n",
    "    err9 = D_MPNN_pt_stdevs\n",
    "    \n",
    "    bars10 = random_guess\n",
    "    err10 = random_guess_stdevs\n",
    "\n",
    "    r1 = [0]\n",
    "    r2 = [x + barWidth for x in r1]\n",
    "    r3 = [x + barWidth for x in r2]\n",
    "    r4 = [x + barWidth for x in r3]\n",
    "    r5 = [x + barWidth for x in r4]\n",
    "    r6 = [x + barWidth for x in r5]\n",
    "    r7 = [x + barWidth for x in r6]\n",
    "    r8 = [x + barWidth for x in r7]\n",
    "    r9 = [x + barWidth for x in r8]\n",
    "    r10 = [x + barWidth for x in r9]\n",
    "\n",
    "    colors = [\"#DD8452\", \"#937860\", \"#DA8BC3\",\n",
    "            \"#4878D0\", \"#6ACC64\", \"#D65F5F\",\n",
    "            \"#956CB4\", \"#D5BB67\", \"#82C6E2\",\n",
    "            \"#797979\"]\n",
    "    plt.bar(r1, bars1, yerr=err1, error_kw = {'elinewidth': eLineWidth, 'capsize': capSize, 'capthick': capThick}, \n",
    "            color=colors[0], width=barWidth, label='OH-FFNN bin', zorder=2)\n",
    "    plt.bar(r2, bars2, yerr=err2, error_kw = {'elinewidth': eLineWidth, 'capsize': capSize, 'capthick': capThick}, \n",
    "            color=colors[1], width=barWidth, label='FP-FFNN bin', zorder=2)\n",
    "    plt.bar(r3, bars3, yerr=err3, error_kw = {'elinewidth': eLineWidth, 'capsize': capSize, 'capthick': capThick}, \n",
    "            color=colors[2], width=barWidth, label='D-MPNN bin', zorder=2)\n",
    "    plt.bar(r4, bars4, yerr=err4, error_kw = {'elinewidth': eLineWidth, 'capsize': capSize, 'capthick': capThick}, \n",
    "            color=colors[3], width=barWidth, label='OH-FFNN', zorder=2)\n",
    "    plt.bar(r5, bars5, yerr=err5, error_kw = {'elinewidth': eLineWidth, 'capsize': capSize, 'capthick': capThick}, \n",
    "            color=colors[4], width=barWidth, label='FP-FFNN', zorder=2)\n",
    "    plt.bar(r6, bars6, yerr=err6, error_kw = {'elinewidth': eLineWidth, 'capsize': capSize, 'capthick': capThick}, \n",
    "            color=colors[5], width=barWidth, label='D-MPNN', zorder=2)\n",
    "    plt.bar(r7, bars7, yerr=err7, error_kw = {'elinewidth': eLineWidth, 'capsize': capSize, 'capthick': capThick}, \n",
    "            color=colors[6], width=barWidth, label='OH-FFNN pt', zorder=2)\n",
    "    plt.bar(r8, bars8, yerr=err8, error_kw = {'elinewidth': eLineWidth, 'capsize': capSize, 'capthick': capThick}, \n",
    "            color=colors[7], width=barWidth, label='FP-FFNN pt', zorder=2)\n",
    "    plt.bar(r9, bars9, yerr=err9, error_kw = {'elinewidth': eLineWidth, 'capsize': capSize, 'capthick': capThick}, \n",
    "            color=colors[8], width=barWidth, label='D-MPNN pt', zorder=2)\n",
    "    plt.bar(r10, bars10, yerr=err10, error_kw = {'elinewidth': eLineWidth, 'capsize': capSize, 'capthick': capThick}, \n",
    "            color=colors[9], width=barWidth, label='random guess', zorder=2)\n",
    "    \n",
    "    if legend:\n",
    "        leg = plt.legend(loc='lower center', bbox_to_anchor = (0.5,-0.5), numpoints=1, fontsize=7, ncol=5)\n",
    "\n",
    "    fig.canvas.draw()\n",
    "    ax = plt.gca()\n",
    "    ax.grid(zorder=1)\n",
    "    if ylabel:\n",
    "        ax.set_ylabel(str(metric), fontsize=8)\n",
    "    if title:\n",
    "        ax.set_title(str(dataset), fontsize=8)\n",
    "    ax.set_ylim([y_lb, y_ub]) \n",
    "    ax.tick_params(axis='x', length=0)\n",
    "    ax.tick_params(labelsize=8, bottom=False, labelbottom=False)\n",
    "\n",
    "    plt.tight_layout()\n",
    "    if legend:\n",
    "        plt.savefig(pathify(img_name), bbox_extra_artists=(leg,), bbox_inches='tight')\n",
    "    else:\n",
    "        plt.savefig(pathify(img_name))\n",
    "    plt.show()"
   ]
  },
  {
   "cell_type": "code",
   "execution_count": null,
   "metadata": {},
   "outputs": [],
   "source": [
    "df_data = pd.read_csv(os.path.join(DELQSAR_ROOT, 'experiments', 'bin_AUCs.csv')) "
   ]
  },
  {
   "cell_type": "code",
   "execution_count": null,
   "metadata": {},
   "outputs": [],
   "source": [
    "OH_FFNN_bin, OH_FFNN_bin_stdevs = get_avg_AUCs_stdevs('DD1S CAIX', 'OH-FFNN bin', 'PR AUC')\n",
    "FP_FFNN_bin, FP_FFNN_bin_stdevs = get_avg_AUCs_stdevs('DD1S CAIX', 'FP-FFNN bin', 'PR AUC')\n",
    "D_MPNN_bin, D_MPNN_bin_stdevs = get_avg_AUCs_stdevs('DD1S CAIX', 'D-MPNN bin', 'PR AUC')\n",
    "OH_FFNN, OH_FFNN_stdevs = get_avg_AUCs_stdevs('DD1S CAIX', 'OH-FFNN', 'PR AUC')\n",
    "FP_FFNN, FP_FFNN_stdevs = get_avg_AUCs_stdevs('DD1S CAIX', 'FP-FFNN', 'PR AUC')\n",
    "D_MPNN, D_MPNN_stdevs = get_avg_AUCs_stdevs('DD1S CAIX', 'D-MPNN', 'PR AUC')\n",
    "OH_FFNN_pt, OH_FFNN_pt_stdevs = get_avg_AUCs_stdevs('DD1S CAIX', 'OH-FFNN pt', 'PR AUC')\n",
    "FP_FFNN_pt, FP_FFNN_pt_stdevs = get_avg_AUCs_stdevs('DD1S CAIX', 'FP-FFNN pt', 'PR AUC')\n",
    "D_MPNN_pt, D_MPNN_pt_stdevs = get_avg_AUCs_stdevs('DD1S CAIX', 'D-MPNN pt', 'PR AUC')\n",
    "random_guess, random_guess_stdevs = get_avg_AUCs_stdevs('DD1S CAIX', 'Random guess', 'PR AUC')"
   ]
  },
  {
   "cell_type": "code",
   "execution_count": null,
   "metadata": {},
   "outputs": [],
   "source": [
    "make_plot_AUC('DD1S_CAIX_bin_PR_AUCs.png', 'DD1S CAIX', 0, 0.1, 'PR AUC', ylabel=True)"
   ]
  },
  {
   "cell_type": "code",
   "execution_count": null,
   "metadata": {},
   "outputs": [],
   "source": [
    "OH_FFNN_bin, OH_FFNN_bin_stdevs = get_avg_AUCs_stdevs('triazine sEH', 'OH-FFNN bin', 'PR AUC')\n",
    "FP_FFNN_bin, FP_FFNN_bin_stdevs = get_avg_AUCs_stdevs('triazine sEH', 'FP-FFNN bin', 'PR AUC')\n",
    "D_MPNN_bin, D_MPNN_bin_stdevs = get_avg_AUCs_stdevs('triazine sEH', 'D-MPNN bin', 'PR AUC')\n",
    "OH_FFNN, OH_FFNN_stdevs = get_avg_AUCs_stdevs('triazine sEH', 'OH-FFNN', 'PR AUC')\n",
    "FP_FFNN, FP_FFNN_stdevs = get_avg_AUCs_stdevs('triazine sEH', 'FP-FFNN', 'PR AUC')\n",
    "D_MPNN, D_MPNN_stdevs = get_avg_AUCs_stdevs('triazine sEH', 'D-MPNN', 'PR AUC')\n",
    "OH_FFNN_pt, OH_FFNN_pt_stdevs = get_avg_AUCs_stdevs('triazine sEH', 'OH-FFNN pt', 'PR AUC')\n",
    "FP_FFNN_pt, FP_FFNN_pt_stdevs = get_avg_AUCs_stdevs('triazine sEH', 'FP-FFNN pt', 'PR AUC')\n",
    "D_MPNN_pt, D_MPNN_pt_stdevs = get_avg_AUCs_stdevs('triazine sEH', 'D-MPNN pt', 'PR AUC')\n",
    "random_guess, random_guess_stdevs = get_avg_AUCs_stdevs('triazine sEH', 'Random guess', 'PR AUC')"
   ]
  },
  {
   "cell_type": "code",
   "execution_count": null,
   "metadata": {
    "scrolled": true
   },
   "outputs": [],
   "source": [
    "# getting legend\n",
    "make_plot_AUC('triazine_sEH_bin_PR_AUCs_legend.png', 'triazine sEH', 0.25, 0.5, 'PR AUC', legend=True)"
   ]
  },
  {
   "cell_type": "code",
   "execution_count": null,
   "metadata": {},
   "outputs": [],
   "source": [
    "make_plot_AUC('triazine_sEH_bin_PR_AUCs.png', 'triazine sEH', -0.01, 0.5, 'PR AUC')"
   ]
  },
  {
   "cell_type": "code",
   "execution_count": null,
   "metadata": {},
   "outputs": [],
   "source": [
    "OH_FFNN_bin, OH_FFNN_bin_stdevs = get_avg_AUCs_stdevs('triazine SIRT2', 'OH-FFNN bin', 'PR AUC')\n",
    "FP_FFNN_bin, FP_FFNN_bin_stdevs = get_avg_AUCs_stdevs('triazine SIRT2', 'FP-FFNN bin', 'PR AUC')\n",
    "D_MPNN_bin, D_MPNN_bin_stdevs = get_avg_AUCs_stdevs('triazine SIRT2', 'D-MPNN bin', 'PR AUC')\n",
    "OH_FFNN, OH_FFNN_stdevs = get_avg_AUCs_stdevs('triazine SIRT2', 'OH-FFNN', 'PR AUC')\n",
    "FP_FFNN, FP_FFNN_stdevs = get_avg_AUCs_stdevs('triazine SIRT2', 'FP-FFNN', 'PR AUC')\n",
    "D_MPNN, D_MPNN_stdevs = get_avg_AUCs_stdevs('triazine SIRT2', 'D-MPNN', 'PR AUC')\n",
    "OH_FFNN_pt, OH_FFNN_pt_stdevs = get_avg_AUCs_stdevs('triazine SIRT2', 'OH-FFNN pt', 'PR AUC')\n",
    "FP_FFNN_pt, FP_FFNN_pt_stdevs = get_avg_AUCs_stdevs('triazine SIRT2', 'FP-FFNN pt', 'PR AUC')\n",
    "D_MPNN_pt, D_MPNN_pt_stdevs = get_avg_AUCs_stdevs('triazine SIRT2', 'D-MPNN pt', 'PR AUC')\n",
    "random_guess, random_guess_stdevs = get_avg_AUCs_stdevs('triazine SIRT2', 'Random guess', 'PR AUC')"
   ]
  },
  {
   "cell_type": "code",
   "execution_count": null,
   "metadata": {},
   "outputs": [],
   "source": [
    "make_plot_AUC('triazine_SIRT2_bin_PR_AUCs.png', 'triazine SIRT2', -0.003, 0.15, 'PR AUC')"
   ]
  },
  {
   "cell_type": "code",
   "execution_count": null,
   "metadata": {},
   "outputs": [],
   "source": [
    "OH_FFNN_bin, OH_FFNN_bin_stdevs = get_avg_AUCs_stdevs('DD1S CAIX', 'OH-FFNN bin', 'ROC AUC')\n",
    "FP_FFNN_bin, FP_FFNN_bin_stdevs = get_avg_AUCs_stdevs('DD1S CAIX', 'FP-FFNN bin', 'ROC AUC')\n",
    "D_MPNN_bin, D_MPNN_bin_stdevs = get_avg_AUCs_stdevs('DD1S CAIX', 'D-MPNN bin', 'ROC AUC')\n",
    "OH_FFNN, OH_FFNN_stdevs = get_avg_AUCs_stdevs('DD1S CAIX', 'OH-FFNN', 'ROC AUC')\n",
    "FP_FFNN, FP_FFNN_stdevs = get_avg_AUCs_stdevs('DD1S CAIX', 'FP-FFNN', 'ROC AUC')\n",
    "D_MPNN, D_MPNN_stdevs = get_avg_AUCs_stdevs('DD1S CAIX', 'D-MPNN', 'ROC AUC')\n",
    "OH_FFNN_pt, OH_FFNN_pt_stdevs = get_avg_AUCs_stdevs('DD1S CAIX', 'OH-FFNN pt', 'ROC AUC')\n",
    "FP_FFNN_pt, FP_FFNN_pt_stdevs = get_avg_AUCs_stdevs('DD1S CAIX', 'FP-FFNN pt', 'ROC AUC')\n",
    "D_MPNN_pt, D_MPNN_pt_stdevs = get_avg_AUCs_stdevs('DD1S CAIX', 'D-MPNN pt', 'ROC AUC')\n",
    "random_guess, random_guess_stdevs = get_avg_AUCs_stdevs('DD1S CAIX', 'Random guess', 'ROC AUC')"
   ]
  },
  {
   "cell_type": "code",
   "execution_count": null,
   "metadata": {},
   "outputs": [],
   "source": [
    "make_plot_AUC('DD1S_CAIX_bin_ROC_AUCs.png', 'DD1S CAIX', 0.4, 1, 'ROC AUC', ylabel=True, title=False)"
   ]
  },
  {
   "cell_type": "code",
   "execution_count": null,
   "metadata": {},
   "outputs": [],
   "source": [
    "OH_FFNN_bin, OH_FFNN_bin_stdevs = get_avg_AUCs_stdevs('triazine sEH', 'OH-FFNN bin', 'ROC AUC')\n",
    "FP_FFNN_bin, FP_FFNN_bin_stdevs = get_avg_AUCs_stdevs('triazine sEH', 'FP-FFNN bin', 'ROC AUC')\n",
    "D_MPNN_bin, D_MPNN_bin_stdevs = get_avg_AUCs_stdevs('triazine sEH', 'D-MPNN bin', 'ROC AUC')\n",
    "OH_FFNN, OH_FFNN_stdevs = get_avg_AUCs_stdevs('triazine sEH', 'OH-FFNN', 'ROC AUC')\n",
    "FP_FFNN, FP_FFNN_stdevs = get_avg_AUCs_stdevs('triazine sEH', 'FP-FFNN', 'ROC AUC')\n",
    "D_MPNN, D_MPNN_stdevs = get_avg_AUCs_stdevs('triazine sEH', 'D-MPNN', 'ROC AUC')\n",
    "OH_FFNN_pt, OH_FFNN_pt_stdevs = get_avg_AUCs_stdevs('triazine sEH', 'OH-FFNN pt', 'ROC AUC')\n",
    "FP_FFNN_pt, FP_FFNN_pt_stdevs = get_avg_AUCs_stdevs('triazine sEH', 'FP-FFNN pt', 'ROC AUC')\n",
    "D_MPNN_pt, D_MPNN_pt_stdevs = get_avg_AUCs_stdevs('triazine sEH', 'D-MPNN pt', 'ROC AUC')\n",
    "random_guess, random_guess_stdevs = get_avg_AUCs_stdevs('triazine sEH', 'Random guess', 'ROC AUC')"
   ]
  },
  {
   "cell_type": "code",
   "execution_count": null,
   "metadata": {},
   "outputs": [],
   "source": [
    "make_plot_AUC('triazine_sEH_bin_ROC_AUCs.png', 'triazine sEH', 0.4, 1.01, 'ROC AUC', title=False)"
   ]
  },
  {
   "cell_type": "code",
   "execution_count": null,
   "metadata": {},
   "outputs": [],
   "source": [
    "OH_FFNN_bin, OH_FFNN_bin_stdevs = get_avg_AUCs_stdevs('triazine SIRT2', 'OH-FFNN bin', 'ROC AUC')\n",
    "FP_FFNN_bin, FP_FFNN_bin_stdevs = get_avg_AUCs_stdevs('triazine SIRT2', 'FP-FFNN bin', 'ROC AUC')\n",
    "D_MPNN_bin, D_MPNN_bin_stdevs = get_avg_AUCs_stdevs('triazine SIRT2', 'D-MPNN bin', 'ROC AUC')\n",
    "OH_FFNN, OH_FFNN_stdevs = get_avg_AUCs_stdevs('triazine SIRT2', 'OH-FFNN', 'ROC AUC')\n",
    "FP_FFNN, FP_FFNN_stdevs = get_avg_AUCs_stdevs('triazine SIRT2', 'FP-FFNN', 'ROC AUC')\n",
    "D_MPNN, D_MPNN_stdevs = get_avg_AUCs_stdevs('triazine SIRT2', 'D-MPNN', 'ROC AUC')\n",
    "OH_FFNN_pt, OH_FFNN_pt_stdevs = get_avg_AUCs_stdevs('triazine SIRT2', 'OH-FFNN pt', 'ROC AUC')\n",
    "FP_FFNN_pt, FP_FFNN_pt_stdevs = get_avg_AUCs_stdevs('triazine SIRT2', 'FP-FFNN pt', 'ROC AUC')\n",
    "D_MPNN_pt, D_MPNN_pt_stdevs = get_avg_AUCs_stdevs('triazine SIRT2', 'D-MPNN pt', 'ROC AUC')\n",
    "random_guess, random_guess_stdevs = get_avg_AUCs_stdevs('triazine SIRT2', 'Random guess', 'ROC AUC')"
   ]
  },
  {
   "cell_type": "code",
   "execution_count": null,
   "metadata": {},
   "outputs": [],
   "source": [
    "make_plot_AUC('triazine_SIRT2_bin_ROC_AUCs.png', 'triazine SIRT2', 0.4, 1.01, 'ROC AUC', title=False)"
   ]
  },
  {
   "cell_type": "code",
   "execution_count": null,
   "metadata": {},
   "outputs": [],
   "source": []
  }
 ],
 "metadata": {
  "kernelspec": {
   "display_name": "chemprop",
   "language": "python",
   "name": "chemprop"
  },
  "language_info": {
   "codemirror_mode": {
    "name": "ipython",
    "version": 3
   },
   "file_extension": ".py",
   "mimetype": "text/x-python",
   "name": "python",
   "nbconvert_exporter": "python",
   "pygments_lexer": "ipython3",
   "version": "3.6.10"
  },
  "latex_envs": {
   "LaTeX_envs_menu_present": true,
   "autoclose": false,
   "autocomplete": true,
   "bibliofile": "biblio.bib",
   "cite_by": "apalike",
   "current_citInitial": 1,
   "eqLabelWithNumbers": true,
   "eqNumInitial": 1,
   "hotkeys": {
    "equation": "Ctrl-E",
    "itemize": "Ctrl-I"
   },
   "labels_anchors": false,
   "latex_user_defs": false,
   "report_style_numbering": false,
   "user_envs_cfg": false
  },
  "toc": {
   "base_numbering": 1,
   "nav_menu": {},
   "number_sections": true,
   "sideBar": true,
   "skip_h1_title": false,
   "title_cell": "Table of Contents",
   "title_sidebar": "Contents",
   "toc_cell": false,
   "toc_position": {},
   "toc_section_display": true,
   "toc_window_display": false
  },
  "varInspector": {
   "cols": {
    "lenName": 16,
    "lenType": 16,
    "lenVar": 40
   },
   "kernels_config": {
    "python": {
     "delete_cmd_postfix": "",
     "delete_cmd_prefix": "del ",
     "library": "var_list.py",
     "varRefreshCmd": "print(var_dic_list())"
    },
    "r": {
     "delete_cmd_postfix": ") ",
     "delete_cmd_prefix": "rm(",
     "library": "var_list.r",
     "varRefreshCmd": "cat(var_dic_list()) "
    }
   },
   "types_to_exclude": [
    "module",
    "function",
    "builtin_function_or_method",
    "instance",
    "_Feature"
   ],
   "window_display": false
  }
 },
 "nbformat": 4,
 "nbformat_minor": 2
}
