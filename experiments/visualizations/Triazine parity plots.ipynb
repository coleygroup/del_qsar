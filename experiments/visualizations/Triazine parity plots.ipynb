{
 "cells": [
  {
   "cell_type": "code",
   "execution_count": null,
   "metadata": {},
   "outputs": [],
   "source": [
    "%load_ext autoreload\n",
    "%autoreload 2"
   ]
  },
  {
   "cell_type": "code",
   "execution_count": 1,
   "metadata": {},
   "outputs": [],
   "source": [
    "import os, sys\n",
    "import pandas as pd\n",
    "import numpy as np\n",
    "from tqdm import tqdm\n",
    "import torch\n",
    "import h5py"
   ]
  },
  {
   "cell_type": "code",
   "execution_count": 2,
   "metadata": {},
   "outputs": [],
   "source": [
    "DELQSAR_ROOT = os.getcwd() + '/../../'\n",
    "sys.path += [DELQSAR_ROOT + '/../']"
   ]
  },
  {
   "cell_type": "code",
   "execution_count": null,
   "metadata": {},
   "outputs": [],
   "source": [
    "FINGERPRINTS_FILENAME = 'x_triazine_2048_bits_all_fps.h5' # should be in the experiments folder\n",
    "\n",
    "sEH_RANDOM_SPLIT_MODEL_PATH = os.path.join(DELQSAR_ROOT, 'experiments', 'models', 'triazine_sEH', \n",
    "                                          'FP-FFNN', 'random_seed_0.torch')\n",
    "\n",
    "SIRT2_RANDOM_SPLIT_MODEL_PATH = os.path.join(DELQSAR_ROOT, 'experiments', 'models', 'triazine_SIRT2', \n",
    "                                            'FP-FFNN', 'random_seed_0.torch')"
   ]
  },
  {
   "cell_type": "code",
   "execution_count": 3,
   "metadata": {},
   "outputs": [],
   "source": [
    "from del_qsar import models, featurizers, splitters\n",
    "from del_qsar.enrichments import R_from_z, R_ranges\n",
    "\n",
    "if not os.path.isdir('test_triazine_parity_plots'):\n",
    "    os.mkdir('test_triazine_parity_plots')\n",
    "    \n",
    "def pathify(fname):\n",
    "    return os.path.join('triazine_parity_plots', fname)\n",
    "\n",
    "LOG_FILE = os.path.join(DELQSAR_ROOT, 'experiments', 'visualizations', \n",
    "                        'triazine_parity_plots', 'triazine_parity_plots.log')"
   ]
  },
  {
   "cell_type": "code",
   "execution_count": null,
   "metadata": {},
   "outputs": [],
   "source": [
    "import matplotlib\n",
    "import matplotlib.pyplot as plt\n",
    "plt.style.use('seaborn-paper')\n",
    "\n",
    "matplotlib.rc('font', family='sans-serif') \n",
    "matplotlib.rc('font', serif='Arial') \n",
    "matplotlib.rc('text', usetex='false') \n",
    "matplotlib.rcParams.update({'font.size': 9})"
   ]
  },
  {
   "cell_type": "code",
   "execution_count": null,
   "metadata": {},
   "outputs": [],
   "source": [
    "df_data = pd.read_csv(os.path.join(DELQSAR_ROOT, 'experiments', 'datasets', 'triazine_lib_sEH_SIRT2_QSAR.csv'))"
   ]
  },
  {
   "cell_type": "code",
   "execution_count": null,
   "metadata": {},
   "outputs": [],
   "source": [
    "os.environ[\"HDF5_USE_FILE_LOCKING\"] = 'FALSE'\n",
    "hf = h5py.File(os.path.join(DELQSAR_ROOT, 'experiments', FINGERPRINTS_FILENAME), 'r')\n",
    "x = np.array(hf['all_fps'])\n",
    "INPUT_SIZE = x.shape[1]\n",
    "hf.close()"
   ]
  },
  {
   "cell_type": "code",
   "execution_count": null,
   "metadata": {},
   "outputs": [],
   "source": [
    "SEED = 0\n",
    "torch.manual_seed(SEED)"
   ]
  },
  {
   "cell_type": "code",
   "execution_count": null,
   "metadata": {},
   "outputs": [],
   "source": [
    "splitter = splitters.RandomSplitter()\n",
    "train_slice, valid_slice, test_slice  = splitter(x, df_data, seed=SEED)"
   ]
  },
  {
   "cell_type": "code",
   "execution_count": null,
   "metadata": {},
   "outputs": [],
   "source": [
    "# sEH random split model\n",
    "BATCH_SIZE = 1024\n",
    "LAYER_SIZES = [256, 128, 64]\n",
    "DROPOUT = 0.4\n",
    "model_sEH = models.MLP(INPUT_SIZE, [int(size) for size in LAYER_SIZES],\n",
    "                    dropout=DROPOUT, torch_seed=SEED)\n",
    "model_sEH.load_state_dict(torch.load(sEH_RANDOM_SPLIT_MODEL_PATH))\n",
    "print(str(model_sEH))"
   ]
  },
  {
   "cell_type": "code",
   "execution_count": null,
   "metadata": {},
   "outputs": [],
   "source": [
    "# SIRT2 random split model\n",
    "BATCH_SIZE = 1024\n",
    "LAYER_SIZES = [256, 128, 64]\n",
    "DROPOUT = 0.1\n",
    "model_SIRT2 = models.MLP(INPUT_SIZE, [int(size) for size in LAYER_SIZES],\n",
    "                    dropout=DROPOUT, torch_seed=SEED)\n",
    "model_SIRT2.load_state_dict(torch.load(SIRT2_RANDOM_SPLIT_MODEL_PATH))\n",
    "print(str(model_SIRT2))"
   ]
  },
  {
   "cell_type": "code",
   "execution_count": null,
   "metadata": {},
   "outputs": [],
   "source": [
    "DEVICE = None\n",
    "if torch.cuda.is_available():\n",
    "    DEVICE = 'cuda:0'\n",
    "    model_SIRT2 = model_SIRT2.to('cuda:0')\n",
    "    model_sEH = model_sEH.to('cuda:0')"
   ]
  },
  {
   "cell_type": "code",
   "execution_count": null,
   "metadata": {},
   "outputs": [],
   "source": [
    "def draw_predicted_enrichments_vs_true(model, eval_slice, out='', x_ub=None):\n",
    "    R, R_lb, R_ub = R_ranges(bead_counts[eval_slice, 0], bead_tot[0], exp_counts[eval_slice, 0], exp_tot[0])\n",
    "    test_enrichments = model.predict_on_x(\n",
    "        x[eval_slice, :], batch_size=BATCH_SIZE, device=DEVICE,\n",
    "    )\n",
    "    \n",
    "    fig = plt.figure(figsize=(3.33, 2), dpi=300) \n",
    "\n",
    "    lower_error = R - R_lb\n",
    "    upper_error = R_ub - R\n",
    "    error = [lower_error, upper_error]\n",
    "    container = plt.errorbar(\n",
    "        x=R, \n",
    "        y=test_enrichments,\n",
    "        xerr=error,\n",
    "        color='#1f77b4', # blue\n",
    "        marker='o',\n",
    "        markersize=3, \n",
    "        elinewidth=0.75,\n",
    "        ls='none',\n",
    "        ecolor='k',\n",
    "        capsize=1,\n",
    "        capthick=0.75, \n",
    "        zorder=2,\n",
    "    ) \n",
    "    \n",
    "    lines = plt.plot(\n",
    "        np.linspace(min(test_enrichments), max(test_enrichments), 100),\n",
    "        np.linspace(min(test_enrichments), max(test_enrichments), 100),\n",
    "        color='#2ca02c', # green\n",
    "        label='Parity',\n",
    "        linewidth=0.75, \n",
    "        zorder=3,\n",
    "    )\n",
    "    \n",
    "    if x_ub: \n",
    "        plt.legend(fontsize=7, loc='lower right')\n",
    "    else:\n",
    "        plt.legend(fontsize=7)\n",
    "        \n",
    "    fig.canvas.draw() # required to get tick labels\n",
    "    ax = plt.gca() \n",
    "    ax.tick_params(labelsize=8)\n",
    "    if x_ub:\n",
    "        ax.set_xlim([0, x_ub])\n",
    "        \n",
    "    ax.grid(zorder=1)\n",
    "    ax.set_xlabel('Calculated enrichment', fontsize=8)\n",
    "    ax.set_ylabel('Predicted enrichment', fontsize=8)\n",
    "    plt.tight_layout()\n",
    "    plt.savefig(pathify(str(out)))\n",
    "    \n",
    "    plt.show()"
   ]
  },
  {
   "cell_type": "markdown",
   "metadata": {},
   "source": [
    "# sEH FP-FFNN"
   ]
  },
  {
   "cell_type": "code",
   "execution_count": null,
   "metadata": {},
   "outputs": [],
   "source": [
    "exp_counts = np.array(df_data[['sEH [strep]_tot']], dtype='int')\n",
    "bead_counts = np.array(df_data[['beads-linker-only [strep]_tot']], dtype='int')\n",
    "exp_tot = np.sum(exp_counts, axis=0) # column sums\n",
    "bead_tot = np.sum(bead_counts, axis=0)"
   ]
  },
  {
   "cell_type": "code",
   "execution_count": null,
   "metadata": {},
   "outputs": [],
   "source": [
    "# take random subset of test_slice\n",
    "test_slice_indices = np.arange(int(len(test_slice)))\n",
    "np.random.seed(5)\n",
    "np.random.shuffle(test_slice_indices)\n",
    "test_slice_subset = [test_slice[i] for i in test_slice_indices[:20000]]"
   ]
  },
  {
   "cell_type": "code",
   "execution_count": null,
   "metadata": {},
   "outputs": [],
   "source": [
    "draw_predicted_enrichments_vs_true(model_sEH, test_slice_subset, out='Parity scatter plot_full_triazine_sEH_FP-FFNN_random_seed_0.png')"
   ]
  },
  {
   "cell_type": "code",
   "execution_count": null,
   "metadata": {},
   "outputs": [],
   "source": [
    "draw_predicted_enrichments_vs_true(model_sEH, test_slice_subset, x_ub=400, out='Parity scatter plot_zoomed in_triazine_sEH_FP-FFNN_random_seed_0.png')"
   ]
  },
  {
   "cell_type": "markdown",
   "metadata": {},
   "source": [
    "# SIRT2 FP-FFNN"
   ]
  },
  {
   "cell_type": "code",
   "execution_count": null,
   "metadata": {},
   "outputs": [],
   "source": [
    "exp_counts = np.array(df_data[['SIRT2 [strep]_tot']], dtype='int')\n",
    "bead_counts = np.array(df_data[['beads-linker-only [strep]_tot']], dtype='int')\n",
    "exp_tot = np.sum(exp_counts, axis=0) # column sums\n",
    "bead_tot = np.sum(bead_counts, axis=0)"
   ]
  },
  {
   "cell_type": "code",
   "execution_count": null,
   "metadata": {},
   "outputs": [],
   "source": [
    "# take random subset of test_slice\n",
    "test_slice_indices = np.arange(int(len(test_slice)))\n",
    "np.random.seed(5)\n",
    "np.random.shuffle(test_slice_indices)\n",
    "test_slice_subset = [test_slice[i] for i in test_slice_indices[:20000]]"
   ]
  },
  {
   "cell_type": "code",
   "execution_count": null,
   "metadata": {},
   "outputs": [],
   "source": [
    "draw_predicted_enrichments_vs_true(model_SIRT2, test_slice_subset, out='Parity scatter plot_full_triazine_SIRT2_FP-FFNN_random_seed_0.png')"
   ]
  },
  {
   "cell_type": "code",
   "execution_count": null,
   "metadata": {},
   "outputs": [],
   "source": [
    "draw_predicted_enrichments_vs_true(model_SIRT2, test_slice_subset, x_ub=90, out='Parity scatter plot_zoomed in_triazine_SIRT2_FP-FFNN_random_seed_0.png')"
   ]
  },
  {
   "cell_type": "code",
   "execution_count": null,
   "metadata": {},
   "outputs": [],
   "source": []
  }
 ],
 "metadata": {
  "kernelspec": {
   "display_name": "chemprop",
   "language": "python",
   "name": "chemprop"
  },
  "language_info": {
   "codemirror_mode": {
    "name": "ipython",
    "version": 3
   },
   "file_extension": ".py",
   "mimetype": "text/x-python",
   "name": "python",
   "nbconvert_exporter": "python",
   "pygments_lexer": "ipython3",
   "version": "3.6.10"
  },
  "latex_envs": {
   "LaTeX_envs_menu_present": true,
   "autoclose": false,
   "autocomplete": true,
   "bibliofile": "biblio.bib",
   "cite_by": "apalike",
   "current_citInitial": 1,
   "eqLabelWithNumbers": true,
   "eqNumInitial": 1,
   "hotkeys": {
    "equation": "Ctrl-E",
    "itemize": "Ctrl-I"
   },
   "labels_anchors": false,
   "latex_user_defs": false,
   "report_style_numbering": false,
   "user_envs_cfg": false
  },
  "toc": {
   "base_numbering": 1,
   "nav_menu": {},
   "number_sections": true,
   "sideBar": true,
   "skip_h1_title": false,
   "title_cell": "Table of Contents",
   "title_sidebar": "Contents",
   "toc_cell": false,
   "toc_position": {},
   "toc_section_display": true,
   "toc_window_display": false
  },
  "varInspector": {
   "cols": {
    "lenName": 16,
    "lenType": 16,
    "lenVar": 40
   },
   "kernels_config": {
    "python": {
     "delete_cmd_postfix": "",
     "delete_cmd_prefix": "del ",
     "library": "var_list.py",
     "varRefreshCmd": "print(var_dic_list())"
    },
    "r": {
     "delete_cmd_postfix": ") ",
     "delete_cmd_prefix": "rm(",
     "library": "var_list.r",
     "varRefreshCmd": "cat(var_dic_list()) "
    }
   },
   "types_to_exclude": [
    "module",
    "function",
    "builtin_function_or_method",
    "instance",
    "_Feature"
   ],
   "window_display": false
  }
 },
 "nbformat": 4,
 "nbformat_minor": 2
}
