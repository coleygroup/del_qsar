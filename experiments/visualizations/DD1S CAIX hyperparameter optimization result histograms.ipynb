{
 "cells": [
  {
   "cell_type": "code",
   "execution_count": null,
   "metadata": {},
   "outputs": [],
   "source": [
    "%load_ext autoreload\n",
    "%autoreload 2"
   ]
  },
  {
   "cell_type": "code",
   "execution_count": null,
   "metadata": {},
   "outputs": [],
   "source": [
    "import os\n",
    "import pandas as pd\n",
    "import numpy as np\n",
    "import statistics\n",
    "from tqdm import tqdm"
   ]
  },
  {
   "cell_type": "code",
   "execution_count": null,
   "metadata": {},
   "outputs": [],
   "source": [
    "import matplotlib\n",
    "import matplotlib.pyplot as plt\n",
    "plt.style.use('seaborn-paper')\n",
    "\n",
    "matplotlib.rc('font', family='sans-serif')\n",
    "matplotlib.rc('font', serif='Arial')\n",
    "matplotlib.rc('text', usetex='false')"
   ]
  },
  {
   "cell_type": "code",
   "execution_count": null,
   "metadata": {},
   "outputs": [],
   "source": [
    "DELQSAR_ROOT = os.getcwd() + '/../../'"
   ]
  },
  {
   "cell_type": "code",
   "execution_count": null,
   "metadata": {},
   "outputs": [],
   "source": [
    "if not os.path.isdir('DD1S_CAIX_hyperparameter_histograms'):\n",
    "    os.mkdir('DD1S_CAIX_hyperparameter_histograms')\n",
    "def pathify(fname):\n",
    "    return os.path.join('DD1S_CAIX_hyperparameter_histograms', fname)"
   ]
  },
  {
   "cell_type": "code",
   "execution_count": null,
   "metadata": {},
   "outputs": [],
   "source": [
    "def make_histogram_for_hyperparam(df_data, model_types, hyperparam, hyperparam_label, img_name, ytick_step_sizes):\n",
    "    hyperparam_values = df_data[df_data['model type'].isin(model_types)][str(hyperparam)]\n",
    "    \n",
    "    fig = plt.figure(figsize=(2.33, 1.5), dpi=300)\n",
    "    if hyperparam == 'depth':\n",
    "        vals = [int(i) for i in np.arange(2, 6.1,1)]\n",
    "        barWidth = 0.95\n",
    "    elif hyperparam == 'hidden size':\n",
    "        vals = [int(i) for i in np.arange(300, 2401, 100)]\n",
    "        barWidth = 0.9\n",
    "    elif hyperparam == 'FFN num layers':\n",
    "        vals = [int(i) for i in np.arange(1, 3.1, 1)]\n",
    "        barWidth = 0.95\n",
    "    elif hyperparam == 'dropout':\n",
    "        vals = [round(i, 2) for i in np.arange(0, 0.51, 0.05)]\n",
    "        barWidth = 0.95\n",
    "        \n",
    "    counts = [list(hyperparam_values).count(val) for val in vals]\n",
    "    if hyperparam == 'dropout':\n",
    "        val_labels = ['0', '0.05', '0.1', '0.15', '0.2', '0.25', '0.3', '0.35', '0.4', '0.45', '0.5']\n",
    "    else:\n",
    "        val_labels = [str(val) for val in vals]\n",
    "    plt.bar(val_labels, counts, width=barWidth, zorder=2)\n",
    "    \n",
    "    fig.canvas.draw()\n",
    "    ax = plt.gca()\n",
    "    ax.tick_params(labelsize=7)\n",
    "    \n",
    "    ax.grid(zorder=1)\n",
    "    if hyperparam == 'hidden size':\n",
    "        val_labels_sparse = [vl if vl%300==0 else '' for vl in vals]\n",
    "        ax.set_xticklabels(val_labels_sparse, rotation=90)\n",
    "        ax.set_yticks(np.arange(min(counts), max(counts)+1, ytick_step_sizes[0]))\n",
    "    if hyperparam == 'dropout':\n",
    "        val_labels_sparse = ['0', '', '0.1', '', '0.2', '', '0.3', '', '0.4', '', '0.5']\n",
    "        ax.set_xticklabels(val_labels_sparse)\n",
    "        ax.set_yticks(np.arange(min(counts), max(counts)+1, ytick_step_sizes[1]))\n",
    "    ax.set_xlabel(str(hyperparam_label), fontsize=8)\n",
    "    ax.set_ylabel('frequency', fontsize=8)\n",
    "\n",
    "    plt.tight_layout()\n",
    "    plt.savefig(pathify(img_name))\n",
    "    plt.show()"
   ]
  },
  {
   "cell_type": "markdown",
   "metadata": {},
   "source": [
    "# Regression models"
   ]
  },
  {
   "cell_type": "code",
   "execution_count": null,
   "metadata": {},
   "outputs": [],
   "source": [
    "df_data = pd.read_csv(os.path.join(DELQSAR_ROOT, 'experiments', 'DD1S_CAIX_hyperparameter_optimization_results.csv'))\n",
    "df_data"
   ]
  },
  {
   "cell_type": "code",
   "execution_count": null,
   "metadata": {
    "scrolled": false
   },
   "outputs": [],
   "source": [
    "hyperparams = {'depth': 'depth', 'FFN num layers': 'number of FFN layers', \n",
    "               'hidden size': 'hidden layer size', 'dropout': 'dropout rate'}\n",
    "model_types = np.array([['D-MPNN'], ['D-MPNN_pt'], ['D-MPNN', 'D-MPNN_pt']])\n",
    "for h in hyperparams.keys():\n",
    "    for m in model_types:\n",
    "        make_histogram_for_hyperparam(df_data, m, h, hyperparams[h], \n",
    "                                      f'DD1S_CAIX_{h}_histogram_{\"_\".join(m)}.png', [2, 5])"
   ]
  },
  {
   "cell_type": "markdown",
   "metadata": {},
   "source": [
    "# Binary classifiers"
   ]
  },
  {
   "cell_type": "code",
   "execution_count": null,
   "metadata": {},
   "outputs": [],
   "source": [
    "df_data = pd.read_csv(os.path.join(DELQSAR_ROOT, 'experiments', 'bin_DD1S_CAIX_hyperparameter_optimization_results.csv'))\n",
    "df_data"
   ]
  },
  {
   "cell_type": "code",
   "execution_count": null,
   "metadata": {
    "scrolled": false
   },
   "outputs": [],
   "source": [
    "hyperparams = {'depth': 'depth', 'FFN num layers': 'number of FFN layers', \n",
    "               'hidden size': 'hidden layer size', 'dropout': 'dropout rate'}\n",
    "for h in hyperparams.keys():\n",
    "    make_histogram_for_hyperparam(df_data, ['D-MPNN'], h, hyperparams[h], \n",
    "                                  f'bin_DD1S_CAIX_{h}_histogram_D-MPNN.png', [1, 1])"
   ]
  },
  {
   "cell_type": "code",
   "execution_count": null,
   "metadata": {},
   "outputs": [],
   "source": []
  }
 ],
 "metadata": {
  "kernelspec": {
   "display_name": "chemprop",
   "language": "python",
   "name": "chemprop"
  },
  "language_info": {
   "codemirror_mode": {
    "name": "ipython",
    "version": 3
   },
   "file_extension": ".py",
   "mimetype": "text/x-python",
   "name": "python",
   "nbconvert_exporter": "python",
   "pygments_lexer": "ipython3",
   "version": "3.6.10"
  },
  "latex_envs": {
   "LaTeX_envs_menu_present": true,
   "autoclose": false,
   "autocomplete": true,
   "bibliofile": "biblio.bib",
   "cite_by": "apalike",
   "current_citInitial": 1,
   "eqLabelWithNumbers": true,
   "eqNumInitial": 1,
   "hotkeys": {
    "equation": "Ctrl-E",
    "itemize": "Ctrl-I"
   },
   "labels_anchors": false,
   "latex_user_defs": false,
   "report_style_numbering": false,
   "user_envs_cfg": false
  },
  "toc": {
   "base_numbering": 1,
   "nav_menu": {},
   "number_sections": true,
   "sideBar": true,
   "skip_h1_title": false,
   "title_cell": "Table of Contents",
   "title_sidebar": "Contents",
   "toc_cell": false,
   "toc_position": {},
   "toc_section_display": true,
   "toc_window_display": false
  },
  "varInspector": {
   "cols": {
    "lenName": 16,
    "lenType": 16,
    "lenVar": 40
   },
   "kernels_config": {
    "python": {
     "delete_cmd_postfix": "",
     "delete_cmd_prefix": "del ",
     "library": "var_list.py",
     "varRefreshCmd": "print(var_dic_list())"
    },
    "r": {
     "delete_cmd_postfix": ") ",
     "delete_cmd_prefix": "rm(",
     "library": "var_list.r",
     "varRefreshCmd": "cat(var_dic_list()) "
    }
   },
   "types_to_exclude": [
    "module",
    "function",
    "builtin_function_or_method",
    "instance",
    "_Feature"
   ],
   "window_display": false
  }
 },
 "nbformat": 4,
 "nbformat_minor": 2
}
