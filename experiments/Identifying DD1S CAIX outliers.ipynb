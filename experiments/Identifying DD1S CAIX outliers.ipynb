{
 "cells": [
  {
   "cell_type": "code",
   "execution_count": null,
   "metadata": {},
   "outputs": [],
   "source": [
    "%load_ext autoreload\n",
    "%autoreload 2"
   ]
  },
  {
   "cell_type": "code",
   "execution_count": null,
   "metadata": {},
   "outputs": [],
   "source": [
    "import os, sys\n",
    "import pandas as pd\n",
    "import numpy as np\n",
    "from tqdm import tqdm\n",
    "import torch\n",
    "import h5py"
   ]
  },
  {
   "cell_type": "code",
   "execution_count": null,
   "metadata": {},
   "outputs": [],
   "source": [
    "DELQSAR_ROOT = os.getcwd() + '/../'\n",
    "sys.path += [DELQSAR_ROOT + '/../']\n",
    "from del_qsar import models, featurizers, splitters\n",
    "from del_qsar.enrichments import R_from_z, R_ranges"
   ]
  },
  {
   "cell_type": "code",
   "execution_count": null,
   "metadata": {},
   "outputs": [],
   "source": [
    "FINGERPRINTS_FILENAME = 'x_DD1S_CAIX_2048_bits_all_fps.h5'\n",
    "\n",
    "RANDOM_SPLIT_MODEL_PATH = os.path.join(DELQSAR_ROOT, 'experiments', 'models', \n",
    "                                       'DD1S_CAIX', 'FP-FFNN','random_seed_0.torch')"
   ]
  },
  {
   "cell_type": "code",
   "execution_count": null,
   "metadata": {},
   "outputs": [],
   "source": [
    "df_data = pd.read_csv(os.path.join(DELQSAR_ROOT, 'experiments', 'datasets', 'DD1S_CAIX_QSAR.csv'))"
   ]
  },
  {
   "cell_type": "code",
   "execution_count": null,
   "metadata": {},
   "outputs": [],
   "source": [
    "exp_counts = np.array(df_data[['exp_tot']], dtype='int')\n",
    "bead_counts = np.array(df_data[['beads_tot']], dtype='int')\n",
    "exp_tot = np.sum(exp_counts, axis=0) # column sums\n",
    "bead_tot = np.sum(bead_counts, axis=0)"
   ]
  },
  {
   "cell_type": "code",
   "execution_count": null,
   "metadata": {},
   "outputs": [],
   "source": [
    "R, R_lb, R_ub = R_ranges(np.squeeze(bead_counts), bead_tot[0], np.squeeze(exp_counts), exp_tot[0])"
   ]
  },
  {
   "cell_type": "code",
   "execution_count": null,
   "metadata": {},
   "outputs": [],
   "source": [
    "os.environ[\"HDF5_USE_FILE_LOCKING\"] = 'FALSE'\n",
    "hf = h5py.File(os.path.join(DELQSAR_ROOT, 'experiments', FINGERPRINTS_FILENAME), 'r')\n",
    "x = np.array(hf['all_fps'])\n",
    "INPUT_SIZE = x.shape[1]\n",
    "hf.close()"
   ]
  },
  {
   "cell_type": "code",
   "execution_count": null,
   "metadata": {},
   "outputs": [],
   "source": [
    "SEED = 0\n",
    "torch.manual_seed(SEED)"
   ]
  },
  {
   "cell_type": "code",
   "execution_count": null,
   "metadata": {},
   "outputs": [],
   "source": [
    "# random split model\n",
    "BATCH_SIZE = 1024\n",
    "LAYER_SIZES = [64, 64, 64]\n",
    "DROPOUT = 0.1\n",
    "model = models.MLP(INPUT_SIZE, [int(size) for size in LAYER_SIZES],\n",
    "                        dropout=DROPOUT, torch_seed=SEED)\n",
    "model.load_state_dict(torch.load(RANDOM_SPLIT_MODEL_PATH))\n",
    "print(str(model))"
   ]
  },
  {
   "cell_type": "code",
   "execution_count": null,
   "metadata": {},
   "outputs": [],
   "source": [
    "DEVICE = None\n",
    "if torch.cuda.is_available():\n",
    "    DEVICE = 'cuda:0'\n",
    "    model = model.to(DEVICE)"
   ]
  },
  {
   "cell_type": "code",
   "execution_count": null,
   "metadata": {},
   "outputs": [],
   "source": [
    "splitter = splitters.RandomSplitter()\n",
    "train_slice, valid_slice, test_slice = splitter(None, df_data, seed=SEED)"
   ]
  },
  {
   "cell_type": "code",
   "execution_count": null,
   "metadata": {},
   "outputs": [],
   "source": [
    "# get highest calculated enrichments for test-set compounds\n",
    "_R = list(R[test_slice].copy())\n",
    "_R.sort(reverse=True)\n",
    "top_five_calculated_enrichments = _R[:5]\n",
    "top_five_calculated_enrichments"
   ]
  },
  {
   "cell_type": "code",
   "execution_count": null,
   "metadata": {},
   "outputs": [],
   "source": [
    "# get indices and calculated/predicted enrichments of test-set compounds with highest calculated enrichments\n",
    "cpds_with_highest_calculated_enrichments = []\n",
    "calculated_enrichments = []\n",
    "predicted_enrichments = []\n",
    "\n",
    "for i, val in enumerate(R[test_slice]):\n",
    "    if val in top_five_calculated_enrichments:\n",
    "        cpds_with_highest_calculated_enrichments.append(test_slice[i])\n",
    "        calculated_enrichments.append(val)\n",
    "        \n",
    "predicted_enrichments = model.predict_on_x(x[cpds_with_highest_calculated_enrichments], device=DEVICE)\n",
    "\n",
    "for i, cpd_idx in enumerate(cpds_with_highest_calculated_enrichments):\n",
    "    print(f'cpd_idx:               {cpd_idx}')\n",
    "    print(f'calculated enrichment: {calculated_enrichments[i]}')\n",
    "    print(f'predicted enrichment:  {predicted_enrichments[i]}')\n",
    "    print()"
   ]
  },
  {
   "cell_type": "code",
   "execution_count": null,
   "metadata": {},
   "outputs": [],
   "source": [
    "# chose compounds with indices 3857, 87394, 81920, 104264, 66578 (cpd_id's 3858, 87395, 81921, 104265, 66579)\n",
    "# as representative outliers"
   ]
  },
  {
   "cell_type": "code",
   "execution_count": null,
   "metadata": {},
   "outputs": [],
   "source": []
  }
 ],
 "metadata": {
  "kernelspec": {
   "display_name": "chemprop",
   "language": "python",
   "name": "chemprop"
  },
  "language_info": {
   "codemirror_mode": {
    "name": "ipython",
    "version": 3
   },
   "file_extension": ".py",
   "mimetype": "text/x-python",
   "name": "python",
   "nbconvert_exporter": "python",
   "pygments_lexer": "ipython3",
   "version": "3.6.10"
  },
  "latex_envs": {
   "LaTeX_envs_menu_present": true,
   "autoclose": false,
   "autocomplete": true,
   "bibliofile": "biblio.bib",
   "cite_by": "apalike",
   "current_citInitial": 1,
   "eqLabelWithNumbers": true,
   "eqNumInitial": 1,
   "hotkeys": {
    "equation": "Ctrl-E",
    "itemize": "Ctrl-I"
   },
   "labels_anchors": false,
   "latex_user_defs": false,
   "report_style_numbering": false,
   "user_envs_cfg": false
  },
  "toc": {
   "base_numbering": 1,
   "nav_menu": {},
   "number_sections": true,
   "sideBar": true,
   "skip_h1_title": false,
   "title_cell": "Table of Contents",
   "title_sidebar": "Contents",
   "toc_cell": false,
   "toc_position": {},
   "toc_section_display": true,
   "toc_window_display": false
  },
  "varInspector": {
   "cols": {
    "lenName": 16,
    "lenType": 16,
    "lenVar": 40
   },
   "kernels_config": {
    "python": {
     "delete_cmd_postfix": "",
     "delete_cmd_prefix": "del ",
     "library": "var_list.py",
     "varRefreshCmd": "print(var_dic_list())"
    },
    "r": {
     "delete_cmd_postfix": ") ",
     "delete_cmd_prefix": "rm(",
     "library": "var_list.r",
     "varRefreshCmd": "cat(var_dic_list()) "
    }
   },
   "types_to_exclude": [
    "module",
    "function",
    "builtin_function_or_method",
    "instance",
    "_Feature"
   ],
   "window_display": false
  }
 },
 "nbformat": 4,
 "nbformat_minor": 4
}
